{
 "cells": [
  {
   "cell_type": "markdown",
   "id": "e092bde1",
   "metadata": {},
   "source": [
    "# 학습 이미지에서 라벨의 박스를 기준으로 크롭"
   ]
  },
  {
   "cell_type": "markdown",
   "id": "91d733b2",
   "metadata": {},
   "source": [
    "## 기본 설정"
   ]
  },
  {
   "cell_type": "markdown",
   "id": "8d61474a",
   "metadata": {},
   "source": [
    "### 라이브러리"
   ]
  },
  {
   "cell_type": "code",
   "execution_count": 13,
   "id": "aecab07a",
   "metadata": {},
   "outputs": [],
   "source": [
    "import os\n",
    "import json\n",
    "from PIL import Image\n",
    "import shutil"
   ]
  },
  {
   "cell_type": "markdown",
   "id": "ffc40ada",
   "metadata": {},
   "source": [
    "### 경로"
   ]
  },
  {
   "cell_type": "code",
   "execution_count": null,
   "id": "f51367f7",
   "metadata": {},
   "outputs": [],
   "source": [
    "img_dir = '../data/additional_data/images'\n",
    "label_dir = '../data/additional_data/labels'\n",
    "\n",
    "cropped_dir = '../data/additional_data/cropped'\n",
    "\n",
    "classid_to_name_path = '../configs/classid_to_name.json'"
   ]
  },
  {
   "cell_type": "markdown",
   "id": "2d2dc898",
   "metadata": {},
   "source": [
    "### categoyidid_to_name 딕셔너리"
   ]
  },
  {
   "cell_type": "code",
   "execution_count": 15,
   "id": "8a3220c4",
   "metadata": {},
   "outputs": [],
   "source": [
    "with open(classid_to_name_path, 'r', encoding='utf-8') as f:\n",
    "    classid_to_name = json.load(f)"
   ]
  },
  {
   "cell_type": "markdown",
   "id": "9309fe3a",
   "metadata": {},
   "source": [
    "### 이미지 가로 및 세로"
   ]
  },
  {
   "cell_type": "code",
   "execution_count": 16,
   "id": "bc3d09c3",
   "metadata": {},
   "outputs": [],
   "source": [
    "img_width = 976\n",
    "img_height = 1280"
   ]
  },
  {
   "cell_type": "markdown",
   "id": "711de26c",
   "metadata": {},
   "source": [
    "## 이미지를 박스를 이용해 크롭"
   ]
  },
  {
   "cell_type": "markdown",
   "id": "5c6ac30a",
   "metadata": {},
   "source": [
    "### class_index"
   ]
  },
  {
   "cell_type": "code",
   "execution_count": 17,
   "id": "3c9ec610",
   "metadata": {},
   "outputs": [],
   "source": [
    "class_idxs = list(range(0, 73, 1))"
   ]
  },
  {
   "cell_type": "markdown",
   "id": "62ee5042",
   "metadata": {},
   "source": [
    "### 클래스 별 폴더 생성 함수"
   ]
  },
  {
   "cell_type": "code",
   "execution_count": 18,
   "id": "8ff03a79",
   "metadata": {},
   "outputs": [],
   "source": [
    "def make_class_dir():\n",
    "    for idx in class_idxs:\n",
    "        ind_dir = os.path.join(cropped_dir , str(idx))\n",
    "        os.makedirs(ind_dir, exist_ok=True)\n",
    "        print(ind_dir)"
   ]
  },
  {
   "cell_type": "markdown",
   "id": "451f6bf7",
   "metadata": {},
   "source": [
    "### 크롭 이미지 생성"
   ]
  },
  {
   "cell_type": "code",
   "execution_count": 19,
   "id": "1c2937d6",
   "metadata": {},
   "outputs": [],
   "source": [
    "def make_crop_img(img_dir = img_dir, label_dir = label_dir):\n",
    "    for img_file in os.listdir(img_dir):\n",
    "        img_path = os.path.join(img_dir, img_file)\n",
    "        label_path = os.path.join(label_dir, img_file.replace('png', 'txt'))\n",
    "\n",
    "        with open(label_path, 'r') as f:\n",
    "            lines = f.readlines()\n",
    "        \n",
    "        for line in lines:\n",
    "            class_id, x_center, y_center, width, height = line.strip().split(' ')\n",
    "\n",
    "            x_center = float(x_center) * img_width\n",
    "            y_center = float(y_center) * img_height\n",
    "            width = float(width) * img_width\n",
    "            height = float(height) * img_height\n",
    "\n",
    "            x_min = x_center - width * 0.5\n",
    "            x_max = x_center + width * 0.5\n",
    "            y_min = y_center - height * 0.5\n",
    "            y_max = y_center + height * 0.5\n",
    "            \n",
    "            img = Image.open(img_path)\n",
    "\n",
    "            cropped = img.crop((x_min, y_min, x_max, y_max))\n",
    "            cropped_path = f\"{cropped_dir}/{class_id}/{img_file}\"\n",
    "            cropped.save(cropped_path)"
   ]
  },
  {
   "cell_type": "markdown",
   "id": "67e8642b",
   "metadata": {},
   "source": [
    "### images 폴더에서 라벨 파일 이동하는 함수"
   ]
  },
  {
   "cell_type": "code",
   "execution_count": 20,
   "id": "ec201e3c",
   "metadata": {},
   "outputs": [],
   "source": [
    "def move_labels(img_dir=img_dir, label_dir=label_dir):\n",
    "    moved_count = 0\n",
    "    unmoved_count = 0\n",
    "    for file in os.listdir(img_dir):\n",
    "        if file.endswith('txt'):\n",
    "            file_path = os.path.join(img_dir, file)\n",
    "            new_path = os.path.join(label_dir, file)\n",
    "            shutil.move(file_path, new_path)\n",
    "            moved_count += 1\n",
    "        else:\n",
    "            unmoved_count += 1\n",
    "    \n",
    "    print(f\"moved files: {moved_count}\")\n",
    "    print(f\"unmoved files: {unmoved_count}\")"
   ]
  },
  {
   "cell_type": "code",
   "execution_count": 21,
   "id": "0abeb6a2",
   "metadata": {},
   "outputs": [
    {
     "name": "stdout",
     "output_type": "stream",
     "text": [
      "moved files: 2\n",
      "unmoved files: 2063\n"
     ]
    }
   ],
   "source": [
    "move_labels()"
   ]
  },
  {
   "cell_type": "code",
   "execution_count": 22,
   "id": "7c09c052",
   "metadata": {},
   "outputs": [
    {
     "name": "stdout",
     "output_type": "stream",
     "text": [
      "C:/Users/User/Sprint/Project/project_1/project/data/additional_data/cropped\\0\n",
      "C:/Users/User/Sprint/Project/project_1/project/data/additional_data/cropped\\1\n",
      "C:/Users/User/Sprint/Project/project_1/project/data/additional_data/cropped\\2\n",
      "C:/Users/User/Sprint/Project/project_1/project/data/additional_data/cropped\\3\n",
      "C:/Users/User/Sprint/Project/project_1/project/data/additional_data/cropped\\4\n",
      "C:/Users/User/Sprint/Project/project_1/project/data/additional_data/cropped\\5\n",
      "C:/Users/User/Sprint/Project/project_1/project/data/additional_data/cropped\\6\n",
      "C:/Users/User/Sprint/Project/project_1/project/data/additional_data/cropped\\7\n",
      "C:/Users/User/Sprint/Project/project_1/project/data/additional_data/cropped\\8\n",
      "C:/Users/User/Sprint/Project/project_1/project/data/additional_data/cropped\\9\n",
      "C:/Users/User/Sprint/Project/project_1/project/data/additional_data/cropped\\10\n",
      "C:/Users/User/Sprint/Project/project_1/project/data/additional_data/cropped\\11\n",
      "C:/Users/User/Sprint/Project/project_1/project/data/additional_data/cropped\\12\n",
      "C:/Users/User/Sprint/Project/project_1/project/data/additional_data/cropped\\13\n",
      "C:/Users/User/Sprint/Project/project_1/project/data/additional_data/cropped\\14\n",
      "C:/Users/User/Sprint/Project/project_1/project/data/additional_data/cropped\\15\n",
      "C:/Users/User/Sprint/Project/project_1/project/data/additional_data/cropped\\16\n",
      "C:/Users/User/Sprint/Project/project_1/project/data/additional_data/cropped\\17\n",
      "C:/Users/User/Sprint/Project/project_1/project/data/additional_data/cropped\\18\n",
      "C:/Users/User/Sprint/Project/project_1/project/data/additional_data/cropped\\19\n",
      "C:/Users/User/Sprint/Project/project_1/project/data/additional_data/cropped\\20\n",
      "C:/Users/User/Sprint/Project/project_1/project/data/additional_data/cropped\\21\n",
      "C:/Users/User/Sprint/Project/project_1/project/data/additional_data/cropped\\22\n",
      "C:/Users/User/Sprint/Project/project_1/project/data/additional_data/cropped\\23\n",
      "C:/Users/User/Sprint/Project/project_1/project/data/additional_data/cropped\\24\n",
      "C:/Users/User/Sprint/Project/project_1/project/data/additional_data/cropped\\25\n",
      "C:/Users/User/Sprint/Project/project_1/project/data/additional_data/cropped\\26\n",
      "C:/Users/User/Sprint/Project/project_1/project/data/additional_data/cropped\\27\n",
      "C:/Users/User/Sprint/Project/project_1/project/data/additional_data/cropped\\28\n",
      "C:/Users/User/Sprint/Project/project_1/project/data/additional_data/cropped\\29\n",
      "C:/Users/User/Sprint/Project/project_1/project/data/additional_data/cropped\\30\n",
      "C:/Users/User/Sprint/Project/project_1/project/data/additional_data/cropped\\31\n",
      "C:/Users/User/Sprint/Project/project_1/project/data/additional_data/cropped\\32\n",
      "C:/Users/User/Sprint/Project/project_1/project/data/additional_data/cropped\\33\n",
      "C:/Users/User/Sprint/Project/project_1/project/data/additional_data/cropped\\34\n",
      "C:/Users/User/Sprint/Project/project_1/project/data/additional_data/cropped\\35\n",
      "C:/Users/User/Sprint/Project/project_1/project/data/additional_data/cropped\\36\n",
      "C:/Users/User/Sprint/Project/project_1/project/data/additional_data/cropped\\37\n",
      "C:/Users/User/Sprint/Project/project_1/project/data/additional_data/cropped\\38\n",
      "C:/Users/User/Sprint/Project/project_1/project/data/additional_data/cropped\\39\n",
      "C:/Users/User/Sprint/Project/project_1/project/data/additional_data/cropped\\40\n",
      "C:/Users/User/Sprint/Project/project_1/project/data/additional_data/cropped\\41\n",
      "C:/Users/User/Sprint/Project/project_1/project/data/additional_data/cropped\\42\n",
      "C:/Users/User/Sprint/Project/project_1/project/data/additional_data/cropped\\43\n",
      "C:/Users/User/Sprint/Project/project_1/project/data/additional_data/cropped\\44\n",
      "C:/Users/User/Sprint/Project/project_1/project/data/additional_data/cropped\\45\n",
      "C:/Users/User/Sprint/Project/project_1/project/data/additional_data/cropped\\46\n",
      "C:/Users/User/Sprint/Project/project_1/project/data/additional_data/cropped\\47\n",
      "C:/Users/User/Sprint/Project/project_1/project/data/additional_data/cropped\\48\n",
      "C:/Users/User/Sprint/Project/project_1/project/data/additional_data/cropped\\49\n",
      "C:/Users/User/Sprint/Project/project_1/project/data/additional_data/cropped\\50\n",
      "C:/Users/User/Sprint/Project/project_1/project/data/additional_data/cropped\\51\n",
      "C:/Users/User/Sprint/Project/project_1/project/data/additional_data/cropped\\52\n",
      "C:/Users/User/Sprint/Project/project_1/project/data/additional_data/cropped\\53\n",
      "C:/Users/User/Sprint/Project/project_1/project/data/additional_data/cropped\\54\n",
      "C:/Users/User/Sprint/Project/project_1/project/data/additional_data/cropped\\55\n",
      "C:/Users/User/Sprint/Project/project_1/project/data/additional_data/cropped\\56\n",
      "C:/Users/User/Sprint/Project/project_1/project/data/additional_data/cropped\\57\n",
      "C:/Users/User/Sprint/Project/project_1/project/data/additional_data/cropped\\58\n",
      "C:/Users/User/Sprint/Project/project_1/project/data/additional_data/cropped\\59\n",
      "C:/Users/User/Sprint/Project/project_1/project/data/additional_data/cropped\\60\n",
      "C:/Users/User/Sprint/Project/project_1/project/data/additional_data/cropped\\61\n",
      "C:/Users/User/Sprint/Project/project_1/project/data/additional_data/cropped\\62\n",
      "C:/Users/User/Sprint/Project/project_1/project/data/additional_data/cropped\\63\n",
      "C:/Users/User/Sprint/Project/project_1/project/data/additional_data/cropped\\64\n",
      "C:/Users/User/Sprint/Project/project_1/project/data/additional_data/cropped\\65\n",
      "C:/Users/User/Sprint/Project/project_1/project/data/additional_data/cropped\\66\n",
      "C:/Users/User/Sprint/Project/project_1/project/data/additional_data/cropped\\67\n",
      "C:/Users/User/Sprint/Project/project_1/project/data/additional_data/cropped\\68\n",
      "C:/Users/User/Sprint/Project/project_1/project/data/additional_data/cropped\\69\n",
      "C:/Users/User/Sprint/Project/project_1/project/data/additional_data/cropped\\70\n",
      "C:/Users/User/Sprint/Project/project_1/project/data/additional_data/cropped\\71\n",
      "C:/Users/User/Sprint/Project/project_1/project/data/additional_data/cropped\\72\n"
     ]
    }
   ],
   "source": [
    "make_class_dir()"
   ]
  },
  {
   "cell_type": "code",
   "execution_count": 23,
   "id": "47596176",
   "metadata": {},
   "outputs": [],
   "source": [
    "make_crop_img()"
   ]
  }
 ],
 "metadata": {
  "kernelspec": {
   "display_name": "Python 3",
   "language": "python",
   "name": "python3"
  },
  "language_info": {
   "codemirror_mode": {
    "name": "ipython",
    "version": 3
   },
   "file_extension": ".py",
   "mimetype": "text/x-python",
   "name": "python",
   "nbconvert_exporter": "python",
   "pygments_lexer": "ipython3",
   "version": "3.10.1"
  }
 },
 "nbformat": 4,
 "nbformat_minor": 5
}
