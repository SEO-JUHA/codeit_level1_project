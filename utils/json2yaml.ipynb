{
 "cells": [
  {
   "cell_type": "code",
   "execution_count": null,
   "id": "aA5UCtATmOsb",
   "metadata": {
    "colab": {
     "base_uri": "https://localhost:8080/"
    },
    "executionInfo": {
     "elapsed": 20193,
     "status": "ok",
     "timestamp": 1748391874478,
     "user": {
      "displayName": "Dev",
      "userId": "14939525344100182390"
     },
     "user_tz": -540
    },
    "id": "aA5UCtATmOsb",
    "outputId": "f450301a-8d2c-44f2-9bf8-0abcb6ef9fb6"
   },
   "outputs": [
    {
     "name": "stdout",
     "output_type": "stream",
     "text": [
      "Mounted at /content/drive\n"
     ]
    }
   ],
   "source": [
    "from google.colab import drive\n",
    "drive.mount('/content/drive')"
   ]
  },
  {
   "cell_type": "code",
   "execution_count": null,
   "id": "dca86898",
   "metadata": {
    "collapsed": true,
    "id": "dca86898"
   },
   "outputs": [],
   "source": [
    "%pip install import-ipynb\n",
    "%pip install koreanize-matplotlib\n",
    "%pip install omegaconf\n",
    "!pip install ultralytics"
   ]
  },
  {
   "cell_type": "code",
   "execution_count": null,
   "id": "pGvhRn2Hopzt",
   "metadata": {
    "id": "pGvhRn2Hopzt"
   },
   "outputs": [],
   "source": [
    "import os\n",
    "import shutil                   # 파일 복사와 같은 고수준 연산 모듈\n",
    "import tqdm\n",
    "import json\n",
    "import yaml\n",
    "from pathlib import Path"
   ]
  },
  {
   "cell_type": "code",
   "execution_count": null,
   "id": "xTLfgYbGoltL",
   "metadata": {
    "id": "xTLfgYbGoltL"
   },
   "outputs": [],
   "source": [
    "data_root_dir = '/content/drive/Othercomputers/내 MacBook Air/Documents/ai_project/beginner_project/ai02-level1-project/train/train_annotations'\n",
    "output_base_dir = '/content/drive/Othercomputers/내 MacBook Air/Documents/ai_project/beginner_project/copy_data/train/annotations'"
   ]
  },
  {
   "cell_type": "markdown",
   "id": "0v8UVx2CGMub",
   "metadata": {
    "id": "0v8UVx2CGMub"
   },
   "source": [
    "# 하나의 폴더에 JSON 파일들을 다 넣어줌"
   ]
  },
  {
   "cell_type": "code",
   "execution_count": null,
   "id": "fALr_UJJuCGb",
   "metadata": {
    "id": "fALr_UJJuCGb"
   },
   "outputs": [],
   "source": [
    "# 1) 출력 폴더(copy_data/train/annotations) 미리 생성\n",
    "os.makedirs(output_base_dir, exist_ok=True)\n",
    "\n",
    "# annotations json 파일들을 하나의 폴더에 다 넣어준다.\n",
    "# 이름이 같은 json이 존재한다. 따라서 이름을 다르게 해줘야한다.\n",
    "for root, dirs, files in os.walk(data_root_dir):\n",
    "    for file in files:\n",
    "        if file.endswith('.json'):              # 확장자가 .json인 파일만\n",
    "            src_path = os.path.join(root, file)  # 원본 경로\n",
    "            base, ext = os.path.splitext(file)\n",
    "            dst_path = os.path.join(output_base_dir, file)  # 목적지 경로\n",
    "\n",
    "            # 이미 존재하면 _1, _2 이런식으로 붙이기\n",
    "            counter = 1\n",
    "\n",
    "            while os.path.exists(dst_path):\n",
    "              dst_filename = f\"{base}_{counter}{ext}\"\n",
    "              dst_path = os.path.join(output_base_dir, dst_filename)\n",
    "              counter += 1\n",
    "\n",
    "            shutil.copy(src_path, dst_path)      # 파일 복사"
   ]
  },
  {
   "cell_type": "code",
   "execution_count": null,
   "id": "6BgVfulNshSw",
   "metadata": {
    "id": "6BgVfulNshSw"
   },
   "outputs": [],
   "source": [
    "# data.yaml, labels txt 파일을 class_map\n",
    "annotations_path = '/content/drive/Othercomputers/내 MacBook Air/Documents/ai_project/beginner_project/copy_data/train/annotations'\n",
    "save_dir = '/content/drive/Othercomputers/내 MacBook Air/Documents/ai_project/beginner_project/data/train/annotations'\n",
    "class_map = {}\n",
    "class_map_count = 0"
   ]
  },
  {
   "cell_type": "code",
   "execution_count": null,
   "id": "DvPOTjf-vsU2",
   "metadata": {
    "id": "DvPOTjf-vsU2"
   },
   "outputs": [],
   "source": [
    "# cx, cy, w, h 함수\n",
    "def coco_to_yolo(bbox, img_w, img_h):\n",
    "    if len(bbox) == 1 and isinstance(bbox[0], (list, tuple)):\n",
    "        bbox = bbox[0]\n",
    "    x, y, w, h = bbox\n",
    "    # 1) 중심 좌표 계산\n",
    "    cx = x + w / 2\n",
    "    cy = y + h / 2\n",
    "\n",
    "    # 2) 정규화\n",
    "    nx = cx / img_w\n",
    "    ny = cy / img_h\n",
    "    nw = w  / img_w\n",
    "    nh = h  / img_h\n",
    "    return (nx, ny, nw, nh)"
   ]
  },
  {
   "cell_type": "markdown",
   "id": "WxFWA1NGGfR-",
   "metadata": {
    "id": "WxFWA1NGGfR-"
   },
   "source": [
    "# labels txt 파일"
   ]
  },
  {
   "cell_type": "code",
   "execution_count": null,
   "id": "DbpHWGxPseY8",
   "metadata": {
    "id": "DbpHWGxPseY8"
   },
   "outputs": [],
   "source": [
    "# labels txt 파일 생성\n",
    "# annotations_path json 순회\n",
    "os.makedirs(save_dir, exist_ok=True)\n",
    "\n",
    "for root, dirs, files in os.walk(annotations_path):\n",
    "    for file in files:\n",
    "        if file.endswith('.json'):\n",
    "            with open(os.path.join(root, file), 'r') as f:\n",
    "                data = json.load(f)\n",
    "                file_name = data['images'][0]['imgfile']\n",
    "                file_name = os.path.splitext(file_name)[0] # (basename, ext) 튜플 반환함\n",
    "                class_name = data['images'][0]['dl_name']\n",
    "\n",
    "                # 클래스 이름 클래스 맵에 넣어주기.\n",
    "                if class_name not in class_map:\n",
    "                  class_map[class_name] = class_map_count\n",
    "                  class_map_count += 1\n",
    "\n",
    "                # YOLO 포맷 수치 계산\n",
    "                bbox = data['annotations'][0]['bbox']\n",
    "                img_w = data['images'][0]['width']\n",
    "                img_h = data['images'][0]['height']\n",
    "                cx, cy, w, h = coco_to_yolo(bbox, img_w, img_h)\n",
    "\n",
    "                # txt 파일 경로\n",
    "                txt_path = os.path.join(save_dir, f'{file_name}.txt')\n",
    "                mode = 'w'\n",
    "                if os.path.exists(txt_path):\n",
    "                  mode = 'a'\n",
    "\n",
    "                # 쓰기\n",
    "                with open(txt_path, mode, encoding='utf-8') as f:\n",
    "                  # 이미 존재하는 파일이면 한줄 띄우기\n",
    "                  if mode == 'a':\n",
    "                    f.write('\\n')\n",
    "                  f.write(f'{class_map[class_name]} {cx:.6f} {cy:.6f} {w:.6f} {h:.6f}')"
   ]
  },
  {
   "cell_type": "markdown",
   "id": "9TQXdq5IGkUY",
   "metadata": {
    "id": "9TQXdq5IGkUY"
   },
   "source": [
    "# data.yaml"
   ]
  },
  {
   "cell_type": "code",
   "execution_count": null,
   "id": "isKM5JziWwbm",
   "metadata": {
    "id": "isKM5JziWwbm"
   },
   "outputs": [],
   "source": [
    "# data.yaml 파일 생성\n",
    "yaml_path = '/content/drive/Othercomputers/내 MacBook Air/Documents/ai_project/beginner_project/data/data.yaml'\n",
    "Path(yaml_path).parent.mkdir(parents=True, exist_ok=True)\n",
    "\n",
    "class_arr = [None] * class_map_count\n",
    "for key, idx in class_map.items():\n",
    "  class_arr[idx] = key\n",
    "\n",
    "data = {\n",
    "    'train': '/content/drive/Othercomputers/내 MacBook Air/Documents/ai_project/beginner_project/data/train/images',\n",
    "    'nc': class_map_count,\n",
    "    'names': class_arr\n",
    "}\n",
    "\n",
    "with open(yaml_path, 'w', encoding='utf-8') as f:\n",
    "  yaml.dump(data, f, allow_unicode=True)"
   ]
  }
 ],
 "metadata": {
  "colab": {
   "provenance": []
  },
  "kernelspec": {
   "display_name": "mission9",
   "language": "python",
   "name": "python3"
  },
  "language_info": {
   "codemirror_mode": {
    "name": "ipython",
    "version": 3
   },
   "file_extension": ".py",
   "mimetype": "text/x-python",
   "name": "python",
   "nbconvert_exporter": "python",
   "pygments_lexer": "ipython3",
   "version": "3.11.11"
  }
 },
 "nbformat": 4,
 "nbformat_minor": 5
}
