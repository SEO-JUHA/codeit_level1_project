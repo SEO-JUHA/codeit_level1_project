{
 "cells": [
  {
   "cell_type": "markdown",
   "id": "9ce6340b",
   "metadata": {},
   "source": [
    "# categoryID_to_name"
   ]
  },
  {
   "cell_type": "markdown",
   "id": "2bb81be5",
   "metadata": {},
   "source": [
    "카테고리 아이디: 알약 이름형태의 json파일을 생성하는 스크립트"
   ]
  },
  {
   "cell_type": "markdown",
   "id": "75339ee8",
   "metadata": {},
   "source": [
    "## 라이브러리"
   ]
  },
  {
   "cell_type": "code",
   "execution_count": 7,
   "id": "80ff0940",
   "metadata": {},
   "outputs": [],
   "source": [
    "import os\n",
    "import json"
   ]
  },
  {
   "cell_type": "markdown",
   "id": "3f52d6b3",
   "metadata": {},
   "source": [
    "## 경로"
   ]
  },
  {
   "cell_type": "code",
   "execution_count": null,
   "id": "4e6a85a2",
   "metadata": {},
   "outputs": [],
   "source": [
    "json_dir = '../data/ai02-level1-project/train_annotations'\n",
    "config_dir = '../configs'"
   ]
  },
  {
   "cell_type": "markdown",
   "id": "ef6fc596",
   "metadata": {},
   "source": [
    "# 탐색"
   ]
  },
  {
   "cell_type": "markdown",
   "id": "b6eaec94",
   "metadata": {},
   "source": [
    "## json_dir 탐색"
   ]
  },
  {
   "cell_type": "code",
   "execution_count": 12,
   "id": "63c1eb92",
   "metadata": {},
   "outputs": [],
   "source": [
    "pill_name = {}\n",
    "flag = True\n",
    "for root, dir, files in os.walk(json_dir):\n",
    "    if flag:\n",
    "        for file in files:\n",
    "            if flag:\n",
    "                f_path = os.path.join(root, file)\n",
    "                with open(f_path, 'r', encoding='utf-8') as f:\n",
    "                    metadata = json.load(f)\n",
    "                images = metadata.get('images')[0]\n",
    "                id = images.get('dl_idx')\n",
    "                name = images.get('dl_name')\n",
    "                if id not in pill_name:\n",
    "                    pill_name[id] = name\n",
    "                \n",
    "                if len(pill_name) == 73:\n",
    "                    flag = False\n",
    "            else:\n",
    "                break\n",
    "    else:\n",
    "        break"
   ]
  },
  {
   "cell_type": "markdown",
   "id": "fc0d6365",
   "metadata": {},
   "source": [
    "## 저장"
   ]
  },
  {
   "cell_type": "code",
   "execution_count": 14,
   "id": "022c9934",
   "metadata": {},
   "outputs": [],
   "source": [
    "with open(f'{config_dir}/id_to_name.json', 'w', encoding='utf-8') as f:\n",
    "    json.dump(pill_name, f, ensure_ascii=False, indent=4)"
   ]
  }
 ],
 "metadata": {
  "kernelspec": {
   "display_name": "Python 3",
   "language": "python",
   "name": "python3"
  },
  "language_info": {
   "codemirror_mode": {
    "name": "ipython",
    "version": 3
   },
   "file_extension": ".py",
   "mimetype": "text/x-python",
   "name": "python",
   "nbconvert_exporter": "python",
   "pygments_lexer": "ipython3",
   "version": "3.10.1"
  }
 },
 "nbformat": 4,
 "nbformat_minor": 5
}
