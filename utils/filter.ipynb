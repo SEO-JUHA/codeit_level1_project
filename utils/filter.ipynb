{
 "cells": [
  {
   "cell_type": "markdown",
   "id": "7e1afb20",
   "metadata": {},
   "source": [
    "# filter.ipynb"
   ]
  },
  {
   "cell_type": "markdown",
   "id": "d0672baa",
   "metadata": {},
   "source": [
    "추가 이미지 중 테스트 이미지와 중복되는 이미지 제거하는 스크립트"
   ]
  },
  {
   "cell_type": "markdown",
   "id": "faeb753f",
   "metadata": {},
   "source": [
    "### 라이브러리"
   ]
  },
  {
   "cell_type": "code",
   "execution_count": 2,
   "id": "6778dbda",
   "metadata": {},
   "outputs": [],
   "source": [
    "import os\n",
    "import json\n",
    "import shutil\n",
    "from torchvision import transforms\n",
    "from PIL import Image\n",
    "import torch\n",
    "import hashlib\n",
    "import pandas as pd"
   ]
  },
  {
   "cell_type": "markdown",
   "id": "7dcdcc9b",
   "metadata": {},
   "source": [
    "### 경로"
   ]
  },
  {
   "cell_type": "code",
   "execution_count": 4,
   "id": "e465fc06",
   "metadata": {},
   "outputs": [],
   "source": [
    "add_train_img_dir = '../data/additional_data/images/train'\n",
    "add_val_img_dir = '../data/additional_data/images/val'\n",
    "\n",
    "add_train_label_dir = '../data/additional_data/labels/train'\n",
    "add_val_label_dir = '../data/additional_data/labels/val'\n",
    "\n",
    "duplicated_img_dir = '../data/additional_data/duplicated_images'\n",
    "duplicated_label_dir = '../data/additional_data/duplicated_labels'\n",
    "\n",
    "test_img_dir = '../data/ai02-level1-project/test_images'"
   ]
  },
  {
   "cell_type": "markdown",
   "id": "3a95f269",
   "metadata": {},
   "source": [
    "## 이미지 검출"
   ]
  },
  {
   "cell_type": "markdown",
   "id": "e7345f2d",
   "metadata": {},
   "source": [
    "### 이미지 경로 읽어서 해시값 생성"
   ]
  },
  {
   "cell_type": "code",
   "execution_count": 5,
   "id": "0ef63293",
   "metadata": {},
   "outputs": [],
   "source": [
    "def image_hash(path):\n",
    "    \"\"\"이미지 파일을 읽어서 md5 해시값 생성\"\"\"\n",
    "    with open(path, \"rb\") as f:\n",
    "        return hashlib.md5(f.read()).hexdigest()"
   ]
  },
  {
   "cell_type": "markdown",
   "id": "13d18247",
   "metadata": {},
   "source": [
    "### 학습 이미지 해시값 생성"
   ]
  },
  {
   "cell_type": "code",
   "execution_count": 6,
   "id": "5bc5abde",
   "metadata": {},
   "outputs": [],
   "source": [
    "train_hashes = {}\n",
    "for fname in os.listdir(add_train_img_dir):\n",
    "    fpath = os.path.join(add_train_img_dir, fname)\n",
    "    h = image_hash(fpath)\n",
    "    train_hashes[h] = fname"
   ]
  },
  {
   "cell_type": "markdown",
   "id": "275abc33",
   "metadata": {},
   "source": [
    "### 검증 이미지 해시값 생성"
   ]
  },
  {
   "cell_type": "code",
   "execution_count": 21,
   "id": "708fdae8",
   "metadata": {},
   "outputs": [],
   "source": [
    "val_hashes = {}\n",
    "for fname in os.listdir(add_val_img_dir):\n",
    "    fpath = os.path.join(add_val_img_dir, fname)\n",
    "    h = image_hash(fpath)\n",
    "    val_hashes[h] = fname"
   ]
  },
  {
   "cell_type": "markdown",
   "id": "559507a8",
   "metadata": {},
   "source": [
    "### 테스트 이미지에서 중복 탐색"
   ]
  },
  {
   "cell_type": "code",
   "execution_count": 22,
   "id": "c804bd09",
   "metadata": {},
   "outputs": [],
   "source": [
    "trina_duplicates = []\n",
    "val_duplicates = []\n",
    "\n",
    "for fname in os.listdir(test_img_dir):\n",
    "    fpath = os.path.join(test_img_dir, fname)\n",
    "    h = image_hash(fpath)\n",
    "    if h in train_hashes.keys():\n",
    "        trina_duplicates.append((fname, train_hashes[h]))\n",
    "    elif h in val_hashes.keys():\n",
    "        val_duplicates.append((fname, val_hashes[h]))"
   ]
  },
  {
   "cell_type": "code",
   "execution_count": 23,
   "id": "c816e1d5",
   "metadata": {},
   "outputs": [
    {
     "name": "stdout",
     "output_type": "stream",
     "text": [
      "train 중복 이미지 수: 832\n",
      "val 중복 이미지 수: 0\n"
     ]
    }
   ],
   "source": [
    "print(f\"train 중복 이미지 수: {len(trina_duplicates)}\")\n",
    "print(f\"val 중복 이미지 수: {len(val_duplicates)}\")"
   ]
  },
  {
   "cell_type": "markdown",
   "id": "bf308fc8",
   "metadata": {},
   "source": [
    "### trian 이미지 중 중복된 이미지 및 labels 옮기기"
   ]
  },
  {
   "cell_type": "code",
   "execution_count": null,
   "id": "4245a9f5",
   "metadata": {},
   "outputs": [],
   "source": [
    "for h, img_name in trina_duplicates:\n",
    "    label_name = img_name.replace('.png', '.txt')\n",
    "    old_img_path = os.path.join(add_train_img_dir, img_name)\n",
    "    new_img_path = os.path.join(duplicated_img_dir, img_name)\n",
    "    shutil.move(old_img_path, new_img_path)\n",
    "\n",
    "    old_label_path = os.path.join(add_train_label_dir, label_name)\n",
    "    new_label_path = os.path.join(duplicated_label_dir, label_name)\n",
    "    shutil.move(old_label_path, new_label_path)"
   ]
  }
 ],
 "metadata": {
  "kernelspec": {
   "display_name": "Python 3",
   "language": "python",
   "name": "python3"
  },
  "language_info": {
   "codemirror_mode": {
    "name": "ipython",
    "version": 3
   },
   "file_extension": ".py",
   "mimetype": "text/x-python",
   "name": "python",
   "nbconvert_exporter": "python",
   "pygments_lexer": "ipython3",
   "version": "3.10.1"
  }
 },
 "nbformat": 4,
 "nbformat_minor": 5
}
