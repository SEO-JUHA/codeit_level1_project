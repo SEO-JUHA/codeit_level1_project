{
 "cells": [
  {
   "cell_type": "code",
   "execution_count": null,
   "id": "e3db94c7",
   "metadata": {},
   "outputs": [],
   "source": [
    "import os\n",
    "import pandas as pd\n",
    "from PIL import Image\n",
    "from tqdm import tqdm\n",
    "\n",
    "import torch\n",
    "import torch.nn as nn\n",
    "import torch.optim as optim\n",
    "from torch.utils.data import Dataset, DataLoader\n",
    "\n",
    "from torchvision import transforms\n",
    "import timm\n",
    "\n",
    "from sklearn.model_selection import train_test_split\n"
   ]
  },
  {
   "cell_type": "code",
   "execution_count": null,
   "id": "0f0e45f1",
   "metadata": {},
   "outputs": [
    {
     "name": "stderr",
     "output_type": "stream",
     "text": [
      "100%|██████████| 2065/2065 [03:53<00:00,  8.84it/s]"
     ]
    },
    {
     "name": "stdout",
     "output_type": "stream",
     "text": [
      "✅ 크롭 완료 및 CSV 저장 완료\n"
     ]
    },
    {
     "name": "stderr",
     "output_type": "stream",
     "text": [
      "\n"
     ]
    }
   ],
   "source": [
    "# 경로 설정\n",
    "image_dir = './images'\n",
    "label_dir = './labels'\n",
    "output_image_dir = './cropped/images'\n",
    "os.makedirs(output_image_dir, exist_ok=True)\n",
    "\n",
    "# CSV 기록용 리스트\n",
    "records = []\n",
    "\n",
    "# 이미지 하나씩 처리\n",
    "for filename in tqdm(os.listdir(label_dir)):\n",
    "    if not filename.endswith('.txt'):\n",
    "        continue\n",
    "\n",
    "    image_id = filename[:-4]  # .txt 제거\n",
    "    img_path = os.path.join(image_dir, image_id + '.png')\n",
    "    label_path = os.path.join(label_dir, filename)\n",
    "\n",
    "    if not os.path.exists(img_path):\n",
    "        print(f\"[경고] 이미지 없음: {img_path}\")\n",
    "        continue\n",
    "\n",
    "    # 이미지 열기\n",
    "    image = Image.open(img_path)\n",
    "    w, h = image.size\n",
    "\n",
    "    # 라벨 읽기\n",
    "    with open(label_path, 'r') as f:\n",
    "        lines = f.readlines()\n",
    "\n",
    "    for idx, line in enumerate(lines):\n",
    "        parts = line.strip().split()\n",
    "        if len(parts) != 5:\n",
    "            print(f\"[무시] 잘못된 라인: {line}\")\n",
    "            continue\n",
    "\n",
    "        class_id, cx, cy, bw, bh = map(float, parts)\n",
    "        class_id = int(class_id)\n",
    "\n",
    "        # 상대좌표 → 절대좌표\n",
    "        xmin = int((cx - bw / 2) * w)\n",
    "        ymin = int((cy - bh / 2) * h)\n",
    "        xmax = int((cx + bw / 2) * w)\n",
    "        ymax = int((cy + bh / 2) * h)\n",
    "\n",
    "        # 이미지 자르기 (좌표 클램핑)\n",
    "        xmin = max(0, xmin)\n",
    "        ymin = max(0, ymin)\n",
    "        xmax = min(w, xmax)\n",
    "        ymax = min(h, ymax)\n",
    "\n",
    "        crop = image.crop((xmin, ymin, xmax, ymax))\n",
    "\n",
    "        # 저장\n",
    "        cropped_filename = f\"{image_id}_{idx}.png\"\n",
    "        cropped_path = os.path.join(output_image_dir, cropped_filename)\n",
    "        crop.save(cropped_path)\n",
    "\n",
    "        # CSV 기록\n",
    "        records.append({'filename': cropped_filename, 'label': class_id})\n",
    "\n",
    "# CSV 저장\n",
    "df = pd.DataFrame(records)\n",
    "df.to_csv('./cropped/labels.csv', index=False)\n",
    "print(\"크롭 완료 및 CSV 저장 완료\")\n"
   ]
  },
  {
   "cell_type": "code",
   "execution_count": null,
   "id": "82d9ddb4",
   "metadata": {},
   "outputs": [],
   "source": [
    "class PillDataset(Dataset):\n",
    "    def __init__(self, dataframe, transform=None):\n",
    "        self.data = dataframe.reset_index(drop=True)\n",
    "        self.transform = transform\n",
    "        self.base_path = './cropped/images'\n",
    "\n",
    "    def __len__(self):\n",
    "        return len(self.data)\n",
    "\n",
    "    def __getitem__(self, idx):\n",
    "        img_path = os.path.join(self.base_path, self.data.iloc[idx, 0]).replace('\\\\', '/')\n",
    "        label = int(self.data.iloc[idx, 1])\n",
    "\n",
    "        if not os.path.exists(img_path):\n",
    "            raise FileNotFoundError(f\"이미지 파일 없음: {img_path}\")\n",
    "\n",
    "        image = cv2.imread(img_path)\n",
    "        image = cv2.cvtColor(image, cv2.COLOR_BGR2RGB)\n",
    "        image = Image.fromarray(image)\n",
    "\n",
    "        if self.transform:\n",
    "            image = self.transform(image)\n",
    "\n",
    "        return image, label\n"
   ]
  },
  {
   "cell_type": "code",
   "execution_count": 10,
   "id": "c7b8aa3c",
   "metadata": {},
   "outputs": [],
   "source": [
    "# 🔹 이미지넷 정규화 값 기준 transform 정의\n",
    "mean = [0.485, 0.456, 0.406]\n",
    "std = [0.229, 0.224, 0.225]\n",
    "\n",
    "train_transform = transforms.Compose([\n",
    "    transforms.Resize((224, 224)),\n",
    "    transforms.RandomHorizontalFlip(),\n",
    "    transforms.RandomRotation(10),\n",
    "    transforms.ToTensor(),\n",
    "    transforms.Normalize(mean, std)\n",
    "])\n",
    "\n",
    "val_transform = transforms.Compose([\n",
    "    transforms.Resize((224, 224)),\n",
    "    transforms.ToTensor(),\n",
    "    transforms.Normalize(mean, std)\n",
    "])\n"
   ]
  },
  {
   "cell_type": "code",
   "execution_count": 11,
   "id": "4333c5d9",
   "metadata": {},
   "outputs": [],
   "source": [
    "# 🔹 라벨 CSV 로드 및 train/val 분할\n",
    "df = pd.read_csv('./cropped/labels.csv')\n",
    "train_df, val_df = train_test_split(df, test_size=0.2, stratify=df['label'], random_state=42)\n",
    "\n",
    "train_dataset = PillDataset(train_df, transform=train_transform)\n",
    "val_dataset = PillDataset(val_df, transform=val_transform)\n",
    "\n",
    "\n",
    "train_loader = DataLoader(\n",
    "    train_dataset,\n",
    "    batch_size=64,\n",
    "    shuffle=True,\n",
    "    num_workers=0,            # 안정성 + 속도 절충안\n",
    "    pin_memory=True,\n",
    ")\n",
    "\n",
    "val_loader = DataLoader(\n",
    "    val_dataset,\n",
    "    batch_size=64,\n",
    "    shuffle=False,\n",
    "    num_workers=0,\n",
    "    pin_memory=True,\n",
    ")"
   ]
  },
  {
   "cell_type": "code",
   "execution_count": 12,
   "id": "9de41f58",
   "metadata": {},
   "outputs": [
    {
     "name": "stdout",
     "output_type": "stream",
     "text": [
      "✅ 첫 배치 로딩 시간: 0.53초\n"
     ]
    }
   ],
   "source": [
    "import time\n",
    "start = time.time()\n",
    "for i, (images, labels) in enumerate(train_loader):\n",
    "    print(f\"✅ 첫 배치 로딩 시간: {time.time() - start:.2f}초\")\n",
    "    break\n"
   ]
  },
  {
   "cell_type": "code",
   "execution_count": 13,
   "id": "1a4baef2",
   "metadata": {},
   "outputs": [],
   "source": [
    "# 🔹 EfficientNetV2-S 모델 정의\n",
    "NUM_CLASSES = len(df['label'].unique())\n",
    "model = timm.create_model('efficientnetv2_rw_s', pretrained=True)\n",
    "model.classifier = nn.Linear(model.classifier.in_features, NUM_CLASSES)\n",
    "\n",
    "device = torch.device(\"cuda\" if torch.cuda.is_available() else \"cpu\")\n",
    "model = model.to(device)\n"
   ]
  },
  {
   "cell_type": "code",
   "execution_count": 14,
   "id": "c4f3d887",
   "metadata": {},
   "outputs": [],
   "source": [
    "# 🔹 손실함수, 옵티마이저 정의\n",
    "criterion = nn.CrossEntropyLoss()\n",
    "optimizer = optim.Adam(model.parameters(), lr=1e-4)\n"
   ]
  },
  {
   "cell_type": "code",
   "execution_count": 20,
   "id": "25b3d706",
   "metadata": {},
   "outputs": [],
   "source": [
    "def train_one_epoch(model, dataloader, optimizer, criterion, device):\n",
    "    model.train()\n",
    "    running_loss = 0.0\n",
    "    correct = 0\n",
    "    total = 0\n",
    "\n",
    "    for images, labels in dataloader:\n",
    "        images, labels = images.to(device), labels.to(device)\n",
    "\n",
    "        optimizer.zero_grad()\n",
    "        outputs = model(images)\n",
    "        loss = criterion(outputs, labels)\n",
    "        loss.backward()\n",
    "        optimizer.step()\n",
    "\n",
    "        running_loss += loss.item() * images.size(0)\n",
    "        _, predicted = outputs.max(1)\n",
    "        correct += predicted.eq(labels).sum().item()\n",
    "        total += labels.size(0)\n",
    "\n",
    "    if total == 0:\n",
    "        return 0.0, 0.0\n",
    "    return running_loss / total, correct / total\n"
   ]
  },
  {
   "cell_type": "code",
   "execution_count": 22,
   "id": "31b58b04",
   "metadata": {},
   "outputs": [],
   "source": [
    "@torch.no_grad()\n",
    "def validate(model, dataloader, criterion, device):\n",
    "    model.eval()\n",
    "    val_loss = 0.0\n",
    "    correct = 0\n",
    "    total = 0\n",
    "\n",
    "    for images, labels in dataloader:\n",
    "        images, labels = images.to(device), labels.to(device)\n",
    "        outputs = model(images)\n",
    "        loss = criterion(outputs, labels)\n",
    "        val_loss += loss.item() * images.size(0)\n",
    "\n",
    "        _, predicted = outputs.max(1)\n",
    "        correct += predicted.eq(labels).sum().item()\n",
    "        total += labels.size(0)\n",
    "\n",
    "    if total == 0:\n",
    "        return 0.0, 0.0\n",
    "    return val_loss / total, correct / total\n"
   ]
  },
  {
   "cell_type": "code",
   "execution_count": 17,
   "id": "9df58991",
   "metadata": {},
   "outputs": [
    {
     "name": "stdout",
     "output_type": "stream",
     "text": [
      "cuda\n"
     ]
    }
   ],
   "source": [
    "print(\"cuda\" if torch.cuda.is_available() else \"cpu\")"
   ]
  },
  {
   "cell_type": "code",
   "execution_count": 23,
   "id": "0abf7339",
   "metadata": {},
   "outputs": [
    {
     "name": "stdout",
     "output_type": "stream",
     "text": [
      "Epoch 1/20 | Train Loss: 0.1950, Acc: 0.9792 | Val Loss: 0.0805, Acc: 0.9975\n",
      "✅ Best model saved.\n",
      "Epoch 2/20 | Train Loss: 0.0411, Acc: 0.9980 | Val Loss: 0.0269, Acc: 0.9994\n",
      "✅ Best model saved.\n",
      "Epoch 3/20 | Train Loss: 0.0176, Acc: 0.9985 | Val Loss: 0.0218, Acc: 0.9988\n",
      "⚠️ No improvement for 1 epoch(s).\n",
      "Epoch 4/20 | Train Loss: 0.0114, Acc: 0.9995 | Val Loss: 0.0149, Acc: 0.9994\n",
      "⚠️ No improvement for 2 epoch(s).\n",
      "Epoch 5/20 | Train Loss: 0.0073, Acc: 0.9995 | Val Loss: 0.0135, Acc: 0.9988\n",
      "⚠️ No improvement for 3 epoch(s).\n",
      "Epoch 6/20 | Train Loss: 0.0076, Acc: 0.9989 | Val Loss: 0.0117, Acc: 0.9994\n",
      "⚠️ No improvement for 4 epoch(s).\n",
      "Epoch 7/20 | Train Loss: 0.0045, Acc: 0.9995 | Val Loss: 0.0099, Acc: 0.9994\n",
      "⚠️ No improvement for 5 epoch(s).\n",
      "Epoch 8/20 | Train Loss: 0.0033, Acc: 0.9997 | Val Loss: 0.0101, Acc: 0.9988\n",
      "⚠️ No improvement for 6 epoch(s).\n",
      "Epoch 9/20 | Train Loss: 0.0024, Acc: 0.9998 | Val Loss: 0.0087, Acc: 0.9994\n",
      "⚠️ No improvement for 7 epoch(s).\n",
      "🛑 Early stopping triggered after 9 epochs.\n"
     ]
    }
   ],
   "source": [
    "EPOCHS = 20\n",
    "best_val_acc = 0.0\n",
    "patience = 7\n",
    "epochs_no_improve = 0\n",
    "\n",
    "for epoch in range(EPOCHS):\n",
    "    train_loss, train_acc = train_one_epoch(model, train_loader, optimizer, criterion, device)\n",
    "    val_loss, val_acc = validate(model, val_loader, criterion, device)\n",
    "\n",
    "    print(f\"Epoch {epoch+1}/{EPOCHS} | Train Loss: {train_loss:.4f}, Acc: {train_acc:.4f} | Val Loss: {val_loss:.4f}, Acc: {val_acc:.4f}\")\n",
    "\n",
    "    if val_acc > best_val_acc:\n",
    "        best_val_acc = val_acc\n",
    "        torch.save(model.state_dict(), \"best_model.pth\")\n",
    "        print(\"✅ Best model saved.\")\n",
    "        epochs_no_improve = 0  # 개선됐으므로 초기화\n",
    "    else:\n",
    "        epochs_no_improve += 1\n",
    "        print(f\"⚠️ No improvement for {epochs_no_improve} epoch(s).\")\n",
    "\n",
    "    if epochs_no_improve >= patience:\n",
    "        print(f\"🛑 Early stopping triggered after {epoch+1} epochs.\")\n",
    "        break\n"
   ]
  }
 ],
 "metadata": {
  "kernelspec": {
   "display_name": "base",
   "language": "python",
   "name": "python3"
  },
  "language_info": {
   "codemirror_mode": {
    "name": "ipython",
    "version": 3
   },
   "file_extension": ".py",
   "mimetype": "text/x-python",
   "name": "python",
   "nbconvert_exporter": "python",
   "pygments_lexer": "ipython3",
   "version": "3.12.7"
  }
 },
 "nbformat": 4,
 "nbformat_minor": 5
}
