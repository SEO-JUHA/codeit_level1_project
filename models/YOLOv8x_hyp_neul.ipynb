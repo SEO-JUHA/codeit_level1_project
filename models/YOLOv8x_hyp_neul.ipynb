{
  "nbformat": 4,
  "nbformat_minor": 0,
  "metadata": {
    "colab": {
      "provenance": [],
      "gpuType": "A100"
    },
    "kernelspec": {
      "name": "python3",
      "display_name": "Python 3"
    },
    "language_info": {
      "name": "python"
    },
    "accelerator": "GPU"
  },
  "cells": [
    {
      "cell_type": "markdown",
      "source": [
        "## **1. 라이브러리 설치**"
      ],
      "metadata": {
        "id": "Iw3hLZrzADwy"
      }
    },
    {
      "cell_type": "code",
      "execution_count": null,
      "metadata": {
        "id": "Sz3Dh4Ka_X1d",
        "colab": {
          "base_uri": "https://localhost:8080/"
        },
        "outputId": "2c6b753c-e58d-45c5-c846-1d9bf627e8bc"
      },
      "outputs": [
        {
          "output_type": "stream",
          "name": "stdout",
          "text": [
            "Collecting koreanize-matplotlib\n",
            "  Downloading koreanize_matplotlib-0.1.1-py3-none-any.whl.metadata (992 bytes)\n",
            "Requirement already satisfied: matplotlib in /usr/local/lib/python3.11/dist-packages (from koreanize-matplotlib) (3.10.0)\n",
            "Requirement already satisfied: contourpy>=1.0.1 in /usr/local/lib/python3.11/dist-packages (from matplotlib->koreanize-matplotlib) (1.3.2)\n",
            "Requirement already satisfied: cycler>=0.10 in /usr/local/lib/python3.11/dist-packages (from matplotlib->koreanize-matplotlib) (0.12.1)\n",
            "Requirement already satisfied: fonttools>=4.22.0 in /usr/local/lib/python3.11/dist-packages (from matplotlib->koreanize-matplotlib) (4.58.0)\n",
            "Requirement already satisfied: kiwisolver>=1.3.1 in /usr/local/lib/python3.11/dist-packages (from matplotlib->koreanize-matplotlib) (1.4.8)\n",
            "Requirement already satisfied: numpy>=1.23 in /usr/local/lib/python3.11/dist-packages (from matplotlib->koreanize-matplotlib) (2.0.2)\n",
            "Requirement already satisfied: packaging>=20.0 in /usr/local/lib/python3.11/dist-packages (from matplotlib->koreanize-matplotlib) (24.2)\n",
            "Requirement already satisfied: pillow>=8 in /usr/local/lib/python3.11/dist-packages (from matplotlib->koreanize-matplotlib) (11.2.1)\n",
            "Requirement already satisfied: pyparsing>=2.3.1 in /usr/local/lib/python3.11/dist-packages (from matplotlib->koreanize-matplotlib) (3.2.3)\n",
            "Requirement already satisfied: python-dateutil>=2.7 in /usr/local/lib/python3.11/dist-packages (from matplotlib->koreanize-matplotlib) (2.9.0.post0)\n",
            "Requirement already satisfied: six>=1.5 in /usr/local/lib/python3.11/dist-packages (from python-dateutil>=2.7->matplotlib->koreanize-matplotlib) (1.17.0)\n",
            "Downloading koreanize_matplotlib-0.1.1-py3-none-any.whl (7.9 MB)\n",
            "\u001b[2K   \u001b[90m━━━━━━━━━━━━━━━━━━━━━━━━━━━━━━━━━━━━━━━━\u001b[0m \u001b[32m7.9/7.9 MB\u001b[0m \u001b[31m52.5 MB/s\u001b[0m eta \u001b[36m0:00:00\u001b[0m\n",
            "\u001b[?25hInstalling collected packages: koreanize-matplotlib\n",
            "Successfully installed koreanize-matplotlib-0.1.1\n"
          ]
        }
      ],
      "source": [
        "!pip install koreanize-matplotlib"
      ]
    },
    {
      "cell_type": "code",
      "source": [
        "!pip install ultralytics"
      ],
      "metadata": {
        "colab": {
          "base_uri": "https://localhost:8080/"
        },
        "id": "NM5TMJ9lTdTL",
        "outputId": "f037ae9a-2fde-430e-c4be-418b548598a5"
      },
      "execution_count": null,
      "outputs": [
        {
          "output_type": "stream",
          "name": "stdout",
          "text": [
            "Collecting ultralytics\n",
            "  Downloading ultralytics-8.3.146-py3-none-any.whl.metadata (37 kB)\n",
            "Requirement already satisfied: numpy>=1.23.0 in /usr/local/lib/python3.11/dist-packages (from ultralytics) (2.0.2)\n",
            "Requirement already satisfied: matplotlib>=3.3.0 in /usr/local/lib/python3.11/dist-packages (from ultralytics) (3.10.0)\n",
            "Requirement already satisfied: opencv-python>=4.6.0 in /usr/local/lib/python3.11/dist-packages (from ultralytics) (4.11.0.86)\n",
            "Requirement already satisfied: pillow>=7.1.2 in /usr/local/lib/python3.11/dist-packages (from ultralytics) (11.2.1)\n",
            "Requirement already satisfied: pyyaml>=5.3.1 in /usr/local/lib/python3.11/dist-packages (from ultralytics) (6.0.2)\n",
            "Requirement already satisfied: requests>=2.23.0 in /usr/local/lib/python3.11/dist-packages (from ultralytics) (2.32.3)\n",
            "Requirement already satisfied: scipy>=1.4.1 in /usr/local/lib/python3.11/dist-packages (from ultralytics) (1.15.3)\n",
            "Requirement already satisfied: torch>=1.8.0 in /usr/local/lib/python3.11/dist-packages (from ultralytics) (2.6.0+cu124)\n",
            "Requirement already satisfied: torchvision>=0.9.0 in /usr/local/lib/python3.11/dist-packages (from ultralytics) (0.21.0+cu124)\n",
            "Requirement already satisfied: tqdm>=4.64.0 in /usr/local/lib/python3.11/dist-packages (from ultralytics) (4.67.1)\n",
            "Requirement already satisfied: psutil in /usr/local/lib/python3.11/dist-packages (from ultralytics) (5.9.5)\n",
            "Requirement already satisfied: py-cpuinfo in /usr/local/lib/python3.11/dist-packages (from ultralytics) (9.0.0)\n",
            "Requirement already satisfied: pandas>=1.1.4 in /usr/local/lib/python3.11/dist-packages (from ultralytics) (2.2.2)\n",
            "Collecting ultralytics-thop>=2.0.0 (from ultralytics)\n",
            "  Downloading ultralytics_thop-2.0.14-py3-none-any.whl.metadata (9.4 kB)\n",
            "Requirement already satisfied: contourpy>=1.0.1 in /usr/local/lib/python3.11/dist-packages (from matplotlib>=3.3.0->ultralytics) (1.3.2)\n",
            "Requirement already satisfied: cycler>=0.10 in /usr/local/lib/python3.11/dist-packages (from matplotlib>=3.3.0->ultralytics) (0.12.1)\n",
            "Requirement already satisfied: fonttools>=4.22.0 in /usr/local/lib/python3.11/dist-packages (from matplotlib>=3.3.0->ultralytics) (4.58.0)\n",
            "Requirement already satisfied: kiwisolver>=1.3.1 in /usr/local/lib/python3.11/dist-packages (from matplotlib>=3.3.0->ultralytics) (1.4.8)\n",
            "Requirement already satisfied: packaging>=20.0 in /usr/local/lib/python3.11/dist-packages (from matplotlib>=3.3.0->ultralytics) (24.2)\n",
            "Requirement already satisfied: pyparsing>=2.3.1 in /usr/local/lib/python3.11/dist-packages (from matplotlib>=3.3.0->ultralytics) (3.2.3)\n",
            "Requirement already satisfied: python-dateutil>=2.7 in /usr/local/lib/python3.11/dist-packages (from matplotlib>=3.3.0->ultralytics) (2.9.0.post0)\n",
            "Requirement already satisfied: pytz>=2020.1 in /usr/local/lib/python3.11/dist-packages (from pandas>=1.1.4->ultralytics) (2025.2)\n",
            "Requirement already satisfied: tzdata>=2022.7 in /usr/local/lib/python3.11/dist-packages (from pandas>=1.1.4->ultralytics) (2025.2)\n",
            "Requirement already satisfied: charset-normalizer<4,>=2 in /usr/local/lib/python3.11/dist-packages (from requests>=2.23.0->ultralytics) (3.4.2)\n",
            "Requirement already satisfied: idna<4,>=2.5 in /usr/local/lib/python3.11/dist-packages (from requests>=2.23.0->ultralytics) (3.10)\n",
            "Requirement already satisfied: urllib3<3,>=1.21.1 in /usr/local/lib/python3.11/dist-packages (from requests>=2.23.0->ultralytics) (2.4.0)\n",
            "Requirement already satisfied: certifi>=2017.4.17 in /usr/local/lib/python3.11/dist-packages (from requests>=2.23.0->ultralytics) (2025.4.26)\n",
            "Requirement already satisfied: filelock in /usr/local/lib/python3.11/dist-packages (from torch>=1.8.0->ultralytics) (3.18.0)\n",
            "Requirement already satisfied: typing-extensions>=4.10.0 in /usr/local/lib/python3.11/dist-packages (from torch>=1.8.0->ultralytics) (4.13.2)\n",
            "Requirement already satisfied: networkx in /usr/local/lib/python3.11/dist-packages (from torch>=1.8.0->ultralytics) (3.4.2)\n",
            "Requirement already satisfied: jinja2 in /usr/local/lib/python3.11/dist-packages (from torch>=1.8.0->ultralytics) (3.1.6)\n",
            "Requirement already satisfied: fsspec in /usr/local/lib/python3.11/dist-packages (from torch>=1.8.0->ultralytics) (2025.3.2)\n",
            "Collecting nvidia-cuda-nvrtc-cu12==12.4.127 (from torch>=1.8.0->ultralytics)\n",
            "  Downloading nvidia_cuda_nvrtc_cu12-12.4.127-py3-none-manylinux2014_x86_64.whl.metadata (1.5 kB)\n",
            "Collecting nvidia-cuda-runtime-cu12==12.4.127 (from torch>=1.8.0->ultralytics)\n",
            "  Downloading nvidia_cuda_runtime_cu12-12.4.127-py3-none-manylinux2014_x86_64.whl.metadata (1.5 kB)\n",
            "Collecting nvidia-cuda-cupti-cu12==12.4.127 (from torch>=1.8.0->ultralytics)\n",
            "  Downloading nvidia_cuda_cupti_cu12-12.4.127-py3-none-manylinux2014_x86_64.whl.metadata (1.6 kB)\n",
            "Collecting nvidia-cudnn-cu12==9.1.0.70 (from torch>=1.8.0->ultralytics)\n",
            "  Downloading nvidia_cudnn_cu12-9.1.0.70-py3-none-manylinux2014_x86_64.whl.metadata (1.6 kB)\n",
            "Collecting nvidia-cublas-cu12==12.4.5.8 (from torch>=1.8.0->ultralytics)\n",
            "  Downloading nvidia_cublas_cu12-12.4.5.8-py3-none-manylinux2014_x86_64.whl.metadata (1.5 kB)\n",
            "Collecting nvidia-cufft-cu12==11.2.1.3 (from torch>=1.8.0->ultralytics)\n",
            "  Downloading nvidia_cufft_cu12-11.2.1.3-py3-none-manylinux2014_x86_64.whl.metadata (1.5 kB)\n",
            "Collecting nvidia-curand-cu12==10.3.5.147 (from torch>=1.8.0->ultralytics)\n",
            "  Downloading nvidia_curand_cu12-10.3.5.147-py3-none-manylinux2014_x86_64.whl.metadata (1.5 kB)\n",
            "Collecting nvidia-cusolver-cu12==11.6.1.9 (from torch>=1.8.0->ultralytics)\n",
            "  Downloading nvidia_cusolver_cu12-11.6.1.9-py3-none-manylinux2014_x86_64.whl.metadata (1.6 kB)\n",
            "Collecting nvidia-cusparse-cu12==12.3.1.170 (from torch>=1.8.0->ultralytics)\n",
            "  Downloading nvidia_cusparse_cu12-12.3.1.170-py3-none-manylinux2014_x86_64.whl.metadata (1.6 kB)\n",
            "Requirement already satisfied: nvidia-cusparselt-cu12==0.6.2 in /usr/local/lib/python3.11/dist-packages (from torch>=1.8.0->ultralytics) (0.6.2)\n",
            "Requirement already satisfied: nvidia-nccl-cu12==2.21.5 in /usr/local/lib/python3.11/dist-packages (from torch>=1.8.0->ultralytics) (2.21.5)\n",
            "Requirement already satisfied: nvidia-nvtx-cu12==12.4.127 in /usr/local/lib/python3.11/dist-packages (from torch>=1.8.0->ultralytics) (12.4.127)\n",
            "Collecting nvidia-nvjitlink-cu12==12.4.127 (from torch>=1.8.0->ultralytics)\n",
            "  Downloading nvidia_nvjitlink_cu12-12.4.127-py3-none-manylinux2014_x86_64.whl.metadata (1.5 kB)\n",
            "Requirement already satisfied: triton==3.2.0 in /usr/local/lib/python3.11/dist-packages (from torch>=1.8.0->ultralytics) (3.2.0)\n",
            "Requirement already satisfied: sympy==1.13.1 in /usr/local/lib/python3.11/dist-packages (from torch>=1.8.0->ultralytics) (1.13.1)\n",
            "Requirement already satisfied: mpmath<1.4,>=1.1.0 in /usr/local/lib/python3.11/dist-packages (from sympy==1.13.1->torch>=1.8.0->ultralytics) (1.3.0)\n",
            "Requirement already satisfied: six>=1.5 in /usr/local/lib/python3.11/dist-packages (from python-dateutil>=2.7->matplotlib>=3.3.0->ultralytics) (1.17.0)\n",
            "Requirement already satisfied: MarkupSafe>=2.0 in /usr/local/lib/python3.11/dist-packages (from jinja2->torch>=1.8.0->ultralytics) (3.0.2)\n",
            "Downloading ultralytics-8.3.146-py3-none-any.whl (1.0 MB)\n",
            "\u001b[2K   \u001b[90m━━━━━━━━━━━━━━━━━━━━━━━━━━━━━━━━━━━━━━━━\u001b[0m \u001b[32m1.0/1.0 MB\u001b[0m \u001b[31m19.6 MB/s\u001b[0m eta \u001b[36m0:00:00\u001b[0m\n",
            "\u001b[?25hDownloading nvidia_cublas_cu12-12.4.5.8-py3-none-manylinux2014_x86_64.whl (363.4 MB)\n",
            "\u001b[2K   \u001b[90m━━━━━━━━━━━━━━━━━━━━━━━━━━━━━━━━━━━━━━━━\u001b[0m \u001b[32m363.4/363.4 MB\u001b[0m \u001b[31m2.9 MB/s\u001b[0m eta \u001b[36m0:00:00\u001b[0m\n",
            "\u001b[?25hDownloading nvidia_cuda_cupti_cu12-12.4.127-py3-none-manylinux2014_x86_64.whl (13.8 MB)\n",
            "\u001b[2K   \u001b[90m━━━━━━━━━━━━━━━━━━━━━━━━━━━━━━━━━━━━━━━━\u001b[0m \u001b[32m13.8/13.8 MB\u001b[0m \u001b[31m120.4 MB/s\u001b[0m eta \u001b[36m0:00:00\u001b[0m\n",
            "\u001b[?25hDownloading nvidia_cuda_nvrtc_cu12-12.4.127-py3-none-manylinux2014_x86_64.whl (24.6 MB)\n",
            "\u001b[2K   \u001b[90m━━━━━━━━━━━━━━━━━━━━━━━━━━━━━━━━━━━━━━━━\u001b[0m \u001b[32m24.6/24.6 MB\u001b[0m \u001b[31m94.5 MB/s\u001b[0m eta \u001b[36m0:00:00\u001b[0m\n",
            "\u001b[?25hDownloading nvidia_cuda_runtime_cu12-12.4.127-py3-none-manylinux2014_x86_64.whl (883 kB)\n",
            "\u001b[2K   \u001b[90m━━━━━━━━━━━━━━━━━━━━━━━━━━━━━━━━━━━━━━━━\u001b[0m \u001b[32m883.7/883.7 kB\u001b[0m \u001b[31m53.4 MB/s\u001b[0m eta \u001b[36m0:00:00\u001b[0m\n",
            "\u001b[?25hDownloading nvidia_cudnn_cu12-9.1.0.70-py3-none-manylinux2014_x86_64.whl (664.8 MB)\n",
            "\u001b[2K   \u001b[90m━━━━━━━━━━━━━━━━━━━━━━━━━━━━━━━━━━━━━━━━\u001b[0m \u001b[32m664.8/664.8 MB\u001b[0m \u001b[31m1.4 MB/s\u001b[0m eta \u001b[36m0:00:00\u001b[0m\n",
            "\u001b[?25hDownloading nvidia_cufft_cu12-11.2.1.3-py3-none-manylinux2014_x86_64.whl (211.5 MB)\n",
            "\u001b[2K   \u001b[90m━━━━━━━━━━━━━━━━━━━━━━━━━━━━━━━━━━━━━━━━\u001b[0m \u001b[32m211.5/211.5 MB\u001b[0m \u001b[31m10.1 MB/s\u001b[0m eta \u001b[36m0:00:00\u001b[0m\n",
            "\u001b[?25hDownloading nvidia_curand_cu12-10.3.5.147-py3-none-manylinux2014_x86_64.whl (56.3 MB)\n",
            "\u001b[2K   \u001b[90m━━━━━━━━━━━━━━━━━━━━━━━━━━━━━━━━━━━━━━━━\u001b[0m \u001b[32m56.3/56.3 MB\u001b[0m \u001b[31m38.4 MB/s\u001b[0m eta \u001b[36m0:00:00\u001b[0m\n",
            "\u001b[?25hDownloading nvidia_cusolver_cu12-11.6.1.9-py3-none-manylinux2014_x86_64.whl (127.9 MB)\n",
            "\u001b[2K   \u001b[90m━━━━━━━━━━━━━━━━━━━━━━━━━━━━━━━━━━━━━━━━\u001b[0m \u001b[32m127.9/127.9 MB\u001b[0m \u001b[31m16.6 MB/s\u001b[0m eta \u001b[36m0:00:00\u001b[0m\n",
            "\u001b[?25hDownloading nvidia_cusparse_cu12-12.3.1.170-py3-none-manylinux2014_x86_64.whl (207.5 MB)\n",
            "\u001b[2K   \u001b[90m━━━━━━━━━━━━━━━━━━━━━━━━━━━━━━━━━━━━━━━━\u001b[0m \u001b[32m207.5/207.5 MB\u001b[0m \u001b[31m4.1 MB/s\u001b[0m eta \u001b[36m0:00:00\u001b[0m\n",
            "\u001b[?25hDownloading nvidia_nvjitlink_cu12-12.4.127-py3-none-manylinux2014_x86_64.whl (21.1 MB)\n",
            "\u001b[2K   \u001b[90m━━━━━━━━━━━━━━━━━━━━━━━━━━━━━━━━━━━━━━━━\u001b[0m \u001b[32m21.1/21.1 MB\u001b[0m \u001b[31m103.9 MB/s\u001b[0m eta \u001b[36m0:00:00\u001b[0m\n",
            "\u001b[?25hDownloading ultralytics_thop-2.0.14-py3-none-any.whl (26 kB)\n",
            "Installing collected packages: nvidia-nvjitlink-cu12, nvidia-curand-cu12, nvidia-cufft-cu12, nvidia-cuda-runtime-cu12, nvidia-cuda-nvrtc-cu12, nvidia-cuda-cupti-cu12, nvidia-cublas-cu12, nvidia-cusparse-cu12, nvidia-cudnn-cu12, nvidia-cusolver-cu12, ultralytics-thop, ultralytics\n",
            "  Attempting uninstall: nvidia-nvjitlink-cu12\n",
            "    Found existing installation: nvidia-nvjitlink-cu12 12.5.82\n",
            "    Uninstalling nvidia-nvjitlink-cu12-12.5.82:\n",
            "      Successfully uninstalled nvidia-nvjitlink-cu12-12.5.82\n",
            "  Attempting uninstall: nvidia-curand-cu12\n",
            "    Found existing installation: nvidia-curand-cu12 10.3.6.82\n",
            "    Uninstalling nvidia-curand-cu12-10.3.6.82:\n",
            "      Successfully uninstalled nvidia-curand-cu12-10.3.6.82\n",
            "  Attempting uninstall: nvidia-cufft-cu12\n",
            "    Found existing installation: nvidia-cufft-cu12 11.2.3.61\n",
            "    Uninstalling nvidia-cufft-cu12-11.2.3.61:\n",
            "      Successfully uninstalled nvidia-cufft-cu12-11.2.3.61\n",
            "  Attempting uninstall: nvidia-cuda-runtime-cu12\n",
            "    Found existing installation: nvidia-cuda-runtime-cu12 12.5.82\n",
            "    Uninstalling nvidia-cuda-runtime-cu12-12.5.82:\n",
            "      Successfully uninstalled nvidia-cuda-runtime-cu12-12.5.82\n",
            "  Attempting uninstall: nvidia-cuda-nvrtc-cu12\n",
            "    Found existing installation: nvidia-cuda-nvrtc-cu12 12.5.82\n",
            "    Uninstalling nvidia-cuda-nvrtc-cu12-12.5.82:\n",
            "      Successfully uninstalled nvidia-cuda-nvrtc-cu12-12.5.82\n",
            "  Attempting uninstall: nvidia-cuda-cupti-cu12\n",
            "    Found existing installation: nvidia-cuda-cupti-cu12 12.5.82\n",
            "    Uninstalling nvidia-cuda-cupti-cu12-12.5.82:\n",
            "      Successfully uninstalled nvidia-cuda-cupti-cu12-12.5.82\n",
            "  Attempting uninstall: nvidia-cublas-cu12\n",
            "    Found existing installation: nvidia-cublas-cu12 12.5.3.2\n",
            "    Uninstalling nvidia-cublas-cu12-12.5.3.2:\n",
            "      Successfully uninstalled nvidia-cublas-cu12-12.5.3.2\n",
            "  Attempting uninstall: nvidia-cusparse-cu12\n",
            "    Found existing installation: nvidia-cusparse-cu12 12.5.1.3\n",
            "    Uninstalling nvidia-cusparse-cu12-12.5.1.3:\n",
            "      Successfully uninstalled nvidia-cusparse-cu12-12.5.1.3\n",
            "  Attempting uninstall: nvidia-cudnn-cu12\n",
            "    Found existing installation: nvidia-cudnn-cu12 9.3.0.75\n",
            "    Uninstalling nvidia-cudnn-cu12-9.3.0.75:\n",
            "      Successfully uninstalled nvidia-cudnn-cu12-9.3.0.75\n",
            "  Attempting uninstall: nvidia-cusolver-cu12\n",
            "    Found existing installation: nvidia-cusolver-cu12 11.6.3.83\n",
            "    Uninstalling nvidia-cusolver-cu12-11.6.3.83:\n",
            "      Successfully uninstalled nvidia-cusolver-cu12-11.6.3.83\n",
            "Successfully installed nvidia-cublas-cu12-12.4.5.8 nvidia-cuda-cupti-cu12-12.4.127 nvidia-cuda-nvrtc-cu12-12.4.127 nvidia-cuda-runtime-cu12-12.4.127 nvidia-cudnn-cu12-9.1.0.70 nvidia-cufft-cu12-11.2.1.3 nvidia-curand-cu12-10.3.5.147 nvidia-cusolver-cu12-11.6.1.9 nvidia-cusparse-cu12-12.3.1.170 nvidia-nvjitlink-cu12-12.4.127 ultralytics-8.3.146 ultralytics-thop-2.0.14\n"
          ]
        }
      ]
    },
    {
      "cell_type": "code",
      "source": [
        "from google.colab import files\n",
        "import os\n",
        "import zipfile\n",
        "import json\n",
        "import pandas as pd\n",
        "import seaborn as sns\n",
        "import matplotlib.pyplot as plt\n",
        "import cv2\n",
        "import yaml\n",
        "import shutil\n",
        "from tqdm import tqdm\n",
        "from glob import glob\n",
        "import random\n",
        "import numpy as np\n",
        "import torch\n",
        "from ultralytics import YOLO\n",
        "from IPython.display import Image, display\n",
        "import glob\n",
        "import koreanize_matplotlib"
      ],
      "metadata": {
        "colab": {
          "base_uri": "https://localhost:8080/"
        },
        "id": "R2gps0RLTsDl",
        "outputId": "d9aa457c-cdbd-4208-e642-fb18c7908c33"
      },
      "execution_count": null,
      "outputs": [
        {
          "output_type": "stream",
          "name": "stdout",
          "text": [
            "Creating new Ultralytics Settings v0.0.6 file ✅ \n",
            "View Ultralytics Settings with 'yolo settings' or at '/root/.config/Ultralytics/settings.json'\n",
            "Update Settings with 'yolo settings key=value', i.e. 'yolo settings runs_dir=path/to/dir'. For help see https://docs.ultralytics.com/quickstart/#ultralytics-settings.\n"
          ]
        }
      ]
    },
    {
      "cell_type": "markdown",
      "source": [
        "## **2. 시드 고정**"
      ],
      "metadata": {
        "id": "OKwl_asQT2z5"
      }
    },
    {
      "cell_type": "code",
      "source": [
        "random.seed(71)\n",
        "np.random.seed(71)\n",
        "torch.manual_seed(71)\n",
        "torch.cuda.manual_seed(71)\n",
        "torch.backends.cudnn.deterministic = True\n",
        "torch.backends.cudnn.benchmark = False"
      ],
      "metadata": {
        "id": "MgCbUQcpT6VV"
      },
      "execution_count": null,
      "outputs": []
    },
    {
      "cell_type": "markdown",
      "source": [
        "## **3. 데이터 경로 설정**"
      ],
      "metadata": {
        "id": "YSOYpHGLULGi"
      }
    },
    {
      "cell_type": "code",
      "source": [
        "# 데이터 경로\n",
        "data_path = '/content/drive/MyDrive/codeit_level1_project/data'\n",
        "\n",
        "# 훈련, 검증, 테스트 데이터 경로 설정\n",
        "train_dir = os.path.join(data_path, 'train_images')\n",
        "test_dir = os.path.join(data_path, 'test_images')\n",
        "annotation_dir = os.path.join(data_path, 'train_annotations')"
      ],
      "metadata": {
        "id": "uY3eeBtiUJru"
      },
      "execution_count": null,
      "outputs": []
    },
    {
      "cell_type": "markdown",
      "source": [
        "## **4. 하이퍼파라미터 조정**\n",
        "- 본 실험에서는 최종 훈련 모델은 YOLOv8x로 설정하되,\n",
        "튜닝 시간 단축과 자원 절약을 위해 YOLOv8n 모델로 하이퍼파라미터 튜닝을 진행하였다.\n",
        "- 튜닝에는 Ultralytics에서 제공하는 model.tune() 기능을 사용하였으며, 총 50회 반복 탐색(iterations=50)을 수행하였다."
      ],
      "metadata": {
        "id": "IkZShdL8VACQ"
      }
    },
    {
      "cell_type": "markdown",
      "source": [
        "| 분류             | 파라미터                                                                         | 이유                             |\n",
        "| -------------- | ---------------------------------------------------------------------------- | ------------------------------ |\n",
        "| 학습률 최적화     | `lr0`, `lrf`, `momentum`, `weight_decay`, `warmup_epochs`, `warmup_momentum` | 학습 속도 및 초기 안정성 개선                  |\n",
        "| 손실 함수 가중치   | `box`, `cls`                                                                 | 바운딩 박스 회귀와 클래스 분류 간 손실 균형 조        |\n",
        "| 데이터 증강       | `hsv_h`, `hsv_s`, `hsv_v`, `fliplr`, `mosaic`                                | 다양한 시각적 변형을 통해 모델 일반화 능력 향상            |\n"
      ],
      "metadata": {
        "id": "gu2hJPKYY04a"
      }
    },
    {
      "cell_type": "code",
      "source": [
        "model = YOLO(\"yolov8n.pt\")\n",
        "\n",
        "search_space = {\n",
        "    \"lr0\": (1e-5, 1e-1),\n",
        "    \"lrf\": (0.01, 1.0),\n",
        "    \"momentum\": (0.6, 0.98),\n",
        "    \"weight_decay\": (0.0, 0.001),\n",
        "    \"warmup_epochs\": (0.0, 5.0),\n",
        "    \"warmup_momentum\": (0.0, 0.95),\n",
        "    \"box\": (0.02, 0.2),\n",
        "    \"cls\": (0.2, 4.0),\n",
        "    \"hsv_h\": (0.0, 0.1),\n",
        "    \"hsv_s\": (0.0, 0.9),\n",
        "    \"hsv_v\": (0.0, 0.9),\n",
        "    \"fliplr\": (0.0, 1.0),\n",
        "    \"mosaic\": (0.0, 1.0)\n",
        "}\n",
        "\n",
        "model.tune(\n",
        "    data=\"/content/drive/MyDrive/codeit_level1_project/data/data.yaml\",\n",
        "    epochs=40,\n",
        "    iterations=50,\n",
        "    imgsz=640,\n",
        "    optimizer=\"AdamW\",\n",
        "    space=search_space,\n",
        "    save=True,\n",
        "    val=True,\n",
        "    plots=True,\n",
        "    project=\"/content/drive/MyDrive/codeit_level1_project/YOLOv8_epoch100_hyperparameters/yolo_tuning_results\",\n",
        "    name=\"yolo8_hyp_0534\"\n",
        "\n",
        ")"
      ],
      "metadata": {
        "colab": {
          "base_uri": "https://localhost:8080/"
        },
        "id": "BxhIoMy6U369",
        "outputId": "1509f8bb-0f80-41d8-bcba-e2f9e3a77484"
      },
      "execution_count": null,
      "outputs": [
        {
          "metadata": {
            "tags": null
          },
          "name": "stdout",
          "output_type": "stream",
          "text": [
            "Downloading https://github.com/ultralytics/assets/releases/download/v8.3.0/yolov8n.pt to 'yolov8n.pt'...\n"
          ]
        },
        {
          "metadata": {
            "tags": null
          },
          "name": "stderr",
          "output_type": "stream",
          "text": [
            "100%|██████████| 6.25M/6.25M [00:00<00:00, 390MB/s]"
          ]
        },
        {
          "metadata": {
            "tags": null
          },
          "name": "stdout",
          "output_type": "stream",
          "text": [
            "\u001b[34m\u001b[1mTuner: \u001b[0mInitialized Tuner instance with 'tune_dir=/content/drive/MyDrive/codeit_level1_project/YOLOv8_epoch100_hyperparameters/yolo_tuning_results/yolo8_hyp_0534'\n",
            "\u001b[34m\u001b[1mTuner: \u001b[0m💡 Learn about tuning at https://docs.ultralytics.com/guides/hyperparameter-tuning\n",
            "\u001b[34m\u001b[1mTuner: \u001b[0mStarting iteration 1/50 with hyperparameters: {'lr0': 0.01, 'lrf': 0.01, 'momentum': 0.937, 'weight_decay': 0.0005, 'warmup_epochs': 3.0, 'warmup_momentum': 0.8, 'box': 0.2, 'cls': 0.5, 'hsv_h': 0.015, 'hsv_s': 0.7, 'hsv_v': 0.4, 'fliplr': 0.5, 'mosaic': 1.0}\n"
          ]
        },
        {
          "metadata": {
            "tags": null
          },
          "name": "stderr",
          "output_type": "stream",
          "text": [
            "\n"
          ]
        },
        {
          "output_type": "stream",
          "name": "stdout",
          "text": [
            "Saved /content/drive/MyDrive/codeit_level1_project/YOLOv8_epoch100_hyperparameters/yolo_tuning_results/yolo8_hyp_0534/tune_scatter_plots.png\n",
            "Saved /content/drive/MyDrive/codeit_level1_project/YOLOv8_epoch100_hyperparameters/yolo_tuning_results/yolo8_hyp_0534/tune_fitness.png\n",
            "\n",
            "\u001b[34m\u001b[1mTuner: \u001b[0m1/50 iterations complete ✅ (589.97s)\n",
            "\u001b[34m\u001b[1mTuner: \u001b[0mResults saved to \u001b[1m/content/drive/MyDrive/codeit_level1_project/YOLOv8_epoch100_hyperparameters/yolo_tuning_results/yolo8_hyp_0534\u001b[0m\n",
            "\u001b[34m\u001b[1mTuner: \u001b[0mBest fitness=0.84648 observed at iteration 1\n",
            "\u001b[34m\u001b[1mTuner: \u001b[0mBest fitness metrics are {'metrics/precision(B)': 0.72091, 'metrics/recall(B)': 0.97336, 'metrics/mAP50(B)': 0.86256, 'metrics/mAP50-95(B)': 0.8447, 'val/box_loss': 0.0065, 'val/cls_loss': 0.50605, 'val/dfl_loss': 0.78559, 'fitness': 0.84648}\n",
            "\u001b[34m\u001b[1mTuner: \u001b[0mBest fitness model is /content/drive/MyDrive/codeit_level1_project/YOLOv8_epoch100_hyperparameters/yolo_tuning_results/train\n",
            "\u001b[34m\u001b[1mTuner: \u001b[0mBest fitness hyperparameters are printed below.\n",
            "\n",
            "Printing '\u001b[1m\u001b[30m/content/drive/MyDrive/codeit_level1_project/YOLOv8_epoch100_hyperparameters/yolo_tuning_results/yolo8_hyp_0534/best_hyperparameters.yaml\u001b[0m'\n",
            "\n",
            "lr0: 0.01\n",
            "lrf: 0.01\n",
            "momentum: 0.937\n",
            "weight_decay: 0.0005\n",
            "warmup_epochs: 3.0\n",
            "warmup_momentum: 0.8\n",
            "box: 0.2\n",
            "cls: 0.5\n",
            "hsv_h: 0.015\n",
            "hsv_s: 0.7\n",
            "hsv_v: 0.4\n",
            "fliplr: 0.5\n",
            "mosaic: 1.0\n",
            "\n",
            "\u001b[34m\u001b[1mTuner: \u001b[0mStarting iteration 2/50 with hyperparameters: {'lr0': 0.00994, 'lrf': 0.01, 'momentum': 0.93405, 'weight_decay': 0.0005, 'warmup_epochs': 3.0, 'warmup_momentum': 0.80926, 'box': 0.2, 'cls': 0.49335, 'hsv_h': 0.01502, 'hsv_s': 0.7, 'hsv_v': 0.4006, 'fliplr': 0.50432, 'mosaic': 1.0}\n",
            "Saved /content/drive/MyDrive/codeit_level1_project/YOLOv8_epoch100_hyperparameters/yolo_tuning_results/yolo8_hyp_0534/tune_scatter_plots.png\n",
            "Saved /content/drive/MyDrive/codeit_level1_project/YOLOv8_epoch100_hyperparameters/yolo_tuning_results/yolo8_hyp_0534/tune_fitness.png\n",
            "\n",
            "\u001b[34m\u001b[1mTuner: \u001b[0m2/50 iterations complete ✅ (1084.10s)\n",
            "\u001b[34m\u001b[1mTuner: \u001b[0mResults saved to \u001b[1m/content/drive/MyDrive/codeit_level1_project/YOLOv8_epoch100_hyperparameters/yolo_tuning_results/yolo8_hyp_0534\u001b[0m\n",
            "\u001b[34m\u001b[1mTuner: \u001b[0mBest fitness=0.84648 observed at iteration 1\n",
            "\u001b[34m\u001b[1mTuner: \u001b[0mBest fitness metrics are {'metrics/precision(B)': 0.72091, 'metrics/recall(B)': 0.97336, 'metrics/mAP50(B)': 0.86256, 'metrics/mAP50-95(B)': 0.8447, 'val/box_loss': 0.0065, 'val/cls_loss': 0.50605, 'val/dfl_loss': 0.78559, 'fitness': 0.84648}\n",
            "\u001b[34m\u001b[1mTuner: \u001b[0mBest fitness model is /content/drive/MyDrive/codeit_level1_project/YOLOv8_epoch100_hyperparameters/yolo_tuning_results/train\n",
            "\u001b[34m\u001b[1mTuner: \u001b[0mBest fitness hyperparameters are printed below.\n",
            "\n",
            "Printing '\u001b[1m\u001b[30m/content/drive/MyDrive/codeit_level1_project/YOLOv8_epoch100_hyperparameters/yolo_tuning_results/yolo8_hyp_0534/best_hyperparameters.yaml\u001b[0m'\n",
            "\n",
            "lr0: 0.01\n",
            "lrf: 0.01\n",
            "momentum: 0.937\n",
            "weight_decay: 0.0005\n",
            "warmup_epochs: 3.0\n",
            "warmup_momentum: 0.8\n",
            "box: 0.2\n",
            "cls: 0.5\n",
            "hsv_h: 0.015\n",
            "hsv_s: 0.7\n",
            "hsv_v: 0.4\n",
            "fliplr: 0.5\n",
            "mosaic: 1.0\n",
            "\n",
            "\u001b[34m\u001b[1mTuner: \u001b[0mStarting iteration 3/50 with hyperparameters: {'lr0': 0.00976, 'lrf': 0.01, 'momentum': 0.937, 'weight_decay': 0.0005, 'warmup_epochs': 3.07127, 'warmup_momentum': 0.8, 'box': 0.2, 'cls': 0.48124, 'hsv_h': 0.01481, 'hsv_s': 0.49303, 'hsv_v': 0.39546, 'fliplr': 0.5, 'mosaic': 0.90832}\n",
            "Saved /content/drive/MyDrive/codeit_level1_project/YOLOv8_epoch100_hyperparameters/yolo_tuning_results/yolo8_hyp_0534/tune_scatter_plots.png\n",
            "Saved /content/drive/MyDrive/codeit_level1_project/YOLOv8_epoch100_hyperparameters/yolo_tuning_results/yolo8_hyp_0534/tune_fitness.png\n",
            "\n",
            "\u001b[34m\u001b[1mTuner: \u001b[0m3/50 iterations complete ✅ (1583.56s)\n",
            "\u001b[34m\u001b[1mTuner: \u001b[0mResults saved to \u001b[1m/content/drive/MyDrive/codeit_level1_project/YOLOv8_epoch100_hyperparameters/yolo_tuning_results/yolo8_hyp_0534\u001b[0m\n",
            "\u001b[34m\u001b[1mTuner: \u001b[0mBest fitness=0.84648 observed at iteration 1\n",
            "\u001b[34m\u001b[1mTuner: \u001b[0mBest fitness metrics are {'metrics/precision(B)': 0.72091, 'metrics/recall(B)': 0.97336, 'metrics/mAP50(B)': 0.86256, 'metrics/mAP50-95(B)': 0.8447, 'val/box_loss': 0.0065, 'val/cls_loss': 0.50605, 'val/dfl_loss': 0.78559, 'fitness': 0.84648}\n",
            "\u001b[34m\u001b[1mTuner: \u001b[0mBest fitness model is /content/drive/MyDrive/codeit_level1_project/YOLOv8_epoch100_hyperparameters/yolo_tuning_results/train\n",
            "\u001b[34m\u001b[1mTuner: \u001b[0mBest fitness hyperparameters are printed below.\n",
            "\n",
            "Printing '\u001b[1m\u001b[30m/content/drive/MyDrive/codeit_level1_project/YOLOv8_epoch100_hyperparameters/yolo_tuning_results/yolo8_hyp_0534/best_hyperparameters.yaml\u001b[0m'\n",
            "\n",
            "lr0: 0.01\n",
            "lrf: 0.01\n",
            "momentum: 0.937\n",
            "weight_decay: 0.0005\n",
            "warmup_epochs: 3.0\n",
            "warmup_momentum: 0.8\n",
            "box: 0.2\n",
            "cls: 0.5\n",
            "hsv_h: 0.015\n",
            "hsv_s: 0.7\n",
            "hsv_v: 0.4\n",
            "fliplr: 0.5\n",
            "mosaic: 1.0\n",
            "\n",
            "\u001b[34m\u001b[1mTuner: \u001b[0mStarting iteration 4/50 with hyperparameters: {'lr0': 0.00978, 'lrf': 0.01, 'momentum': 0.82202, 'weight_decay': 0.00053, 'warmup_epochs': 3.0, 'warmup_momentum': 0.80926, 'box': 0.19675, 'cls': 0.50571, 'hsv_h': 0.01533, 'hsv_s': 0.52175, 'hsv_v': 0.4006, 'fliplr': 0.5234, 'mosaic': 1.0}\n",
            "Saved /content/drive/MyDrive/codeit_level1_project/YOLOv8_epoch100_hyperparameters/yolo_tuning_results/yolo8_hyp_0534/tune_scatter_plots.png\n",
            "Saved /content/drive/MyDrive/codeit_level1_project/YOLOv8_epoch100_hyperparameters/yolo_tuning_results/yolo8_hyp_0534/tune_fitness.png\n",
            "\n",
            "\u001b[34m\u001b[1mTuner: \u001b[0m4/50 iterations complete ✅ (2083.38s)\n",
            "\u001b[34m\u001b[1mTuner: \u001b[0mResults saved to \u001b[1m/content/drive/MyDrive/codeit_level1_project/YOLOv8_epoch100_hyperparameters/yolo_tuning_results/yolo8_hyp_0534\u001b[0m\n",
            "\u001b[34m\u001b[1mTuner: \u001b[0mBest fitness=0.84648 observed at iteration 1\n",
            "\u001b[34m\u001b[1mTuner: \u001b[0mBest fitness metrics are {'metrics/precision(B)': 0.72091, 'metrics/recall(B)': 0.97336, 'metrics/mAP50(B)': 0.86256, 'metrics/mAP50-95(B)': 0.8447, 'val/box_loss': 0.0065, 'val/cls_loss': 0.50605, 'val/dfl_loss': 0.78559, 'fitness': 0.84648}\n",
            "\u001b[34m\u001b[1mTuner: \u001b[0mBest fitness model is /content/drive/MyDrive/codeit_level1_project/YOLOv8_epoch100_hyperparameters/yolo_tuning_results/train\n",
            "\u001b[34m\u001b[1mTuner: \u001b[0mBest fitness hyperparameters are printed below.\n",
            "\n",
            "Printing '\u001b[1m\u001b[30m/content/drive/MyDrive/codeit_level1_project/YOLOv8_epoch100_hyperparameters/yolo_tuning_results/yolo8_hyp_0534/best_hyperparameters.yaml\u001b[0m'\n",
            "\n",
            "lr0: 0.01\n",
            "lrf: 0.01\n",
            "momentum: 0.937\n",
            "weight_decay: 0.0005\n",
            "warmup_epochs: 3.0\n",
            "warmup_momentum: 0.8\n",
            "box: 0.2\n",
            "cls: 0.5\n",
            "hsv_h: 0.015\n",
            "hsv_s: 0.7\n",
            "hsv_v: 0.4\n",
            "fliplr: 0.5\n",
            "mosaic: 1.0\n",
            "\n",
            "\u001b[34m\u001b[1mTuner: \u001b[0mStarting iteration 5/50 with hyperparameters: {'lr0': 0.00781, 'lrf': 0.01, 'momentum': 0.98, 'weight_decay': 0.00054, 'warmup_epochs': 3.42961, 'warmup_momentum': 0.81837, 'box': 0.2, 'cls': 0.46048, 'hsv_h': 0.01455, 'hsv_s': 0.74817, 'hsv_v': 0.4006, 'fliplr': 0.47592, 'mosaic': 0.80241}\n",
            "Saved /content/drive/MyDrive/codeit_level1_project/YOLOv8_epoch100_hyperparameters/yolo_tuning_results/yolo8_hyp_0534/tune_scatter_plots.png\n",
            "Saved /content/drive/MyDrive/codeit_level1_project/YOLOv8_epoch100_hyperparameters/yolo_tuning_results/yolo8_hyp_0534/tune_fitness.png\n",
            "\n",
            "\u001b[34m\u001b[1mTuner: \u001b[0m5/50 iterations complete ✅ (2570.35s)\n",
            "\u001b[34m\u001b[1mTuner: \u001b[0mResults saved to \u001b[1m/content/drive/MyDrive/codeit_level1_project/YOLOv8_epoch100_hyperparameters/yolo_tuning_results/yolo8_hyp_0534\u001b[0m\n",
            "\u001b[34m\u001b[1mTuner: \u001b[0mBest fitness=0.84648 observed at iteration 1\n",
            "\u001b[34m\u001b[1mTuner: \u001b[0mBest fitness metrics are {'metrics/precision(B)': 0.72091, 'metrics/recall(B)': 0.97336, 'metrics/mAP50(B)': 0.86256, 'metrics/mAP50-95(B)': 0.8447, 'val/box_loss': 0.0065, 'val/cls_loss': 0.50605, 'val/dfl_loss': 0.78559, 'fitness': 0.84648}\n",
            "\u001b[34m\u001b[1mTuner: \u001b[0mBest fitness model is /content/drive/MyDrive/codeit_level1_project/YOLOv8_epoch100_hyperparameters/yolo_tuning_results/train\n",
            "\u001b[34m\u001b[1mTuner: \u001b[0mBest fitness hyperparameters are printed below.\n",
            "\n",
            "Printing '\u001b[1m\u001b[30m/content/drive/MyDrive/codeit_level1_project/YOLOv8_epoch100_hyperparameters/yolo_tuning_results/yolo8_hyp_0534/best_hyperparameters.yaml\u001b[0m'\n",
            "\n",
            "lr0: 0.01\n",
            "lrf: 0.01\n",
            "momentum: 0.937\n",
            "weight_decay: 0.0005\n",
            "warmup_epochs: 3.0\n",
            "warmup_momentum: 0.8\n",
            "box: 0.2\n",
            "cls: 0.5\n",
            "hsv_h: 0.015\n",
            "hsv_s: 0.7\n",
            "hsv_v: 0.4\n",
            "fliplr: 0.5\n",
            "mosaic: 1.0\n",
            "\n",
            "\u001b[34m\u001b[1mTuner: \u001b[0mStarting iteration 6/50 with hyperparameters: {'lr0': 0.00997, 'lrf': 0.01465, 'momentum': 0.77419, 'weight_decay': 0.00061, 'warmup_epochs': 3.33421, 'warmup_momentum': 0.94158, 'box': 0.2, 'cls': 0.50571, 'hsv_h': 0.0104, 'hsv_s': 0.53503, 'hsv_v': 0.46458, 'fliplr': 0.5234, 'mosaic': 1.0}\n",
            "Saved /content/drive/MyDrive/codeit_level1_project/YOLOv8_epoch100_hyperparameters/yolo_tuning_results/yolo8_hyp_0534/tune_scatter_plots.png\n",
            "Saved /content/drive/MyDrive/codeit_level1_project/YOLOv8_epoch100_hyperparameters/yolo_tuning_results/yolo8_hyp_0534/tune_fitness.png\n",
            "\n",
            "\u001b[34m\u001b[1mTuner: \u001b[0m6/50 iterations complete ✅ (3057.23s)\n",
            "\u001b[34m\u001b[1mTuner: \u001b[0mResults saved to \u001b[1m/content/drive/MyDrive/codeit_level1_project/YOLOv8_epoch100_hyperparameters/yolo_tuning_results/yolo8_hyp_0534\u001b[0m\n",
            "\u001b[34m\u001b[1mTuner: \u001b[0mBest fitness=0.84648 observed at iteration 1\n",
            "\u001b[34m\u001b[1mTuner: \u001b[0mBest fitness metrics are {'metrics/precision(B)': 0.72091, 'metrics/recall(B)': 0.97336, 'metrics/mAP50(B)': 0.86256, 'metrics/mAP50-95(B)': 0.8447, 'val/box_loss': 0.0065, 'val/cls_loss': 0.50605, 'val/dfl_loss': 0.78559, 'fitness': 0.84648}\n",
            "\u001b[34m\u001b[1mTuner: \u001b[0mBest fitness model is /content/drive/MyDrive/codeit_level1_project/YOLOv8_epoch100_hyperparameters/yolo_tuning_results/train\n",
            "\u001b[34m\u001b[1mTuner: \u001b[0mBest fitness hyperparameters are printed below.\n",
            "\n",
            "Printing '\u001b[1m\u001b[30m/content/drive/MyDrive/codeit_level1_project/YOLOv8_epoch100_hyperparameters/yolo_tuning_results/yolo8_hyp_0534/best_hyperparameters.yaml\u001b[0m'\n",
            "\n",
            "lr0: 0.01\n",
            "lrf: 0.01\n",
            "momentum: 0.937\n",
            "weight_decay: 0.0005\n",
            "warmup_epochs: 3.0\n",
            "warmup_momentum: 0.8\n",
            "box: 0.2\n",
            "cls: 0.5\n",
            "hsv_h: 0.015\n",
            "hsv_s: 0.7\n",
            "hsv_v: 0.4\n",
            "fliplr: 0.5\n",
            "mosaic: 1.0\n",
            "\n",
            "\u001b[34m\u001b[1mTuner: \u001b[0mStarting iteration 7/50 with hyperparameters: {'lr0': 0.01072, 'lrf': 0.01, 'momentum': 0.937, 'weight_decay': 0.00056, 'warmup_epochs': 3.0, 'warmup_momentum': 0.64697, 'box': 0.2, 'cls': 0.5946, 'hsv_h': 0.01162, 'hsv_s': 0.7, 'hsv_v': 0.4, 'fliplr': 0.52694, 'mosaic': 0.4986}\n",
            "Saved /content/drive/MyDrive/codeit_level1_project/YOLOv8_epoch100_hyperparameters/yolo_tuning_results/yolo8_hyp_0534/tune_scatter_plots.png\n",
            "Saved /content/drive/MyDrive/codeit_level1_project/YOLOv8_epoch100_hyperparameters/yolo_tuning_results/yolo8_hyp_0534/tune_fitness.png\n",
            "\n",
            "\u001b[34m\u001b[1mTuner: \u001b[0m7/50 iterations complete ✅ (3549.17s)\n",
            "\u001b[34m\u001b[1mTuner: \u001b[0mResults saved to \u001b[1m/content/drive/MyDrive/codeit_level1_project/YOLOv8_epoch100_hyperparameters/yolo_tuning_results/yolo8_hyp_0534\u001b[0m\n",
            "\u001b[34m\u001b[1mTuner: \u001b[0mBest fitness=0.84648 observed at iteration 1\n",
            "\u001b[34m\u001b[1mTuner: \u001b[0mBest fitness metrics are {'metrics/precision(B)': 0.72091, 'metrics/recall(B)': 0.97336, 'metrics/mAP50(B)': 0.86256, 'metrics/mAP50-95(B)': 0.8447, 'val/box_loss': 0.0065, 'val/cls_loss': 0.50605, 'val/dfl_loss': 0.78559, 'fitness': 0.84648}\n",
            "\u001b[34m\u001b[1mTuner: \u001b[0mBest fitness model is /content/drive/MyDrive/codeit_level1_project/YOLOv8_epoch100_hyperparameters/yolo_tuning_results/train\n",
            "\u001b[34m\u001b[1mTuner: \u001b[0mBest fitness hyperparameters are printed below.\n",
            "\n",
            "Printing '\u001b[1m\u001b[30m/content/drive/MyDrive/codeit_level1_project/YOLOv8_epoch100_hyperparameters/yolo_tuning_results/yolo8_hyp_0534/best_hyperparameters.yaml\u001b[0m'\n",
            "\n",
            "lr0: 0.01\n",
            "lrf: 0.01\n",
            "momentum: 0.937\n",
            "weight_decay: 0.0005\n",
            "warmup_epochs: 3.0\n",
            "warmup_momentum: 0.8\n",
            "box: 0.2\n",
            "cls: 0.5\n",
            "hsv_h: 0.015\n",
            "hsv_s: 0.7\n",
            "hsv_v: 0.4\n",
            "fliplr: 0.5\n",
            "mosaic: 1.0\n",
            "\n",
            "\u001b[34m\u001b[1mTuner: \u001b[0mStarting iteration 8/50 with hyperparameters: {'lr0': 0.00961, 'lrf': 0.01, 'momentum': 0.95286, 'weight_decay': 0.00051, 'warmup_epochs': 2.82808, 'warmup_momentum': 0.79764, 'box': 0.2, 'cls': 0.50996, 'hsv_h': 0.01595, 'hsv_s': 0.63961, 'hsv_v': 0.45494, 'fliplr': 0.5, 'mosaic': 0.92185}\n",
            "Saved /content/drive/MyDrive/codeit_level1_project/YOLOv8_epoch100_hyperparameters/yolo_tuning_results/yolo8_hyp_0534/tune_scatter_plots.png\n",
            "Saved /content/drive/MyDrive/codeit_level1_project/YOLOv8_epoch100_hyperparameters/yolo_tuning_results/yolo8_hyp_0534/tune_fitness.png\n",
            "\n",
            "\u001b[34m\u001b[1mTuner: \u001b[0m8/50 iterations complete ✅ (4036.22s)\n",
            "\u001b[34m\u001b[1mTuner: \u001b[0mResults saved to \u001b[1m/content/drive/MyDrive/codeit_level1_project/YOLOv8_epoch100_hyperparameters/yolo_tuning_results/yolo8_hyp_0534\u001b[0m\n",
            "\u001b[34m\u001b[1mTuner: \u001b[0mBest fitness=0.8531 observed at iteration 8\n",
            "\u001b[34m\u001b[1mTuner: \u001b[0mBest fitness metrics are {'metrics/precision(B)': 0.77491, 'metrics/recall(B)': 0.93248, 'metrics/mAP50(B)': 0.87099, 'metrics/mAP50-95(B)': 0.85112, 'val/box_loss': 0.00701, 'val/cls_loss': 0.5378, 'val/dfl_loss': 0.80721, 'fitness': 0.8531}\n",
            "\u001b[34m\u001b[1mTuner: \u001b[0mBest fitness model is /content/drive/MyDrive/codeit_level1_project/YOLOv8_epoch100_hyperparameters/yolo_tuning_results/train8\n",
            "\u001b[34m\u001b[1mTuner: \u001b[0mBest fitness hyperparameters are printed below.\n",
            "\n",
            "Printing '\u001b[1m\u001b[30m/content/drive/MyDrive/codeit_level1_project/YOLOv8_epoch100_hyperparameters/yolo_tuning_results/yolo8_hyp_0534/best_hyperparameters.yaml\u001b[0m'\n",
            "\n",
            "lr0: 0.00961\n",
            "lrf: 0.01\n",
            "momentum: 0.95286\n",
            "weight_decay: 0.00051\n",
            "warmup_epochs: 2.82808\n",
            "warmup_momentum: 0.79764\n",
            "box: 0.2\n",
            "cls: 0.50996\n",
            "hsv_h: 0.01595\n",
            "hsv_s: 0.63961\n",
            "hsv_v: 0.45494\n",
            "fliplr: 0.5\n",
            "mosaic: 0.92185\n",
            "\n",
            "\u001b[34m\u001b[1mTuner: \u001b[0mStarting iteration 9/50 with hyperparameters: {'lr0': 0.01171, 'lrf': 0.01116, 'momentum': 0.76804, 'weight_decay': 0.00074, 'warmup_epochs': 2.57502, 'warmup_momentum': 0.7992, 'box': 0.2, 'cls': 0.45597, 'hsv_h': 0.01252, 'hsv_s': 0.69226, 'hsv_v': 0.45494, 'fliplr': 0.48951, 'mosaic': 0.71812}\n",
            "Saved /content/drive/MyDrive/codeit_level1_project/YOLOv8_epoch100_hyperparameters/yolo_tuning_results/yolo8_hyp_0534/tune_scatter_plots.png\n",
            "Saved /content/drive/MyDrive/codeit_level1_project/YOLOv8_epoch100_hyperparameters/yolo_tuning_results/yolo8_hyp_0534/tune_fitness.png\n",
            "\n",
            "\u001b[34m\u001b[1mTuner: \u001b[0m9/50 iterations complete ✅ (4536.96s)\n",
            "\u001b[34m\u001b[1mTuner: \u001b[0mResults saved to \u001b[1m/content/drive/MyDrive/codeit_level1_project/YOLOv8_epoch100_hyperparameters/yolo_tuning_results/yolo8_hyp_0534\u001b[0m\n",
            "\u001b[34m\u001b[1mTuner: \u001b[0mBest fitness=0.8531 observed at iteration 8\n",
            "\u001b[34m\u001b[1mTuner: \u001b[0mBest fitness metrics are {'metrics/precision(B)': 0.77491, 'metrics/recall(B)': 0.93248, 'metrics/mAP50(B)': 0.87099, 'metrics/mAP50-95(B)': 0.85112, 'val/box_loss': 0.00701, 'val/cls_loss': 0.5378, 'val/dfl_loss': 0.80721, 'fitness': 0.8531}\n",
            "\u001b[34m\u001b[1mTuner: \u001b[0mBest fitness model is /content/drive/MyDrive/codeit_level1_project/YOLOv8_epoch100_hyperparameters/yolo_tuning_results/train8\n",
            "\u001b[34m\u001b[1mTuner: \u001b[0mBest fitness hyperparameters are printed below.\n",
            "\n",
            "Printing '\u001b[1m\u001b[30m/content/drive/MyDrive/codeit_level1_project/YOLOv8_epoch100_hyperparameters/yolo_tuning_results/yolo8_hyp_0534/best_hyperparameters.yaml\u001b[0m'\n",
            "\n",
            "lr0: 0.00961\n",
            "lrf: 0.01\n",
            "momentum: 0.95286\n",
            "weight_decay: 0.00051\n",
            "warmup_epochs: 2.82808\n",
            "warmup_momentum: 0.79764\n",
            "box: 0.2\n",
            "cls: 0.50996\n",
            "hsv_h: 0.01595\n",
            "hsv_s: 0.63961\n",
            "hsv_v: 0.45494\n",
            "fliplr: 0.5\n",
            "mosaic: 0.92185\n",
            "\n",
            "\u001b[34m\u001b[1mTuner: \u001b[0mStarting iteration 10/50 with hyperparameters: {'lr0': 0.01174, 'lrf': 0.01, 'momentum': 0.98, 'weight_decay': 0.00064, 'warmup_epochs': 3.0967, 'warmup_momentum': 0.8058, 'box': 0.2, 'cls': 0.50103, 'hsv_h': 0.01281, 'hsv_s': 0.58244, 'hsv_v': 0.45494, 'fliplr': 0.49796, 'mosaic': 0.82744}\n",
            "Saved /content/drive/MyDrive/codeit_level1_project/YOLOv8_epoch100_hyperparameters/yolo_tuning_results/yolo8_hyp_0534/tune_scatter_plots.png\n",
            "Saved /content/drive/MyDrive/codeit_level1_project/YOLOv8_epoch100_hyperparameters/yolo_tuning_results/yolo8_hyp_0534/tune_fitness.png\n",
            "\n",
            "\u001b[34m\u001b[1mTuner: \u001b[0m10/50 iterations complete ✅ (5026.15s)\n",
            "\u001b[34m\u001b[1mTuner: \u001b[0mResults saved to \u001b[1m/content/drive/MyDrive/codeit_level1_project/YOLOv8_epoch100_hyperparameters/yolo_tuning_results/yolo8_hyp_0534\u001b[0m\n",
            "\u001b[34m\u001b[1mTuner: \u001b[0mBest fitness=0.8531 observed at iteration 8\n",
            "\u001b[34m\u001b[1mTuner: \u001b[0mBest fitness metrics are {'metrics/precision(B)': 0.77491, 'metrics/recall(B)': 0.93248, 'metrics/mAP50(B)': 0.87099, 'metrics/mAP50-95(B)': 0.85112, 'val/box_loss': 0.00701, 'val/cls_loss': 0.5378, 'val/dfl_loss': 0.80721, 'fitness': 0.8531}\n",
            "\u001b[34m\u001b[1mTuner: \u001b[0mBest fitness model is /content/drive/MyDrive/codeit_level1_project/YOLOv8_epoch100_hyperparameters/yolo_tuning_results/train8\n",
            "\u001b[34m\u001b[1mTuner: \u001b[0mBest fitness hyperparameters are printed below.\n",
            "\n",
            "Printing '\u001b[1m\u001b[30m/content/drive/MyDrive/codeit_level1_project/YOLOv8_epoch100_hyperparameters/yolo_tuning_results/yolo8_hyp_0534/best_hyperparameters.yaml\u001b[0m'\n",
            "\n",
            "lr0: 0.00961\n",
            "lrf: 0.01\n",
            "momentum: 0.95286\n",
            "weight_decay: 0.00051\n",
            "warmup_epochs: 2.82808\n",
            "warmup_momentum: 0.79764\n",
            "box: 0.2\n",
            "cls: 0.50996\n",
            "hsv_h: 0.01595\n",
            "hsv_s: 0.63961\n",
            "hsv_v: 0.45494\n",
            "fliplr: 0.5\n",
            "mosaic: 0.92185\n",
            "\n",
            "\u001b[34m\u001b[1mTuner: \u001b[0mStarting iteration 11/50 with hyperparameters: {'lr0': 0.00961, 'lrf': 0.01057, 'momentum': 0.98, 'weight_decay': 0.00051, 'warmup_epochs': 3.02023, 'warmup_momentum': 0.79764, 'box': 0.1989, 'cls': 0.50996, 'hsv_h': 0.01653, 'hsv_s': 0.63525, 'hsv_v': 0.44694, 'fliplr': 0.5, 'mosaic': 0.92185}\n",
            "Saved /content/drive/MyDrive/codeit_level1_project/YOLOv8_epoch100_hyperparameters/yolo_tuning_results/yolo8_hyp_0534/tune_scatter_plots.png\n",
            "Saved /content/drive/MyDrive/codeit_level1_project/YOLOv8_epoch100_hyperparameters/yolo_tuning_results/yolo8_hyp_0534/tune_fitness.png\n",
            "\n",
            "\u001b[34m\u001b[1mTuner: \u001b[0m11/50 iterations complete ✅ (5537.68s)\n",
            "\u001b[34m\u001b[1mTuner: \u001b[0mResults saved to \u001b[1m/content/drive/MyDrive/codeit_level1_project/YOLOv8_epoch100_hyperparameters/yolo_tuning_results/yolo8_hyp_0534\u001b[0m\n",
            "\u001b[34m\u001b[1mTuner: \u001b[0mBest fitness=0.8531 observed at iteration 8\n",
            "\u001b[34m\u001b[1mTuner: \u001b[0mBest fitness metrics are {'metrics/precision(B)': 0.77491, 'metrics/recall(B)': 0.93248, 'metrics/mAP50(B)': 0.87099, 'metrics/mAP50-95(B)': 0.85112, 'val/box_loss': 0.00701, 'val/cls_loss': 0.5378, 'val/dfl_loss': 0.80721, 'fitness': 0.8531}\n",
            "\u001b[34m\u001b[1mTuner: \u001b[0mBest fitness model is /content/drive/MyDrive/codeit_level1_project/YOLOv8_epoch100_hyperparameters/yolo_tuning_results/train8\n",
            "\u001b[34m\u001b[1mTuner: \u001b[0mBest fitness hyperparameters are printed below.\n",
            "\n",
            "Printing '\u001b[1m\u001b[30m/content/drive/MyDrive/codeit_level1_project/YOLOv8_epoch100_hyperparameters/yolo_tuning_results/yolo8_hyp_0534/best_hyperparameters.yaml\u001b[0m'\n",
            "\n",
            "lr0: 0.00961\n",
            "lrf: 0.01\n",
            "momentum: 0.95286\n",
            "weight_decay: 0.00051\n",
            "warmup_epochs: 2.82808\n",
            "warmup_momentum: 0.79764\n",
            "box: 0.2\n",
            "cls: 0.50996\n",
            "hsv_h: 0.01595\n",
            "hsv_s: 0.63961\n",
            "hsv_v: 0.45494\n",
            "fliplr: 0.5\n",
            "mosaic: 0.92185\n",
            "\n",
            "\u001b[34m\u001b[1mTuner: \u001b[0mStarting iteration 12/50 with hyperparameters: {'lr0': 0.01043, 'lrf': 0.01044, 'momentum': 0.9686, 'weight_decay': 0.00052, 'warmup_epochs': 2.87338, 'warmup_momentum': 0.8, 'box': 0.2, 'cls': 0.43937, 'hsv_h': 0.01366, 'hsv_s': 0.63405, 'hsv_v': 0.39168, 'fliplr': 0.5, 'mosaic': 0.85971}\n",
            "Saved /content/drive/MyDrive/codeit_level1_project/YOLOv8_epoch100_hyperparameters/yolo_tuning_results/yolo8_hyp_0534/tune_scatter_plots.png\n",
            "Saved /content/drive/MyDrive/codeit_level1_project/YOLOv8_epoch100_hyperparameters/yolo_tuning_results/yolo8_hyp_0534/tune_fitness.png\n",
            "\n",
            "\u001b[34m\u001b[1mTuner: \u001b[0m12/50 iterations complete ✅ (6034.77s)\n",
            "\u001b[34m\u001b[1mTuner: \u001b[0mResults saved to \u001b[1m/content/drive/MyDrive/codeit_level1_project/YOLOv8_epoch100_hyperparameters/yolo_tuning_results/yolo8_hyp_0534\u001b[0m\n",
            "\u001b[34m\u001b[1mTuner: \u001b[0mBest fitness=0.8531 observed at iteration 8\n",
            "\u001b[34m\u001b[1mTuner: \u001b[0mBest fitness metrics are {'metrics/precision(B)': 0.77491, 'metrics/recall(B)': 0.93248, 'metrics/mAP50(B)': 0.87099, 'metrics/mAP50-95(B)': 0.85112, 'val/box_loss': 0.00701, 'val/cls_loss': 0.5378, 'val/dfl_loss': 0.80721, 'fitness': 0.8531}\n",
            "\u001b[34m\u001b[1mTuner: \u001b[0mBest fitness model is /content/drive/MyDrive/codeit_level1_project/YOLOv8_epoch100_hyperparameters/yolo_tuning_results/train8\n",
            "\u001b[34m\u001b[1mTuner: \u001b[0mBest fitness hyperparameters are printed below.\n",
            "\n",
            "Printing '\u001b[1m\u001b[30m/content/drive/MyDrive/codeit_level1_project/YOLOv8_epoch100_hyperparameters/yolo_tuning_results/yolo8_hyp_0534/best_hyperparameters.yaml\u001b[0m'\n",
            "\n",
            "lr0: 0.00961\n",
            "lrf: 0.01\n",
            "momentum: 0.95286\n",
            "weight_decay: 0.00051\n",
            "warmup_epochs: 2.82808\n",
            "warmup_momentum: 0.79764\n",
            "box: 0.2\n",
            "cls: 0.50996\n",
            "hsv_h: 0.01595\n",
            "hsv_s: 0.63961\n",
            "hsv_v: 0.45494\n",
            "fliplr: 0.5\n",
            "mosaic: 0.92185\n",
            "\n",
            "\u001b[34m\u001b[1mTuner: \u001b[0mStarting iteration 13/50 with hyperparameters: {'lr0': 0.01255, 'lrf': 0.01, 'momentum': 0.98, 'weight_decay': 0.00046, 'warmup_epochs': 2.82808, 'warmup_momentum': 0.79639, 'box': 0.2, 'cls': 0.52482, 'hsv_h': 0.01691, 'hsv_s': 0.63961, 'hsv_v': 0.45494, 'fliplr': 0.44989, 'mosaic': 0.86729}\n",
            "Saved /content/drive/MyDrive/codeit_level1_project/YOLOv8_epoch100_hyperparameters/yolo_tuning_results/yolo8_hyp_0534/tune_scatter_plots.png\n",
            "Saved /content/drive/MyDrive/codeit_level1_project/YOLOv8_epoch100_hyperparameters/yolo_tuning_results/yolo8_hyp_0534/tune_fitness.png\n",
            "\n",
            "\u001b[34m\u001b[1mTuner: \u001b[0m13/50 iterations complete ✅ (6552.70s)\n",
            "\u001b[34m\u001b[1mTuner: \u001b[0mResults saved to \u001b[1m/content/drive/MyDrive/codeit_level1_project/YOLOv8_epoch100_hyperparameters/yolo_tuning_results/yolo8_hyp_0534\u001b[0m\n",
            "\u001b[34m\u001b[1mTuner: \u001b[0mBest fitness=0.8531 observed at iteration 8\n",
            "\u001b[34m\u001b[1mTuner: \u001b[0mBest fitness metrics are {'metrics/precision(B)': 0.77491, 'metrics/recall(B)': 0.93248, 'metrics/mAP50(B)': 0.87099, 'metrics/mAP50-95(B)': 0.85112, 'val/box_loss': 0.00701, 'val/cls_loss': 0.5378, 'val/dfl_loss': 0.80721, 'fitness': 0.8531}\n",
            "\u001b[34m\u001b[1mTuner: \u001b[0mBest fitness model is /content/drive/MyDrive/codeit_level1_project/YOLOv8_epoch100_hyperparameters/yolo_tuning_results/train8\n",
            "\u001b[34m\u001b[1mTuner: \u001b[0mBest fitness hyperparameters are printed below.\n",
            "\n",
            "Printing '\u001b[1m\u001b[30m/content/drive/MyDrive/codeit_level1_project/YOLOv8_epoch100_hyperparameters/yolo_tuning_results/yolo8_hyp_0534/best_hyperparameters.yaml\u001b[0m'\n",
            "\n",
            "lr0: 0.00961\n",
            "lrf: 0.01\n",
            "momentum: 0.95286\n",
            "weight_decay: 0.00051\n",
            "warmup_epochs: 2.82808\n",
            "warmup_momentum: 0.79764\n",
            "box: 0.2\n",
            "cls: 0.50996\n",
            "hsv_h: 0.01595\n",
            "hsv_s: 0.63961\n",
            "hsv_v: 0.45494\n",
            "fliplr: 0.5\n",
            "mosaic: 0.92185\n",
            "\n",
            "\u001b[34m\u001b[1mTuner: \u001b[0mStarting iteration 14/50 with hyperparameters: {'lr0': 0.01124, 'lrf': 0.01, 'momentum': 0.91681, 'weight_decay': 0.00053, 'warmup_epochs': 3.36744, 'warmup_momentum': 0.7082, 'box': 0.2, 'cls': 0.5, 'hsv_h': 0.01515, 'hsv_s': 0.7, 'hsv_v': 0.31044, 'fliplr': 0.5, 'mosaic': 0.91747}\n",
            "Saved /content/drive/MyDrive/codeit_level1_project/YOLOv8_epoch100_hyperparameters/yolo_tuning_results/yolo8_hyp_0534/tune_scatter_plots.png\n",
            "Saved /content/drive/MyDrive/codeit_level1_project/YOLOv8_epoch100_hyperparameters/yolo_tuning_results/yolo8_hyp_0534/tune_fitness.png\n",
            "\n",
            "\u001b[34m\u001b[1mTuner: \u001b[0m14/50 iterations complete ✅ (7049.73s)\n",
            "\u001b[34m\u001b[1mTuner: \u001b[0mResults saved to \u001b[1m/content/drive/MyDrive/codeit_level1_project/YOLOv8_epoch100_hyperparameters/yolo_tuning_results/yolo8_hyp_0534\u001b[0m\n",
            "\u001b[34m\u001b[1mTuner: \u001b[0mBest fitness=0.8531 observed at iteration 8\n",
            "\u001b[34m\u001b[1mTuner: \u001b[0mBest fitness metrics are {'metrics/precision(B)': 0.77491, 'metrics/recall(B)': 0.93248, 'metrics/mAP50(B)': 0.87099, 'metrics/mAP50-95(B)': 0.85112, 'val/box_loss': 0.00701, 'val/cls_loss': 0.5378, 'val/dfl_loss': 0.80721, 'fitness': 0.8531}\n",
            "\u001b[34m\u001b[1mTuner: \u001b[0mBest fitness model is /content/drive/MyDrive/codeit_level1_project/YOLOv8_epoch100_hyperparameters/yolo_tuning_results/train8\n",
            "\u001b[34m\u001b[1mTuner: \u001b[0mBest fitness hyperparameters are printed below.\n",
            "\n",
            "Printing '\u001b[1m\u001b[30m/content/drive/MyDrive/codeit_level1_project/YOLOv8_epoch100_hyperparameters/yolo_tuning_results/yolo8_hyp_0534/best_hyperparameters.yaml\u001b[0m'\n",
            "\n",
            "lr0: 0.00961\n",
            "lrf: 0.01\n",
            "momentum: 0.95286\n",
            "weight_decay: 0.00051\n",
            "warmup_epochs: 2.82808\n",
            "warmup_momentum: 0.79764\n",
            "box: 0.2\n",
            "cls: 0.50996\n",
            "hsv_h: 0.01595\n",
            "hsv_s: 0.63961\n",
            "hsv_v: 0.45494\n",
            "fliplr: 0.5\n",
            "mosaic: 0.92185\n",
            "\n",
            "\u001b[34m\u001b[1mTuner: \u001b[0mStarting iteration 15/50 with hyperparameters: {'lr0': 0.01124, 'lrf': 0.01, 'momentum': 0.98, 'weight_decay': 0.00063, 'warmup_epochs': 3.38933, 'warmup_momentum': 0.6594, 'box': 0.19268, 'cls': 0.5, 'hsv_h': 0.01315, 'hsv_s': 0.67081, 'hsv_v': 0.38871, 'fliplr': 0.52308, 'mosaic': 0.89076}\n",
            "Saved /content/drive/MyDrive/codeit_level1_project/YOLOv8_epoch100_hyperparameters/yolo_tuning_results/yolo8_hyp_0534/tune_scatter_plots.png\n",
            "Saved /content/drive/MyDrive/codeit_level1_project/YOLOv8_epoch100_hyperparameters/yolo_tuning_results/yolo8_hyp_0534/tune_fitness.png\n",
            "\n",
            "\u001b[34m\u001b[1mTuner: \u001b[0m15/50 iterations complete ✅ (7549.85s)\n",
            "\u001b[34m\u001b[1mTuner: \u001b[0mResults saved to \u001b[1m/content/drive/MyDrive/codeit_level1_project/YOLOv8_epoch100_hyperparameters/yolo_tuning_results/yolo8_hyp_0534\u001b[0m\n",
            "\u001b[34m\u001b[1mTuner: \u001b[0mBest fitness=0.8531 observed at iteration 8\n",
            "\u001b[34m\u001b[1mTuner: \u001b[0mBest fitness metrics are {'metrics/precision(B)': 0.77491, 'metrics/recall(B)': 0.93248, 'metrics/mAP50(B)': 0.87099, 'metrics/mAP50-95(B)': 0.85112, 'val/box_loss': 0.00701, 'val/cls_loss': 0.5378, 'val/dfl_loss': 0.80721, 'fitness': 0.8531}\n",
            "\u001b[34m\u001b[1mTuner: \u001b[0mBest fitness model is /content/drive/MyDrive/codeit_level1_project/YOLOv8_epoch100_hyperparameters/yolo_tuning_results/train8\n",
            "\u001b[34m\u001b[1mTuner: \u001b[0mBest fitness hyperparameters are printed below.\n",
            "\n",
            "Printing '\u001b[1m\u001b[30m/content/drive/MyDrive/codeit_level1_project/YOLOv8_epoch100_hyperparameters/yolo_tuning_results/yolo8_hyp_0534/best_hyperparameters.yaml\u001b[0m'\n",
            "\n",
            "lr0: 0.00961\n",
            "lrf: 0.01\n",
            "momentum: 0.95286\n",
            "weight_decay: 0.00051\n",
            "warmup_epochs: 2.82808\n",
            "warmup_momentum: 0.79764\n",
            "box: 0.2\n",
            "cls: 0.50996\n",
            "hsv_h: 0.01595\n",
            "hsv_s: 0.63961\n",
            "hsv_v: 0.45494\n",
            "fliplr: 0.5\n",
            "mosaic: 0.92185\n",
            "\n",
            "\u001b[34m\u001b[1mTuner: \u001b[0mStarting iteration 16/50 with hyperparameters: {'lr0': 0.01074, 'lrf': 0.01048, 'momentum': 0.95566, 'weight_decay': 0.00051, 'warmup_epochs': 2.9446, 'warmup_momentum': 0.79764, 'box': 0.2, 'cls': 0.51594, 'hsv_h': 0.0157, 'hsv_s': 0.62427, 'hsv_v': 0.40522, 'fliplr': 0.52996, 'mosaic': 0.92185}\n",
            "Saved /content/drive/MyDrive/codeit_level1_project/YOLOv8_epoch100_hyperparameters/yolo_tuning_results/yolo8_hyp_0534/tune_scatter_plots.png\n",
            "Saved /content/drive/MyDrive/codeit_level1_project/YOLOv8_epoch100_hyperparameters/yolo_tuning_results/yolo8_hyp_0534/tune_fitness.png\n",
            "\n",
            "\u001b[34m\u001b[1mTuner: \u001b[0m16/50 iterations complete ✅ (8044.05s)\n",
            "\u001b[34m\u001b[1mTuner: \u001b[0mResults saved to \u001b[1m/content/drive/MyDrive/codeit_level1_project/YOLOv8_epoch100_hyperparameters/yolo_tuning_results/yolo8_hyp_0534\u001b[0m\n",
            "\u001b[34m\u001b[1mTuner: \u001b[0mBest fitness=0.8531 observed at iteration 8\n",
            "\u001b[34m\u001b[1mTuner: \u001b[0mBest fitness metrics are {'metrics/precision(B)': 0.77491, 'metrics/recall(B)': 0.93248, 'metrics/mAP50(B)': 0.87099, 'metrics/mAP50-95(B)': 0.85112, 'val/box_loss': 0.00701, 'val/cls_loss': 0.5378, 'val/dfl_loss': 0.80721, 'fitness': 0.8531}\n",
            "\u001b[34m\u001b[1mTuner: \u001b[0mBest fitness model is /content/drive/MyDrive/codeit_level1_project/YOLOv8_epoch100_hyperparameters/yolo_tuning_results/train8\n",
            "\u001b[34m\u001b[1mTuner: \u001b[0mBest fitness hyperparameters are printed below.\n",
            "\n",
            "Printing '\u001b[1m\u001b[30m/content/drive/MyDrive/codeit_level1_project/YOLOv8_epoch100_hyperparameters/yolo_tuning_results/yolo8_hyp_0534/best_hyperparameters.yaml\u001b[0m'\n",
            "\n",
            "lr0: 0.00961\n",
            "lrf: 0.01\n",
            "momentum: 0.95286\n",
            "weight_decay: 0.00051\n",
            "warmup_epochs: 2.82808\n",
            "warmup_momentum: 0.79764\n",
            "box: 0.2\n",
            "cls: 0.50996\n",
            "hsv_h: 0.01595\n",
            "hsv_s: 0.63961\n",
            "hsv_v: 0.45494\n",
            "fliplr: 0.5\n",
            "mosaic: 0.92185\n",
            "\n",
            "\u001b[34m\u001b[1mTuner: \u001b[0mStarting iteration 17/50 with hyperparameters: {'lr0': 0.00961, 'lrf': 0.01094, 'momentum': 0.98, 'weight_decay': 0.00052, 'warmup_epochs': 2.82808, 'warmup_momentum': 0.82797, 'box': 0.18142, 'cls': 0.60892, 'hsv_h': 0.01595, 'hsv_s': 0.63961, 'hsv_v': 0.4813, 'fliplr': 0.45178, 'mosaic': 0.92185}\n",
            "Saved /content/drive/MyDrive/codeit_level1_project/YOLOv8_epoch100_hyperparameters/yolo_tuning_results/yolo8_hyp_0534/tune_scatter_plots.png\n",
            "Saved /content/drive/MyDrive/codeit_level1_project/YOLOv8_epoch100_hyperparameters/yolo_tuning_results/yolo8_hyp_0534/tune_fitness.png\n",
            "\n",
            "\u001b[34m\u001b[1mTuner: \u001b[0m17/50 iterations complete ✅ (8543.93s)\n",
            "\u001b[34m\u001b[1mTuner: \u001b[0mResults saved to \u001b[1m/content/drive/MyDrive/codeit_level1_project/YOLOv8_epoch100_hyperparameters/yolo_tuning_results/yolo8_hyp_0534\u001b[0m\n",
            "\u001b[34m\u001b[1mTuner: \u001b[0mBest fitness=0.8531 observed at iteration 8\n",
            "\u001b[34m\u001b[1mTuner: \u001b[0mBest fitness metrics are {'metrics/precision(B)': 0.77491, 'metrics/recall(B)': 0.93248, 'metrics/mAP50(B)': 0.87099, 'metrics/mAP50-95(B)': 0.85112, 'val/box_loss': 0.00701, 'val/cls_loss': 0.5378, 'val/dfl_loss': 0.80721, 'fitness': 0.8531}\n",
            "\u001b[34m\u001b[1mTuner: \u001b[0mBest fitness model is /content/drive/MyDrive/codeit_level1_project/YOLOv8_epoch100_hyperparameters/yolo_tuning_results/train8\n",
            "\u001b[34m\u001b[1mTuner: \u001b[0mBest fitness hyperparameters are printed below.\n",
            "\n",
            "Printing '\u001b[1m\u001b[30m/content/drive/MyDrive/codeit_level1_project/YOLOv8_epoch100_hyperparameters/yolo_tuning_results/yolo8_hyp_0534/best_hyperparameters.yaml\u001b[0m'\n",
            "\n",
            "lr0: 0.00961\n",
            "lrf: 0.01\n",
            "momentum: 0.95286\n",
            "weight_decay: 0.00051\n",
            "warmup_epochs: 2.82808\n",
            "warmup_momentum: 0.79764\n",
            "box: 0.2\n",
            "cls: 0.50996\n",
            "hsv_h: 0.01595\n",
            "hsv_s: 0.63961\n",
            "hsv_v: 0.45494\n",
            "fliplr: 0.5\n",
            "mosaic: 0.92185\n",
            "\n",
            "\u001b[34m\u001b[1mTuner: \u001b[0mStarting iteration 18/50 with hyperparameters: {'lr0': 0.00907, 'lrf': 0.01, 'momentum': 0.98, 'weight_decay': 0.00048, 'warmup_epochs': 2.77105, 'warmup_momentum': 0.77208, 'box': 0.19762, 'cls': 0.50996, 'hsv_h': 0.01572, 'hsv_s': 0.61662, 'hsv_v': 0.48634, 'fliplr': 0.47314, 'mosaic': 0.92185}\n",
            "Saved /content/drive/MyDrive/codeit_level1_project/YOLOv8_epoch100_hyperparameters/yolo_tuning_results/yolo8_hyp_0534/tune_scatter_plots.png\n",
            "Saved /content/drive/MyDrive/codeit_level1_project/YOLOv8_epoch100_hyperparameters/yolo_tuning_results/yolo8_hyp_0534/tune_fitness.png\n",
            "\n",
            "\u001b[34m\u001b[1mTuner: \u001b[0m18/50 iterations complete ✅ (9044.04s)\n",
            "\u001b[34m\u001b[1mTuner: \u001b[0mResults saved to \u001b[1m/content/drive/MyDrive/codeit_level1_project/YOLOv8_epoch100_hyperparameters/yolo_tuning_results/yolo8_hyp_0534\u001b[0m\n",
            "\u001b[34m\u001b[1mTuner: \u001b[0mBest fitness=0.8531 observed at iteration 8\n",
            "\u001b[34m\u001b[1mTuner: \u001b[0mBest fitness metrics are {'metrics/precision(B)': 0.77491, 'metrics/recall(B)': 0.93248, 'metrics/mAP50(B)': 0.87099, 'metrics/mAP50-95(B)': 0.85112, 'val/box_loss': 0.00701, 'val/cls_loss': 0.5378, 'val/dfl_loss': 0.80721, 'fitness': 0.8531}\n",
            "\u001b[34m\u001b[1mTuner: \u001b[0mBest fitness model is /content/drive/MyDrive/codeit_level1_project/YOLOv8_epoch100_hyperparameters/yolo_tuning_results/train8\n",
            "\u001b[34m\u001b[1mTuner: \u001b[0mBest fitness hyperparameters are printed below.\n",
            "\n",
            "Printing '\u001b[1m\u001b[30m/content/drive/MyDrive/codeit_level1_project/YOLOv8_epoch100_hyperparameters/yolo_tuning_results/yolo8_hyp_0534/best_hyperparameters.yaml\u001b[0m'\n",
            "\n",
            "lr0: 0.00961\n",
            "lrf: 0.01\n",
            "momentum: 0.95286\n",
            "weight_decay: 0.00051\n",
            "warmup_epochs: 2.82808\n",
            "warmup_momentum: 0.79764\n",
            "box: 0.2\n",
            "cls: 0.50996\n",
            "hsv_h: 0.01595\n",
            "hsv_s: 0.63961\n",
            "hsv_v: 0.45494\n",
            "fliplr: 0.5\n",
            "mosaic: 0.92185\n",
            "\n",
            "\u001b[34m\u001b[1mTuner: \u001b[0mStarting iteration 19/50 with hyperparameters: {'lr0': 0.00974, 'lrf': 0.01, 'momentum': 0.98, 'weight_decay': 0.00052, 'warmup_epochs': 3.11646, 'warmup_momentum': 0.79764, 'box': 0.1965, 'cls': 0.53646, 'hsv_h': 0.01599, 'hsv_s': 0.61161, 'hsv_v': 0.45494, 'fliplr': 0.51878, 'mosaic': 0.87278}\n",
            "Saved /content/drive/MyDrive/codeit_level1_project/YOLOv8_epoch100_hyperparameters/yolo_tuning_results/yolo8_hyp_0534/tune_scatter_plots.png\n",
            "Saved /content/drive/MyDrive/codeit_level1_project/YOLOv8_epoch100_hyperparameters/yolo_tuning_results/yolo8_hyp_0534/tune_fitness.png\n",
            "\n",
            "\u001b[34m\u001b[1mTuner: \u001b[0m19/50 iterations complete ✅ (9538.23s)\n",
            "\u001b[34m\u001b[1mTuner: \u001b[0mResults saved to \u001b[1m/content/drive/MyDrive/codeit_level1_project/YOLOv8_epoch100_hyperparameters/yolo_tuning_results/yolo8_hyp_0534\u001b[0m\n",
            "\u001b[34m\u001b[1mTuner: \u001b[0mBest fitness=0.8531 observed at iteration 8\n",
            "\u001b[34m\u001b[1mTuner: \u001b[0mBest fitness metrics are {'metrics/precision(B)': 0.77491, 'metrics/recall(B)': 0.93248, 'metrics/mAP50(B)': 0.87099, 'metrics/mAP50-95(B)': 0.85112, 'val/box_loss': 0.00701, 'val/cls_loss': 0.5378, 'val/dfl_loss': 0.80721, 'fitness': 0.8531}\n",
            "\u001b[34m\u001b[1mTuner: \u001b[0mBest fitness model is /content/drive/MyDrive/codeit_level1_project/YOLOv8_epoch100_hyperparameters/yolo_tuning_results/train8\n",
            "\u001b[34m\u001b[1mTuner: \u001b[0mBest fitness hyperparameters are printed below.\n",
            "\n",
            "Printing '\u001b[1m\u001b[30m/content/drive/MyDrive/codeit_level1_project/YOLOv8_epoch100_hyperparameters/yolo_tuning_results/yolo8_hyp_0534/best_hyperparameters.yaml\u001b[0m'\n",
            "\n",
            "lr0: 0.00961\n",
            "lrf: 0.01\n",
            "momentum: 0.95286\n",
            "weight_decay: 0.00051\n",
            "warmup_epochs: 2.82808\n",
            "warmup_momentum: 0.79764\n",
            "box: 0.2\n",
            "cls: 0.50996\n",
            "hsv_h: 0.01595\n",
            "hsv_s: 0.63961\n",
            "hsv_v: 0.45494\n",
            "fliplr: 0.5\n",
            "mosaic: 0.92185\n",
            "\n",
            "\u001b[34m\u001b[1mTuner: \u001b[0mStarting iteration 20/50 with hyperparameters: {'lr0': 0.01074, 'lrf': 0.01111, 'momentum': 0.98, 'weight_decay': 0.00068, 'warmup_epochs': 3.27728, 'warmup_momentum': 0.67901, 'box': 0.2, 'cls': 0.60066, 'hsv_h': 0.0157, 'hsv_s': 0.62427, 'hsv_v': 0.34814, 'fliplr': 0.47822, 'mosaic': 0.92185}\n",
            "Saved /content/drive/MyDrive/codeit_level1_project/YOLOv8_epoch100_hyperparameters/yolo_tuning_results/yolo8_hyp_0534/tune_scatter_plots.png\n",
            "Saved /content/drive/MyDrive/codeit_level1_project/YOLOv8_epoch100_hyperparameters/yolo_tuning_results/yolo8_hyp_0534/tune_fitness.png\n",
            "\n",
            "\u001b[34m\u001b[1mTuner: \u001b[0m20/50 iterations complete ✅ (10034.23s)\n",
            "\u001b[34m\u001b[1mTuner: \u001b[0mResults saved to \u001b[1m/content/drive/MyDrive/codeit_level1_project/YOLOv8_epoch100_hyperparameters/yolo_tuning_results/yolo8_hyp_0534\u001b[0m\n",
            "\u001b[34m\u001b[1mTuner: \u001b[0mBest fitness=0.8531 observed at iteration 8\n",
            "\u001b[34m\u001b[1mTuner: \u001b[0mBest fitness metrics are {'metrics/precision(B)': 0.77491, 'metrics/recall(B)': 0.93248, 'metrics/mAP50(B)': 0.87099, 'metrics/mAP50-95(B)': 0.85112, 'val/box_loss': 0.00701, 'val/cls_loss': 0.5378, 'val/dfl_loss': 0.80721, 'fitness': 0.8531}\n",
            "\u001b[34m\u001b[1mTuner: \u001b[0mBest fitness model is /content/drive/MyDrive/codeit_level1_project/YOLOv8_epoch100_hyperparameters/yolo_tuning_results/train8\n",
            "\u001b[34m\u001b[1mTuner: \u001b[0mBest fitness hyperparameters are printed below.\n",
            "\n",
            "Printing '\u001b[1m\u001b[30m/content/drive/MyDrive/codeit_level1_project/YOLOv8_epoch100_hyperparameters/yolo_tuning_results/yolo8_hyp_0534/best_hyperparameters.yaml\u001b[0m'\n",
            "\n",
            "lr0: 0.00961\n",
            "lrf: 0.01\n",
            "momentum: 0.95286\n",
            "weight_decay: 0.00051\n",
            "warmup_epochs: 2.82808\n",
            "warmup_momentum: 0.79764\n",
            "box: 0.2\n",
            "cls: 0.50996\n",
            "hsv_h: 0.01595\n",
            "hsv_s: 0.63961\n",
            "hsv_v: 0.45494\n",
            "fliplr: 0.5\n",
            "mosaic: 0.92185\n",
            "\n",
            "\u001b[34m\u001b[1mTuner: \u001b[0mStarting iteration 21/50 with hyperparameters: {'lr0': 0.00961, 'lrf': 0.01, 'momentum': 0.98, 'weight_decay': 0.00052, 'warmup_epochs': 2.87873, 'warmup_momentum': 0.76825, 'box': 0.18868, 'cls': 0.63551, 'hsv_h': 0.01555, 'hsv_s': 0.48446, 'hsv_v': 0.45494, 'fliplr': 0.52022, 'mosaic': 1.0}\n",
            "Saved /content/drive/MyDrive/codeit_level1_project/YOLOv8_epoch100_hyperparameters/yolo_tuning_results/yolo8_hyp_0534/tune_scatter_plots.png\n",
            "Saved /content/drive/MyDrive/codeit_level1_project/YOLOv8_epoch100_hyperparameters/yolo_tuning_results/yolo8_hyp_0534/tune_fitness.png\n",
            "\n",
            "\u001b[34m\u001b[1mTuner: \u001b[0m21/50 iterations complete ✅ (10538.00s)\n",
            "\u001b[34m\u001b[1mTuner: \u001b[0mResults saved to \u001b[1m/content/drive/MyDrive/codeit_level1_project/YOLOv8_epoch100_hyperparameters/yolo_tuning_results/yolo8_hyp_0534\u001b[0m\n",
            "\u001b[34m\u001b[1mTuner: \u001b[0mBest fitness=0.8531 observed at iteration 8\n",
            "\u001b[34m\u001b[1mTuner: \u001b[0mBest fitness metrics are {'metrics/precision(B)': 0.77491, 'metrics/recall(B)': 0.93248, 'metrics/mAP50(B)': 0.87099, 'metrics/mAP50-95(B)': 0.85112, 'val/box_loss': 0.00701, 'val/cls_loss': 0.5378, 'val/dfl_loss': 0.80721, 'fitness': 0.8531}\n",
            "\u001b[34m\u001b[1mTuner: \u001b[0mBest fitness model is /content/drive/MyDrive/codeit_level1_project/YOLOv8_epoch100_hyperparameters/yolo_tuning_results/train8\n",
            "\u001b[34m\u001b[1mTuner: \u001b[0mBest fitness hyperparameters are printed below.\n",
            "\n",
            "Printing '\u001b[1m\u001b[30m/content/drive/MyDrive/codeit_level1_project/YOLOv8_epoch100_hyperparameters/yolo_tuning_results/yolo8_hyp_0534/best_hyperparameters.yaml\u001b[0m'\n",
            "\n",
            "lr0: 0.00961\n",
            "lrf: 0.01\n",
            "momentum: 0.95286\n",
            "weight_decay: 0.00051\n",
            "warmup_epochs: 2.82808\n",
            "warmup_momentum: 0.79764\n",
            "box: 0.2\n",
            "cls: 0.50996\n",
            "hsv_h: 0.01595\n",
            "hsv_s: 0.63961\n",
            "hsv_v: 0.45494\n",
            "fliplr: 0.5\n",
            "mosaic: 0.92185\n",
            "\n",
            "\u001b[34m\u001b[1mTuner: \u001b[0mStarting iteration 22/50 with hyperparameters: {'lr0': 0.00961, 'lrf': 0.01002, 'momentum': 0.95644, 'weight_decay': 0.00049, 'warmup_epochs': 2.8751, 'warmup_momentum': 0.81538, 'box': 0.1952, 'cls': 0.52927, 'hsv_h': 0.01484, 'hsv_s': 0.63961, 'hsv_v': 0.45494, 'fliplr': 0.48029, 'mosaic': 1.0}\n",
            "Saved /content/drive/MyDrive/codeit_level1_project/YOLOv8_epoch100_hyperparameters/yolo_tuning_results/yolo8_hyp_0534/tune_scatter_plots.png\n",
            "Saved /content/drive/MyDrive/codeit_level1_project/YOLOv8_epoch100_hyperparameters/yolo_tuning_results/yolo8_hyp_0534/tune_fitness.png\n",
            "\n",
            "\u001b[34m\u001b[1mTuner: \u001b[0m22/50 iterations complete ✅ (11039.67s)\n",
            "\u001b[34m\u001b[1mTuner: \u001b[0mResults saved to \u001b[1m/content/drive/MyDrive/codeit_level1_project/YOLOv8_epoch100_hyperparameters/yolo_tuning_results/yolo8_hyp_0534\u001b[0m\n",
            "\u001b[34m\u001b[1mTuner: \u001b[0mBest fitness=0.8531 observed at iteration 8\n",
            "\u001b[34m\u001b[1mTuner: \u001b[0mBest fitness metrics are {'metrics/precision(B)': 0.77491, 'metrics/recall(B)': 0.93248, 'metrics/mAP50(B)': 0.87099, 'metrics/mAP50-95(B)': 0.85112, 'val/box_loss': 0.00701, 'val/cls_loss': 0.5378, 'val/dfl_loss': 0.80721, 'fitness': 0.8531}\n",
            "\u001b[34m\u001b[1mTuner: \u001b[0mBest fitness model is /content/drive/MyDrive/codeit_level1_project/YOLOv8_epoch100_hyperparameters/yolo_tuning_results/train8\n",
            "\u001b[34m\u001b[1mTuner: \u001b[0mBest fitness hyperparameters are printed below.\n",
            "\n",
            "Printing '\u001b[1m\u001b[30m/content/drive/MyDrive/codeit_level1_project/YOLOv8_epoch100_hyperparameters/yolo_tuning_results/yolo8_hyp_0534/best_hyperparameters.yaml\u001b[0m'\n",
            "\n",
            "lr0: 0.00961\n",
            "lrf: 0.01\n",
            "momentum: 0.95286\n",
            "weight_decay: 0.00051\n",
            "warmup_epochs: 2.82808\n",
            "warmup_momentum: 0.79764\n",
            "box: 0.2\n",
            "cls: 0.50996\n",
            "hsv_h: 0.01595\n",
            "hsv_s: 0.63961\n",
            "hsv_v: 0.45494\n",
            "fliplr: 0.5\n",
            "mosaic: 0.92185\n",
            "\n",
            "\u001b[34m\u001b[1mTuner: \u001b[0mStarting iteration 23/50 with hyperparameters: {'lr0': 0.01127, 'lrf': 0.01007, 'momentum': 0.91681, 'weight_decay': 0.00052, 'warmup_epochs': 3.36909, 'warmup_momentum': 0.7082, 'box': 0.2, 'cls': 0.50527, 'hsv_h': 0.01523, 'hsv_s': 0.71984, 'hsv_v': 0.31044, 'fliplr': 0.50078, 'mosaic': 0.90891}\n",
            "Saved /content/drive/MyDrive/codeit_level1_project/YOLOv8_epoch100_hyperparameters/yolo_tuning_results/yolo8_hyp_0534/tune_scatter_plots.png\n",
            "Saved /content/drive/MyDrive/codeit_level1_project/YOLOv8_epoch100_hyperparameters/yolo_tuning_results/yolo8_hyp_0534/tune_fitness.png\n",
            "\n",
            "\u001b[34m\u001b[1mTuner: \u001b[0m23/50 iterations complete ✅ (11550.79s)\n",
            "\u001b[34m\u001b[1mTuner: \u001b[0mResults saved to \u001b[1m/content/drive/MyDrive/codeit_level1_project/YOLOv8_epoch100_hyperparameters/yolo_tuning_results/yolo8_hyp_0534\u001b[0m\n",
            "\u001b[34m\u001b[1mTuner: \u001b[0mBest fitness=0.85492 observed at iteration 23\n",
            "\u001b[34m\u001b[1mTuner: \u001b[0mBest fitness metrics are {'metrics/precision(B)': 0.75457, 'metrics/recall(B)': 0.95121, 'metrics/mAP50(B)': 0.87009, 'metrics/mAP50-95(B)': 0.85324, 'val/box_loss': 0.00709, 'val/cls_loss': 0.51044, 'val/dfl_loss': 0.80853, 'fitness': 0.85492}\n",
            "\u001b[34m\u001b[1mTuner: \u001b[0mBest fitness model is /content/drive/MyDrive/codeit_level1_project/YOLOv8_epoch100_hyperparameters/yolo_tuning_results/train23\n",
            "\u001b[34m\u001b[1mTuner: \u001b[0mBest fitness hyperparameters are printed below.\n",
            "\n",
            "Printing '\u001b[1m\u001b[30m/content/drive/MyDrive/codeit_level1_project/YOLOv8_epoch100_hyperparameters/yolo_tuning_results/yolo8_hyp_0534/best_hyperparameters.yaml\u001b[0m'\n",
            "\n",
            "lr0: 0.01127\n",
            "lrf: 0.01007\n",
            "momentum: 0.91681\n",
            "weight_decay: 0.00052\n",
            "warmup_epochs: 3.36909\n",
            "warmup_momentum: 0.7082\n",
            "box: 0.2\n",
            "cls: 0.50527\n",
            "hsv_h: 0.01523\n",
            "hsv_s: 0.71984\n",
            "hsv_v: 0.31044\n",
            "fliplr: 0.50078\n",
            "mosaic: 0.90891\n",
            "\n",
            "\u001b[34m\u001b[1mTuner: \u001b[0mStarting iteration 24/50 with hyperparameters: {'lr0': 0.00799, 'lrf': 0.01075, 'momentum': 0.84837, 'weight_decay': 0.00051, 'warmup_epochs': 2.53862, 'warmup_momentum': 0.83075, 'box': 0.2, 'cls': 0.60814, 'hsv_h': 0.016, 'hsv_s': 0.49982, 'hsv_v': 0.45494, 'fliplr': 0.44685, 'mosaic': 0.92185}\n",
            "Saved /content/drive/MyDrive/codeit_level1_project/YOLOv8_epoch100_hyperparameters/yolo_tuning_results/yolo8_hyp_0534/tune_scatter_plots.png\n",
            "Saved /content/drive/MyDrive/codeit_level1_project/YOLOv8_epoch100_hyperparameters/yolo_tuning_results/yolo8_hyp_0534/tune_fitness.png\n",
            "\n",
            "\u001b[34m\u001b[1mTuner: \u001b[0m24/50 iterations complete ✅ (12046.52s)\n",
            "\u001b[34m\u001b[1mTuner: \u001b[0mResults saved to \u001b[1m/content/drive/MyDrive/codeit_level1_project/YOLOv8_epoch100_hyperparameters/yolo_tuning_results/yolo8_hyp_0534\u001b[0m\n",
            "\u001b[34m\u001b[1mTuner: \u001b[0mBest fitness=0.85492 observed at iteration 23\n",
            "\u001b[34m\u001b[1mTuner: \u001b[0mBest fitness metrics are {'metrics/precision(B)': 0.75457, 'metrics/recall(B)': 0.95121, 'metrics/mAP50(B)': 0.87009, 'metrics/mAP50-95(B)': 0.85324, 'val/box_loss': 0.00709, 'val/cls_loss': 0.51044, 'val/dfl_loss': 0.80853, 'fitness': 0.85492}\n",
            "\u001b[34m\u001b[1mTuner: \u001b[0mBest fitness model is /content/drive/MyDrive/codeit_level1_project/YOLOv8_epoch100_hyperparameters/yolo_tuning_results/train23\n",
            "\u001b[34m\u001b[1mTuner: \u001b[0mBest fitness hyperparameters are printed below.\n",
            "\n",
            "Printing '\u001b[1m\u001b[30m/content/drive/MyDrive/codeit_level1_project/YOLOv8_epoch100_hyperparameters/yolo_tuning_results/yolo8_hyp_0534/best_hyperparameters.yaml\u001b[0m'\n",
            "\n",
            "lr0: 0.01127\n",
            "lrf: 0.01007\n",
            "momentum: 0.91681\n",
            "weight_decay: 0.00052\n",
            "warmup_epochs: 3.36909\n",
            "warmup_momentum: 0.7082\n",
            "box: 0.2\n",
            "cls: 0.50527\n",
            "hsv_h: 0.01523\n",
            "hsv_s: 0.71984\n",
            "hsv_v: 0.31044\n",
            "fliplr: 0.50078\n",
            "mosaic: 0.90891\n",
            "\n",
            "\u001b[34m\u001b[1mTuner: \u001b[0mStarting iteration 25/50 with hyperparameters: {'lr0': 0.00951, 'lrf': 0.01265, 'momentum': 0.98, 'weight_decay': 0.00052, 'warmup_epochs': 2.93943, 'warmup_momentum': 0.75436, 'box': 0.2, 'cls': 0.51594, 'hsv_h': 0.01378, 'hsv_s': 0.62524, 'hsv_v': 0.40522, 'fliplr': 0.52996, 'mosaic': 0.92185}\n",
            "Saved /content/drive/MyDrive/codeit_level1_project/YOLOv8_epoch100_hyperparameters/yolo_tuning_results/yolo8_hyp_0534/tune_scatter_plots.png\n",
            "Saved /content/drive/MyDrive/codeit_level1_project/YOLOv8_epoch100_hyperparameters/yolo_tuning_results/yolo8_hyp_0534/tune_fitness.png\n",
            "\n",
            "\u001b[34m\u001b[1mTuner: \u001b[0m25/50 iterations complete ✅ (12548.74s)\n",
            "\u001b[34m\u001b[1mTuner: \u001b[0mResults saved to \u001b[1m/content/drive/MyDrive/codeit_level1_project/YOLOv8_epoch100_hyperparameters/yolo_tuning_results/yolo8_hyp_0534\u001b[0m\n",
            "\u001b[34m\u001b[1mTuner: \u001b[0mBest fitness=0.85492 observed at iteration 23\n",
            "\u001b[34m\u001b[1mTuner: \u001b[0mBest fitness metrics are {'metrics/precision(B)': 0.75457, 'metrics/recall(B)': 0.95121, 'metrics/mAP50(B)': 0.87009, 'metrics/mAP50-95(B)': 0.85324, 'val/box_loss': 0.00709, 'val/cls_loss': 0.51044, 'val/dfl_loss': 0.80853, 'fitness': 0.85492}\n",
            "\u001b[34m\u001b[1mTuner: \u001b[0mBest fitness model is /content/drive/MyDrive/codeit_level1_project/YOLOv8_epoch100_hyperparameters/yolo_tuning_results/train23\n",
            "\u001b[34m\u001b[1mTuner: \u001b[0mBest fitness hyperparameters are printed below.\n",
            "\n",
            "Printing '\u001b[1m\u001b[30m/content/drive/MyDrive/codeit_level1_project/YOLOv8_epoch100_hyperparameters/yolo_tuning_results/yolo8_hyp_0534/best_hyperparameters.yaml\u001b[0m'\n",
            "\n",
            "lr0: 0.01127\n",
            "lrf: 0.01007\n",
            "momentum: 0.91681\n",
            "weight_decay: 0.00052\n",
            "warmup_epochs: 3.36909\n",
            "warmup_momentum: 0.7082\n",
            "box: 0.2\n",
            "cls: 0.50527\n",
            "hsv_h: 0.01523\n",
            "hsv_s: 0.71984\n",
            "hsv_v: 0.31044\n",
            "fliplr: 0.50078\n",
            "mosaic: 0.90891\n",
            "\n",
            "\u001b[34m\u001b[1mTuner: \u001b[0mStarting iteration 26/50 with hyperparameters: {'lr0': 0.01084, 'lrf': 0.01048, 'momentum': 0.95566, 'weight_decay': 0.00058, 'warmup_epochs': 3.04786, 'warmup_momentum': 0.80042, 'box': 0.2, 'cls': 0.52736, 'hsv_h': 0.01645, 'hsv_s': 0.59789, 'hsv_v': 0.40522, 'fliplr': 0.52996, 'mosaic': 0.81561}\n",
            "Saved /content/drive/MyDrive/codeit_level1_project/YOLOv8_epoch100_hyperparameters/yolo_tuning_results/yolo8_hyp_0534/tune_scatter_plots.png\n",
            "Saved /content/drive/MyDrive/codeit_level1_project/YOLOv8_epoch100_hyperparameters/yolo_tuning_results/yolo8_hyp_0534/tune_fitness.png\n",
            "\n",
            "\u001b[34m\u001b[1mTuner: \u001b[0m26/50 iterations complete ✅ (13047.75s)\n",
            "\u001b[34m\u001b[1mTuner: \u001b[0mResults saved to \u001b[1m/content/drive/MyDrive/codeit_level1_project/YOLOv8_epoch100_hyperparameters/yolo_tuning_results/yolo8_hyp_0534\u001b[0m\n",
            "\u001b[34m\u001b[1mTuner: \u001b[0mBest fitness=0.85492 observed at iteration 23\n",
            "\u001b[34m\u001b[1mTuner: \u001b[0mBest fitness metrics are {'metrics/precision(B)': 0.75457, 'metrics/recall(B)': 0.95121, 'metrics/mAP50(B)': 0.87009, 'metrics/mAP50-95(B)': 0.85324, 'val/box_loss': 0.00709, 'val/cls_loss': 0.51044, 'val/dfl_loss': 0.80853, 'fitness': 0.85492}\n",
            "\u001b[34m\u001b[1mTuner: \u001b[0mBest fitness model is /content/drive/MyDrive/codeit_level1_project/YOLOv8_epoch100_hyperparameters/yolo_tuning_results/train23\n",
            "\u001b[34m\u001b[1mTuner: \u001b[0mBest fitness hyperparameters are printed below.\n",
            "\n",
            "Printing '\u001b[1m\u001b[30m/content/drive/MyDrive/codeit_level1_project/YOLOv8_epoch100_hyperparameters/yolo_tuning_results/yolo8_hyp_0534/best_hyperparameters.yaml\u001b[0m'\n",
            "\n",
            "lr0: 0.01127\n",
            "lrf: 0.01007\n",
            "momentum: 0.91681\n",
            "weight_decay: 0.00052\n",
            "warmup_epochs: 3.36909\n",
            "warmup_momentum: 0.7082\n",
            "box: 0.2\n",
            "cls: 0.50527\n",
            "hsv_h: 0.01523\n",
            "hsv_s: 0.71984\n",
            "hsv_v: 0.31044\n",
            "fliplr: 0.50078\n",
            "mosaic: 0.90891\n",
            "\n",
            "\u001b[34m\u001b[1mTuner: \u001b[0mStarting iteration 27/50 with hyperparameters: {'lr0': 0.00972, 'lrf': 0.01, 'momentum': 0.95968, 'weight_decay': 0.00048, 'warmup_epochs': 3.11288, 'warmup_momentum': 0.73272, 'box': 0.18176, 'cls': 0.5885, 'hsv_h': 0.01428, 'hsv_s': 0.73822, 'hsv_v': 0.34921, 'fliplr': 0.5, 'mosaic': 0.92185}\n",
            "Saved /content/drive/MyDrive/codeit_level1_project/YOLOv8_epoch100_hyperparameters/yolo_tuning_results/yolo8_hyp_0534/tune_scatter_plots.png\n",
            "Saved /content/drive/MyDrive/codeit_level1_project/YOLOv8_epoch100_hyperparameters/yolo_tuning_results/yolo8_hyp_0534/tune_fitness.png\n",
            "\n",
            "\u001b[34m\u001b[1mTuner: \u001b[0m27/50 iterations complete ✅ (13546.48s)\n",
            "\u001b[34m\u001b[1mTuner: \u001b[0mResults saved to \u001b[1m/content/drive/MyDrive/codeit_level1_project/YOLOv8_epoch100_hyperparameters/yolo_tuning_results/yolo8_hyp_0534\u001b[0m\n",
            "\u001b[34m\u001b[1mTuner: \u001b[0mBest fitness=0.85576 observed at iteration 27\n",
            "\u001b[34m\u001b[1mTuner: \u001b[0mBest fitness metrics are {'metrics/precision(B)': 0.72935, 'metrics/recall(B)': 0.98957, 'metrics/mAP50(B)': 0.87319, 'metrics/mAP50-95(B)': 0.85382, 'val/box_loss': 0.00628, 'val/cls_loss': 0.59509, 'val/dfl_loss': 0.80903, 'fitness': 0.85576}\n",
            "\u001b[34m\u001b[1mTuner: \u001b[0mBest fitness model is /content/drive/MyDrive/codeit_level1_project/YOLOv8_epoch100_hyperparameters/yolo_tuning_results/train27\n",
            "\u001b[34m\u001b[1mTuner: \u001b[0mBest fitness hyperparameters are printed below.\n",
            "\n",
            "Printing '\u001b[1m\u001b[30m/content/drive/MyDrive/codeit_level1_project/YOLOv8_epoch100_hyperparameters/yolo_tuning_results/yolo8_hyp_0534/best_hyperparameters.yaml\u001b[0m'\n",
            "\n",
            "lr0: 0.00972\n",
            "lrf: 0.01\n",
            "momentum: 0.95968\n",
            "weight_decay: 0.00048\n",
            "warmup_epochs: 3.11288\n",
            "warmup_momentum: 0.73272\n",
            "box: 0.18176\n",
            "cls: 0.5885\n",
            "hsv_h: 0.01428\n",
            "hsv_s: 0.73822\n",
            "hsv_v: 0.34921\n",
            "fliplr: 0.5\n",
            "mosaic: 0.92185\n",
            "\n",
            "\u001b[34m\u001b[1mTuner: \u001b[0mStarting iteration 28/50 with hyperparameters: {'lr0': 0.01022, 'lrf': 0.01306, 'momentum': 0.98, 'weight_decay': 0.00047, 'warmup_epochs': 3.65161, 'warmup_momentum': 0.58869, 'box': 0.2, 'cls': 0.5885, 'hsv_h': 0.01202, 'hsv_s': 0.60694, 'hsv_v': 0.30735, 'fliplr': 0.56705, 'mosaic': 0.92185}\n",
            "Saved /content/drive/MyDrive/codeit_level1_project/YOLOv8_epoch100_hyperparameters/yolo_tuning_results/yolo8_hyp_0534/tune_scatter_plots.png\n",
            "Saved /content/drive/MyDrive/codeit_level1_project/YOLOv8_epoch100_hyperparameters/yolo_tuning_results/yolo8_hyp_0534/tune_fitness.png\n",
            "\n",
            "\u001b[34m\u001b[1mTuner: \u001b[0m28/50 iterations complete ✅ (14037.52s)\n",
            "\u001b[34m\u001b[1mTuner: \u001b[0mResults saved to \u001b[1m/content/drive/MyDrive/codeit_level1_project/YOLOv8_epoch100_hyperparameters/yolo_tuning_results/yolo8_hyp_0534\u001b[0m\n",
            "\u001b[34m\u001b[1mTuner: \u001b[0mBest fitness=0.85576 observed at iteration 27\n",
            "\u001b[34m\u001b[1mTuner: \u001b[0mBest fitness metrics are {'metrics/precision(B)': 0.72935, 'metrics/recall(B)': 0.98957, 'metrics/mAP50(B)': 0.87319, 'metrics/mAP50-95(B)': 0.85382, 'val/box_loss': 0.00628, 'val/cls_loss': 0.59509, 'val/dfl_loss': 0.80903, 'fitness': 0.85576}\n",
            "\u001b[34m\u001b[1mTuner: \u001b[0mBest fitness model is /content/drive/MyDrive/codeit_level1_project/YOLOv8_epoch100_hyperparameters/yolo_tuning_results/train27\n",
            "\u001b[34m\u001b[1mTuner: \u001b[0mBest fitness hyperparameters are printed below.\n",
            "\n",
            "Printing '\u001b[1m\u001b[30m/content/drive/MyDrive/codeit_level1_project/YOLOv8_epoch100_hyperparameters/yolo_tuning_results/yolo8_hyp_0534/best_hyperparameters.yaml\u001b[0m'\n",
            "\n",
            "lr0: 0.00972\n",
            "lrf: 0.01\n",
            "momentum: 0.95968\n",
            "weight_decay: 0.00048\n",
            "warmup_epochs: 3.11288\n",
            "warmup_momentum: 0.73272\n",
            "box: 0.18176\n",
            "cls: 0.5885\n",
            "hsv_h: 0.01428\n",
            "hsv_s: 0.73822\n",
            "hsv_v: 0.34921\n",
            "fliplr: 0.5\n",
            "mosaic: 0.92185\n",
            "\n",
            "\u001b[34m\u001b[1mTuner: \u001b[0mStarting iteration 29/50 with hyperparameters: {'lr0': 0.00978, 'lrf': 0.01, 'momentum': 0.79225, 'weight_decay': 0.00053, 'warmup_epochs': 3.11288, 'warmup_momentum': 0.76628, 'box': 0.2, 'cls': 0.59597, 'hsv_h': 0.01428, 'hsv_s': 0.73822, 'hsv_v': 0.41045, 'fliplr': 0.48001, 'mosaic': 0.92185}\n",
            "Saved /content/drive/MyDrive/codeit_level1_project/YOLOv8_epoch100_hyperparameters/yolo_tuning_results/yolo8_hyp_0534/tune_scatter_plots.png\n",
            "Saved /content/drive/MyDrive/codeit_level1_project/YOLOv8_epoch100_hyperparameters/yolo_tuning_results/yolo8_hyp_0534/tune_fitness.png\n",
            "\n",
            "\u001b[34m\u001b[1mTuner: \u001b[0m29/50 iterations complete ✅ (14537.70s)\n",
            "\u001b[34m\u001b[1mTuner: \u001b[0mResults saved to \u001b[1m/content/drive/MyDrive/codeit_level1_project/YOLOv8_epoch100_hyperparameters/yolo_tuning_results/yolo8_hyp_0534\u001b[0m\n",
            "\u001b[34m\u001b[1mTuner: \u001b[0mBest fitness=0.85576 observed at iteration 27\n",
            "\u001b[34m\u001b[1mTuner: \u001b[0mBest fitness metrics are {'metrics/precision(B)': 0.72935, 'metrics/recall(B)': 0.98957, 'metrics/mAP50(B)': 0.87319, 'metrics/mAP50-95(B)': 0.85382, 'val/box_loss': 0.00628, 'val/cls_loss': 0.59509, 'val/dfl_loss': 0.80903, 'fitness': 0.85576}\n",
            "\u001b[34m\u001b[1mTuner: \u001b[0mBest fitness model is /content/drive/MyDrive/codeit_level1_project/YOLOv8_epoch100_hyperparameters/yolo_tuning_results/train27\n",
            "\u001b[34m\u001b[1mTuner: \u001b[0mBest fitness hyperparameters are printed below.\n",
            "\n",
            "Printing '\u001b[1m\u001b[30m/content/drive/MyDrive/codeit_level1_project/YOLOv8_epoch100_hyperparameters/yolo_tuning_results/yolo8_hyp_0534/best_hyperparameters.yaml\u001b[0m'\n",
            "\n",
            "lr0: 0.00972\n",
            "lrf: 0.01\n",
            "momentum: 0.95968\n",
            "weight_decay: 0.00048\n",
            "warmup_epochs: 3.11288\n",
            "warmup_momentum: 0.73272\n",
            "box: 0.18176\n",
            "cls: 0.5885\n",
            "hsv_h: 0.01428\n",
            "hsv_s: 0.73822\n",
            "hsv_v: 0.34921\n",
            "fliplr: 0.5\n",
            "mosaic: 0.92185\n",
            "\n",
            "\u001b[34m\u001b[1mTuner: \u001b[0mStarting iteration 30/50 with hyperparameters: {'lr0': 0.00853, 'lrf': 0.01, 'momentum': 0.98, 'weight_decay': 0.00048, 'warmup_epochs': 2.9413, 'warmup_momentum': 0.69305, 'box': 0.2, 'cls': 0.52955, 'hsv_h': 0.01344, 'hsv_s': 0.78066, 'hsv_v': 0.4071, 'fliplr': 0.49314, 'mosaic': 0.98176}\n",
            "Saved /content/drive/MyDrive/codeit_level1_project/YOLOv8_epoch100_hyperparameters/yolo_tuning_results/yolo8_hyp_0534/tune_scatter_plots.png\n",
            "Saved /content/drive/MyDrive/codeit_level1_project/YOLOv8_epoch100_hyperparameters/yolo_tuning_results/yolo8_hyp_0534/tune_fitness.png\n",
            "\n",
            "\u001b[34m\u001b[1mTuner: \u001b[0m30/50 iterations complete ✅ (15061.90s)\n",
            "\u001b[34m\u001b[1mTuner: \u001b[0mResults saved to \u001b[1m/content/drive/MyDrive/codeit_level1_project/YOLOv8_epoch100_hyperparameters/yolo_tuning_results/yolo8_hyp_0534\u001b[0m\n",
            "\u001b[34m\u001b[1mTuner: \u001b[0mBest fitness=0.85576 observed at iteration 27\n",
            "\u001b[34m\u001b[1mTuner: \u001b[0mBest fitness metrics are {'metrics/precision(B)': 0.72935, 'metrics/recall(B)': 0.98957, 'metrics/mAP50(B)': 0.87319, 'metrics/mAP50-95(B)': 0.85382, 'val/box_loss': 0.00628, 'val/cls_loss': 0.59509, 'val/dfl_loss': 0.80903, 'fitness': 0.85576}\n",
            "\u001b[34m\u001b[1mTuner: \u001b[0mBest fitness model is /content/drive/MyDrive/codeit_level1_project/YOLOv8_epoch100_hyperparameters/yolo_tuning_results/train27\n",
            "\u001b[34m\u001b[1mTuner: \u001b[0mBest fitness hyperparameters are printed below.\n",
            "\n",
            "Printing '\u001b[1m\u001b[30m/content/drive/MyDrive/codeit_level1_project/YOLOv8_epoch100_hyperparameters/yolo_tuning_results/yolo8_hyp_0534/best_hyperparameters.yaml\u001b[0m'\n",
            "\n",
            "lr0: 0.00972\n",
            "lrf: 0.01\n",
            "momentum: 0.95968\n",
            "weight_decay: 0.00048\n",
            "warmup_epochs: 3.11288\n",
            "warmup_momentum: 0.73272\n",
            "box: 0.18176\n",
            "cls: 0.5885\n",
            "hsv_h: 0.01428\n",
            "hsv_s: 0.73822\n",
            "hsv_v: 0.34921\n",
            "fliplr: 0.5\n",
            "mosaic: 0.92185\n",
            "\n",
            "\u001b[34m\u001b[1mTuner: \u001b[0mStarting iteration 31/50 with hyperparameters: {'lr0': 0.0095, 'lrf': 0.01, 'momentum': 0.98, 'weight_decay': 0.00048, 'warmup_epochs': 2.7232, 'warmup_momentum': 0.8565, 'box': 0.2, 'cls': 0.45324, 'hsv_h': 0.01178, 'hsv_s': 0.5733, 'hsv_v': 0.45494, 'fliplr': 0.5, 'mosaic': 1.0}\n",
            "Saved /content/drive/MyDrive/codeit_level1_project/YOLOv8_epoch100_hyperparameters/yolo_tuning_results/yolo8_hyp_0534/tune_scatter_plots.png\n",
            "Saved /content/drive/MyDrive/codeit_level1_project/YOLOv8_epoch100_hyperparameters/yolo_tuning_results/yolo8_hyp_0534/tune_fitness.png\n",
            "\n",
            "\u001b[34m\u001b[1mTuner: \u001b[0m31/50 iterations complete ✅ (15560.36s)\n",
            "\u001b[34m\u001b[1mTuner: \u001b[0mResults saved to \u001b[1m/content/drive/MyDrive/codeit_level1_project/YOLOv8_epoch100_hyperparameters/yolo_tuning_results/yolo8_hyp_0534\u001b[0m\n",
            "\u001b[34m\u001b[1mTuner: \u001b[0mBest fitness=0.85576 observed at iteration 27\n",
            "\u001b[34m\u001b[1mTuner: \u001b[0mBest fitness metrics are {'metrics/precision(B)': 0.72935, 'metrics/recall(B)': 0.98957, 'metrics/mAP50(B)': 0.87319, 'metrics/mAP50-95(B)': 0.85382, 'val/box_loss': 0.00628, 'val/cls_loss': 0.59509, 'val/dfl_loss': 0.80903, 'fitness': 0.85576}\n",
            "\u001b[34m\u001b[1mTuner: \u001b[0mBest fitness model is /content/drive/MyDrive/codeit_level1_project/YOLOv8_epoch100_hyperparameters/yolo_tuning_results/train27\n",
            "\u001b[34m\u001b[1mTuner: \u001b[0mBest fitness hyperparameters are printed below.\n",
            "\n",
            "Printing '\u001b[1m\u001b[30m/content/drive/MyDrive/codeit_level1_project/YOLOv8_epoch100_hyperparameters/yolo_tuning_results/yolo8_hyp_0534/best_hyperparameters.yaml\u001b[0m'\n",
            "\n",
            "lr0: 0.00972\n",
            "lrf: 0.01\n",
            "momentum: 0.95968\n",
            "weight_decay: 0.00048\n",
            "warmup_epochs: 3.11288\n",
            "warmup_momentum: 0.73272\n",
            "box: 0.18176\n",
            "cls: 0.5885\n",
            "hsv_h: 0.01428\n",
            "hsv_s: 0.73822\n",
            "hsv_v: 0.34921\n",
            "fliplr: 0.5\n",
            "mosaic: 0.92185\n",
            "\n",
            "\u001b[34m\u001b[1mTuner: \u001b[0mStarting iteration 32/50 with hyperparameters: {'lr0': 0.01127, 'lrf': 0.01016, 'momentum': 0.98, 'weight_decay': 0.00051, 'warmup_epochs': 3.36909, 'warmup_momentum': 0.63995, 'box': 0.2, 'cls': 0.47031, 'hsv_h': 0.01352, 'hsv_s': 0.71984, 'hsv_v': 0.26736, 'fliplr': 0.50542, 'mosaic': 0.87058}\n",
            "Saved /content/drive/MyDrive/codeit_level1_project/YOLOv8_epoch100_hyperparameters/yolo_tuning_results/yolo8_hyp_0534/tune_scatter_plots.png\n",
            "Saved /content/drive/MyDrive/codeit_level1_project/YOLOv8_epoch100_hyperparameters/yolo_tuning_results/yolo8_hyp_0534/tune_fitness.png\n",
            "\n",
            "\u001b[34m\u001b[1mTuner: \u001b[0m32/50 iterations complete ✅ (16070.05s)\n",
            "\u001b[34m\u001b[1mTuner: \u001b[0mResults saved to \u001b[1m/content/drive/MyDrive/codeit_level1_project/YOLOv8_epoch100_hyperparameters/yolo_tuning_results/yolo8_hyp_0534\u001b[0m\n",
            "\u001b[34m\u001b[1mTuner: \u001b[0mBest fitness=0.85576 observed at iteration 27\n",
            "\u001b[34m\u001b[1mTuner: \u001b[0mBest fitness metrics are {'metrics/precision(B)': 0.72935, 'metrics/recall(B)': 0.98957, 'metrics/mAP50(B)': 0.87319, 'metrics/mAP50-95(B)': 0.85382, 'val/box_loss': 0.00628, 'val/cls_loss': 0.59509, 'val/dfl_loss': 0.80903, 'fitness': 0.85576}\n",
            "\u001b[34m\u001b[1mTuner: \u001b[0mBest fitness model is /content/drive/MyDrive/codeit_level1_project/YOLOv8_epoch100_hyperparameters/yolo_tuning_results/train27\n",
            "\u001b[34m\u001b[1mTuner: \u001b[0mBest fitness hyperparameters are printed below.\n",
            "\n",
            "Printing '\u001b[1m\u001b[30m/content/drive/MyDrive/codeit_level1_project/YOLOv8_epoch100_hyperparameters/yolo_tuning_results/yolo8_hyp_0534/best_hyperparameters.yaml\u001b[0m'\n",
            "\n",
            "lr0: 0.00972\n",
            "lrf: 0.01\n",
            "momentum: 0.95968\n",
            "weight_decay: 0.00048\n",
            "warmup_epochs: 3.11288\n",
            "warmup_momentum: 0.73272\n",
            "box: 0.18176\n",
            "cls: 0.5885\n",
            "hsv_h: 0.01428\n",
            "hsv_s: 0.73822\n",
            "hsv_v: 0.34921\n",
            "fliplr: 0.5\n",
            "mosaic: 0.92185\n",
            "\n",
            "\u001b[34m\u001b[1mTuner: \u001b[0mStarting iteration 33/50 with hyperparameters: {'lr0': 0.00972, 'lrf': 0.01634, 'momentum': 0.98, 'weight_decay': 0.00031, 'warmup_epochs': 2.95081, 'warmup_momentum': 0.7261, 'box': 0.2, 'cls': 0.5885, 'hsv_h': 0.01295, 'hsv_s': 0.9, 'hsv_v': 0.4907, 'fliplr': 0.50942, 'mosaic': 1.0}\n",
            "Saved /content/drive/MyDrive/codeit_level1_project/YOLOv8_epoch100_hyperparameters/yolo_tuning_results/yolo8_hyp_0534/tune_scatter_plots.png\n",
            "Saved /content/drive/MyDrive/codeit_level1_project/YOLOv8_epoch100_hyperparameters/yolo_tuning_results/yolo8_hyp_0534/tune_fitness.png\n",
            "\n",
            "\u001b[34m\u001b[1mTuner: \u001b[0m33/50 iterations complete ✅ (16568.74s)\n",
            "\u001b[34m\u001b[1mTuner: \u001b[0mResults saved to \u001b[1m/content/drive/MyDrive/codeit_level1_project/YOLOv8_epoch100_hyperparameters/yolo_tuning_results/yolo8_hyp_0534\u001b[0m\n",
            "\u001b[34m\u001b[1mTuner: \u001b[0mBest fitness=0.85576 observed at iteration 27\n",
            "\u001b[34m\u001b[1mTuner: \u001b[0mBest fitness metrics are {'metrics/precision(B)': 0.72935, 'metrics/recall(B)': 0.98957, 'metrics/mAP50(B)': 0.87319, 'metrics/mAP50-95(B)': 0.85382, 'val/box_loss': 0.00628, 'val/cls_loss': 0.59509, 'val/dfl_loss': 0.80903, 'fitness': 0.85576}\n",
            "\u001b[34m\u001b[1mTuner: \u001b[0mBest fitness model is /content/drive/MyDrive/codeit_level1_project/YOLOv8_epoch100_hyperparameters/yolo_tuning_results/train27\n",
            "\u001b[34m\u001b[1mTuner: \u001b[0mBest fitness hyperparameters are printed below.\n",
            "\n",
            "Printing '\u001b[1m\u001b[30m/content/drive/MyDrive/codeit_level1_project/YOLOv8_epoch100_hyperparameters/yolo_tuning_results/yolo8_hyp_0534/best_hyperparameters.yaml\u001b[0m'\n",
            "\n",
            "lr0: 0.00972\n",
            "lrf: 0.01\n",
            "momentum: 0.95968\n",
            "weight_decay: 0.00048\n",
            "warmup_epochs: 3.11288\n",
            "warmup_momentum: 0.73272\n",
            "box: 0.18176\n",
            "cls: 0.5885\n",
            "hsv_h: 0.01428\n",
            "hsv_s: 0.73822\n",
            "hsv_v: 0.34921\n",
            "fliplr: 0.5\n",
            "mosaic: 0.92185\n",
            "\n",
            "\u001b[34m\u001b[1mTuner: \u001b[0mStarting iteration 34/50 with hyperparameters: {'lr0': 0.00972, 'lrf': 0.01006, 'momentum': 0.98, 'weight_decay': 0.00046, 'warmup_epochs': 3.29792, 'warmup_momentum': 0.73514, 'box': 0.18154, 'cls': 0.46491, 'hsv_h': 0.01337, 'hsv_s': 0.76572, 'hsv_v': 0.39047, 'fliplr': 0.33311, 'mosaic': 1.0}\n",
            "Saved /content/drive/MyDrive/codeit_level1_project/YOLOv8_epoch100_hyperparameters/yolo_tuning_results/yolo8_hyp_0534/tune_scatter_plots.png\n",
            "Saved /content/drive/MyDrive/codeit_level1_project/YOLOv8_epoch100_hyperparameters/yolo_tuning_results/yolo8_hyp_0534/tune_fitness.png\n",
            "\n",
            "\u001b[34m\u001b[1mTuner: \u001b[0m34/50 iterations complete ✅ (17072.22s)\n",
            "\u001b[34m\u001b[1mTuner: \u001b[0mResults saved to \u001b[1m/content/drive/MyDrive/codeit_level1_project/YOLOv8_epoch100_hyperparameters/yolo_tuning_results/yolo8_hyp_0534\u001b[0m\n",
            "\u001b[34m\u001b[1mTuner: \u001b[0mBest fitness=0.85576 observed at iteration 27\n",
            "\u001b[34m\u001b[1mTuner: \u001b[0mBest fitness metrics are {'metrics/precision(B)': 0.72935, 'metrics/recall(B)': 0.98957, 'metrics/mAP50(B)': 0.87319, 'metrics/mAP50-95(B)': 0.85382, 'val/box_loss': 0.00628, 'val/cls_loss': 0.59509, 'val/dfl_loss': 0.80903, 'fitness': 0.85576}\n",
            "\u001b[34m\u001b[1mTuner: \u001b[0mBest fitness model is /content/drive/MyDrive/codeit_level1_project/YOLOv8_epoch100_hyperparameters/yolo_tuning_results/train27\n",
            "\u001b[34m\u001b[1mTuner: \u001b[0mBest fitness hyperparameters are printed below.\n",
            "\n",
            "Printing '\u001b[1m\u001b[30m/content/drive/MyDrive/codeit_level1_project/YOLOv8_epoch100_hyperparameters/yolo_tuning_results/yolo8_hyp_0534/best_hyperparameters.yaml\u001b[0m'\n",
            "\n",
            "lr0: 0.00972\n",
            "lrf: 0.01\n",
            "momentum: 0.95968\n",
            "weight_decay: 0.00048\n",
            "warmup_epochs: 3.11288\n",
            "warmup_momentum: 0.73272\n",
            "box: 0.18176\n",
            "cls: 0.5885\n",
            "hsv_h: 0.01428\n",
            "hsv_s: 0.73822\n",
            "hsv_v: 0.34921\n",
            "fliplr: 0.5\n",
            "mosaic: 0.92185\n",
            "\n",
            "\u001b[34m\u001b[1mTuner: \u001b[0mStarting iteration 35/50 with hyperparameters: {'lr0': 0.00972, 'lrf': 0.01, 'momentum': 0.98, 'weight_decay': 0.00044, 'warmup_epochs': 3.84413, 'warmup_momentum': 0.73602, 'box': 0.18176, 'cls': 0.57368, 'hsv_h': 0.01325, 'hsv_s': 0.50367, 'hsv_v': 0.34921, 'fliplr': 0.5, 'mosaic': 0.83208}\n",
            "Saved /content/drive/MyDrive/codeit_level1_project/YOLOv8_epoch100_hyperparameters/yolo_tuning_results/yolo8_hyp_0534/tune_scatter_plots.png\n",
            "Saved /content/drive/MyDrive/codeit_level1_project/YOLOv8_epoch100_hyperparameters/yolo_tuning_results/yolo8_hyp_0534/tune_fitness.png\n",
            "\n",
            "\u001b[34m\u001b[1mTuner: \u001b[0m35/50 iterations complete ✅ (17569.16s)\n",
            "\u001b[34m\u001b[1mTuner: \u001b[0mResults saved to \u001b[1m/content/drive/MyDrive/codeit_level1_project/YOLOv8_epoch100_hyperparameters/yolo_tuning_results/yolo8_hyp_0534\u001b[0m\n",
            "\u001b[34m\u001b[1mTuner: \u001b[0mBest fitness=0.85576 observed at iteration 27\n",
            "\u001b[34m\u001b[1mTuner: \u001b[0mBest fitness metrics are {'metrics/precision(B)': 0.72935, 'metrics/recall(B)': 0.98957, 'metrics/mAP50(B)': 0.87319, 'metrics/mAP50-95(B)': 0.85382, 'val/box_loss': 0.00628, 'val/cls_loss': 0.59509, 'val/dfl_loss': 0.80903, 'fitness': 0.85576}\n",
            "\u001b[34m\u001b[1mTuner: \u001b[0mBest fitness model is /content/drive/MyDrive/codeit_level1_project/YOLOv8_epoch100_hyperparameters/yolo_tuning_results/train27\n",
            "\u001b[34m\u001b[1mTuner: \u001b[0mBest fitness hyperparameters are printed below.\n",
            "\n",
            "Printing '\u001b[1m\u001b[30m/content/drive/MyDrive/codeit_level1_project/YOLOv8_epoch100_hyperparameters/yolo_tuning_results/yolo8_hyp_0534/best_hyperparameters.yaml\u001b[0m'\n",
            "\n",
            "lr0: 0.00972\n",
            "lrf: 0.01\n",
            "momentum: 0.95968\n",
            "weight_decay: 0.00048\n",
            "warmup_epochs: 3.11288\n",
            "warmup_momentum: 0.73272\n",
            "box: 0.18176\n",
            "cls: 0.5885\n",
            "hsv_h: 0.01428\n",
            "hsv_s: 0.73822\n",
            "hsv_v: 0.34921\n",
            "fliplr: 0.5\n",
            "mosaic: 0.92185\n",
            "\n",
            "\u001b[34m\u001b[1mTuner: \u001b[0mStarting iteration 36/50 with hyperparameters: {'lr0': 0.00715, 'lrf': 0.01379, 'momentum': 0.91681, 'weight_decay': 0.00061, 'warmup_epochs': 3.35331, 'warmup_momentum': 0.87586, 'box': 0.2, 'cls': 0.50527, 'hsv_h': 0.015, 'hsv_s': 0.71784, 'hsv_v': 0.31963, 'fliplr': 0.40069, 'mosaic': 1.0}\n",
            "Saved /content/drive/MyDrive/codeit_level1_project/YOLOv8_epoch100_hyperparameters/yolo_tuning_results/yolo8_hyp_0534/tune_scatter_plots.png\n",
            "Saved /content/drive/MyDrive/codeit_level1_project/YOLOv8_epoch100_hyperparameters/yolo_tuning_results/yolo8_hyp_0534/tune_fitness.png\n",
            "\n",
            "\u001b[34m\u001b[1mTuner: \u001b[0m36/50 iterations complete ✅ (18050.45s)\n",
            "\u001b[34m\u001b[1mTuner: \u001b[0mResults saved to \u001b[1m/content/drive/MyDrive/codeit_level1_project/YOLOv8_epoch100_hyperparameters/yolo_tuning_results/yolo8_hyp_0534\u001b[0m\n",
            "\u001b[34m\u001b[1mTuner: \u001b[0mBest fitness=0.85576 observed at iteration 27\n",
            "\u001b[34m\u001b[1mTuner: \u001b[0mBest fitness metrics are {'metrics/precision(B)': 0.72935, 'metrics/recall(B)': 0.98957, 'metrics/mAP50(B)': 0.87319, 'metrics/mAP50-95(B)': 0.85382, 'val/box_loss': 0.00628, 'val/cls_loss': 0.59509, 'val/dfl_loss': 0.80903, 'fitness': 0.85576}\n",
            "\u001b[34m\u001b[1mTuner: \u001b[0mBest fitness model is /content/drive/MyDrive/codeit_level1_project/YOLOv8_epoch100_hyperparameters/yolo_tuning_results/train27\n",
            "\u001b[34m\u001b[1mTuner: \u001b[0mBest fitness hyperparameters are printed below.\n",
            "\n",
            "Printing '\u001b[1m\u001b[30m/content/drive/MyDrive/codeit_level1_project/YOLOv8_epoch100_hyperparameters/yolo_tuning_results/yolo8_hyp_0534/best_hyperparameters.yaml\u001b[0m'\n",
            "\n",
            "lr0: 0.00972\n",
            "lrf: 0.01\n",
            "momentum: 0.95968\n",
            "weight_decay: 0.00048\n",
            "warmup_epochs: 3.11288\n",
            "warmup_momentum: 0.73272\n",
            "box: 0.18176\n",
            "cls: 0.5885\n",
            "hsv_h: 0.01428\n",
            "hsv_s: 0.73822\n",
            "hsv_v: 0.34921\n",
            "fliplr: 0.5\n",
            "mosaic: 0.92185\n",
            "\n",
            "\u001b[34m\u001b[1mTuner: \u001b[0mStarting iteration 37/50 with hyperparameters: {'lr0': 0.0092, 'lrf': 0.01, 'momentum': 0.76932, 'weight_decay': 0.0005, 'warmup_epochs': 2.67276, 'warmup_momentum': 0.74631, 'box': 0.14182, 'cls': 0.38274, 'hsv_h': 0.01582, 'hsv_s': 0.73822, 'hsv_v': 0.28024, 'fliplr': 0.55256, 'mosaic': 1.0}\n",
            "Saved /content/drive/MyDrive/codeit_level1_project/YOLOv8_epoch100_hyperparameters/yolo_tuning_results/yolo8_hyp_0534/tune_scatter_plots.png\n",
            "Saved /content/drive/MyDrive/codeit_level1_project/YOLOv8_epoch100_hyperparameters/yolo_tuning_results/yolo8_hyp_0534/tune_fitness.png\n",
            "\n",
            "\u001b[34m\u001b[1mTuner: \u001b[0m37/50 iterations complete ✅ (18544.12s)\n",
            "\u001b[34m\u001b[1mTuner: \u001b[0mResults saved to \u001b[1m/content/drive/MyDrive/codeit_level1_project/YOLOv8_epoch100_hyperparameters/yolo_tuning_results/yolo8_hyp_0534\u001b[0m\n",
            "\u001b[34m\u001b[1mTuner: \u001b[0mBest fitness=0.85899 observed at iteration 37\n",
            "\u001b[34m\u001b[1mTuner: \u001b[0mBest fitness metrics are {'metrics/precision(B)': 0.74737, 'metrics/recall(B)': 0.98032, 'metrics/mAP50(B)': 0.8716, 'metrics/mAP50-95(B)': 0.85759, 'val/box_loss': 0.0045, 'val/cls_loss': 0.36235, 'val/dfl_loss': 0.79147, 'fitness': 0.85899}\n",
            "\u001b[34m\u001b[1mTuner: \u001b[0mBest fitness model is /content/drive/MyDrive/codeit_level1_project/YOLOv8_epoch100_hyperparameters/yolo_tuning_results/train37\n",
            "\u001b[34m\u001b[1mTuner: \u001b[0mBest fitness hyperparameters are printed below.\n",
            "\n",
            "Printing '\u001b[1m\u001b[30m/content/drive/MyDrive/codeit_level1_project/YOLOv8_epoch100_hyperparameters/yolo_tuning_results/yolo8_hyp_0534/best_hyperparameters.yaml\u001b[0m'\n",
            "\n",
            "lr0: 0.0092\n",
            "lrf: 0.01\n",
            "momentum: 0.76932\n",
            "weight_decay: 0.0005\n",
            "warmup_epochs: 2.67276\n",
            "warmup_momentum: 0.74631\n",
            "box: 0.14182\n",
            "cls: 0.38274\n",
            "hsv_h: 0.01582\n",
            "hsv_s: 0.73822\n",
            "hsv_v: 0.28024\n",
            "fliplr: 0.55256\n",
            "mosaic: 1.0\n",
            "\n",
            "\u001b[34m\u001b[1mTuner: \u001b[0mStarting iteration 38/50 with hyperparameters: {'lr0': 0.0092, 'lrf': 0.01, 'momentum': 0.77668, 'weight_decay': 0.00049, 'warmup_epochs': 2.75216, 'warmup_momentum': 0.74631, 'box': 0.13952, 'cls': 0.42381, 'hsv_h': 0.01582, 'hsv_s': 0.77786, 'hsv_v': 0.28101, 'fliplr': 0.55256, 'mosaic': 0.96884}\n",
            "Saved /content/drive/MyDrive/codeit_level1_project/YOLOv8_epoch100_hyperparameters/yolo_tuning_results/yolo8_hyp_0534/tune_scatter_plots.png\n",
            "Saved /content/drive/MyDrive/codeit_level1_project/YOLOv8_epoch100_hyperparameters/yolo_tuning_results/yolo8_hyp_0534/tune_fitness.png\n",
            "\n",
            "\u001b[34m\u001b[1mTuner: \u001b[0m38/50 iterations complete ✅ (19045.76s)\n",
            "\u001b[34m\u001b[1mTuner: \u001b[0mResults saved to \u001b[1m/content/drive/MyDrive/codeit_level1_project/YOLOv8_epoch100_hyperparameters/yolo_tuning_results/yolo8_hyp_0534\u001b[0m\n",
            "\u001b[34m\u001b[1mTuner: \u001b[0mBest fitness=0.85899 observed at iteration 37\n",
            "\u001b[34m\u001b[1mTuner: \u001b[0mBest fitness metrics are {'metrics/precision(B)': 0.74737, 'metrics/recall(B)': 0.98032, 'metrics/mAP50(B)': 0.8716, 'metrics/mAP50-95(B)': 0.85759, 'val/box_loss': 0.0045, 'val/cls_loss': 0.36235, 'val/dfl_loss': 0.79147, 'fitness': 0.85899}\n",
            "\u001b[34m\u001b[1mTuner: \u001b[0mBest fitness model is /content/drive/MyDrive/codeit_level1_project/YOLOv8_epoch100_hyperparameters/yolo_tuning_results/train37\n",
            "\u001b[34m\u001b[1mTuner: \u001b[0mBest fitness hyperparameters are printed below.\n",
            "\n",
            "Printing '\u001b[1m\u001b[30m/content/drive/MyDrive/codeit_level1_project/YOLOv8_epoch100_hyperparameters/yolo_tuning_results/yolo8_hyp_0534/best_hyperparameters.yaml\u001b[0m'\n",
            "\n",
            "lr0: 0.0092\n",
            "lrf: 0.01\n",
            "momentum: 0.76932\n",
            "weight_decay: 0.0005\n",
            "warmup_epochs: 2.67276\n",
            "warmup_momentum: 0.74631\n",
            "box: 0.14182\n",
            "cls: 0.38274\n",
            "hsv_h: 0.01582\n",
            "hsv_s: 0.73822\n",
            "hsv_v: 0.28024\n",
            "fliplr: 0.55256\n",
            "mosaic: 1.0\n",
            "\n",
            "\u001b[34m\u001b[1mTuner: \u001b[0mStarting iteration 39/50 with hyperparameters: {'lr0': 0.0092, 'lrf': 0.01, 'momentum': 0.76211, 'weight_decay': 0.00056, 'warmup_epochs': 2.79094, 'warmup_momentum': 0.75227, 'box': 0.14312, 'cls': 0.42781, 'hsv_h': 0.01716, 'hsv_s': 0.73822, 'hsv_v': 0.24201, 'fliplr': 0.5793, 'mosaic': 1.0}\n",
            "Saved /content/drive/MyDrive/codeit_level1_project/YOLOv8_epoch100_hyperparameters/yolo_tuning_results/yolo8_hyp_0534/tune_scatter_plots.png\n",
            "Saved /content/drive/MyDrive/codeit_level1_project/YOLOv8_epoch100_hyperparameters/yolo_tuning_results/yolo8_hyp_0534/tune_fitness.png\n",
            "\n",
            "\u001b[34m\u001b[1mTuner: \u001b[0m39/50 iterations complete ✅ (19545.61s)\n",
            "\u001b[34m\u001b[1mTuner: \u001b[0mResults saved to \u001b[1m/content/drive/MyDrive/codeit_level1_project/YOLOv8_epoch100_hyperparameters/yolo_tuning_results/yolo8_hyp_0534\u001b[0m\n",
            "\u001b[34m\u001b[1mTuner: \u001b[0mBest fitness=0.85899 observed at iteration 37\n",
            "\u001b[34m\u001b[1mTuner: \u001b[0mBest fitness metrics are {'metrics/precision(B)': 0.74737, 'metrics/recall(B)': 0.98032, 'metrics/mAP50(B)': 0.8716, 'metrics/mAP50-95(B)': 0.85759, 'val/box_loss': 0.0045, 'val/cls_loss': 0.36235, 'val/dfl_loss': 0.79147, 'fitness': 0.85899}\n",
            "\u001b[34m\u001b[1mTuner: \u001b[0mBest fitness model is /content/drive/MyDrive/codeit_level1_project/YOLOv8_epoch100_hyperparameters/yolo_tuning_results/train37\n",
            "\u001b[34m\u001b[1mTuner: \u001b[0mBest fitness hyperparameters are printed below.\n",
            "\n",
            "Printing '\u001b[1m\u001b[30m/content/drive/MyDrive/codeit_level1_project/YOLOv8_epoch100_hyperparameters/yolo_tuning_results/yolo8_hyp_0534/best_hyperparameters.yaml\u001b[0m'\n",
            "\n",
            "lr0: 0.0092\n",
            "lrf: 0.01\n",
            "momentum: 0.76932\n",
            "weight_decay: 0.0005\n",
            "warmup_epochs: 2.67276\n",
            "warmup_momentum: 0.74631\n",
            "box: 0.14182\n",
            "cls: 0.38274\n",
            "hsv_h: 0.01582\n",
            "hsv_s: 0.73822\n",
            "hsv_v: 0.28024\n",
            "fliplr: 0.55256\n",
            "mosaic: 1.0\n",
            "\n",
            "\u001b[34m\u001b[1mTuner: \u001b[0mStarting iteration 40/50 with hyperparameters: {'lr0': 0.00923, 'lrf': 0.01, 'momentum': 0.79686, 'weight_decay': 0.00053, 'warmup_epochs': 2.87118, 'warmup_momentum': 0.81671, 'box': 0.16809, 'cls': 0.38059, 'hsv_h': 0.01637, 'hsv_s': 0.73822, 'hsv_v': 0.28024, 'fliplr': 0.59863, 'mosaic': 0.96134}\n",
            "Saved /content/drive/MyDrive/codeit_level1_project/YOLOv8_epoch100_hyperparameters/yolo_tuning_results/yolo8_hyp_0534/tune_scatter_plots.png\n",
            "Saved /content/drive/MyDrive/codeit_level1_project/YOLOv8_epoch100_hyperparameters/yolo_tuning_results/yolo8_hyp_0534/tune_fitness.png\n",
            "\n",
            "\u001b[34m\u001b[1mTuner: \u001b[0m40/50 iterations complete ✅ (20055.92s)\n",
            "\u001b[34m\u001b[1mTuner: \u001b[0mResults saved to \u001b[1m/content/drive/MyDrive/codeit_level1_project/YOLOv8_epoch100_hyperparameters/yolo_tuning_results/yolo8_hyp_0534\u001b[0m\n",
            "\u001b[34m\u001b[1mTuner: \u001b[0mBest fitness=0.85899 observed at iteration 37\n",
            "\u001b[34m\u001b[1mTuner: \u001b[0mBest fitness metrics are {'metrics/precision(B)': 0.74737, 'metrics/recall(B)': 0.98032, 'metrics/mAP50(B)': 0.8716, 'metrics/mAP50-95(B)': 0.85759, 'val/box_loss': 0.0045, 'val/cls_loss': 0.36235, 'val/dfl_loss': 0.79147, 'fitness': 0.85899}\n",
            "\u001b[34m\u001b[1mTuner: \u001b[0mBest fitness model is /content/drive/MyDrive/codeit_level1_project/YOLOv8_epoch100_hyperparameters/yolo_tuning_results/train37\n",
            "\u001b[34m\u001b[1mTuner: \u001b[0mBest fitness hyperparameters are printed below.\n",
            "\n",
            "Printing '\u001b[1m\u001b[30m/content/drive/MyDrive/codeit_level1_project/YOLOv8_epoch100_hyperparameters/yolo_tuning_results/yolo8_hyp_0534/best_hyperparameters.yaml\u001b[0m'\n",
            "\n",
            "lr0: 0.0092\n",
            "lrf: 0.01\n",
            "momentum: 0.76932\n",
            "weight_decay: 0.0005\n",
            "warmup_epochs: 2.67276\n",
            "warmup_momentum: 0.74631\n",
            "box: 0.14182\n",
            "cls: 0.38274\n",
            "hsv_h: 0.01582\n",
            "hsv_s: 0.73822\n",
            "hsv_v: 0.28024\n",
            "fliplr: 0.55256\n",
            "mosaic: 1.0\n",
            "\n",
            "\u001b[34m\u001b[1mTuner: \u001b[0mStarting iteration 41/50 with hyperparameters: {'lr0': 0.00972, 'lrf': 0.01, 'momentum': 0.95017, 'weight_decay': 0.0005, 'warmup_epochs': 3.11288, 'warmup_momentum': 0.73272, 'box': 0.18176, 'cls': 0.67385, 'hsv_h': 0.01428, 'hsv_s': 0.72031, 'hsv_v': 0.3726, 'fliplr': 0.50895, 'mosaic': 0.98108}\n",
            "Saved /content/drive/MyDrive/codeit_level1_project/YOLOv8_epoch100_hyperparameters/yolo_tuning_results/yolo8_hyp_0534/tune_scatter_plots.png\n",
            "Saved /content/drive/MyDrive/codeit_level1_project/YOLOv8_epoch100_hyperparameters/yolo_tuning_results/yolo8_hyp_0534/tune_fitness.png\n",
            "\n",
            "\u001b[34m\u001b[1mTuner: \u001b[0m41/50 iterations complete ✅ (20555.27s)\n",
            "\u001b[34m\u001b[1mTuner: \u001b[0mResults saved to \u001b[1m/content/drive/MyDrive/codeit_level1_project/YOLOv8_epoch100_hyperparameters/yolo_tuning_results/yolo8_hyp_0534\u001b[0m\n",
            "\u001b[34m\u001b[1mTuner: \u001b[0mBest fitness=0.85899 observed at iteration 37\n",
            "\u001b[34m\u001b[1mTuner: \u001b[0mBest fitness metrics are {'metrics/precision(B)': 0.74737, 'metrics/recall(B)': 0.98032, 'metrics/mAP50(B)': 0.8716, 'metrics/mAP50-95(B)': 0.85759, 'val/box_loss': 0.0045, 'val/cls_loss': 0.36235, 'val/dfl_loss': 0.79147, 'fitness': 0.85899}\n",
            "\u001b[34m\u001b[1mTuner: \u001b[0mBest fitness model is /content/drive/MyDrive/codeit_level1_project/YOLOv8_epoch100_hyperparameters/yolo_tuning_results/train37\n",
            "\u001b[34m\u001b[1mTuner: \u001b[0mBest fitness hyperparameters are printed below.\n",
            "\n",
            "Printing '\u001b[1m\u001b[30m/content/drive/MyDrive/codeit_level1_project/YOLOv8_epoch100_hyperparameters/yolo_tuning_results/yolo8_hyp_0534/best_hyperparameters.yaml\u001b[0m'\n",
            "\n",
            "lr0: 0.0092\n",
            "lrf: 0.01\n",
            "momentum: 0.76932\n",
            "weight_decay: 0.0005\n",
            "warmup_epochs: 2.67276\n",
            "warmup_momentum: 0.74631\n",
            "box: 0.14182\n",
            "cls: 0.38274\n",
            "hsv_h: 0.01582\n",
            "hsv_s: 0.73822\n",
            "hsv_v: 0.28024\n",
            "fliplr: 0.55256\n",
            "mosaic: 1.0\n",
            "\n",
            "\u001b[34m\u001b[1mTuner: \u001b[0mStarting iteration 42/50 with hyperparameters: {'lr0': 0.00901, 'lrf': 0.01057, 'momentum': 0.8143, 'weight_decay': 0.00051, 'warmup_epochs': 3.24517, 'warmup_momentum': 0.7557, 'box': 0.18701, 'cls': 0.59802, 'hsv_h': 0.01602, 'hsv_s': 0.74511, 'hsv_v': 0.34608, 'fliplr': 0.45736, 'mosaic': 0.86856}\n",
            "Saved /content/drive/MyDrive/codeit_level1_project/YOLOv8_epoch100_hyperparameters/yolo_tuning_results/yolo8_hyp_0534/tune_scatter_plots.png\n",
            "Saved /content/drive/MyDrive/codeit_level1_project/YOLOv8_epoch100_hyperparameters/yolo_tuning_results/yolo8_hyp_0534/tune_fitness.png\n",
            "\n",
            "\u001b[34m\u001b[1mTuner: \u001b[0m42/50 iterations complete ✅ (21051.26s)\n",
            "\u001b[34m\u001b[1mTuner: \u001b[0mResults saved to \u001b[1m/content/drive/MyDrive/codeit_level1_project/YOLOv8_epoch100_hyperparameters/yolo_tuning_results/yolo8_hyp_0534\u001b[0m\n",
            "\u001b[34m\u001b[1mTuner: \u001b[0mBest fitness=0.85899 observed at iteration 37\n",
            "\u001b[34m\u001b[1mTuner: \u001b[0mBest fitness metrics are {'metrics/precision(B)': 0.74737, 'metrics/recall(B)': 0.98032, 'metrics/mAP50(B)': 0.8716, 'metrics/mAP50-95(B)': 0.85759, 'val/box_loss': 0.0045, 'val/cls_loss': 0.36235, 'val/dfl_loss': 0.79147, 'fitness': 0.85899}\n",
            "\u001b[34m\u001b[1mTuner: \u001b[0mBest fitness model is /content/drive/MyDrive/codeit_level1_project/YOLOv8_epoch100_hyperparameters/yolo_tuning_results/train37\n",
            "\u001b[34m\u001b[1mTuner: \u001b[0mBest fitness hyperparameters are printed below.\n",
            "\n",
            "Printing '\u001b[1m\u001b[30m/content/drive/MyDrive/codeit_level1_project/YOLOv8_epoch100_hyperparameters/yolo_tuning_results/yolo8_hyp_0534/best_hyperparameters.yaml\u001b[0m'\n",
            "\n",
            "lr0: 0.0092\n",
            "lrf: 0.01\n",
            "momentum: 0.76932\n",
            "weight_decay: 0.0005\n",
            "warmup_epochs: 2.67276\n",
            "warmup_momentum: 0.74631\n",
            "box: 0.14182\n",
            "cls: 0.38274\n",
            "hsv_h: 0.01582\n",
            "hsv_s: 0.73822\n",
            "hsv_v: 0.28024\n",
            "fliplr: 0.55256\n",
            "mosaic: 1.0\n",
            "\n",
            "\u001b[34m\u001b[1mTuner: \u001b[0mStarting iteration 43/50 with hyperparameters: {'lr0': 0.01074, 'lrf': 0.01, 'momentum': 0.90309, 'weight_decay': 0.00063, 'warmup_epochs': 3.43422, 'warmup_momentum': 0.759, 'box': 0.19028, 'cls': 0.51037, 'hsv_h': 0.01523, 'hsv_s': 0.7946, 'hsv_v': 0.29728, 'fliplr': 0.48358, 'mosaic': 0.90891}\n",
            "Saved /content/drive/MyDrive/codeit_level1_project/YOLOv8_epoch100_hyperparameters/yolo_tuning_results/yolo8_hyp_0534/tune_scatter_plots.png\n",
            "Saved /content/drive/MyDrive/codeit_level1_project/YOLOv8_epoch100_hyperparameters/yolo_tuning_results/yolo8_hyp_0534/tune_fitness.png\n",
            "\n",
            "\u001b[34m\u001b[1mTuner: \u001b[0m43/50 iterations complete ✅ (21542.63s)\n",
            "\u001b[34m\u001b[1mTuner: \u001b[0mResults saved to \u001b[1m/content/drive/MyDrive/codeit_level1_project/YOLOv8_epoch100_hyperparameters/yolo_tuning_results/yolo8_hyp_0534\u001b[0m\n",
            "\u001b[34m\u001b[1mTuner: \u001b[0mBest fitness=0.85899 observed at iteration 37\n",
            "\u001b[34m\u001b[1mTuner: \u001b[0mBest fitness metrics are {'metrics/precision(B)': 0.74737, 'metrics/recall(B)': 0.98032, 'metrics/mAP50(B)': 0.8716, 'metrics/mAP50-95(B)': 0.85759, 'val/box_loss': 0.0045, 'val/cls_loss': 0.36235, 'val/dfl_loss': 0.79147, 'fitness': 0.85899}\n",
            "\u001b[34m\u001b[1mTuner: \u001b[0mBest fitness model is /content/drive/MyDrive/codeit_level1_project/YOLOv8_epoch100_hyperparameters/yolo_tuning_results/train37\n",
            "\u001b[34m\u001b[1mTuner: \u001b[0mBest fitness hyperparameters are printed below.\n",
            "\n",
            "Printing '\u001b[1m\u001b[30m/content/drive/MyDrive/codeit_level1_project/YOLOv8_epoch100_hyperparameters/yolo_tuning_results/yolo8_hyp_0534/best_hyperparameters.yaml\u001b[0m'\n",
            "\n",
            "lr0: 0.0092\n",
            "lrf: 0.01\n",
            "momentum: 0.76932\n",
            "weight_decay: 0.0005\n",
            "warmup_epochs: 2.67276\n",
            "warmup_momentum: 0.74631\n",
            "box: 0.14182\n",
            "cls: 0.38274\n",
            "hsv_h: 0.01582\n",
            "hsv_s: 0.73822\n",
            "hsv_v: 0.28024\n",
            "fliplr: 0.55256\n",
            "mosaic: 1.0\n",
            "\n",
            "\u001b[34m\u001b[1mTuner: \u001b[0mStarting iteration 44/50 with hyperparameters: {'lr0': 0.00905, 'lrf': 0.01, 'momentum': 0.77638, 'weight_decay': 0.0005, 'warmup_epochs': 2.67276, 'warmup_momentum': 0.73453, 'box': 0.14182, 'cls': 0.38293, 'hsv_h': 0.01604, 'hsv_s': 0.71239, 'hsv_v': 0.28024, 'fliplr': 0.56025, 'mosaic': 1.0}\n",
            "Saved /content/drive/MyDrive/codeit_level1_project/YOLOv8_epoch100_hyperparameters/yolo_tuning_results/yolo8_hyp_0534/tune_scatter_plots.png\n",
            "Saved /content/drive/MyDrive/codeit_level1_project/YOLOv8_epoch100_hyperparameters/yolo_tuning_results/yolo8_hyp_0534/tune_fitness.png\n",
            "\n",
            "\u001b[34m\u001b[1mTuner: \u001b[0m44/50 iterations complete ✅ (22041.88s)\n",
            "\u001b[34m\u001b[1mTuner: \u001b[0mResults saved to \u001b[1m/content/drive/MyDrive/codeit_level1_project/YOLOv8_epoch100_hyperparameters/yolo_tuning_results/yolo8_hyp_0534\u001b[0m\n",
            "\u001b[34m\u001b[1mTuner: \u001b[0mBest fitness=0.85899 observed at iteration 37\n",
            "\u001b[34m\u001b[1mTuner: \u001b[0mBest fitness metrics are {'metrics/precision(B)': 0.74737, 'metrics/recall(B)': 0.98032, 'metrics/mAP50(B)': 0.8716, 'metrics/mAP50-95(B)': 0.85759, 'val/box_loss': 0.0045, 'val/cls_loss': 0.36235, 'val/dfl_loss': 0.79147, 'fitness': 0.85899}\n",
            "\u001b[34m\u001b[1mTuner: \u001b[0mBest fitness model is /content/drive/MyDrive/codeit_level1_project/YOLOv8_epoch100_hyperparameters/yolo_tuning_results/train37\n",
            "\u001b[34m\u001b[1mTuner: \u001b[0mBest fitness hyperparameters are printed below.\n",
            "\n",
            "Printing '\u001b[1m\u001b[30m/content/drive/MyDrive/codeit_level1_project/YOLOv8_epoch100_hyperparameters/yolo_tuning_results/yolo8_hyp_0534/best_hyperparameters.yaml\u001b[0m'\n",
            "\n",
            "lr0: 0.0092\n",
            "lrf: 0.01\n",
            "momentum: 0.76932\n",
            "weight_decay: 0.0005\n",
            "warmup_epochs: 2.67276\n",
            "warmup_momentum: 0.74631\n",
            "box: 0.14182\n",
            "cls: 0.38274\n",
            "hsv_h: 0.01582\n",
            "hsv_s: 0.73822\n",
            "hsv_v: 0.28024\n",
            "fliplr: 0.55256\n",
            "mosaic: 1.0\n",
            "\n",
            "\u001b[34m\u001b[1mTuner: \u001b[0mStarting iteration 45/50 with hyperparameters: {'lr0': 0.00827, 'lrf': 0.01, 'momentum': 0.78076, 'weight_decay': 0.00044, 'warmup_epochs': 2.65025, 'warmup_momentum': 0.68896, 'box': 0.15358, 'cls': 0.38594, 'hsv_h': 0.01582, 'hsv_s': 0.75524, 'hsv_v': 0.2829, 'fliplr': 0.57711, 'mosaic': 0.86091}\n",
            "Saved /content/drive/MyDrive/codeit_level1_project/YOLOv8_epoch100_hyperparameters/yolo_tuning_results/yolo8_hyp_0534/tune_scatter_plots.png\n",
            "Saved /content/drive/MyDrive/codeit_level1_project/YOLOv8_epoch100_hyperparameters/yolo_tuning_results/yolo8_hyp_0534/tune_fitness.png\n",
            "\n",
            "\u001b[34m\u001b[1mTuner: \u001b[0m45/50 iterations complete ✅ (22539.17s)\n",
            "\u001b[34m\u001b[1mTuner: \u001b[0mResults saved to \u001b[1m/content/drive/MyDrive/codeit_level1_project/YOLOv8_epoch100_hyperparameters/yolo_tuning_results/yolo8_hyp_0534\u001b[0m\n",
            "\u001b[34m\u001b[1mTuner: \u001b[0mBest fitness=0.85899 observed at iteration 37\n",
            "\u001b[34m\u001b[1mTuner: \u001b[0mBest fitness metrics are {'metrics/precision(B)': 0.74737, 'metrics/recall(B)': 0.98032, 'metrics/mAP50(B)': 0.8716, 'metrics/mAP50-95(B)': 0.85759, 'val/box_loss': 0.0045, 'val/cls_loss': 0.36235, 'val/dfl_loss': 0.79147, 'fitness': 0.85899}\n",
            "\u001b[34m\u001b[1mTuner: \u001b[0mBest fitness model is /content/drive/MyDrive/codeit_level1_project/YOLOv8_epoch100_hyperparameters/yolo_tuning_results/train37\n",
            "\u001b[34m\u001b[1mTuner: \u001b[0mBest fitness hyperparameters are printed below.\n",
            "\n",
            "Printing '\u001b[1m\u001b[30m/content/drive/MyDrive/codeit_level1_project/YOLOv8_epoch100_hyperparameters/yolo_tuning_results/yolo8_hyp_0534/best_hyperparameters.yaml\u001b[0m'\n",
            "\n",
            "lr0: 0.0092\n",
            "lrf: 0.01\n",
            "momentum: 0.76932\n",
            "weight_decay: 0.0005\n",
            "warmup_epochs: 2.67276\n",
            "warmup_momentum: 0.74631\n",
            "box: 0.14182\n",
            "cls: 0.38274\n",
            "hsv_h: 0.01582\n",
            "hsv_s: 0.73822\n",
            "hsv_v: 0.28024\n",
            "fliplr: 0.55256\n",
            "mosaic: 1.0\n",
            "\n",
            "\u001b[34m\u001b[1mTuner: \u001b[0mStarting iteration 46/50 with hyperparameters: {'lr0': 0.00885, 'lrf': 0.01, 'momentum': 0.67378, 'weight_decay': 0.00051, 'warmup_epochs': 2.82436, 'warmup_momentum': 0.95, 'box': 0.14182, 'cls': 0.21709, 'hsv_h': 0.01582, 'hsv_s': 0.60076, 'hsv_v': 0.28024, 'fliplr': 0.55256, 'mosaic': 1.0}\n",
            "Saved /content/drive/MyDrive/codeit_level1_project/YOLOv8_epoch100_hyperparameters/yolo_tuning_results/yolo8_hyp_0534/tune_scatter_plots.png\n",
            "Saved /content/drive/MyDrive/codeit_level1_project/YOLOv8_epoch100_hyperparameters/yolo_tuning_results/yolo8_hyp_0534/tune_fitness.png\n",
            "\n",
            "\u001b[34m\u001b[1mTuner: \u001b[0m46/50 iterations complete ✅ (23037.01s)\n",
            "\u001b[34m\u001b[1mTuner: \u001b[0mResults saved to \u001b[1m/content/drive/MyDrive/codeit_level1_project/YOLOv8_epoch100_hyperparameters/yolo_tuning_results/yolo8_hyp_0534\u001b[0m\n",
            "\u001b[34m\u001b[1mTuner: \u001b[0mBest fitness=0.85899 observed at iteration 37\n",
            "\u001b[34m\u001b[1mTuner: \u001b[0mBest fitness metrics are {'metrics/precision(B)': 0.74737, 'metrics/recall(B)': 0.98032, 'metrics/mAP50(B)': 0.8716, 'metrics/mAP50-95(B)': 0.85759, 'val/box_loss': 0.0045, 'val/cls_loss': 0.36235, 'val/dfl_loss': 0.79147, 'fitness': 0.85899}\n",
            "\u001b[34m\u001b[1mTuner: \u001b[0mBest fitness model is /content/drive/MyDrive/codeit_level1_project/YOLOv8_epoch100_hyperparameters/yolo_tuning_results/train37\n",
            "\u001b[34m\u001b[1mTuner: \u001b[0mBest fitness hyperparameters are printed below.\n",
            "\n",
            "Printing '\u001b[1m\u001b[30m/content/drive/MyDrive/codeit_level1_project/YOLOv8_epoch100_hyperparameters/yolo_tuning_results/yolo8_hyp_0534/best_hyperparameters.yaml\u001b[0m'\n",
            "\n",
            "lr0: 0.0092\n",
            "lrf: 0.01\n",
            "momentum: 0.76932\n",
            "weight_decay: 0.0005\n",
            "warmup_epochs: 2.67276\n",
            "warmup_momentum: 0.74631\n",
            "box: 0.14182\n",
            "cls: 0.38274\n",
            "hsv_h: 0.01582\n",
            "hsv_s: 0.73822\n",
            "hsv_v: 0.28024\n",
            "fliplr: 0.55256\n",
            "mosaic: 1.0\n",
            "\n",
            "\u001b[34m\u001b[1mTuner: \u001b[0mStarting iteration 47/50 with hyperparameters: {'lr0': 0.00918, 'lrf': 0.01002, 'momentum': 0.76932, 'weight_decay': 0.0005, 'warmup_epochs': 2.67276, 'warmup_momentum': 0.74447, 'box': 0.14182, 'cls': 0.38227, 'hsv_h': 0.01583, 'hsv_s': 0.73772, 'hsv_v': 0.28091, 'fliplr': 0.55277, 'mosaic': 0.99773}\n",
            "Saved /content/drive/MyDrive/codeit_level1_project/YOLOv8_epoch100_hyperparameters/yolo_tuning_results/yolo8_hyp_0534/tune_scatter_plots.png\n",
            "Saved /content/drive/MyDrive/codeit_level1_project/YOLOv8_epoch100_hyperparameters/yolo_tuning_results/yolo8_hyp_0534/tune_fitness.png\n",
            "\n",
            "\u001b[34m\u001b[1mTuner: \u001b[0m47/50 iterations complete ✅ (23534.23s)\n",
            "\u001b[34m\u001b[1mTuner: \u001b[0mResults saved to \u001b[1m/content/drive/MyDrive/codeit_level1_project/YOLOv8_epoch100_hyperparameters/yolo_tuning_results/yolo8_hyp_0534\u001b[0m\n",
            "\u001b[34m\u001b[1mTuner: \u001b[0mBest fitness=0.85899 observed at iteration 37\n",
            "\u001b[34m\u001b[1mTuner: \u001b[0mBest fitness metrics are {'metrics/precision(B)': 0.74737, 'metrics/recall(B)': 0.98032, 'metrics/mAP50(B)': 0.8716, 'metrics/mAP50-95(B)': 0.85759, 'val/box_loss': 0.0045, 'val/cls_loss': 0.36235, 'val/dfl_loss': 0.79147, 'fitness': 0.85899}\n",
            "\u001b[34m\u001b[1mTuner: \u001b[0mBest fitness model is /content/drive/MyDrive/codeit_level1_project/YOLOv8_epoch100_hyperparameters/yolo_tuning_results/train37\n",
            "\u001b[34m\u001b[1mTuner: \u001b[0mBest fitness hyperparameters are printed below.\n",
            "\n",
            "Printing '\u001b[1m\u001b[30m/content/drive/MyDrive/codeit_level1_project/YOLOv8_epoch100_hyperparameters/yolo_tuning_results/yolo8_hyp_0534/best_hyperparameters.yaml\u001b[0m'\n",
            "\n",
            "lr0: 0.0092\n",
            "lrf: 0.01\n",
            "momentum: 0.76932\n",
            "weight_decay: 0.0005\n",
            "warmup_epochs: 2.67276\n",
            "warmup_momentum: 0.74631\n",
            "box: 0.14182\n",
            "cls: 0.38274\n",
            "hsv_h: 0.01582\n",
            "hsv_s: 0.73822\n",
            "hsv_v: 0.28024\n",
            "fliplr: 0.55256\n",
            "mosaic: 1.0\n",
            "\n",
            "\u001b[34m\u001b[1mTuner: \u001b[0mStarting iteration 48/50 with hyperparameters: {'lr0': 0.00974, 'lrf': 0.01, 'momentum': 0.95968, 'weight_decay': 0.00048, 'warmup_epochs': 3.13135, 'warmup_momentum': 0.73272, 'box': 0.18114, 'cls': 0.5885, 'hsv_h': 0.01422, 'hsv_s': 0.73822, 'hsv_v': 0.34347, 'fliplr': 0.5, 'mosaic': 0.92654}\n",
            "Saved /content/drive/MyDrive/codeit_level1_project/YOLOv8_epoch100_hyperparameters/yolo_tuning_results/yolo8_hyp_0534/tune_scatter_plots.png\n",
            "Saved /content/drive/MyDrive/codeit_level1_project/YOLOv8_epoch100_hyperparameters/yolo_tuning_results/yolo8_hyp_0534/tune_fitness.png\n",
            "\n",
            "\u001b[34m\u001b[1mTuner: \u001b[0m48/50 iterations complete ✅ (24029.60s)\n",
            "\u001b[34m\u001b[1mTuner: \u001b[0mResults saved to \u001b[1m/content/drive/MyDrive/codeit_level1_project/YOLOv8_epoch100_hyperparameters/yolo_tuning_results/yolo8_hyp_0534\u001b[0m\n",
            "\u001b[34m\u001b[1mTuner: \u001b[0mBest fitness=0.85899 observed at iteration 37\n",
            "\u001b[34m\u001b[1mTuner: \u001b[0mBest fitness metrics are {'metrics/precision(B)': 0.74737, 'metrics/recall(B)': 0.98032, 'metrics/mAP50(B)': 0.8716, 'metrics/mAP50-95(B)': 0.85759, 'val/box_loss': 0.0045, 'val/cls_loss': 0.36235, 'val/dfl_loss': 0.79147, 'fitness': 0.85899}\n",
            "\u001b[34m\u001b[1mTuner: \u001b[0mBest fitness model is /content/drive/MyDrive/codeit_level1_project/YOLOv8_epoch100_hyperparameters/yolo_tuning_results/train37\n",
            "\u001b[34m\u001b[1mTuner: \u001b[0mBest fitness hyperparameters are printed below.\n",
            "\n",
            "Printing '\u001b[1m\u001b[30m/content/drive/MyDrive/codeit_level1_project/YOLOv8_epoch100_hyperparameters/yolo_tuning_results/yolo8_hyp_0534/best_hyperparameters.yaml\u001b[0m'\n",
            "\n",
            "lr0: 0.0092\n",
            "lrf: 0.01\n",
            "momentum: 0.76932\n",
            "weight_decay: 0.0005\n",
            "warmup_epochs: 2.67276\n",
            "warmup_momentum: 0.74631\n",
            "box: 0.14182\n",
            "cls: 0.38274\n",
            "hsv_h: 0.01582\n",
            "hsv_s: 0.73822\n",
            "hsv_v: 0.28024\n",
            "fliplr: 0.55256\n",
            "mosaic: 1.0\n",
            "\n",
            "\u001b[34m\u001b[1mTuner: \u001b[0mStarting iteration 49/50 with hyperparameters: {'lr0': 0.00976, 'lrf': 0.01, 'momentum': 0.95147, 'weight_decay': 0.00048, 'warmup_epochs': 3.12004, 'warmup_momentum': 0.73453, 'box': 0.18109, 'cls': 0.5885, 'hsv_h': 0.01428, 'hsv_s': 0.73822, 'hsv_v': 0.35107, 'fliplr': 0.4994, 'mosaic': 0.91992}\n",
            "Saved /content/drive/MyDrive/codeit_level1_project/YOLOv8_epoch100_hyperparameters/yolo_tuning_results/yolo8_hyp_0534/tune_scatter_plots.png\n",
            "Saved /content/drive/MyDrive/codeit_level1_project/YOLOv8_epoch100_hyperparameters/yolo_tuning_results/yolo8_hyp_0534/tune_fitness.png\n",
            "\n",
            "\u001b[34m\u001b[1mTuner: \u001b[0m49/50 iterations complete ✅ (24526.61s)\n",
            "\u001b[34m\u001b[1mTuner: \u001b[0mResults saved to \u001b[1m/content/drive/MyDrive/codeit_level1_project/YOLOv8_epoch100_hyperparameters/yolo_tuning_results/yolo8_hyp_0534\u001b[0m\n",
            "\u001b[34m\u001b[1mTuner: \u001b[0mBest fitness=0.85899 observed at iteration 37\n",
            "\u001b[34m\u001b[1mTuner: \u001b[0mBest fitness metrics are {'metrics/precision(B)': 0.74737, 'metrics/recall(B)': 0.98032, 'metrics/mAP50(B)': 0.8716, 'metrics/mAP50-95(B)': 0.85759, 'val/box_loss': 0.0045, 'val/cls_loss': 0.36235, 'val/dfl_loss': 0.79147, 'fitness': 0.85899}\n",
            "\u001b[34m\u001b[1mTuner: \u001b[0mBest fitness model is /content/drive/MyDrive/codeit_level1_project/YOLOv8_epoch100_hyperparameters/yolo_tuning_results/train37\n",
            "\u001b[34m\u001b[1mTuner: \u001b[0mBest fitness hyperparameters are printed below.\n",
            "\n",
            "Printing '\u001b[1m\u001b[30m/content/drive/MyDrive/codeit_level1_project/YOLOv8_epoch100_hyperparameters/yolo_tuning_results/yolo8_hyp_0534/best_hyperparameters.yaml\u001b[0m'\n",
            "\n",
            "lr0: 0.0092\n",
            "lrf: 0.01\n",
            "momentum: 0.76932\n",
            "weight_decay: 0.0005\n",
            "warmup_epochs: 2.67276\n",
            "warmup_momentum: 0.74631\n",
            "box: 0.14182\n",
            "cls: 0.38274\n",
            "hsv_h: 0.01582\n",
            "hsv_s: 0.73822\n",
            "hsv_v: 0.28024\n",
            "fliplr: 0.55256\n",
            "mosaic: 1.0\n",
            "\n",
            "\u001b[34m\u001b[1mTuner: \u001b[0mStarting iteration 50/50 with hyperparameters: {'lr0': 0.00893, 'lrf': 0.01024, 'momentum': 0.81185, 'weight_decay': 0.0005, 'warmup_epochs': 2.465, 'warmup_momentum': 0.78984, 'box': 0.14182, 'cls': 0.37943, 'hsv_h': 0.01596, 'hsv_s': 0.74626, 'hsv_v': 0.30446, 'fliplr': 0.5795, 'mosaic': 0.97076}\n",
            "Saved /content/drive/MyDrive/codeit_level1_project/YOLOv8_epoch100_hyperparameters/yolo_tuning_results/yolo8_hyp_0534/tune_scatter_plots.png\n",
            "Saved /content/drive/MyDrive/codeit_level1_project/YOLOv8_epoch100_hyperparameters/yolo_tuning_results/yolo8_hyp_0534/tune_fitness.png\n",
            "\n",
            "\u001b[34m\u001b[1mTuner: \u001b[0m50/50 iterations complete ✅ (25021.61s)\n",
            "\u001b[34m\u001b[1mTuner: \u001b[0mResults saved to \u001b[1m/content/drive/MyDrive/codeit_level1_project/YOLOv8_epoch100_hyperparameters/yolo_tuning_results/yolo8_hyp_0534\u001b[0m\n",
            "\u001b[34m\u001b[1mTuner: \u001b[0mBest fitness=0.85899 observed at iteration 37\n",
            "\u001b[34m\u001b[1mTuner: \u001b[0mBest fitness metrics are {'metrics/precision(B)': 0.74737, 'metrics/recall(B)': 0.98032, 'metrics/mAP50(B)': 0.8716, 'metrics/mAP50-95(B)': 0.85759, 'val/box_loss': 0.0045, 'val/cls_loss': 0.36235, 'val/dfl_loss': 0.79147, 'fitness': 0.85899}\n",
            "\u001b[34m\u001b[1mTuner: \u001b[0mBest fitness model is /content/drive/MyDrive/codeit_level1_project/YOLOv8_epoch100_hyperparameters/yolo_tuning_results/train37\n",
            "\u001b[34m\u001b[1mTuner: \u001b[0mBest fitness hyperparameters are printed below.\n",
            "\n",
            "Printing '\u001b[1m\u001b[30m/content/drive/MyDrive/codeit_level1_project/YOLOv8_epoch100_hyperparameters/yolo_tuning_results/yolo8_hyp_0534/best_hyperparameters.yaml\u001b[0m'\n",
            "\n",
            "lr0: 0.0092\n",
            "lrf: 0.01\n",
            "momentum: 0.76932\n",
            "weight_decay: 0.0005\n",
            "warmup_epochs: 2.67276\n",
            "warmup_momentum: 0.74631\n",
            "box: 0.14182\n",
            "cls: 0.38274\n",
            "hsv_h: 0.01582\n",
            "hsv_s: 0.73822\n",
            "hsv_v: 0.28024\n",
            "fliplr: 0.55256\n",
            "mosaic: 1.0\n",
            "\n"
          ]
        }
      ]
    },
    {
      "cell_type": "markdown",
      "source": [
        "## **5. YOLOv8x 모델 훈련 및 검증**"
      ],
      "metadata": {
        "id": "BxGM3XdHbqje"
      }
    },
    {
      "cell_type": "markdown",
      "source": [
        "### 5.1 모델 구성 및 학습\n",
        "\n",
        "- 앞서 튜닝한 하이퍼파라미터를 기반으로, YOLOv8x 모델을 활용하여 훈련을 진행하였다.\n",
        "- 하이퍼파라미터는 model.tune()을 통해 YOLOv8n 모델로 탐색한 결과 중, 성능이 가장 우수했던 설정값을 적용하였다.\n",
        "- 훈련은 총 100 epoch을 기준으로 하되, 5 epoch 동안 성능 개선이 없을 경우 자동 중단(early stopping) 되도록 설정하였다."
      ],
      "metadata": {
        "id": "eWA6HeRAYNTU"
      }
    },
    {
      "cell_type": "code",
      "source": [
        "model = YOLO(\"yolov8x.pt\")\n",
        "\n",
        "model.train(\n",
        "    data='/content/drive/MyDrive/codeit_level1_project/data/data.yaml',\n",
        "    imgsz=640,\n",
        "    batch=16,\n",
        "    workers=4,                 # 데이터 로딩 멀티스레딩\n",
        "    patience=5,                # early stopping: 개선 없으면 조기 종료\n",
        "    optimizer='AdamW',          # 옵티마이저\n",
        "    seed=71,                   # 시드 고정으로 재현성 확보\n",
        "    save=True,                 # 모델 체크포인트 저장 (기본 True)\n",
        "    save_period=5,             # 매 5 에폭마다 저장\n",
        "    project=\"/content/drive/MyDrive/codeit_level1_project/YOLOv8_epoch100_hyperparameters/pill_yolo_exp\",   # 프로젝트 폴더명\n",
        "    name=\"yolov8x_hyp0534_ep100\",       # 실험 이름\n",
        "    verbose=True,               # 학습 로그 출력\n",
        "    lr0=0.0092,\n",
        "    lrf=0.01,\n",
        "    momentum=0.76932,\n",
        "    weight_decay=0.0005,\n",
        "    warmup_epochs=2.67276,\n",
        "    warmup_momentum=0.74631,\n",
        "    box=0.14182,\n",
        "    cls=0.38274,\n",
        "    hsv_h=0.01582,\n",
        "    hsv_s=0.73822,\n",
        "    hsv_v=0.28024,\n",
        "    fliplr=0.55256,\n",
        "    mosaic=1.0\n",
        ")"
      ],
      "metadata": {
        "colab": {
          "base_uri": "https://localhost:8080/"
        },
        "id": "BlKI0Pe6bqrW",
        "outputId": "85d12fe7-9ce7-421d-baa5-9cf1ea078ac8"
      },
      "execution_count": null,
      "outputs": [
        {
          "output_type": "stream",
          "name": "stdout",
          "text": [
            "Ultralytics 8.3.146 🚀 Python-3.11.12 torch-2.6.0+cu124 CUDA:0 (NVIDIA A100-SXM4-40GB, 40507MiB)\n",
            "\u001b[34m\u001b[1mengine/trainer: \u001b[0magnostic_nms=False, amp=True, augment=False, auto_augment=randaugment, batch=16, bgr=0.0, box=0.14182, cache=False, cfg=None, classes=None, close_mosaic=10, cls=0.38274, conf=None, copy_paste=0.0, copy_paste_mode=flip, cos_lr=False, cutmix=0.0, data=/content/drive/MyDrive/codeit_level1_project/data/data.yaml, degrees=0.0, deterministic=True, device=None, dfl=1.5, dnn=False, dropout=0.0, dynamic=False, embed=None, epochs=100, erasing=0.4, exist_ok=False, fliplr=0.55256, flipud=0.0, format=torchscript, fraction=1.0, freeze=None, half=False, hsv_h=0.01582, hsv_s=0.73822, hsv_v=0.28024, imgsz=640, int8=False, iou=0.7, keras=False, kobj=1.0, line_width=None, lr0=0.0092, lrf=0.01, mask_ratio=4, max_det=300, mixup=0.0, mode=train, model=yolov8x.pt, momentum=0.76932, mosaic=1.0, multi_scale=False, name=yolov8x_hyp0534_ep100, nbs=64, nms=False, opset=None, optimize=False, optimizer=AdamW, overlap_mask=True, patience=5, perspective=0.0, plots=True, pose=12.0, pretrained=True, profile=False, project=/content/drive/MyDrive/codeit_level1_project/YOLOv8_epoch100_hyperparameters/pill_yolo_exp, rect=False, resume=False, retina_masks=False, save=True, save_conf=False, save_crop=False, save_dir=/content/drive/MyDrive/codeit_level1_project/YOLOv8_epoch100_hyperparameters/pill_yolo_exp/yolov8x_hyp0534_ep100, save_frames=False, save_json=False, save_period=5, save_txt=False, scale=0.5, seed=71, shear=0.0, show=False, show_boxes=True, show_conf=True, show_labels=True, simplify=True, single_cls=False, source=None, split=val, stream_buffer=False, task=detect, time=None, tracker=botsort.yaml, translate=0.1, val=True, verbose=True, vid_stride=1, visualize=False, warmup_bias_lr=0.1, warmup_epochs=2.67276, warmup_momentum=0.74631, weight_decay=0.0005, workers=4, workspace=None\n",
            "Downloading https://ultralytics.com/assets/Arial.Unicode.ttf to '/root/.config/Ultralytics/Arial.Unicode.ttf'...\n"
          ]
        },
        {
          "output_type": "stream",
          "name": "stderr",
          "text": [
            "100%|██████████| 22.2M/22.2M [00:00<00:00, 41.6MB/s]"
          ]
        },
        {
          "output_type": "stream",
          "name": "stdout",
          "text": [
            "Overriding model.yaml nc=80 with nc=73\n",
            "\n",
            "                   from  n    params  module                                       arguments                     \n",
            "  0                  -1  1      2320  ultralytics.nn.modules.conv.Conv             [3, 80, 3, 2]                 \n",
            "  1                  -1  1    115520  ultralytics.nn.modules.conv.Conv             [80, 160, 3, 2]               \n",
            "  2                  -1  3    436800  ultralytics.nn.modules.block.C2f             [160, 160, 3, True]           \n",
            "  3                  -1  1    461440  ultralytics.nn.modules.conv.Conv             [160, 320, 3, 2]              \n",
            "  4                  -1  6   3281920  ultralytics.nn.modules.block.C2f             [320, 320, 6, True]           \n",
            "  5                  -1  1   1844480  ultralytics.nn.modules.conv.Conv             [320, 640, 3, 2]              \n"
          ]
        },
        {
          "output_type": "stream",
          "name": "stderr",
          "text": [
            "\n"
          ]
        },
        {
          "output_type": "stream",
          "name": "stdout",
          "text": [
            "  6                  -1  6  13117440  ultralytics.nn.modules.block.C2f             [640, 640, 6, True]           \n",
            "  7                  -1  1   3687680  ultralytics.nn.modules.conv.Conv             [640, 640, 3, 2]              \n",
            "  8                  -1  3   6969600  ultralytics.nn.modules.block.C2f             [640, 640, 3, True]           \n",
            "  9                  -1  1   1025920  ultralytics.nn.modules.block.SPPF            [640, 640, 5]                 \n",
            " 10                  -1  1         0  torch.nn.modules.upsampling.Upsample         [None, 2, 'nearest']          \n",
            " 11             [-1, 6]  1         0  ultralytics.nn.modules.conv.Concat           [1]                           \n",
            " 12                  -1  3   7379200  ultralytics.nn.modules.block.C2f             [1280, 640, 3]                \n",
            " 13                  -1  1         0  torch.nn.modules.upsampling.Upsample         [None, 2, 'nearest']          \n",
            " 14             [-1, 4]  1         0  ultralytics.nn.modules.conv.Concat           [1]                           \n",
            " 15                  -1  3   1948800  ultralytics.nn.modules.block.C2f             [960, 320, 3]                 \n",
            " 16                  -1  1    922240  ultralytics.nn.modules.conv.Conv             [320, 320, 3, 2]              \n",
            " 17            [-1, 12]  1         0  ultralytics.nn.modules.conv.Concat           [1]                           \n",
            " 18                  -1  3   7174400  ultralytics.nn.modules.block.C2f             [960, 640, 3]                 \n",
            " 19                  -1  1   3687680  ultralytics.nn.modules.conv.Conv             [640, 640, 3, 2]              \n",
            " 20             [-1, 9]  1         0  ultralytics.nn.modules.conv.Concat           [1]                           \n",
            " 21                  -1  3   7379200  ultralytics.nn.modules.block.C2f             [1280, 640, 3]                \n",
            " 22        [15, 18, 21]  1   8788267  ultralytics.nn.modules.head.Detect           [73, [320, 640, 640]]         \n",
            "Model summary: 209 layers, 68,222,907 parameters, 68,222,891 gradients, 258.5 GFLOPs\n",
            "\n",
            "Transferred 589/595 items from pretrained weights\n",
            "Freezing layer 'model.22.dfl.conv.weight'\n",
            "\u001b[34m\u001b[1mAMP: \u001b[0mrunning Automatic Mixed Precision (AMP) checks...\n",
            "Downloading https://github.com/ultralytics/assets/releases/download/v8.3.0/yolo11n.pt to 'yolo11n.pt'...\n"
          ]
        },
        {
          "output_type": "stream",
          "name": "stderr",
          "text": [
            "100%|██████████| 5.35M/5.35M [00:00<00:00, 314MB/s]\n"
          ]
        },
        {
          "output_type": "stream",
          "name": "stdout",
          "text": [
            "\u001b[34m\u001b[1mAMP: \u001b[0mchecks passed ✅\n",
            "\u001b[34m\u001b[1mtrain: \u001b[0mFast image access ✅ (ping: 0.4±0.1 ms, read: 1.9±0.6 MB/s, size: 1723.5 KB)\n"
          ]
        },
        {
          "output_type": "stream",
          "name": "stderr",
          "text": [
            "\u001b[34m\u001b[1mtrain: \u001b[0mScanning /content/drive/MyDrive/codeit_level1_project/data/labels/train.cache... 1192 images, 0 backgrounds, 0 corrupt: 100%|██████████| 1192/1192 [00:00<?, ?it/s]\n"
          ]
        },
        {
          "output_type": "stream",
          "name": "stdout",
          "text": [
            "\u001b[34m\u001b[1malbumentations: \u001b[0mBlur(p=0.01, blur_limit=(3, 7)), MedianBlur(p=0.01, blur_limit=(3, 7)), ToGray(p=0.01, method='weighted_average', num_output_channels=3), CLAHE(p=0.01, clip_limit=(1.0, 4.0), tile_grid_size=(8, 8))\n",
            "\u001b[34m\u001b[1mval: \u001b[0mFast image access ✅ (ping: 0.4±0.0 ms, read: 1.9±0.5 MB/s, size: 1737.6 KB)\n"
          ]
        },
        {
          "output_type": "stream",
          "name": "stderr",
          "text": [
            "\u001b[34m\u001b[1mval: \u001b[0mScanning /content/drive/MyDrive/codeit_level1_project/data/labels/val.cache... 297 images, 0 backgrounds, 2 corrupt: 100%|██████████| 297/297 [00:00<?, ?it/s]"
          ]
        },
        {
          "output_type": "stream",
          "name": "stdout",
          "text": [
            "\u001b[34m\u001b[1mval: \u001b[0m/content/drive/MyDrive/codeit_level1_project/data/images/val/K-003351-016262-018357_0_2_0_2_75_000_200.png: ignoring corrupt image/label: non-normalized or out of bounds coordinates [     6.8878]\n",
            "\u001b[34m\u001b[1mval: \u001b[0m/content/drive/MyDrive/codeit_level1_project/data/images/val/K-003544-004543-012247-016551_0_2_0_2_70_000_200.png: ignoring corrupt image/label: non-normalized or out of bounds coordinates [     7.0293]\n"
          ]
        },
        {
          "output_type": "stream",
          "name": "stderr",
          "text": [
            "\n"
          ]
        },
        {
          "output_type": "stream",
          "name": "stdout",
          "text": [
            "Plotting labels to /content/drive/MyDrive/codeit_level1_project/YOLOv8_epoch100_hyperparameters/pill_yolo_exp/yolov8x_hyp0534_ep100/labels.jpg... \n",
            "\u001b[34m\u001b[1moptimizer:\u001b[0m AdamW(lr=0.0092, momentum=0.76932) with parameter groups 97 weight(decay=0.0), 104 weight(decay=0.0005), 103 bias(decay=0.0)\n",
            "Image sizes 640 train, 640 val\n",
            "Using 4 dataloader workers\n",
            "Logging results to \u001b[1m/content/drive/MyDrive/codeit_level1_project/YOLOv8_epoch100_hyperparameters/pill_yolo_exp/yolov8x_hyp0534_ep100\u001b[0m\n",
            "Starting training for 100 epochs...\n",
            "\n",
            "      Epoch    GPU_mem   box_loss   cls_loss   dfl_loss  Instances       Size\n"
          ]
        },
        {
          "output_type": "stream",
          "name": "stderr",
          "text": [
            "      1/100      11.7G    0.02864      3.964      1.733        101        640:   5%|▌         | 4/75 [00:32<05:23,  4.56s/it]"
          ]
        },
        {
          "output_type": "stream",
          "name": "stdout",
          "text": [
            "Downloading https://ultralytics.com/assets/Arial.ttf to '/root/.config/Ultralytics/Arial.ttf'...\n"
          ]
        },
        {
          "output_type": "stream",
          "name": "stderr",
          "text": [
            "      1/100      11.7G    0.02887      3.957      1.745         95        640:   7%|▋         | 5/75 [00:34<04:06,  3.52s/it]\n",
            "100%|██████████| 755k/755k [00:00<00:00, 91.8MB/s]\n",
            "      1/100      11.8G     0.0285      3.744      1.756         42        640: 100%|██████████| 75/75 [01:29<00:00,  1.19s/it]\n",
            "                 Class     Images  Instances      Box(P          R      mAP50  mAP50-95): 100%|██████████| 10/10 [00:16<00:00,  1.64s/it]"
          ]
        },
        {
          "output_type": "stream",
          "name": "stdout",
          "text": [
            "                   all        295        890          0          0          0          0\n"
          ]
        },
        {
          "output_type": "stream",
          "name": "stderr",
          "text": [
            "\n"
          ]
        },
        {
          "output_type": "stream",
          "name": "stdout",
          "text": [
            "\n",
            "      Epoch    GPU_mem   box_loss   cls_loss   dfl_loss  Instances       Size\n"
          ]
        },
        {
          "output_type": "stream",
          "name": "stderr",
          "text": [
            "      2/100      13.3G    0.02144      2.671      1.511         49        640: 100%|██████████| 75/75 [00:18<00:00,  3.95it/s]\n",
            "                 Class     Images  Instances      Box(P          R      mAP50  mAP50-95): 100%|██████████| 10/10 [00:11<00:00,  1.10s/it]"
          ]
        },
        {
          "output_type": "stream",
          "name": "stdout",
          "text": [
            "                   all        295        890    0.00024    0.00562   0.000125   2.48e-05\n"
          ]
        },
        {
          "output_type": "stream",
          "name": "stderr",
          "text": [
            "\n"
          ]
        },
        {
          "output_type": "stream",
          "name": "stdout",
          "text": [
            "\n",
            "      Epoch    GPU_mem   box_loss   cls_loss   dfl_loss  Instances       Size\n"
          ]
        },
        {
          "output_type": "stream",
          "name": "stderr",
          "text": [
            "      3/100      13.3G    0.02116      2.525      1.495         60        640: 100%|██████████| 75/75 [00:25<00:00,  2.99it/s]\n",
            "                 Class     Images  Instances      Box(P          R      mAP50  mAP50-95): 100%|██████████| 10/10 [00:01<00:00,  5.08it/s]"
          ]
        },
        {
          "output_type": "stream",
          "name": "stdout",
          "text": [
            "                   all        295        890          0          0          0          0\n"
          ]
        },
        {
          "output_type": "stream",
          "name": "stderr",
          "text": [
            "\n"
          ]
        },
        {
          "output_type": "stream",
          "name": "stdout",
          "text": [
            "\n",
            "      Epoch    GPU_mem   box_loss   cls_loss   dfl_loss  Instances       Size\n"
          ]
        },
        {
          "output_type": "stream",
          "name": "stderr",
          "text": [
            "      4/100      13.3G     0.0159      2.208      1.285         42        640: 100%|██████████| 75/75 [00:23<00:00,  3.16it/s]\n",
            "                 Class     Images  Instances      Box(P          R      mAP50  mAP50-95): 100%|██████████| 10/10 [00:02<00:00,  4.49it/s]\n"
          ]
        },
        {
          "output_type": "stream",
          "name": "stdout",
          "text": [
            "                   all        295        890      0.484      0.226      0.116     0.0996\n",
            "\n",
            "      Epoch    GPU_mem   box_loss   cls_loss   dfl_loss  Instances       Size\n"
          ]
        },
        {
          "output_type": "stream",
          "name": "stderr",
          "text": [
            "      5/100      13.4G    0.01466      1.951       1.22         45        640: 100%|██████████| 75/75 [00:25<00:00,  2.97it/s]\n",
            "                 Class     Images  Instances      Box(P          R      mAP50  mAP50-95): 100%|██████████| 10/10 [00:02<00:00,  4.47it/s]"
          ]
        },
        {
          "output_type": "stream",
          "name": "stdout",
          "text": [
            "                   all        295        890      0.472        0.4      0.195      0.168\n"
          ]
        },
        {
          "output_type": "stream",
          "name": "stderr",
          "text": [
            "\n"
          ]
        },
        {
          "output_type": "stream",
          "name": "stdout",
          "text": [
            "\n",
            "      Epoch    GPU_mem   box_loss   cls_loss   dfl_loss  Instances       Size\n"
          ]
        },
        {
          "output_type": "stream",
          "name": "stderr",
          "text": [
            "      6/100      13.4G    0.01336      1.759      1.178         40        640: 100%|██████████| 75/75 [00:24<00:00,  3.02it/s]\n",
            "                 Class     Images  Instances      Box(P          R      mAP50  mAP50-95): 100%|██████████| 10/10 [00:02<00:00,  4.89it/s]"
          ]
        },
        {
          "output_type": "stream",
          "name": "stdout",
          "text": [
            "                   all        295        890      0.375      0.302      0.195      0.171\n"
          ]
        },
        {
          "output_type": "stream",
          "name": "stderr",
          "text": [
            "\n"
          ]
        },
        {
          "output_type": "stream",
          "name": "stdout",
          "text": [
            "\n",
            "      Epoch    GPU_mem   box_loss   cls_loss   dfl_loss  Instances       Size\n"
          ]
        },
        {
          "output_type": "stream",
          "name": "stderr",
          "text": [
            "      7/100      13.4G    0.01198      1.546       1.12         42        640: 100%|██████████| 75/75 [00:24<00:00,  3.12it/s]\n",
            "                 Class     Images  Instances      Box(P          R      mAP50  mAP50-95): 100%|██████████| 10/10 [00:02<00:00,  4.47it/s]\n"
          ]
        },
        {
          "output_type": "stream",
          "name": "stdout",
          "text": [
            "                   all        295        890      0.329      0.357      0.228      0.199\n",
            "\n",
            "      Epoch    GPU_mem   box_loss   cls_loss   dfl_loss  Instances       Size\n"
          ]
        },
        {
          "output_type": "stream",
          "name": "stderr",
          "text": [
            "      8/100      13.4G    0.01151      1.469      1.097         40        640: 100%|██████████| 75/75 [00:25<00:00,  2.95it/s]\n",
            "                 Class     Images  Instances      Box(P          R      mAP50  mAP50-95): 100%|██████████| 10/10 [00:02<00:00,  3.80it/s]\n"
          ]
        },
        {
          "output_type": "stream",
          "name": "stdout",
          "text": [
            "                   all        295        890      0.404      0.428      0.272      0.236\n",
            "\n",
            "      Epoch    GPU_mem   box_loss   cls_loss   dfl_loss  Instances       Size\n"
          ]
        },
        {
          "output_type": "stream",
          "name": "stderr",
          "text": [
            "      9/100      13.4G    0.01112      1.385      1.094         32        640: 100%|██████████| 75/75 [00:25<00:00,  2.95it/s]\n",
            "                 Class     Images  Instances      Box(P          R      mAP50  mAP50-95): 100%|██████████| 10/10 [00:02<00:00,  4.58it/s]\n"
          ]
        },
        {
          "output_type": "stream",
          "name": "stdout",
          "text": [
            "                   all        295        890      0.527      0.336      0.272      0.237\n",
            "\n",
            "      Epoch    GPU_mem   box_loss   cls_loss   dfl_loss  Instances       Size\n"
          ]
        },
        {
          "output_type": "stream",
          "name": "stderr",
          "text": [
            "     10/100      13.4G    0.01117        1.3      1.087         46        640: 100%|██████████| 75/75 [00:25<00:00,  2.95it/s]\n",
            "                 Class     Images  Instances      Box(P          R      mAP50  mAP50-95): 100%|██████████| 10/10 [00:02<00:00,  4.63it/s]"
          ]
        },
        {
          "output_type": "stream",
          "name": "stdout",
          "text": [
            "                   all        295        890      0.382      0.582       0.38      0.344\n"
          ]
        },
        {
          "output_type": "stream",
          "name": "stderr",
          "text": [
            "\n"
          ]
        },
        {
          "output_type": "stream",
          "name": "stdout",
          "text": [
            "\n",
            "      Epoch    GPU_mem   box_loss   cls_loss   dfl_loss  Instances       Size\n"
          ]
        },
        {
          "output_type": "stream",
          "name": "stderr",
          "text": [
            "     11/100      13.4G    0.01089      1.241       1.07         52        640: 100%|██████████| 75/75 [00:25<00:00,  3.00it/s]\n",
            "                 Class     Images  Instances      Box(P          R      mAP50  mAP50-95): 100%|██████████| 10/10 [00:02<00:00,  4.43it/s]\n"
          ]
        },
        {
          "output_type": "stream",
          "name": "stdout",
          "text": [
            "                   all        295        890       0.43      0.475      0.387      0.347\n",
            "\n",
            "      Epoch    GPU_mem   box_loss   cls_loss   dfl_loss  Instances       Size\n"
          ]
        },
        {
          "output_type": "stream",
          "name": "stderr",
          "text": [
            "     12/100      14.5G    0.01036      1.186      1.049         48        640: 100%|██████████| 75/75 [00:26<00:00,  2.85it/s]\n",
            "                 Class     Images  Instances      Box(P          R      mAP50  mAP50-95): 100%|██████████| 10/10 [00:02<00:00,  4.52it/s]\n"
          ]
        },
        {
          "output_type": "stream",
          "name": "stdout",
          "text": [
            "                   all        295        890      0.407      0.572      0.407      0.369\n",
            "\n",
            "      Epoch    GPU_mem   box_loss   cls_loss   dfl_loss  Instances       Size\n"
          ]
        },
        {
          "output_type": "stream",
          "name": "stderr",
          "text": [
            "     13/100      14.5G    0.01016       1.14      1.054         44        640: 100%|██████████| 75/75 [00:23<00:00,  3.24it/s]\n",
            "                 Class     Images  Instances      Box(P          R      mAP50  mAP50-95): 100%|██████████| 10/10 [00:02<00:00,  4.68it/s]"
          ]
        },
        {
          "output_type": "stream",
          "name": "stdout",
          "text": [
            "                   all        295        890      0.414      0.727      0.535       0.49\n"
          ]
        },
        {
          "output_type": "stream",
          "name": "stderr",
          "text": [
            "\n"
          ]
        },
        {
          "output_type": "stream",
          "name": "stdout",
          "text": [
            "\n",
            "      Epoch    GPU_mem   box_loss   cls_loss   dfl_loss  Instances       Size\n"
          ]
        },
        {
          "output_type": "stream",
          "name": "stderr",
          "text": [
            "     14/100      14.5G   0.009648      1.066      1.027         49        640: 100%|██████████| 75/75 [00:25<00:00,  2.96it/s]\n",
            "                 Class     Images  Instances      Box(P          R      mAP50  mAP50-95): 100%|██████████| 10/10 [00:02<00:00,  4.81it/s]"
          ]
        },
        {
          "output_type": "stream",
          "name": "stdout",
          "text": [
            "                   all        295        890      0.362      0.654      0.507      0.474\n"
          ]
        },
        {
          "output_type": "stream",
          "name": "stderr",
          "text": [
            "\n"
          ]
        },
        {
          "output_type": "stream",
          "name": "stdout",
          "text": [
            "\n",
            "      Epoch    GPU_mem   box_loss   cls_loss   dfl_loss  Instances       Size\n"
          ]
        },
        {
          "output_type": "stream",
          "name": "stderr",
          "text": [
            "     15/100      14.5G   0.009778      1.042      1.044         51        640: 100%|██████████| 75/75 [00:22<00:00,  3.26it/s]\n",
            "                 Class     Images  Instances      Box(P          R      mAP50  mAP50-95): 100%|██████████| 10/10 [00:02<00:00,  4.87it/s]"
          ]
        },
        {
          "output_type": "stream",
          "name": "stdout",
          "text": [
            "                   all        295        890      0.493       0.71      0.605      0.568\n"
          ]
        },
        {
          "output_type": "stream",
          "name": "stderr",
          "text": [
            "\n"
          ]
        },
        {
          "output_type": "stream",
          "name": "stdout",
          "text": [
            "\n",
            "      Epoch    GPU_mem   box_loss   cls_loss   dfl_loss  Instances       Size\n"
          ]
        },
        {
          "output_type": "stream",
          "name": "stderr",
          "text": [
            "     16/100      14.5G    0.00961     0.9939      1.022         58        640: 100%|██████████| 75/75 [00:25<00:00,  2.99it/s]\n",
            "                 Class     Images  Instances      Box(P          R      mAP50  mAP50-95): 100%|██████████| 10/10 [00:02<00:00,  4.58it/s]"
          ]
        },
        {
          "output_type": "stream",
          "name": "stdout",
          "text": [
            "                   all        295        890      0.411      0.691      0.552      0.506\n"
          ]
        },
        {
          "output_type": "stream",
          "name": "stderr",
          "text": [
            "\n"
          ]
        },
        {
          "output_type": "stream",
          "name": "stdout",
          "text": [
            "\n",
            "      Epoch    GPU_mem   box_loss   cls_loss   dfl_loss  Instances       Size\n"
          ]
        },
        {
          "output_type": "stream",
          "name": "stderr",
          "text": [
            "     17/100      14.5G   0.009646     0.9773      1.021         46        640: 100%|██████████| 75/75 [00:23<00:00,  3.22it/s]\n",
            "                 Class     Images  Instances      Box(P          R      mAP50  mAP50-95): 100%|██████████| 10/10 [00:02<00:00,  4.85it/s]"
          ]
        },
        {
          "output_type": "stream",
          "name": "stdout",
          "text": [
            "                   all        295        890       0.46      0.789      0.642      0.602\n"
          ]
        },
        {
          "output_type": "stream",
          "name": "stderr",
          "text": [
            "\n"
          ]
        },
        {
          "output_type": "stream",
          "name": "stdout",
          "text": [
            "\n",
            "      Epoch    GPU_mem   box_loss   cls_loss   dfl_loss  Instances       Size\n"
          ]
        },
        {
          "output_type": "stream",
          "name": "stderr",
          "text": [
            "     18/100      14.5G   0.009072     0.9324      1.007         44        640: 100%|██████████| 75/75 [00:17<00:00,  4.22it/s]\n",
            "                 Class     Images  Instances      Box(P          R      mAP50  mAP50-95): 100%|██████████| 10/10 [00:02<00:00,  4.67it/s]"
          ]
        },
        {
          "output_type": "stream",
          "name": "stdout",
          "text": [
            "                   all        295        890      0.539       0.73      0.694      0.654\n"
          ]
        },
        {
          "output_type": "stream",
          "name": "stderr",
          "text": [
            "\n"
          ]
        },
        {
          "output_type": "stream",
          "name": "stdout",
          "text": [
            "\n",
            "      Epoch    GPU_mem   box_loss   cls_loss   dfl_loss  Instances       Size\n"
          ]
        },
        {
          "output_type": "stream",
          "name": "stderr",
          "text": [
            "     19/100      14.5G   0.009099     0.9107      1.008         31        640: 100%|██████████| 75/75 [00:24<00:00,  3.11it/s]\n",
            "                 Class     Images  Instances      Box(P          R      mAP50  mAP50-95): 100%|██████████| 10/10 [00:02<00:00,  4.75it/s]"
          ]
        },
        {
          "output_type": "stream",
          "name": "stdout",
          "text": [
            "                   all        295        890      0.482      0.715      0.639      0.605\n"
          ]
        },
        {
          "output_type": "stream",
          "name": "stderr",
          "text": [
            "\n"
          ]
        },
        {
          "output_type": "stream",
          "name": "stdout",
          "text": [
            "\n",
            "      Epoch    GPU_mem   box_loss   cls_loss   dfl_loss  Instances       Size\n"
          ]
        },
        {
          "output_type": "stream",
          "name": "stderr",
          "text": [
            "     20/100      14.5G   0.008739     0.8669      0.987         49        640: 100%|██████████| 75/75 [00:24<00:00,  3.11it/s]\n",
            "                 Class     Images  Instances      Box(P          R      mAP50  mAP50-95): 100%|██████████| 10/10 [00:02<00:00,  4.87it/s]"
          ]
        },
        {
          "output_type": "stream",
          "name": "stdout",
          "text": [
            "                   all        295        890      0.519      0.759      0.702       0.66\n"
          ]
        },
        {
          "output_type": "stream",
          "name": "stderr",
          "text": [
            "\n"
          ]
        },
        {
          "output_type": "stream",
          "name": "stdout",
          "text": [
            "\n",
            "      Epoch    GPU_mem   box_loss   cls_loss   dfl_loss  Instances       Size\n"
          ]
        },
        {
          "output_type": "stream",
          "name": "stderr",
          "text": [
            "     21/100      14.5G   0.008775     0.8915     0.9987         30        640: 100%|██████████| 75/75 [00:25<00:00,  2.99it/s]\n",
            "                 Class     Images  Instances      Box(P          R      mAP50  mAP50-95): 100%|██████████| 10/10 [00:02<00:00,  4.68it/s]"
          ]
        },
        {
          "output_type": "stream",
          "name": "stdout",
          "text": [
            "                   all        295        890      0.464      0.834      0.678       0.63\n"
          ]
        },
        {
          "output_type": "stream",
          "name": "stderr",
          "text": [
            "\n"
          ]
        },
        {
          "output_type": "stream",
          "name": "stdout",
          "text": [
            "\n",
            "      Epoch    GPU_mem   box_loss   cls_loss   dfl_loss  Instances       Size\n"
          ]
        },
        {
          "output_type": "stream",
          "name": "stderr",
          "text": [
            "     22/100      14.5G    0.00909     0.8679      1.011         46        640: 100%|██████████| 75/75 [00:18<00:00,  4.16it/s]\n",
            "                 Class     Images  Instances      Box(P          R      mAP50  mAP50-95): 100%|██████████| 10/10 [00:02<00:00,  4.82it/s]"
          ]
        },
        {
          "output_type": "stream",
          "name": "stdout",
          "text": [
            "                   all        295        890      0.506      0.839      0.657       0.62\n"
          ]
        },
        {
          "output_type": "stream",
          "name": "stderr",
          "text": [
            "\n"
          ]
        },
        {
          "output_type": "stream",
          "name": "stdout",
          "text": [
            "\n",
            "      Epoch    GPU_mem   box_loss   cls_loss   dfl_loss  Instances       Size\n"
          ]
        },
        {
          "output_type": "stream",
          "name": "stderr",
          "text": [
            "     23/100      14.5G   0.008823     0.8308     0.9957         54        640: 100%|██████████| 75/75 [00:23<00:00,  3.14it/s]\n",
            "                 Class     Images  Instances      Box(P          R      mAP50  mAP50-95): 100%|██████████| 10/10 [00:02<00:00,  4.56it/s]"
          ]
        },
        {
          "output_type": "stream",
          "name": "stdout",
          "text": [
            "                   all        295        890      0.408      0.738      0.636      0.598\n"
          ]
        },
        {
          "output_type": "stream",
          "name": "stderr",
          "text": [
            "\n"
          ]
        },
        {
          "output_type": "stream",
          "name": "stdout",
          "text": [
            "\n",
            "      Epoch    GPU_mem   box_loss   cls_loss   dfl_loss  Instances       Size\n"
          ]
        },
        {
          "output_type": "stream",
          "name": "stderr",
          "text": [
            "     24/100      14.5G   0.008688     0.8032     0.9922         42        640: 100%|██████████| 75/75 [00:23<00:00,  3.14it/s]\n",
            "                 Class     Images  Instances      Box(P          R      mAP50  mAP50-95): 100%|██████████| 10/10 [00:02<00:00,  4.77it/s]"
          ]
        },
        {
          "output_type": "stream",
          "name": "stdout",
          "text": [
            "                   all        295        890      0.489      0.774      0.674      0.636\n"
          ]
        },
        {
          "output_type": "stream",
          "name": "stderr",
          "text": [
            "\n"
          ]
        },
        {
          "output_type": "stream",
          "name": "stdout",
          "text": [
            "\n",
            "      Epoch    GPU_mem   box_loss   cls_loss   dfl_loss  Instances       Size\n"
          ]
        },
        {
          "output_type": "stream",
          "name": "stderr",
          "text": [
            "     25/100      14.5G   0.008464     0.7966     0.9863         41        640: 100%|██████████| 75/75 [00:19<00:00,  3.83it/s]\n",
            "                 Class     Images  Instances      Box(P          R      mAP50  mAP50-95): 100%|██████████| 10/10 [00:02<00:00,  4.59it/s]"
          ]
        },
        {
          "output_type": "stream",
          "name": "stdout",
          "text": [
            "                   all        295        890      0.549      0.818      0.721      0.678\n"
          ]
        },
        {
          "output_type": "stream",
          "name": "stderr",
          "text": [
            "\n"
          ]
        },
        {
          "output_type": "stream",
          "name": "stdout",
          "text": [
            "\n",
            "      Epoch    GPU_mem   box_loss   cls_loss   dfl_loss  Instances       Size\n"
          ]
        },
        {
          "output_type": "stream",
          "name": "stderr",
          "text": [
            "     26/100      14.5G   0.008384     0.7839      0.984         55        640: 100%|██████████| 75/75 [00:24<00:00,  3.02it/s]\n",
            "                 Class     Images  Instances      Box(P          R      mAP50  mAP50-95): 100%|██████████| 10/10 [00:02<00:00,  4.61it/s]"
          ]
        },
        {
          "output_type": "stream",
          "name": "stdout",
          "text": [
            "                   all        295        890      0.573      0.743      0.698      0.665\n"
          ]
        },
        {
          "output_type": "stream",
          "name": "stderr",
          "text": [
            "\n"
          ]
        },
        {
          "output_type": "stream",
          "name": "stdout",
          "text": [
            "\n",
            "      Epoch    GPU_mem   box_loss   cls_loss   dfl_loss  Instances       Size\n"
          ]
        },
        {
          "output_type": "stream",
          "name": "stderr",
          "text": [
            "     27/100      14.5G   0.008346     0.7849     0.9834         51        640: 100%|██████████| 75/75 [00:24<00:00,  3.05it/s]\n",
            "                 Class     Images  Instances      Box(P          R      mAP50  mAP50-95): 100%|██████████| 10/10 [00:02<00:00,  4.70it/s]"
          ]
        },
        {
          "output_type": "stream",
          "name": "stdout",
          "text": [
            "                   all        295        890      0.531      0.807      0.738      0.701\n"
          ]
        },
        {
          "output_type": "stream",
          "name": "stderr",
          "text": [
            "\n"
          ]
        },
        {
          "output_type": "stream",
          "name": "stdout",
          "text": [
            "\n",
            "      Epoch    GPU_mem   box_loss   cls_loss   dfl_loss  Instances       Size\n"
          ]
        },
        {
          "output_type": "stream",
          "name": "stderr",
          "text": [
            "     28/100      14.5G   0.008354      0.771     0.9836         39        640: 100%|██████████| 75/75 [00:18<00:00,  4.14it/s]\n",
            "                 Class     Images  Instances      Box(P          R      mAP50  mAP50-95): 100%|██████████| 10/10 [00:01<00:00,  5.07it/s]"
          ]
        },
        {
          "output_type": "stream",
          "name": "stdout",
          "text": [
            "                   all        295        890      0.541      0.848      0.728        0.7\n"
          ]
        },
        {
          "output_type": "stream",
          "name": "stderr",
          "text": [
            "\n"
          ]
        },
        {
          "output_type": "stream",
          "name": "stdout",
          "text": [
            "\n",
            "      Epoch    GPU_mem   box_loss   cls_loss   dfl_loss  Instances       Size\n"
          ]
        },
        {
          "output_type": "stream",
          "name": "stderr",
          "text": [
            "     29/100      14.5G   0.008234      0.737     0.9765         43        640: 100%|██████████| 75/75 [00:16<00:00,  4.42it/s]\n",
            "                 Class     Images  Instances      Box(P          R      mAP50  mAP50-95): 100%|██████████| 10/10 [00:02<00:00,  4.93it/s]"
          ]
        },
        {
          "output_type": "stream",
          "name": "stdout",
          "text": [
            "                   all        295        890        0.7       0.77      0.788      0.755\n"
          ]
        },
        {
          "output_type": "stream",
          "name": "stderr",
          "text": [
            "\n"
          ]
        },
        {
          "output_type": "stream",
          "name": "stdout",
          "text": [
            "\n",
            "      Epoch    GPU_mem   box_loss   cls_loss   dfl_loss  Instances       Size\n"
          ]
        },
        {
          "output_type": "stream",
          "name": "stderr",
          "text": [
            "     30/100      14.5G    0.00826     0.7178     0.9754         55        640: 100%|██████████| 75/75 [00:17<00:00,  4.24it/s]\n",
            "                 Class     Images  Instances      Box(P          R      mAP50  mAP50-95): 100%|██████████| 10/10 [00:02<00:00,  4.76it/s]"
          ]
        },
        {
          "output_type": "stream",
          "name": "stdout",
          "text": [
            "                   all        295        890       0.54      0.783      0.723      0.663\n"
          ]
        },
        {
          "output_type": "stream",
          "name": "stderr",
          "text": [
            "\n"
          ]
        },
        {
          "output_type": "stream",
          "name": "stdout",
          "text": [
            "\n",
            "      Epoch    GPU_mem   box_loss   cls_loss   dfl_loss  Instances       Size\n"
          ]
        },
        {
          "output_type": "stream",
          "name": "stderr",
          "text": [
            "     31/100      14.5G   0.008255     0.7258     0.9727         47        640: 100%|██████████| 75/75 [00:16<00:00,  4.52it/s]\n",
            "                 Class     Images  Instances      Box(P          R      mAP50  mAP50-95): 100%|██████████| 10/10 [00:02<00:00,  4.87it/s]"
          ]
        },
        {
          "output_type": "stream",
          "name": "stdout",
          "text": [
            "                   all        295        890      0.584      0.724      0.694      0.656\n"
          ]
        },
        {
          "output_type": "stream",
          "name": "stderr",
          "text": [
            "\n"
          ]
        },
        {
          "output_type": "stream",
          "name": "stdout",
          "text": [
            "\n",
            "      Epoch    GPU_mem   box_loss   cls_loss   dfl_loss  Instances       Size\n"
          ]
        },
        {
          "output_type": "stream",
          "name": "stderr",
          "text": [
            "     32/100      14.5G   0.008091     0.6885     0.9772         51        640: 100%|██████████| 75/75 [00:18<00:00,  4.16it/s]\n",
            "                 Class     Images  Instances      Box(P          R      mAP50  mAP50-95): 100%|██████████| 10/10 [00:02<00:00,  4.98it/s]"
          ]
        },
        {
          "output_type": "stream",
          "name": "stdout",
          "text": [
            "                   all        295        890      0.552      0.851      0.767      0.727\n"
          ]
        },
        {
          "output_type": "stream",
          "name": "stderr",
          "text": [
            "\n"
          ]
        },
        {
          "output_type": "stream",
          "name": "stdout",
          "text": [
            "\n",
            "      Epoch    GPU_mem   box_loss   cls_loss   dfl_loss  Instances       Size\n"
          ]
        },
        {
          "output_type": "stream",
          "name": "stderr",
          "text": [
            "     33/100      14.5G   0.007816     0.6713     0.9621         47        640: 100%|██████████| 75/75 [00:16<00:00,  4.46it/s]\n",
            "                 Class     Images  Instances      Box(P          R      mAP50  mAP50-95): 100%|██████████| 10/10 [00:02<00:00,  4.72it/s]"
          ]
        },
        {
          "output_type": "stream",
          "name": "stdout",
          "text": [
            "                   all        295        890      0.584       0.91        0.8      0.763\n"
          ]
        },
        {
          "output_type": "stream",
          "name": "stderr",
          "text": [
            "\n"
          ]
        },
        {
          "output_type": "stream",
          "name": "stdout",
          "text": [
            "\n",
            "      Epoch    GPU_mem   box_loss   cls_loss   dfl_loss  Instances       Size\n"
          ]
        },
        {
          "output_type": "stream",
          "name": "stderr",
          "text": [
            "     34/100      14.5G    0.00791     0.6767     0.9711         56        640: 100%|██████████| 75/75 [00:24<00:00,  3.05it/s]\n",
            "                 Class     Images  Instances      Box(P          R      mAP50  mAP50-95): 100%|██████████| 10/10 [00:02<00:00,  4.76it/s]"
          ]
        },
        {
          "output_type": "stream",
          "name": "stdout",
          "text": [
            "                   all        295        890      0.558      0.894       0.74      0.709\n"
          ]
        },
        {
          "output_type": "stream",
          "name": "stderr",
          "text": [
            "\n"
          ]
        },
        {
          "output_type": "stream",
          "name": "stdout",
          "text": [
            "\n",
            "      Epoch    GPU_mem   box_loss   cls_loss   dfl_loss  Instances       Size\n"
          ]
        },
        {
          "output_type": "stream",
          "name": "stderr",
          "text": [
            "     35/100      14.5G   0.008004     0.6916     0.9758         48        640: 100%|██████████| 75/75 [00:22<00:00,  3.27it/s]\n",
            "                 Class     Images  Instances      Box(P          R      mAP50  mAP50-95): 100%|██████████| 10/10 [00:02<00:00,  4.63it/s]"
          ]
        },
        {
          "output_type": "stream",
          "name": "stdout",
          "text": [
            "                   all        295        890      0.602      0.881      0.773      0.743\n"
          ]
        },
        {
          "output_type": "stream",
          "name": "stderr",
          "text": [
            "\n"
          ]
        },
        {
          "output_type": "stream",
          "name": "stdout",
          "text": [
            "\n",
            "      Epoch    GPU_mem   box_loss   cls_loss   dfl_loss  Instances       Size\n"
          ]
        },
        {
          "output_type": "stream",
          "name": "stderr",
          "text": [
            "     36/100      14.5G   0.007812     0.6724     0.9608         49        640: 100%|██████████| 75/75 [00:16<00:00,  4.48it/s]\n",
            "                 Class     Images  Instances      Box(P          R      mAP50  mAP50-95): 100%|██████████| 10/10 [00:02<00:00,  4.95it/s]"
          ]
        },
        {
          "output_type": "stream",
          "name": "stdout",
          "text": [
            "                   all        295        890      0.624      0.809      0.765      0.724\n"
          ]
        },
        {
          "output_type": "stream",
          "name": "stderr",
          "text": [
            "\n"
          ]
        },
        {
          "output_type": "stream",
          "name": "stdout",
          "text": [
            "\n",
            "      Epoch    GPU_mem   box_loss   cls_loss   dfl_loss  Instances       Size\n"
          ]
        },
        {
          "output_type": "stream",
          "name": "stderr",
          "text": [
            "     37/100      14.5G   0.007872     0.6758     0.9644         31        640: 100%|██████████| 75/75 [00:16<00:00,  4.47it/s]\n",
            "                 Class     Images  Instances      Box(P          R      mAP50  mAP50-95): 100%|██████████| 10/10 [00:02<00:00,  4.90it/s]"
          ]
        },
        {
          "output_type": "stream",
          "name": "stdout",
          "text": [
            "                   all        295        890      0.675      0.885      0.822      0.792\n"
          ]
        },
        {
          "output_type": "stream",
          "name": "stderr",
          "text": [
            "\n"
          ]
        },
        {
          "output_type": "stream",
          "name": "stdout",
          "text": [
            "\n",
            "      Epoch    GPU_mem   box_loss   cls_loss   dfl_loss  Instances       Size\n"
          ]
        },
        {
          "output_type": "stream",
          "name": "stderr",
          "text": [
            "     38/100      14.5G   0.007708     0.6561     0.9634         42        640: 100%|██████████| 75/75 [00:17<00:00,  4.37it/s]\n",
            "                 Class     Images  Instances      Box(P          R      mAP50  mAP50-95): 100%|██████████| 10/10 [00:01<00:00,  5.35it/s]"
          ]
        },
        {
          "output_type": "stream",
          "name": "stdout",
          "text": [
            "                   all        295        890       0.64      0.915      0.806      0.775\n"
          ]
        },
        {
          "output_type": "stream",
          "name": "stderr",
          "text": [
            "\n"
          ]
        },
        {
          "output_type": "stream",
          "name": "stdout",
          "text": [
            "\n",
            "      Epoch    GPU_mem   box_loss   cls_loss   dfl_loss  Instances       Size\n"
          ]
        },
        {
          "output_type": "stream",
          "name": "stderr",
          "text": [
            "     39/100      14.5G   0.007699     0.6591     0.9617         42        640: 100%|██████████| 75/75 [00:22<00:00,  3.27it/s]\n",
            "                 Class     Images  Instances      Box(P          R      mAP50  mAP50-95): 100%|██████████| 10/10 [00:02<00:00,  4.48it/s]"
          ]
        },
        {
          "output_type": "stream",
          "name": "stdout",
          "text": [
            "                   all        295        890      0.664       0.86      0.819      0.784\n"
          ]
        },
        {
          "output_type": "stream",
          "name": "stderr",
          "text": [
            "\n"
          ]
        },
        {
          "output_type": "stream",
          "name": "stdout",
          "text": [
            "\n",
            "      Epoch    GPU_mem   box_loss   cls_loss   dfl_loss  Instances       Size\n"
          ]
        },
        {
          "output_type": "stream",
          "name": "stderr",
          "text": [
            "     40/100      14.5G    0.00755     0.6297     0.9544         58        640: 100%|██████████| 75/75 [00:23<00:00,  3.16it/s]\n",
            "                 Class     Images  Instances      Box(P          R      mAP50  mAP50-95): 100%|██████████| 10/10 [00:02<00:00,  4.62it/s]"
          ]
        },
        {
          "output_type": "stream",
          "name": "stdout",
          "text": [
            "                   all        295        890      0.602      0.905      0.796      0.753\n"
          ]
        },
        {
          "output_type": "stream",
          "name": "stderr",
          "text": [
            "\n"
          ]
        },
        {
          "output_type": "stream",
          "name": "stdout",
          "text": [
            "\n",
            "      Epoch    GPU_mem   box_loss   cls_loss   dfl_loss  Instances       Size\n"
          ]
        },
        {
          "output_type": "stream",
          "name": "stderr",
          "text": [
            "     41/100      14.6G    0.00736     0.6153     0.9458         46        640: 100%|██████████| 75/75 [00:23<00:00,  3.16it/s]\n",
            "                 Class     Images  Instances      Box(P          R      mAP50  mAP50-95): 100%|██████████| 10/10 [00:02<00:00,  4.64it/s]"
          ]
        },
        {
          "output_type": "stream",
          "name": "stdout",
          "text": [
            "                   all        295        890      0.666      0.895      0.822      0.796\n"
          ]
        },
        {
          "output_type": "stream",
          "name": "stderr",
          "text": [
            "\n"
          ]
        },
        {
          "output_type": "stream",
          "name": "stdout",
          "text": [
            "\n",
            "      Epoch    GPU_mem   box_loss   cls_loss   dfl_loss  Instances       Size\n"
          ]
        },
        {
          "output_type": "stream",
          "name": "stderr",
          "text": [
            "     42/100      14.6G   0.007511     0.6285     0.9499         46        640: 100%|██████████| 75/75 [00:25<00:00,  2.92it/s]\n",
            "                 Class     Images  Instances      Box(P          R      mAP50  mAP50-95): 100%|██████████| 10/10 [00:02<00:00,  4.95it/s]"
          ]
        },
        {
          "output_type": "stream",
          "name": "stdout",
          "text": [
            "                   all        295        890      0.644      0.863      0.824       0.79\n"
          ]
        },
        {
          "output_type": "stream",
          "name": "stderr",
          "text": [
            "\n"
          ]
        },
        {
          "output_type": "stream",
          "name": "stdout",
          "text": [
            "\n",
            "      Epoch    GPU_mem   box_loss   cls_loss   dfl_loss  Instances       Size\n"
          ]
        },
        {
          "output_type": "stream",
          "name": "stderr",
          "text": [
            "     43/100      14.6G   0.007489     0.6173     0.9499         50        640: 100%|██████████| 75/75 [00:16<00:00,  4.56it/s]\n",
            "                 Class     Images  Instances      Box(P          R      mAP50  mAP50-95): 100%|██████████| 10/10 [00:02<00:00,  4.92it/s]"
          ]
        },
        {
          "output_type": "stream",
          "name": "stdout",
          "text": [
            "                   all        295        890        0.7       0.89       0.82      0.789\n"
          ]
        },
        {
          "output_type": "stream",
          "name": "stderr",
          "text": [
            "\n"
          ]
        },
        {
          "output_type": "stream",
          "name": "stdout",
          "text": [
            "\n",
            "      Epoch    GPU_mem   box_loss   cls_loss   dfl_loss  Instances       Size\n"
          ]
        },
        {
          "output_type": "stream",
          "name": "stderr",
          "text": [
            "     44/100      14.6G   0.007376     0.6144     0.9526         63        640: 100%|██████████| 75/75 [00:16<00:00,  4.49it/s]\n",
            "                 Class     Images  Instances      Box(P          R      mAP50  mAP50-95): 100%|██████████| 10/10 [00:02<00:00,  4.67it/s]"
          ]
        },
        {
          "output_type": "stream",
          "name": "stdout",
          "text": [
            "                   all        295        890      0.689      0.919       0.82      0.792\n"
          ]
        },
        {
          "output_type": "stream",
          "name": "stderr",
          "text": [
            "\n"
          ]
        },
        {
          "output_type": "stream",
          "name": "stdout",
          "text": [
            "\n",
            "      Epoch    GPU_mem   box_loss   cls_loss   dfl_loss  Instances       Size\n"
          ]
        },
        {
          "output_type": "stream",
          "name": "stderr",
          "text": [
            "     45/100      14.6G   0.007346        0.6     0.9472         54        640: 100%|██████████| 75/75 [00:16<00:00,  4.49it/s]\n",
            "                 Class     Images  Instances      Box(P          R      mAP50  mAP50-95): 100%|██████████| 10/10 [00:02<00:00,  4.84it/s]"
          ]
        },
        {
          "output_type": "stream",
          "name": "stdout",
          "text": [
            "                   all        295        890      0.621      0.966      0.821      0.791\n"
          ]
        },
        {
          "output_type": "stream",
          "name": "stderr",
          "text": [
            "\n"
          ]
        },
        {
          "output_type": "stream",
          "name": "stdout",
          "text": [
            "\n",
            "      Epoch    GPU_mem   box_loss   cls_loss   dfl_loss  Instances       Size\n"
          ]
        },
        {
          "output_type": "stream",
          "name": "stderr",
          "text": [
            "     46/100      14.6G   0.007356     0.5928     0.9513         57        640: 100%|██████████| 75/75 [00:16<00:00,  4.47it/s]\n",
            "                 Class     Images  Instances      Box(P          R      mAP50  mAP50-95): 100%|██████████| 10/10 [00:01<00:00,  5.03it/s]"
          ]
        },
        {
          "output_type": "stream",
          "name": "stdout",
          "text": [
            "                   all        295        890      0.677      0.928      0.837       0.81\n"
          ]
        },
        {
          "output_type": "stream",
          "name": "stderr",
          "text": [
            "\n"
          ]
        },
        {
          "output_type": "stream",
          "name": "stdout",
          "text": [
            "\n",
            "      Epoch    GPU_mem   box_loss   cls_loss   dfl_loss  Instances       Size\n"
          ]
        },
        {
          "output_type": "stream",
          "name": "stderr",
          "text": [
            "     47/100      14.6G   0.007355     0.5862     0.9486         46        640: 100%|██████████| 75/75 [00:19<00:00,  3.94it/s]\n",
            "                 Class     Images  Instances      Box(P          R      mAP50  mAP50-95): 100%|██████████| 10/10 [00:01<00:00,  5.04it/s]"
          ]
        },
        {
          "output_type": "stream",
          "name": "stdout",
          "text": [
            "                   all        295        890      0.726      0.884      0.841      0.817\n"
          ]
        },
        {
          "output_type": "stream",
          "name": "stderr",
          "text": [
            "\n"
          ]
        },
        {
          "output_type": "stream",
          "name": "stdout",
          "text": [
            "\n",
            "      Epoch    GPU_mem   box_loss   cls_loss   dfl_loss  Instances       Size\n"
          ]
        },
        {
          "output_type": "stream",
          "name": "stderr",
          "text": [
            "     48/100      14.6G    0.00719     0.5753     0.9436         43        640: 100%|██████████| 75/75 [00:18<00:00,  4.10it/s]\n",
            "                 Class     Images  Instances      Box(P          R      mAP50  mAP50-95): 100%|██████████| 10/10 [00:02<00:00,  4.60it/s]"
          ]
        },
        {
          "output_type": "stream",
          "name": "stdout",
          "text": [
            "                   all        295        890       0.71      0.953      0.851      0.826\n"
          ]
        },
        {
          "output_type": "stream",
          "name": "stderr",
          "text": [
            "\n"
          ]
        },
        {
          "output_type": "stream",
          "name": "stdout",
          "text": [
            "\n",
            "      Epoch    GPU_mem   box_loss   cls_loss   dfl_loss  Instances       Size\n"
          ]
        },
        {
          "output_type": "stream",
          "name": "stderr",
          "text": [
            "     49/100      14.6G   0.007313     0.5758     0.9449         39        640: 100%|██████████| 75/75 [00:25<00:00,  3.00it/s]\n",
            "                 Class     Images  Instances      Box(P          R      mAP50  mAP50-95): 100%|██████████| 10/10 [00:02<00:00,  4.96it/s]"
          ]
        },
        {
          "output_type": "stream",
          "name": "stdout",
          "text": [
            "                   all        295        890      0.692      0.924      0.824        0.8\n"
          ]
        },
        {
          "output_type": "stream",
          "name": "stderr",
          "text": [
            "\n"
          ]
        },
        {
          "output_type": "stream",
          "name": "stdout",
          "text": [
            "\n",
            "      Epoch    GPU_mem   box_loss   cls_loss   dfl_loss  Instances       Size\n"
          ]
        },
        {
          "output_type": "stream",
          "name": "stderr",
          "text": [
            "     50/100      14.6G    0.00692     0.5498     0.9324         49        640: 100%|██████████| 75/75 [00:23<00:00,  3.20it/s]\n",
            "                 Class     Images  Instances      Box(P          R      mAP50  mAP50-95): 100%|██████████| 10/10 [00:02<00:00,  4.71it/s]"
          ]
        },
        {
          "output_type": "stream",
          "name": "stdout",
          "text": [
            "                   all        295        890      0.699      0.904      0.826      0.801\n"
          ]
        },
        {
          "output_type": "stream",
          "name": "stderr",
          "text": [
            "\n"
          ]
        },
        {
          "output_type": "stream",
          "name": "stdout",
          "text": [
            "\n",
            "      Epoch    GPU_mem   box_loss   cls_loss   dfl_loss  Instances       Size\n"
          ]
        },
        {
          "output_type": "stream",
          "name": "stderr",
          "text": [
            "     51/100      14.6G   0.007198     0.5616     0.9443         48        640: 100%|██████████| 75/75 [00:23<00:00,  3.21it/s]\n",
            "                 Class     Images  Instances      Box(P          R      mAP50  mAP50-95): 100%|██████████| 10/10 [00:02<00:00,  4.66it/s]"
          ]
        },
        {
          "output_type": "stream",
          "name": "stdout",
          "text": [
            "                   all        295        890      0.622      0.899      0.801      0.772\n"
          ]
        },
        {
          "output_type": "stream",
          "name": "stderr",
          "text": [
            "\n"
          ]
        },
        {
          "output_type": "stream",
          "name": "stdout",
          "text": [
            "\n",
            "      Epoch    GPU_mem   box_loss   cls_loss   dfl_loss  Instances       Size\n"
          ]
        },
        {
          "output_type": "stream",
          "name": "stderr",
          "text": [
            "     52/100      14.6G   0.007251     0.5826     0.9425         38        640: 100%|██████████| 75/75 [00:24<00:00,  3.08it/s]\n",
            "                 Class     Images  Instances      Box(P          R      mAP50  mAP50-95): 100%|██████████| 10/10 [00:02<00:00,  4.65it/s]"
          ]
        },
        {
          "output_type": "stream",
          "name": "stdout",
          "text": [
            "                   all        295        890      0.684       0.94      0.826      0.805\n"
          ]
        },
        {
          "output_type": "stream",
          "name": "stderr",
          "text": [
            "\n"
          ]
        },
        {
          "output_type": "stream",
          "name": "stdout",
          "text": [
            "\n",
            "      Epoch    GPU_mem   box_loss   cls_loss   dfl_loss  Instances       Size\n"
          ]
        },
        {
          "output_type": "stream",
          "name": "stderr",
          "text": [
            "     53/100      14.6G   0.006832     0.5412      0.927         41        640: 100%|██████████| 75/75 [00:16<00:00,  4.43it/s]\n",
            "                 Class     Images  Instances      Box(P          R      mAP50  mAP50-95): 100%|██████████| 10/10 [00:01<00:00,  5.06it/s]"
          ]
        },
        {
          "output_type": "stream",
          "name": "stdout",
          "text": [
            "                   all        295        890      0.698      0.934      0.834      0.807\n",
            "\u001b[34m\u001b[1mEarlyStopping: \u001b[0mTraining stopped early as no improvement observed in last 5 epochs. Best results observed at epoch 48, best model saved as best.pt.\n",
            "To update EarlyStopping(patience=5) pass a new patience value, i.e. `patience=300` or use `patience=0` to disable EarlyStopping.\n"
          ]
        },
        {
          "output_type": "stream",
          "name": "stderr",
          "text": [
            "\n"
          ]
        },
        {
          "output_type": "stream",
          "name": "stdout",
          "text": [
            "\n",
            "53 epochs completed in 0.414 hours.\n",
            "Optimizer stripped from /content/drive/MyDrive/codeit_level1_project/YOLOv8_epoch100_hyperparameters/pill_yolo_exp/yolov8x_hyp0534_ep100/weights/last.pt, 136.8MB\n",
            "Optimizer stripped from /content/drive/MyDrive/codeit_level1_project/YOLOv8_epoch100_hyperparameters/pill_yolo_exp/yolov8x_hyp0534_ep100/weights/best.pt, 136.8MB\n",
            "\n",
            "Validating /content/drive/MyDrive/codeit_level1_project/YOLOv8_epoch100_hyperparameters/pill_yolo_exp/yolov8x_hyp0534_ep100/weights/best.pt...\n",
            "Ultralytics 8.3.146 🚀 Python-3.11.12 torch-2.6.0+cu124 CUDA:0 (NVIDIA A100-SXM4-40GB, 40507MiB)\n",
            "Model summary (fused): 112 layers, 68,193,867 parameters, 0 gradients, 257.8 GFLOPs\n"
          ]
        },
        {
          "output_type": "stream",
          "name": "stderr",
          "text": [
            "                 Class     Images  Instances      Box(P          R      mAP50  mAP50-95): 100%|██████████| 10/10 [00:02<00:00,  3.35it/s]\n"
          ]
        },
        {
          "output_type": "stream",
          "name": "stdout",
          "text": [
            "                   all        295        890      0.711      0.953      0.852      0.825\n",
            "            보령부스파정 5mg         24         24      0.669          1      0.919      0.909\n",
            "           뮤테란캡슐 100mg          1          1      0.811          1      0.995      0.995\n",
            "           일양하이트린정 2mg          2          2       0.45          1      0.497      0.497\n",
            "    기넥신에프정(은행엽엑스)(수출용)         90         90      0.728          1      0.777      0.771\n",
            "     무코스타정(레바미피드)(비매품)          5          5      0.628          1      0.862      0.829\n",
            "                  알드린정         10         10      0.487          1      0.647      0.647\n",
            "          뉴로메드정(옥시라세탐)         10         10      0.794          1      0.889      0.841\n",
            "            타이레놀정500mg          4          4          1      0.447        0.7      0.644\n",
            "          에어탈정(아세클로페낙)         11         11      0.892      0.818      0.931      0.885\n",
            "         삼남건조수산화알루미늄겔정         35         35      0.796          1       0.87      0.859\n",
            "타이레놀이알서방정(아세트아미노펜)(수출용)          6          6       0.71      0.817      0.703      0.703\n",
            "      삐콤씨에프정 618.6mg/병          4          4      0.438          1      0.849      0.849\n",
            "            조인스정 200mg          5          5      0.728          1      0.895      0.836\n",
            "            쎄로켈정 100mg          2          2      0.435          1      0.663      0.623\n",
            "       리렉스펜정 300mg/PTP          4          4      0.852          1      0.995       0.97\n",
            "           아빌리파이정 10mg         29         29       0.86          1      0.928      0.882\n",
            "          자이프렉사정 2.5mg          7          7      0.638      0.857      0.683      0.683\n",
            "         다보타민큐정 10mg/병          4          4      0.566      0.982      0.705       0.68\n",
            "     써스펜8시간이알서방정 650mg         23         23      0.785      0.951      0.865      0.865\n",
            "     에빅사정(메만틴염산염)(비매품)          4          4      0.891        0.5      0.794      0.794\n",
            "             리피토정 20mg         18         18       0.89          1      0.951      0.944\n",
            "            크레스토정 20mg          7          7       0.82      0.857      0.842      0.819\n",
            "           가바토파정 100mg          9          9      0.855          1      0.918      0.888\n",
            "         동아가바펜틴정 800mg          8          8      0.722          1      0.926      0.887\n",
            "오마코연질캡슐(오메가-3-산에틸에스테르90)         21         21      0.695          1      0.808      0.808\n",
            "        란스톤엘에프디티정 30mg         44         44      0.851          1      0.868      0.832\n",
            "           리리카캡슐 150mg         30         30      0.713          1      0.739      0.732\n",
            "종근당글리아티린연질캡슐(콜린알포세레이트)           2          2          1      0.507      0.995      0.946\n",
            "       콜리네이트연질캡슐 400mg          6          6      0.791          1      0.995      0.965\n",
            "          트루비타정 60mg/병          4          4      0.575          1      0.796      0.742\n",
            "             스토가정 10mg          8          8      0.472          1      0.954      0.883\n",
            "             노바스크정 5mg         15         15      0.445          1      0.695      0.652\n",
            "                  마도파정         10         10      0.605          1      0.622      0.593\n",
            "            플라빅스정 75mg          3          3      0.571          1      0.731      0.685\n",
            "         엑스포지정 5/160mg          4          4      0.459          1      0.497      0.476\n",
            "          펠루비정(펠루비프로펜)         14         14      0.691          1      0.814      0.744\n",
            "            아토르바정 10mg          7          7      0.816          1      0.924      0.924\n",
            "            라비에트정 20mg         22         22      0.872      0.927       0.89      0.881\n",
            "            리피로우정 20mg          4          4      0.843          1      0.995      0.933\n",
            "            자누비아정 50mg          3          3          1      0.474      0.995      0.995\n",
            "         맥시부펜이알정 300mg          3          3      0.888          1      0.995      0.955\n",
            "          메가파워정 90mg/병         16         16      0.862          1      0.955      0.915\n",
            "            쿠에타핀정 25mg         12         12      0.833          1      0.853      0.817\n",
            "         비타비백정 100mg/병          4          4      0.713          1      0.895       0.87\n",
            "              놀텍정 10mg          2          2      0.551          1      0.995      0.921\n",
            "        자누메트정 50/850mg          8          8      0.865      0.803       0.94       0.94\n",
            "       큐시드정 31.5mg/PTP         23         23      0.868          1      0.957      0.957\n",
            "         아모잘탄정 5/100mg          6          6      0.774          1      0.995      0.902\n",
            "          세비카정 10/40mg         12         12      0.758          1      0.887      0.821\n",
            "          트윈스타정 40/5mg         45         45      0.822      0.978      0.878      0.864\n",
            "             카나브정 60mg         22         22      0.783          1      0.925      0.891\n",
            "             울트라셋이알서방정         10         10      0.785          1      0.829      0.829\n",
            "           졸로푸트정 100mg         13         13      0.802          1      0.928      0.928\n",
            "          트라젠타정(리나글립틴)          4          4      0.526          1      0.895      0.895\n",
            "         비모보정 500/20mg         17         17      0.861          1      0.944      0.944\n",
            "                  레일라정          8          8      0.567          1      0.845      0.845\n",
            "              리바로정 4mg          2          2      0.593          1      0.995      0.946\n",
            "            렉사프로정 15mg          3          3      0.417          1       0.83      0.798\n",
            "     트라젠타듀오정 2.5/850mg         15         15      0.609          1      0.691      0.691\n",
            "         낙소졸정 500/20mg          4          4      0.615          1      0.796      0.704\n",
            "       아질렉트정(라사길린메실산염)          5          5      0.643          1      0.862       0.82\n",
            " 자누메트엑스알서방정 100/1000mg          7          7      0.893          1      0.995      0.976\n",
            "             글리아타민연질캡슐          1          1      0.702          1      0.995      0.895\n",
            "                  신바로정         15         15      0.815          1      0.937      0.937\n",
            "           에스원엠프정 20mg         21         21      0.705          1      0.869      0.869\n",
            "           브린텔릭스정 20mg          8          8      0.268          1      0.617      0.581\n",
            "        글리틴정(콜린알포세레이트)          2          2      0.107          1      0.586      0.586\n",
            "     제미메트서방정 50/1000mg         23         23      0.782      0.938      0.878       0.86\n",
            "          아토젯정 10/40mg         16         16       0.65          1      0.795      0.779\n",
            "          로수젯정10/5밀리그램         10         10      0.895      0.856       0.95      0.894\n",
            "        로수바미브정 10/20mg         11         11      0.807      0.909      0.926      0.912\n",
            "            카발린캡슐 25mg          6          6      0.783          1      0.972      0.972\n",
            "             케이캡정 50mg         17         17      0.493      0.941       0.64       0.64\n",
            "Speed: 0.1ms preprocess, 3.4ms inference, 0.0ms loss, 2.1ms postprocess per image\n",
            "Results saved to \u001b[1m/content/drive/MyDrive/codeit_level1_project/YOLOv8_epoch100_hyperparameters/pill_yolo_exp/yolov8x_hyp0534_ep100\u001b[0m\n"
          ]
        },
        {
          "output_type": "execute_result",
          "data": {
            "text/plain": [
              "ultralytics.utils.metrics.DetMetrics object with attributes:\n",
              "\n",
              "ap_class_index: array([ 0,  1,  2,  3,  4,  5,  6,  7,  8,  9, 10, 11, 12, 13, 14, 15, 16, 17, 18, 19, 20, 21, 22, 23, 24, 25, 26, 27, 28, 29, 30, 31, 32, 33, 34, 35, 36, 37, 38, 39, 40, 41, 42, 43, 44, 45, 46, 47, 48, 49, 50, 51, 52, 53, 54, 55, 56, 57, 58, 59, 60, 61, 62, 63, 64, 65, 66, 67, 68, 69, 70, 71, 72])\n",
              "box: ultralytics.utils.metrics.Metric object\n",
              "confusion_matrix: <ultralytics.utils.metrics.ConfusionMatrix object at 0x7bf50db1a650>\n",
              "curves: ['Precision-Recall(B)', 'F1-Confidence(B)', 'Precision-Confidence(B)', 'Recall-Confidence(B)']\n",
              "curves_results: [[array([          0,    0.001001,    0.002002,    0.003003,    0.004004,    0.005005,    0.006006,    0.007007,    0.008008,    0.009009,     0.01001,    0.011011,    0.012012,    0.013013,    0.014014,    0.015015,    0.016016,    0.017017,    0.018018,    0.019019,     0.02002,    0.021021,    0.022022,    0.023023,\n",
              "          0.024024,    0.025025,    0.026026,    0.027027,    0.028028,    0.029029,     0.03003,    0.031031,    0.032032,    0.033033,    0.034034,    0.035035,    0.036036,    0.037037,    0.038038,    0.039039,     0.04004,    0.041041,    0.042042,    0.043043,    0.044044,    0.045045,    0.046046,    0.047047,\n",
              "          0.048048,    0.049049,     0.05005,    0.051051,    0.052052,    0.053053,    0.054054,    0.055055,    0.056056,    0.057057,    0.058058,    0.059059,     0.06006,    0.061061,    0.062062,    0.063063,    0.064064,    0.065065,    0.066066,    0.067067,    0.068068,    0.069069,     0.07007,    0.071071,\n",
              "          0.072072,    0.073073,    0.074074,    0.075075,    0.076076,    0.077077,    0.078078,    0.079079,     0.08008,    0.081081,    0.082082,    0.083083,    0.084084,    0.085085,    0.086086,    0.087087,    0.088088,    0.089089,     0.09009,    0.091091,    0.092092,    0.093093,    0.094094,    0.095095,\n",
              "          0.096096,    0.097097,    0.098098,    0.099099,      0.1001,      0.1011,      0.1021,      0.1031,      0.1041,     0.10511,     0.10611,     0.10711,     0.10811,     0.10911,     0.11011,     0.11111,     0.11211,     0.11311,     0.11411,     0.11512,     0.11612,     0.11712,     0.11812,     0.11912,\n",
              "           0.12012,     0.12112,     0.12212,     0.12312,     0.12412,     0.12513,     0.12613,     0.12713,     0.12813,     0.12913,     0.13013,     0.13113,     0.13213,     0.13313,     0.13413,     0.13514,     0.13614,     0.13714,     0.13814,     0.13914,     0.14014,     0.14114,     0.14214,     0.14314,\n",
              "           0.14414,     0.14515,     0.14615,     0.14715,     0.14815,     0.14915,     0.15015,     0.15115,     0.15215,     0.15315,     0.15415,     0.15516,     0.15616,     0.15716,     0.15816,     0.15916,     0.16016,     0.16116,     0.16216,     0.16316,     0.16416,     0.16517,     0.16617,     0.16717,\n",
              "           0.16817,     0.16917,     0.17017,     0.17117,     0.17217,     0.17317,     0.17417,     0.17518,     0.17618,     0.17718,     0.17818,     0.17918,     0.18018,     0.18118,     0.18218,     0.18318,     0.18418,     0.18519,     0.18619,     0.18719,     0.18819,     0.18919,     0.19019,     0.19119,\n",
              "           0.19219,     0.19319,     0.19419,      0.1952,      0.1962,      0.1972,      0.1982,      0.1992,      0.2002,      0.2012,      0.2022,      0.2032,      0.2042,     0.20521,     0.20621,     0.20721,     0.20821,     0.20921,     0.21021,     0.21121,     0.21221,     0.21321,     0.21421,     0.21522,\n",
              "           0.21622,     0.21722,     0.21822,     0.21922,     0.22022,     0.22122,     0.22222,     0.22322,     0.22422,     0.22523,     0.22623,     0.22723,     0.22823,     0.22923,     0.23023,     0.23123,     0.23223,     0.23323,     0.23423,     0.23524,     0.23624,     0.23724,     0.23824,     0.23924,\n",
              "           0.24024,     0.24124,     0.24224,     0.24324,     0.24424,     0.24525,     0.24625,     0.24725,     0.24825,     0.24925,     0.25025,     0.25125,     0.25225,     0.25325,     0.25425,     0.25526,     0.25626,     0.25726,     0.25826,     0.25926,     0.26026,     0.26126,     0.26226,     0.26326,\n",
              "           0.26426,     0.26527,     0.26627,     0.26727,     0.26827,     0.26927,     0.27027,     0.27127,     0.27227,     0.27327,     0.27427,     0.27528,     0.27628,     0.27728,     0.27828,     0.27928,     0.28028,     0.28128,     0.28228,     0.28328,     0.28428,     0.28529,     0.28629,     0.28729,\n",
              "           0.28829,     0.28929,     0.29029,     0.29129,     0.29229,     0.29329,     0.29429,      0.2953,      0.2963,      0.2973,      0.2983,      0.2993,      0.3003,      0.3013,      0.3023,      0.3033,      0.3043,     0.30531,     0.30631,     0.30731,     0.30831,     0.30931,     0.31031,     0.31131,\n",
              "           0.31231,     0.31331,     0.31431,     0.31532,     0.31632,     0.31732,     0.31832,     0.31932,     0.32032,     0.32132,     0.32232,     0.32332,     0.32432,     0.32533,     0.32633,     0.32733,     0.32833,     0.32933,     0.33033,     0.33133,     0.33233,     0.33333,     0.33433,     0.33534,\n",
              "           0.33634,     0.33734,     0.33834,     0.33934,     0.34034,     0.34134,     0.34234,     0.34334,     0.34434,     0.34535,     0.34635,     0.34735,     0.34835,     0.34935,     0.35035,     0.35135,     0.35235,     0.35335,     0.35435,     0.35536,     0.35636,     0.35736,     0.35836,     0.35936,\n",
              "           0.36036,     0.36136,     0.36236,     0.36336,     0.36436,     0.36537,     0.36637,     0.36737,     0.36837,     0.36937,     0.37037,     0.37137,     0.37237,     0.37337,     0.37437,     0.37538,     0.37638,     0.37738,     0.37838,     0.37938,     0.38038,     0.38138,     0.38238,     0.38338,\n",
              "           0.38438,     0.38539,     0.38639,     0.38739,     0.38839,     0.38939,     0.39039,     0.39139,     0.39239,     0.39339,     0.39439,      0.3954,      0.3964,      0.3974,      0.3984,      0.3994,      0.4004,      0.4014,      0.4024,      0.4034,      0.4044,     0.40541,     0.40641,     0.40741,\n",
              "           0.40841,     0.40941,     0.41041,     0.41141,     0.41241,     0.41341,     0.41441,     0.41542,     0.41642,     0.41742,     0.41842,     0.41942,     0.42042,     0.42142,     0.42242,     0.42342,     0.42442,     0.42543,     0.42643,     0.42743,     0.42843,     0.42943,     0.43043,     0.43143,\n",
              "           0.43243,     0.43343,     0.43443,     0.43544,     0.43644,     0.43744,     0.43844,     0.43944,     0.44044,     0.44144,     0.44244,     0.44344,     0.44444,     0.44545,     0.44645,     0.44745,     0.44845,     0.44945,     0.45045,     0.45145,     0.45245,     0.45345,     0.45445,     0.45546,\n",
              "           0.45646,     0.45746,     0.45846,     0.45946,     0.46046,     0.46146,     0.46246,     0.46346,     0.46446,     0.46547,     0.46647,     0.46747,     0.46847,     0.46947,     0.47047,     0.47147,     0.47247,     0.47347,     0.47447,     0.47548,     0.47648,     0.47748,     0.47848,     0.47948,\n",
              "           0.48048,     0.48148,     0.48248,     0.48348,     0.48448,     0.48549,     0.48649,     0.48749,     0.48849,     0.48949,     0.49049,     0.49149,     0.49249,     0.49349,     0.49449,      0.4955,      0.4965,      0.4975,      0.4985,      0.4995,      0.5005,      0.5015,      0.5025,      0.5035,\n",
              "            0.5045,     0.50551,     0.50651,     0.50751,     0.50851,     0.50951,     0.51051,     0.51151,     0.51251,     0.51351,     0.51451,     0.51552,     0.51652,     0.51752,     0.51852,     0.51952,     0.52052,     0.52152,     0.52252,     0.52352,     0.52452,     0.52553,     0.52653,     0.52753,\n",
              "           0.52853,     0.52953,     0.53053,     0.53153,     0.53253,     0.53353,     0.53453,     0.53554,     0.53654,     0.53754,     0.53854,     0.53954,     0.54054,     0.54154,     0.54254,     0.54354,     0.54454,     0.54555,     0.54655,     0.54755,     0.54855,     0.54955,     0.55055,     0.55155,\n",
              "           0.55255,     0.55355,     0.55455,     0.55556,     0.55656,     0.55756,     0.55856,     0.55956,     0.56056,     0.56156,     0.56256,     0.56356,     0.56456,     0.56557,     0.56657,     0.56757,     0.56857,     0.56957,     0.57057,     0.57157,     0.57257,     0.57357,     0.57457,     0.57558,\n",
              "           0.57658,     0.57758,     0.57858,     0.57958,     0.58058,     0.58158,     0.58258,     0.58358,     0.58458,     0.58559,     0.58659,     0.58759,     0.58859,     0.58959,     0.59059,     0.59159,     0.59259,     0.59359,     0.59459,      0.5956,      0.5966,      0.5976,      0.5986,      0.5996,\n",
              "            0.6006,      0.6016,      0.6026,      0.6036,      0.6046,     0.60561,     0.60661,     0.60761,     0.60861,     0.60961,     0.61061,     0.61161,     0.61261,     0.61361,     0.61461,     0.61562,     0.61662,     0.61762,     0.61862,     0.61962,     0.62062,     0.62162,     0.62262,     0.62362,\n",
              "           0.62462,     0.62563,     0.62663,     0.62763,     0.62863,     0.62963,     0.63063,     0.63163,     0.63263,     0.63363,     0.63463,     0.63564,     0.63664,     0.63764,     0.63864,     0.63964,     0.64064,     0.64164,     0.64264,     0.64364,     0.64464,     0.64565,     0.64665,     0.64765,\n",
              "           0.64865,     0.64965,     0.65065,     0.65165,     0.65265,     0.65365,     0.65465,     0.65566,     0.65666,     0.65766,     0.65866,     0.65966,     0.66066,     0.66166,     0.66266,     0.66366,     0.66466,     0.66567,     0.66667,     0.66767,     0.66867,     0.66967,     0.67067,     0.67167,\n",
              "           0.67267,     0.67367,     0.67467,     0.67568,     0.67668,     0.67768,     0.67868,     0.67968,     0.68068,     0.68168,     0.68268,     0.68368,     0.68468,     0.68569,     0.68669,     0.68769,     0.68869,     0.68969,     0.69069,     0.69169,     0.69269,     0.69369,     0.69469,      0.6957,\n",
              "            0.6967,      0.6977,      0.6987,      0.6997,      0.7007,      0.7017,      0.7027,      0.7037,      0.7047,     0.70571,     0.70671,     0.70771,     0.70871,     0.70971,     0.71071,     0.71171,     0.71271,     0.71371,     0.71471,     0.71572,     0.71672,     0.71772,     0.71872,     0.71972,\n",
              "           0.72072,     0.72172,     0.72272,     0.72372,     0.72472,     0.72573,     0.72673,     0.72773,     0.72873,     0.72973,     0.73073,     0.73173,     0.73273,     0.73373,     0.73473,     0.73574,     0.73674,     0.73774,     0.73874,     0.73974,     0.74074,     0.74174,     0.74274,     0.74374,\n",
              "           0.74474,     0.74575,     0.74675,     0.74775,     0.74875,     0.74975,     0.75075,     0.75175,     0.75275,     0.75375,     0.75475,     0.75576,     0.75676,     0.75776,     0.75876,     0.75976,     0.76076,     0.76176,     0.76276,     0.76376,     0.76476,     0.76577,     0.76677,     0.76777,\n",
              "           0.76877,     0.76977,     0.77077,     0.77177,     0.77277,     0.77377,     0.77477,     0.77578,     0.77678,     0.77778,     0.77878,     0.77978,     0.78078,     0.78178,     0.78278,     0.78378,     0.78478,     0.78579,     0.78679,     0.78779,     0.78879,     0.78979,     0.79079,     0.79179,\n",
              "           0.79279,     0.79379,     0.79479,      0.7958,      0.7968,      0.7978,      0.7988,      0.7998,      0.8008,      0.8018,      0.8028,      0.8038,      0.8048,     0.80581,     0.80681,     0.80781,     0.80881,     0.80981,     0.81081,     0.81181,     0.81281,     0.81381,     0.81481,     0.81582,\n",
              "           0.81682,     0.81782,     0.81882,     0.81982,     0.82082,     0.82182,     0.82282,     0.82382,     0.82482,     0.82583,     0.82683,     0.82783,     0.82883,     0.82983,     0.83083,     0.83183,     0.83283,     0.83383,     0.83483,     0.83584,     0.83684,     0.83784,     0.83884,     0.83984,\n",
              "           0.84084,     0.84184,     0.84284,     0.84384,     0.84484,     0.84585,     0.84685,     0.84785,     0.84885,     0.84985,     0.85085,     0.85185,     0.85285,     0.85385,     0.85485,     0.85586,     0.85686,     0.85786,     0.85886,     0.85986,     0.86086,     0.86186,     0.86286,     0.86386,\n",
              "           0.86486,     0.86587,     0.86687,     0.86787,     0.86887,     0.86987,     0.87087,     0.87187,     0.87287,     0.87387,     0.87487,     0.87588,     0.87688,     0.87788,     0.87888,     0.87988,     0.88088,     0.88188,     0.88288,     0.88388,     0.88488,     0.88589,     0.88689,     0.88789,\n",
              "           0.88889,     0.88989,     0.89089,     0.89189,     0.89289,     0.89389,     0.89489,      0.8959,      0.8969,      0.8979,      0.8989,      0.8999,      0.9009,      0.9019,      0.9029,      0.9039,      0.9049,     0.90591,     0.90691,     0.90791,     0.90891,     0.90991,     0.91091,     0.91191,\n",
              "           0.91291,     0.91391,     0.91491,     0.91592,     0.91692,     0.91792,     0.91892,     0.91992,     0.92092,     0.92192,     0.92292,     0.92392,     0.92492,     0.92593,     0.92693,     0.92793,     0.92893,     0.92993,     0.93093,     0.93193,     0.93293,     0.93393,     0.93493,     0.93594,\n",
              "           0.93694,     0.93794,     0.93894,     0.93994,     0.94094,     0.94194,     0.94294,     0.94394,     0.94494,     0.94595,     0.94695,     0.94795,     0.94895,     0.94995,     0.95095,     0.95195,     0.95295,     0.95395,     0.95495,     0.95596,     0.95696,     0.95796,     0.95896,     0.95996,\n",
              "           0.96096,     0.96196,     0.96296,     0.96396,     0.96496,     0.96597,     0.96697,     0.96797,     0.96897,     0.96997,     0.97097,     0.97197,     0.97297,     0.97397,     0.97497,     0.97598,     0.97698,     0.97798,     0.97898,     0.97998,     0.98098,     0.98198,     0.98298,     0.98398,\n",
              "           0.98498,     0.98599,     0.98699,     0.98799,     0.98899,     0.98999,     0.99099,     0.99199,     0.99299,     0.99399,     0.99499,       0.996,       0.997,       0.998,       0.999,           1]), array([[          1,           1,           1, ...,     0.77419,     0.77419,           0],\n",
              "       [          1,           1,           1, ...,           1,           1,           0],\n",
              "       [        0.5,         0.5,         0.5, ...,         0.5,         0.5,           0],\n",
              "       ...,\n",
              "       [          1,           1,           1, ...,     0.78571,     0.78571,           0],\n",
              "       [          1,           1,           1, ...,     0.85714,     0.85714,           0],\n",
              "       [          1,           1,           1, ...,   0.0027925,   0.0013963,           0]]), 'Recall', 'Precision'], [array([          0,    0.001001,    0.002002,    0.003003,    0.004004,    0.005005,    0.006006,    0.007007,    0.008008,    0.009009,     0.01001,    0.011011,    0.012012,    0.013013,    0.014014,    0.015015,    0.016016,    0.017017,    0.018018,    0.019019,     0.02002,    0.021021,    0.022022,    0.023023,\n",
              "          0.024024,    0.025025,    0.026026,    0.027027,    0.028028,    0.029029,     0.03003,    0.031031,    0.032032,    0.033033,    0.034034,    0.035035,    0.036036,    0.037037,    0.038038,    0.039039,     0.04004,    0.041041,    0.042042,    0.043043,    0.044044,    0.045045,    0.046046,    0.047047,\n",
              "          0.048048,    0.049049,     0.05005,    0.051051,    0.052052,    0.053053,    0.054054,    0.055055,    0.056056,    0.057057,    0.058058,    0.059059,     0.06006,    0.061061,    0.062062,    0.063063,    0.064064,    0.065065,    0.066066,    0.067067,    0.068068,    0.069069,     0.07007,    0.071071,\n",
              "          0.072072,    0.073073,    0.074074,    0.075075,    0.076076,    0.077077,    0.078078,    0.079079,     0.08008,    0.081081,    0.082082,    0.083083,    0.084084,    0.085085,    0.086086,    0.087087,    0.088088,    0.089089,     0.09009,    0.091091,    0.092092,    0.093093,    0.094094,    0.095095,\n",
              "          0.096096,    0.097097,    0.098098,    0.099099,      0.1001,      0.1011,      0.1021,      0.1031,      0.1041,     0.10511,     0.10611,     0.10711,     0.10811,     0.10911,     0.11011,     0.11111,     0.11211,     0.11311,     0.11411,     0.11512,     0.11612,     0.11712,     0.11812,     0.11912,\n",
              "           0.12012,     0.12112,     0.12212,     0.12312,     0.12412,     0.12513,     0.12613,     0.12713,     0.12813,     0.12913,     0.13013,     0.13113,     0.13213,     0.13313,     0.13413,     0.13514,     0.13614,     0.13714,     0.13814,     0.13914,     0.14014,     0.14114,     0.14214,     0.14314,\n",
              "           0.14414,     0.14515,     0.14615,     0.14715,     0.14815,     0.14915,     0.15015,     0.15115,     0.15215,     0.15315,     0.15415,     0.15516,     0.15616,     0.15716,     0.15816,     0.15916,     0.16016,     0.16116,     0.16216,     0.16316,     0.16416,     0.16517,     0.16617,     0.16717,\n",
              "           0.16817,     0.16917,     0.17017,     0.17117,     0.17217,     0.17317,     0.17417,     0.17518,     0.17618,     0.17718,     0.17818,     0.17918,     0.18018,     0.18118,     0.18218,     0.18318,     0.18418,     0.18519,     0.18619,     0.18719,     0.18819,     0.18919,     0.19019,     0.19119,\n",
              "           0.19219,     0.19319,     0.19419,      0.1952,      0.1962,      0.1972,      0.1982,      0.1992,      0.2002,      0.2012,      0.2022,      0.2032,      0.2042,     0.20521,     0.20621,     0.20721,     0.20821,     0.20921,     0.21021,     0.21121,     0.21221,     0.21321,     0.21421,     0.21522,\n",
              "           0.21622,     0.21722,     0.21822,     0.21922,     0.22022,     0.22122,     0.22222,     0.22322,     0.22422,     0.22523,     0.22623,     0.22723,     0.22823,     0.22923,     0.23023,     0.23123,     0.23223,     0.23323,     0.23423,     0.23524,     0.23624,     0.23724,     0.23824,     0.23924,\n",
              "           0.24024,     0.24124,     0.24224,     0.24324,     0.24424,     0.24525,     0.24625,     0.24725,     0.24825,     0.24925,     0.25025,     0.25125,     0.25225,     0.25325,     0.25425,     0.25526,     0.25626,     0.25726,     0.25826,     0.25926,     0.26026,     0.26126,     0.26226,     0.26326,\n",
              "           0.26426,     0.26527,     0.26627,     0.26727,     0.26827,     0.26927,     0.27027,     0.27127,     0.27227,     0.27327,     0.27427,     0.27528,     0.27628,     0.27728,     0.27828,     0.27928,     0.28028,     0.28128,     0.28228,     0.28328,     0.28428,     0.28529,     0.28629,     0.28729,\n",
              "           0.28829,     0.28929,     0.29029,     0.29129,     0.29229,     0.29329,     0.29429,      0.2953,      0.2963,      0.2973,      0.2983,      0.2993,      0.3003,      0.3013,      0.3023,      0.3033,      0.3043,     0.30531,     0.30631,     0.30731,     0.30831,     0.30931,     0.31031,     0.31131,\n",
              "           0.31231,     0.31331,     0.31431,     0.31532,     0.31632,     0.31732,     0.31832,     0.31932,     0.32032,     0.32132,     0.32232,     0.32332,     0.32432,     0.32533,     0.32633,     0.32733,     0.32833,     0.32933,     0.33033,     0.33133,     0.33233,     0.33333,     0.33433,     0.33534,\n",
              "           0.33634,     0.33734,     0.33834,     0.33934,     0.34034,     0.34134,     0.34234,     0.34334,     0.34434,     0.34535,     0.34635,     0.34735,     0.34835,     0.34935,     0.35035,     0.35135,     0.35235,     0.35335,     0.35435,     0.35536,     0.35636,     0.35736,     0.35836,     0.35936,\n",
              "           0.36036,     0.36136,     0.36236,     0.36336,     0.36436,     0.36537,     0.36637,     0.36737,     0.36837,     0.36937,     0.37037,     0.37137,     0.37237,     0.37337,     0.37437,     0.37538,     0.37638,     0.37738,     0.37838,     0.37938,     0.38038,     0.38138,     0.38238,     0.38338,\n",
              "           0.38438,     0.38539,     0.38639,     0.38739,     0.38839,     0.38939,     0.39039,     0.39139,     0.39239,     0.39339,     0.39439,      0.3954,      0.3964,      0.3974,      0.3984,      0.3994,      0.4004,      0.4014,      0.4024,      0.4034,      0.4044,     0.40541,     0.40641,     0.40741,\n",
              "           0.40841,     0.40941,     0.41041,     0.41141,     0.41241,     0.41341,     0.41441,     0.41542,     0.41642,     0.41742,     0.41842,     0.41942,     0.42042,     0.42142,     0.42242,     0.42342,     0.42442,     0.42543,     0.42643,     0.42743,     0.42843,     0.42943,     0.43043,     0.43143,\n",
              "           0.43243,     0.43343,     0.43443,     0.43544,     0.43644,     0.43744,     0.43844,     0.43944,     0.44044,     0.44144,     0.44244,     0.44344,     0.44444,     0.44545,     0.44645,     0.44745,     0.44845,     0.44945,     0.45045,     0.45145,     0.45245,     0.45345,     0.45445,     0.45546,\n",
              "           0.45646,     0.45746,     0.45846,     0.45946,     0.46046,     0.46146,     0.46246,     0.46346,     0.46446,     0.46547,     0.46647,     0.46747,     0.46847,     0.46947,     0.47047,     0.47147,     0.47247,     0.47347,     0.47447,     0.47548,     0.47648,     0.47748,     0.47848,     0.47948,\n",
              "           0.48048,     0.48148,     0.48248,     0.48348,     0.48448,     0.48549,     0.48649,     0.48749,     0.48849,     0.48949,     0.49049,     0.49149,     0.49249,     0.49349,     0.49449,      0.4955,      0.4965,      0.4975,      0.4985,      0.4995,      0.5005,      0.5015,      0.5025,      0.5035,\n",
              "            0.5045,     0.50551,     0.50651,     0.50751,     0.50851,     0.50951,     0.51051,     0.51151,     0.51251,     0.51351,     0.51451,     0.51552,     0.51652,     0.51752,     0.51852,     0.51952,     0.52052,     0.52152,     0.52252,     0.52352,     0.52452,     0.52553,     0.52653,     0.52753,\n",
              "           0.52853,     0.52953,     0.53053,     0.53153,     0.53253,     0.53353,     0.53453,     0.53554,     0.53654,     0.53754,     0.53854,     0.53954,     0.54054,     0.54154,     0.54254,     0.54354,     0.54454,     0.54555,     0.54655,     0.54755,     0.54855,     0.54955,     0.55055,     0.55155,\n",
              "           0.55255,     0.55355,     0.55455,     0.55556,     0.55656,     0.55756,     0.55856,     0.55956,     0.56056,     0.56156,     0.56256,     0.56356,     0.56456,     0.56557,     0.56657,     0.56757,     0.56857,     0.56957,     0.57057,     0.57157,     0.57257,     0.57357,     0.57457,     0.57558,\n",
              "           0.57658,     0.57758,     0.57858,     0.57958,     0.58058,     0.58158,     0.58258,     0.58358,     0.58458,     0.58559,     0.58659,     0.58759,     0.58859,     0.58959,     0.59059,     0.59159,     0.59259,     0.59359,     0.59459,      0.5956,      0.5966,      0.5976,      0.5986,      0.5996,\n",
              "            0.6006,      0.6016,      0.6026,      0.6036,      0.6046,     0.60561,     0.60661,     0.60761,     0.60861,     0.60961,     0.61061,     0.61161,     0.61261,     0.61361,     0.61461,     0.61562,     0.61662,     0.61762,     0.61862,     0.61962,     0.62062,     0.62162,     0.62262,     0.62362,\n",
              "           0.62462,     0.62563,     0.62663,     0.62763,     0.62863,     0.62963,     0.63063,     0.63163,     0.63263,     0.63363,     0.63463,     0.63564,     0.63664,     0.63764,     0.63864,     0.63964,     0.64064,     0.64164,     0.64264,     0.64364,     0.64464,     0.64565,     0.64665,     0.64765,\n",
              "           0.64865,     0.64965,     0.65065,     0.65165,     0.65265,     0.65365,     0.65465,     0.65566,     0.65666,     0.65766,     0.65866,     0.65966,     0.66066,     0.66166,     0.66266,     0.66366,     0.66466,     0.66567,     0.66667,     0.66767,     0.66867,     0.66967,     0.67067,     0.67167,\n",
              "           0.67267,     0.67367,     0.67467,     0.67568,     0.67668,     0.67768,     0.67868,     0.67968,     0.68068,     0.68168,     0.68268,     0.68368,     0.68468,     0.68569,     0.68669,     0.68769,     0.68869,     0.68969,     0.69069,     0.69169,     0.69269,     0.69369,     0.69469,      0.6957,\n",
              "            0.6967,      0.6977,      0.6987,      0.6997,      0.7007,      0.7017,      0.7027,      0.7037,      0.7047,     0.70571,     0.70671,     0.70771,     0.70871,     0.70971,     0.71071,     0.71171,     0.71271,     0.71371,     0.71471,     0.71572,     0.71672,     0.71772,     0.71872,     0.71972,\n",
              "           0.72072,     0.72172,     0.72272,     0.72372,     0.72472,     0.72573,     0.72673,     0.72773,     0.72873,     0.72973,     0.73073,     0.73173,     0.73273,     0.73373,     0.73473,     0.73574,     0.73674,     0.73774,     0.73874,     0.73974,     0.74074,     0.74174,     0.74274,     0.74374,\n",
              "           0.74474,     0.74575,     0.74675,     0.74775,     0.74875,     0.74975,     0.75075,     0.75175,     0.75275,     0.75375,     0.75475,     0.75576,     0.75676,     0.75776,     0.75876,     0.75976,     0.76076,     0.76176,     0.76276,     0.76376,     0.76476,     0.76577,     0.76677,     0.76777,\n",
              "           0.76877,     0.76977,     0.77077,     0.77177,     0.77277,     0.77377,     0.77477,     0.77578,     0.77678,     0.77778,     0.77878,     0.77978,     0.78078,     0.78178,     0.78278,     0.78378,     0.78478,     0.78579,     0.78679,     0.78779,     0.78879,     0.78979,     0.79079,     0.79179,\n",
              "           0.79279,     0.79379,     0.79479,      0.7958,      0.7968,      0.7978,      0.7988,      0.7998,      0.8008,      0.8018,      0.8028,      0.8038,      0.8048,     0.80581,     0.80681,     0.80781,     0.80881,     0.80981,     0.81081,     0.81181,     0.81281,     0.81381,     0.81481,     0.81582,\n",
              "           0.81682,     0.81782,     0.81882,     0.81982,     0.82082,     0.82182,     0.82282,     0.82382,     0.82482,     0.82583,     0.82683,     0.82783,     0.82883,     0.82983,     0.83083,     0.83183,     0.83283,     0.83383,     0.83483,     0.83584,     0.83684,     0.83784,     0.83884,     0.83984,\n",
              "           0.84084,     0.84184,     0.84284,     0.84384,     0.84484,     0.84585,     0.84685,     0.84785,     0.84885,     0.84985,     0.85085,     0.85185,     0.85285,     0.85385,     0.85485,     0.85586,     0.85686,     0.85786,     0.85886,     0.85986,     0.86086,     0.86186,     0.86286,     0.86386,\n",
              "           0.86486,     0.86587,     0.86687,     0.86787,     0.86887,     0.86987,     0.87087,     0.87187,     0.87287,     0.87387,     0.87487,     0.87588,     0.87688,     0.87788,     0.87888,     0.87988,     0.88088,     0.88188,     0.88288,     0.88388,     0.88488,     0.88589,     0.88689,     0.88789,\n",
              "           0.88889,     0.88989,     0.89089,     0.89189,     0.89289,     0.89389,     0.89489,      0.8959,      0.8969,      0.8979,      0.8989,      0.8999,      0.9009,      0.9019,      0.9029,      0.9039,      0.9049,     0.90591,     0.90691,     0.90791,     0.90891,     0.90991,     0.91091,     0.91191,\n",
              "           0.91291,     0.91391,     0.91491,     0.91592,     0.91692,     0.91792,     0.91892,     0.91992,     0.92092,     0.92192,     0.92292,     0.92392,     0.92492,     0.92593,     0.92693,     0.92793,     0.92893,     0.92993,     0.93093,     0.93193,     0.93293,     0.93393,     0.93493,     0.93594,\n",
              "           0.93694,     0.93794,     0.93894,     0.93994,     0.94094,     0.94194,     0.94294,     0.94394,     0.94494,     0.94595,     0.94695,     0.94795,     0.94895,     0.94995,     0.95095,     0.95195,     0.95295,     0.95395,     0.95495,     0.95596,     0.95696,     0.95796,     0.95896,     0.95996,\n",
              "           0.96096,     0.96196,     0.96296,     0.96396,     0.96496,     0.96597,     0.96697,     0.96797,     0.96897,     0.96997,     0.97097,     0.97197,     0.97297,     0.97397,     0.97497,     0.97598,     0.97698,     0.97798,     0.97898,     0.97998,     0.98098,     0.98198,     0.98298,     0.98398,\n",
              "           0.98498,     0.98599,     0.98699,     0.98799,     0.98899,     0.98999,     0.99099,     0.99199,     0.99299,     0.99399,     0.99499,       0.996,       0.997,       0.998,       0.999,           1]), array([[        0.3,         0.3,     0.35508, ...,           0,           0,           0],\n",
              "       [   0.051282,    0.051282,    0.086914, ...,           0,           0,           0],\n",
              "       [   0.076923,    0.076923,    0.096009, ...,           0,           0,           0],\n",
              "       ...,\n",
              "       [    0.12429,     0.12429,     0.16231, ...,           0,           0,           0],\n",
              "       [    0.11215,     0.11215,     0.14353, ...,           0,           0,           0],\n",
              "       [    0.15094,     0.15094,     0.17707, ...,           0,           0,           0]]), 'Confidence', 'F1'], [array([          0,    0.001001,    0.002002,    0.003003,    0.004004,    0.005005,    0.006006,    0.007007,    0.008008,    0.009009,     0.01001,    0.011011,    0.012012,    0.013013,    0.014014,    0.015015,    0.016016,    0.017017,    0.018018,    0.019019,     0.02002,    0.021021,    0.022022,    0.023023,\n",
              "          0.024024,    0.025025,    0.026026,    0.027027,    0.028028,    0.029029,     0.03003,    0.031031,    0.032032,    0.033033,    0.034034,    0.035035,    0.036036,    0.037037,    0.038038,    0.039039,     0.04004,    0.041041,    0.042042,    0.043043,    0.044044,    0.045045,    0.046046,    0.047047,\n",
              "          0.048048,    0.049049,     0.05005,    0.051051,    0.052052,    0.053053,    0.054054,    0.055055,    0.056056,    0.057057,    0.058058,    0.059059,     0.06006,    0.061061,    0.062062,    0.063063,    0.064064,    0.065065,    0.066066,    0.067067,    0.068068,    0.069069,     0.07007,    0.071071,\n",
              "          0.072072,    0.073073,    0.074074,    0.075075,    0.076076,    0.077077,    0.078078,    0.079079,     0.08008,    0.081081,    0.082082,    0.083083,    0.084084,    0.085085,    0.086086,    0.087087,    0.088088,    0.089089,     0.09009,    0.091091,    0.092092,    0.093093,    0.094094,    0.095095,\n",
              "          0.096096,    0.097097,    0.098098,    0.099099,      0.1001,      0.1011,      0.1021,      0.1031,      0.1041,     0.10511,     0.10611,     0.10711,     0.10811,     0.10911,     0.11011,     0.11111,     0.11211,     0.11311,     0.11411,     0.11512,     0.11612,     0.11712,     0.11812,     0.11912,\n",
              "           0.12012,     0.12112,     0.12212,     0.12312,     0.12412,     0.12513,     0.12613,     0.12713,     0.12813,     0.12913,     0.13013,     0.13113,     0.13213,     0.13313,     0.13413,     0.13514,     0.13614,     0.13714,     0.13814,     0.13914,     0.14014,     0.14114,     0.14214,     0.14314,\n",
              "           0.14414,     0.14515,     0.14615,     0.14715,     0.14815,     0.14915,     0.15015,     0.15115,     0.15215,     0.15315,     0.15415,     0.15516,     0.15616,     0.15716,     0.15816,     0.15916,     0.16016,     0.16116,     0.16216,     0.16316,     0.16416,     0.16517,     0.16617,     0.16717,\n",
              "           0.16817,     0.16917,     0.17017,     0.17117,     0.17217,     0.17317,     0.17417,     0.17518,     0.17618,     0.17718,     0.17818,     0.17918,     0.18018,     0.18118,     0.18218,     0.18318,     0.18418,     0.18519,     0.18619,     0.18719,     0.18819,     0.18919,     0.19019,     0.19119,\n",
              "           0.19219,     0.19319,     0.19419,      0.1952,      0.1962,      0.1972,      0.1982,      0.1992,      0.2002,      0.2012,      0.2022,      0.2032,      0.2042,     0.20521,     0.20621,     0.20721,     0.20821,     0.20921,     0.21021,     0.21121,     0.21221,     0.21321,     0.21421,     0.21522,\n",
              "           0.21622,     0.21722,     0.21822,     0.21922,     0.22022,     0.22122,     0.22222,     0.22322,     0.22422,     0.22523,     0.22623,     0.22723,     0.22823,     0.22923,     0.23023,     0.23123,     0.23223,     0.23323,     0.23423,     0.23524,     0.23624,     0.23724,     0.23824,     0.23924,\n",
              "           0.24024,     0.24124,     0.24224,     0.24324,     0.24424,     0.24525,     0.24625,     0.24725,     0.24825,     0.24925,     0.25025,     0.25125,     0.25225,     0.25325,     0.25425,     0.25526,     0.25626,     0.25726,     0.25826,     0.25926,     0.26026,     0.26126,     0.26226,     0.26326,\n",
              "           0.26426,     0.26527,     0.26627,     0.26727,     0.26827,     0.26927,     0.27027,     0.27127,     0.27227,     0.27327,     0.27427,     0.27528,     0.27628,     0.27728,     0.27828,     0.27928,     0.28028,     0.28128,     0.28228,     0.28328,     0.28428,     0.28529,     0.28629,     0.28729,\n",
              "           0.28829,     0.28929,     0.29029,     0.29129,     0.29229,     0.29329,     0.29429,      0.2953,      0.2963,      0.2973,      0.2983,      0.2993,      0.3003,      0.3013,      0.3023,      0.3033,      0.3043,     0.30531,     0.30631,     0.30731,     0.30831,     0.30931,     0.31031,     0.31131,\n",
              "           0.31231,     0.31331,     0.31431,     0.31532,     0.31632,     0.31732,     0.31832,     0.31932,     0.32032,     0.32132,     0.32232,     0.32332,     0.32432,     0.32533,     0.32633,     0.32733,     0.32833,     0.32933,     0.33033,     0.33133,     0.33233,     0.33333,     0.33433,     0.33534,\n",
              "           0.33634,     0.33734,     0.33834,     0.33934,     0.34034,     0.34134,     0.34234,     0.34334,     0.34434,     0.34535,     0.34635,     0.34735,     0.34835,     0.34935,     0.35035,     0.35135,     0.35235,     0.35335,     0.35435,     0.35536,     0.35636,     0.35736,     0.35836,     0.35936,\n",
              "           0.36036,     0.36136,     0.36236,     0.36336,     0.36436,     0.36537,     0.36637,     0.36737,     0.36837,     0.36937,     0.37037,     0.37137,     0.37237,     0.37337,     0.37437,     0.37538,     0.37638,     0.37738,     0.37838,     0.37938,     0.38038,     0.38138,     0.38238,     0.38338,\n",
              "           0.38438,     0.38539,     0.38639,     0.38739,     0.38839,     0.38939,     0.39039,     0.39139,     0.39239,     0.39339,     0.39439,      0.3954,      0.3964,      0.3974,      0.3984,      0.3994,      0.4004,      0.4014,      0.4024,      0.4034,      0.4044,     0.40541,     0.40641,     0.40741,\n",
              "           0.40841,     0.40941,     0.41041,     0.41141,     0.41241,     0.41341,     0.41441,     0.41542,     0.41642,     0.41742,     0.41842,     0.41942,     0.42042,     0.42142,     0.42242,     0.42342,     0.42442,     0.42543,     0.42643,     0.42743,     0.42843,     0.42943,     0.43043,     0.43143,\n",
              "           0.43243,     0.43343,     0.43443,     0.43544,     0.43644,     0.43744,     0.43844,     0.43944,     0.44044,     0.44144,     0.44244,     0.44344,     0.44444,     0.44545,     0.44645,     0.44745,     0.44845,     0.44945,     0.45045,     0.45145,     0.45245,     0.45345,     0.45445,     0.45546,\n",
              "           0.45646,     0.45746,     0.45846,     0.45946,     0.46046,     0.46146,     0.46246,     0.46346,     0.46446,     0.46547,     0.46647,     0.46747,     0.46847,     0.46947,     0.47047,     0.47147,     0.47247,     0.47347,     0.47447,     0.47548,     0.47648,     0.47748,     0.47848,     0.47948,\n",
              "           0.48048,     0.48148,     0.48248,     0.48348,     0.48448,     0.48549,     0.48649,     0.48749,     0.48849,     0.48949,     0.49049,     0.49149,     0.49249,     0.49349,     0.49449,      0.4955,      0.4965,      0.4975,      0.4985,      0.4995,      0.5005,      0.5015,      0.5025,      0.5035,\n",
              "            0.5045,     0.50551,     0.50651,     0.50751,     0.50851,     0.50951,     0.51051,     0.51151,     0.51251,     0.51351,     0.51451,     0.51552,     0.51652,     0.51752,     0.51852,     0.51952,     0.52052,     0.52152,     0.52252,     0.52352,     0.52452,     0.52553,     0.52653,     0.52753,\n",
              "           0.52853,     0.52953,     0.53053,     0.53153,     0.53253,     0.53353,     0.53453,     0.53554,     0.53654,     0.53754,     0.53854,     0.53954,     0.54054,     0.54154,     0.54254,     0.54354,     0.54454,     0.54555,     0.54655,     0.54755,     0.54855,     0.54955,     0.55055,     0.55155,\n",
              "           0.55255,     0.55355,     0.55455,     0.55556,     0.55656,     0.55756,     0.55856,     0.55956,     0.56056,     0.56156,     0.56256,     0.56356,     0.56456,     0.56557,     0.56657,     0.56757,     0.56857,     0.56957,     0.57057,     0.57157,     0.57257,     0.57357,     0.57457,     0.57558,\n",
              "           0.57658,     0.57758,     0.57858,     0.57958,     0.58058,     0.58158,     0.58258,     0.58358,     0.58458,     0.58559,     0.58659,     0.58759,     0.58859,     0.58959,     0.59059,     0.59159,     0.59259,     0.59359,     0.59459,      0.5956,      0.5966,      0.5976,      0.5986,      0.5996,\n",
              "            0.6006,      0.6016,      0.6026,      0.6036,      0.6046,     0.60561,     0.60661,     0.60761,     0.60861,     0.60961,     0.61061,     0.61161,     0.61261,     0.61361,     0.61461,     0.61562,     0.61662,     0.61762,     0.61862,     0.61962,     0.62062,     0.62162,     0.62262,     0.62362,\n",
              "           0.62462,     0.62563,     0.62663,     0.62763,     0.62863,     0.62963,     0.63063,     0.63163,     0.63263,     0.63363,     0.63463,     0.63564,     0.63664,     0.63764,     0.63864,     0.63964,     0.64064,     0.64164,     0.64264,     0.64364,     0.64464,     0.64565,     0.64665,     0.64765,\n",
              "           0.64865,     0.64965,     0.65065,     0.65165,     0.65265,     0.65365,     0.65465,     0.65566,     0.65666,     0.65766,     0.65866,     0.65966,     0.66066,     0.66166,     0.66266,     0.66366,     0.66466,     0.66567,     0.66667,     0.66767,     0.66867,     0.66967,     0.67067,     0.67167,\n",
              "           0.67267,     0.67367,     0.67467,     0.67568,     0.67668,     0.67768,     0.67868,     0.67968,     0.68068,     0.68168,     0.68268,     0.68368,     0.68468,     0.68569,     0.68669,     0.68769,     0.68869,     0.68969,     0.69069,     0.69169,     0.69269,     0.69369,     0.69469,      0.6957,\n",
              "            0.6967,      0.6977,      0.6987,      0.6997,      0.7007,      0.7017,      0.7027,      0.7037,      0.7047,     0.70571,     0.70671,     0.70771,     0.70871,     0.70971,     0.71071,     0.71171,     0.71271,     0.71371,     0.71471,     0.71572,     0.71672,     0.71772,     0.71872,     0.71972,\n",
              "           0.72072,     0.72172,     0.72272,     0.72372,     0.72472,     0.72573,     0.72673,     0.72773,     0.72873,     0.72973,     0.73073,     0.73173,     0.73273,     0.73373,     0.73473,     0.73574,     0.73674,     0.73774,     0.73874,     0.73974,     0.74074,     0.74174,     0.74274,     0.74374,\n",
              "           0.74474,     0.74575,     0.74675,     0.74775,     0.74875,     0.74975,     0.75075,     0.75175,     0.75275,     0.75375,     0.75475,     0.75576,     0.75676,     0.75776,     0.75876,     0.75976,     0.76076,     0.76176,     0.76276,     0.76376,     0.76476,     0.76577,     0.76677,     0.76777,\n",
              "           0.76877,     0.76977,     0.77077,     0.77177,     0.77277,     0.77377,     0.77477,     0.77578,     0.77678,     0.77778,     0.77878,     0.77978,     0.78078,     0.78178,     0.78278,     0.78378,     0.78478,     0.78579,     0.78679,     0.78779,     0.78879,     0.78979,     0.79079,     0.79179,\n",
              "           0.79279,     0.79379,     0.79479,      0.7958,      0.7968,      0.7978,      0.7988,      0.7998,      0.8008,      0.8018,      0.8028,      0.8038,      0.8048,     0.80581,     0.80681,     0.80781,     0.80881,     0.80981,     0.81081,     0.81181,     0.81281,     0.81381,     0.81481,     0.81582,\n",
              "           0.81682,     0.81782,     0.81882,     0.81982,     0.82082,     0.82182,     0.82282,     0.82382,     0.82482,     0.82583,     0.82683,     0.82783,     0.82883,     0.82983,     0.83083,     0.83183,     0.83283,     0.83383,     0.83483,     0.83584,     0.83684,     0.83784,     0.83884,     0.83984,\n",
              "           0.84084,     0.84184,     0.84284,     0.84384,     0.84484,     0.84585,     0.84685,     0.84785,     0.84885,     0.84985,     0.85085,     0.85185,     0.85285,     0.85385,     0.85485,     0.85586,     0.85686,     0.85786,     0.85886,     0.85986,     0.86086,     0.86186,     0.86286,     0.86386,\n",
              "           0.86486,     0.86587,     0.86687,     0.86787,     0.86887,     0.86987,     0.87087,     0.87187,     0.87287,     0.87387,     0.87487,     0.87588,     0.87688,     0.87788,     0.87888,     0.87988,     0.88088,     0.88188,     0.88288,     0.88388,     0.88488,     0.88589,     0.88689,     0.88789,\n",
              "           0.88889,     0.88989,     0.89089,     0.89189,     0.89289,     0.89389,     0.89489,      0.8959,      0.8969,      0.8979,      0.8989,      0.8999,      0.9009,      0.9019,      0.9029,      0.9039,      0.9049,     0.90591,     0.90691,     0.90791,     0.90891,     0.90991,     0.91091,     0.91191,\n",
              "           0.91291,     0.91391,     0.91491,     0.91592,     0.91692,     0.91792,     0.91892,     0.91992,     0.92092,     0.92192,     0.92292,     0.92392,     0.92492,     0.92593,     0.92693,     0.92793,     0.92893,     0.92993,     0.93093,     0.93193,     0.93293,     0.93393,     0.93493,     0.93594,\n",
              "           0.93694,     0.93794,     0.93894,     0.93994,     0.94094,     0.94194,     0.94294,     0.94394,     0.94494,     0.94595,     0.94695,     0.94795,     0.94895,     0.94995,     0.95095,     0.95195,     0.95295,     0.95395,     0.95495,     0.95596,     0.95696,     0.95796,     0.95896,     0.95996,\n",
              "           0.96096,     0.96196,     0.96296,     0.96396,     0.96496,     0.96597,     0.96697,     0.96797,     0.96897,     0.96997,     0.97097,     0.97197,     0.97297,     0.97397,     0.97497,     0.97598,     0.97698,     0.97798,     0.97898,     0.97998,     0.98098,     0.98198,     0.98298,     0.98398,\n",
              "           0.98498,     0.98599,     0.98699,     0.98799,     0.98899,     0.98999,     0.99099,     0.99199,     0.99299,     0.99399,     0.99499,       0.996,       0.997,       0.998,       0.999,           1]), array([[    0.17647,     0.17647,     0.21586, ...,           1,           1,           1],\n",
              "       [   0.026316,    0.026316,    0.045431, ...,           1,           1,           1],\n",
              "       [       0.04,        0.04,    0.050425, ...,           1,           1,           1],\n",
              "       ...,\n",
              "       [   0.066265,    0.066265,    0.088322, ...,           1,           1,           1],\n",
              "       [   0.059406,    0.059406,    0.077314, ...,           1,           1,           1],\n",
              "       [   0.082051,    0.082051,    0.097728, ...,           1,           1,           1]]), 'Confidence', 'Precision'], [array([          0,    0.001001,    0.002002,    0.003003,    0.004004,    0.005005,    0.006006,    0.007007,    0.008008,    0.009009,     0.01001,    0.011011,    0.012012,    0.013013,    0.014014,    0.015015,    0.016016,    0.017017,    0.018018,    0.019019,     0.02002,    0.021021,    0.022022,    0.023023,\n",
              "          0.024024,    0.025025,    0.026026,    0.027027,    0.028028,    0.029029,     0.03003,    0.031031,    0.032032,    0.033033,    0.034034,    0.035035,    0.036036,    0.037037,    0.038038,    0.039039,     0.04004,    0.041041,    0.042042,    0.043043,    0.044044,    0.045045,    0.046046,    0.047047,\n",
              "          0.048048,    0.049049,     0.05005,    0.051051,    0.052052,    0.053053,    0.054054,    0.055055,    0.056056,    0.057057,    0.058058,    0.059059,     0.06006,    0.061061,    0.062062,    0.063063,    0.064064,    0.065065,    0.066066,    0.067067,    0.068068,    0.069069,     0.07007,    0.071071,\n",
              "          0.072072,    0.073073,    0.074074,    0.075075,    0.076076,    0.077077,    0.078078,    0.079079,     0.08008,    0.081081,    0.082082,    0.083083,    0.084084,    0.085085,    0.086086,    0.087087,    0.088088,    0.089089,     0.09009,    0.091091,    0.092092,    0.093093,    0.094094,    0.095095,\n",
              "          0.096096,    0.097097,    0.098098,    0.099099,      0.1001,      0.1011,      0.1021,      0.1031,      0.1041,     0.10511,     0.10611,     0.10711,     0.10811,     0.10911,     0.11011,     0.11111,     0.11211,     0.11311,     0.11411,     0.11512,     0.11612,     0.11712,     0.11812,     0.11912,\n",
              "           0.12012,     0.12112,     0.12212,     0.12312,     0.12412,     0.12513,     0.12613,     0.12713,     0.12813,     0.12913,     0.13013,     0.13113,     0.13213,     0.13313,     0.13413,     0.13514,     0.13614,     0.13714,     0.13814,     0.13914,     0.14014,     0.14114,     0.14214,     0.14314,\n",
              "           0.14414,     0.14515,     0.14615,     0.14715,     0.14815,     0.14915,     0.15015,     0.15115,     0.15215,     0.15315,     0.15415,     0.15516,     0.15616,     0.15716,     0.15816,     0.15916,     0.16016,     0.16116,     0.16216,     0.16316,     0.16416,     0.16517,     0.16617,     0.16717,\n",
              "           0.16817,     0.16917,     0.17017,     0.17117,     0.17217,     0.17317,     0.17417,     0.17518,     0.17618,     0.17718,     0.17818,     0.17918,     0.18018,     0.18118,     0.18218,     0.18318,     0.18418,     0.18519,     0.18619,     0.18719,     0.18819,     0.18919,     0.19019,     0.19119,\n",
              "           0.19219,     0.19319,     0.19419,      0.1952,      0.1962,      0.1972,      0.1982,      0.1992,      0.2002,      0.2012,      0.2022,      0.2032,      0.2042,     0.20521,     0.20621,     0.20721,     0.20821,     0.20921,     0.21021,     0.21121,     0.21221,     0.21321,     0.21421,     0.21522,\n",
              "           0.21622,     0.21722,     0.21822,     0.21922,     0.22022,     0.22122,     0.22222,     0.22322,     0.22422,     0.22523,     0.22623,     0.22723,     0.22823,     0.22923,     0.23023,     0.23123,     0.23223,     0.23323,     0.23423,     0.23524,     0.23624,     0.23724,     0.23824,     0.23924,\n",
              "           0.24024,     0.24124,     0.24224,     0.24324,     0.24424,     0.24525,     0.24625,     0.24725,     0.24825,     0.24925,     0.25025,     0.25125,     0.25225,     0.25325,     0.25425,     0.25526,     0.25626,     0.25726,     0.25826,     0.25926,     0.26026,     0.26126,     0.26226,     0.26326,\n",
              "           0.26426,     0.26527,     0.26627,     0.26727,     0.26827,     0.26927,     0.27027,     0.27127,     0.27227,     0.27327,     0.27427,     0.27528,     0.27628,     0.27728,     0.27828,     0.27928,     0.28028,     0.28128,     0.28228,     0.28328,     0.28428,     0.28529,     0.28629,     0.28729,\n",
              "           0.28829,     0.28929,     0.29029,     0.29129,     0.29229,     0.29329,     0.29429,      0.2953,      0.2963,      0.2973,      0.2983,      0.2993,      0.3003,      0.3013,      0.3023,      0.3033,      0.3043,     0.30531,     0.30631,     0.30731,     0.30831,     0.30931,     0.31031,     0.31131,\n",
              "           0.31231,     0.31331,     0.31431,     0.31532,     0.31632,     0.31732,     0.31832,     0.31932,     0.32032,     0.32132,     0.32232,     0.32332,     0.32432,     0.32533,     0.32633,     0.32733,     0.32833,     0.32933,     0.33033,     0.33133,     0.33233,     0.33333,     0.33433,     0.33534,\n",
              "           0.33634,     0.33734,     0.33834,     0.33934,     0.34034,     0.34134,     0.34234,     0.34334,     0.34434,     0.34535,     0.34635,     0.34735,     0.34835,     0.34935,     0.35035,     0.35135,     0.35235,     0.35335,     0.35435,     0.35536,     0.35636,     0.35736,     0.35836,     0.35936,\n",
              "           0.36036,     0.36136,     0.36236,     0.36336,     0.36436,     0.36537,     0.36637,     0.36737,     0.36837,     0.36937,     0.37037,     0.37137,     0.37237,     0.37337,     0.37437,     0.37538,     0.37638,     0.37738,     0.37838,     0.37938,     0.38038,     0.38138,     0.38238,     0.38338,\n",
              "           0.38438,     0.38539,     0.38639,     0.38739,     0.38839,     0.38939,     0.39039,     0.39139,     0.39239,     0.39339,     0.39439,      0.3954,      0.3964,      0.3974,      0.3984,      0.3994,      0.4004,      0.4014,      0.4024,      0.4034,      0.4044,     0.40541,     0.40641,     0.40741,\n",
              "           0.40841,     0.40941,     0.41041,     0.41141,     0.41241,     0.41341,     0.41441,     0.41542,     0.41642,     0.41742,     0.41842,     0.41942,     0.42042,     0.42142,     0.42242,     0.42342,     0.42442,     0.42543,     0.42643,     0.42743,     0.42843,     0.42943,     0.43043,     0.43143,\n",
              "           0.43243,     0.43343,     0.43443,     0.43544,     0.43644,     0.43744,     0.43844,     0.43944,     0.44044,     0.44144,     0.44244,     0.44344,     0.44444,     0.44545,     0.44645,     0.44745,     0.44845,     0.44945,     0.45045,     0.45145,     0.45245,     0.45345,     0.45445,     0.45546,\n",
              "           0.45646,     0.45746,     0.45846,     0.45946,     0.46046,     0.46146,     0.46246,     0.46346,     0.46446,     0.46547,     0.46647,     0.46747,     0.46847,     0.46947,     0.47047,     0.47147,     0.47247,     0.47347,     0.47447,     0.47548,     0.47648,     0.47748,     0.47848,     0.47948,\n",
              "           0.48048,     0.48148,     0.48248,     0.48348,     0.48448,     0.48549,     0.48649,     0.48749,     0.48849,     0.48949,     0.49049,     0.49149,     0.49249,     0.49349,     0.49449,      0.4955,      0.4965,      0.4975,      0.4985,      0.4995,      0.5005,      0.5015,      0.5025,      0.5035,\n",
              "            0.5045,     0.50551,     0.50651,     0.50751,     0.50851,     0.50951,     0.51051,     0.51151,     0.51251,     0.51351,     0.51451,     0.51552,     0.51652,     0.51752,     0.51852,     0.51952,     0.52052,     0.52152,     0.52252,     0.52352,     0.52452,     0.52553,     0.52653,     0.52753,\n",
              "           0.52853,     0.52953,     0.53053,     0.53153,     0.53253,     0.53353,     0.53453,     0.53554,     0.53654,     0.53754,     0.53854,     0.53954,     0.54054,     0.54154,     0.54254,     0.54354,     0.54454,     0.54555,     0.54655,     0.54755,     0.54855,     0.54955,     0.55055,     0.55155,\n",
              "           0.55255,     0.55355,     0.55455,     0.55556,     0.55656,     0.55756,     0.55856,     0.55956,     0.56056,     0.56156,     0.56256,     0.56356,     0.56456,     0.56557,     0.56657,     0.56757,     0.56857,     0.56957,     0.57057,     0.57157,     0.57257,     0.57357,     0.57457,     0.57558,\n",
              "           0.57658,     0.57758,     0.57858,     0.57958,     0.58058,     0.58158,     0.58258,     0.58358,     0.58458,     0.58559,     0.58659,     0.58759,     0.58859,     0.58959,     0.59059,     0.59159,     0.59259,     0.59359,     0.59459,      0.5956,      0.5966,      0.5976,      0.5986,      0.5996,\n",
              "            0.6006,      0.6016,      0.6026,      0.6036,      0.6046,     0.60561,     0.60661,     0.60761,     0.60861,     0.60961,     0.61061,     0.61161,     0.61261,     0.61361,     0.61461,     0.61562,     0.61662,     0.61762,     0.61862,     0.61962,     0.62062,     0.62162,     0.62262,     0.62362,\n",
              "           0.62462,     0.62563,     0.62663,     0.62763,     0.62863,     0.62963,     0.63063,     0.63163,     0.63263,     0.63363,     0.63463,     0.63564,     0.63664,     0.63764,     0.63864,     0.63964,     0.64064,     0.64164,     0.64264,     0.64364,     0.64464,     0.64565,     0.64665,     0.64765,\n",
              "           0.64865,     0.64965,     0.65065,     0.65165,     0.65265,     0.65365,     0.65465,     0.65566,     0.65666,     0.65766,     0.65866,     0.65966,     0.66066,     0.66166,     0.66266,     0.66366,     0.66466,     0.66567,     0.66667,     0.66767,     0.66867,     0.66967,     0.67067,     0.67167,\n",
              "           0.67267,     0.67367,     0.67467,     0.67568,     0.67668,     0.67768,     0.67868,     0.67968,     0.68068,     0.68168,     0.68268,     0.68368,     0.68468,     0.68569,     0.68669,     0.68769,     0.68869,     0.68969,     0.69069,     0.69169,     0.69269,     0.69369,     0.69469,      0.6957,\n",
              "            0.6967,      0.6977,      0.6987,      0.6997,      0.7007,      0.7017,      0.7027,      0.7037,      0.7047,     0.70571,     0.70671,     0.70771,     0.70871,     0.70971,     0.71071,     0.71171,     0.71271,     0.71371,     0.71471,     0.71572,     0.71672,     0.71772,     0.71872,     0.71972,\n",
              "           0.72072,     0.72172,     0.72272,     0.72372,     0.72472,     0.72573,     0.72673,     0.72773,     0.72873,     0.72973,     0.73073,     0.73173,     0.73273,     0.73373,     0.73473,     0.73574,     0.73674,     0.73774,     0.73874,     0.73974,     0.74074,     0.74174,     0.74274,     0.74374,\n",
              "           0.74474,     0.74575,     0.74675,     0.74775,     0.74875,     0.74975,     0.75075,     0.75175,     0.75275,     0.75375,     0.75475,     0.75576,     0.75676,     0.75776,     0.75876,     0.75976,     0.76076,     0.76176,     0.76276,     0.76376,     0.76476,     0.76577,     0.76677,     0.76777,\n",
              "           0.76877,     0.76977,     0.77077,     0.77177,     0.77277,     0.77377,     0.77477,     0.77578,     0.77678,     0.77778,     0.77878,     0.77978,     0.78078,     0.78178,     0.78278,     0.78378,     0.78478,     0.78579,     0.78679,     0.78779,     0.78879,     0.78979,     0.79079,     0.79179,\n",
              "           0.79279,     0.79379,     0.79479,      0.7958,      0.7968,      0.7978,      0.7988,      0.7998,      0.8008,      0.8018,      0.8028,      0.8038,      0.8048,     0.80581,     0.80681,     0.80781,     0.80881,     0.80981,     0.81081,     0.81181,     0.81281,     0.81381,     0.81481,     0.81582,\n",
              "           0.81682,     0.81782,     0.81882,     0.81982,     0.82082,     0.82182,     0.82282,     0.82382,     0.82482,     0.82583,     0.82683,     0.82783,     0.82883,     0.82983,     0.83083,     0.83183,     0.83283,     0.83383,     0.83483,     0.83584,     0.83684,     0.83784,     0.83884,     0.83984,\n",
              "           0.84084,     0.84184,     0.84284,     0.84384,     0.84484,     0.84585,     0.84685,     0.84785,     0.84885,     0.84985,     0.85085,     0.85185,     0.85285,     0.85385,     0.85485,     0.85586,     0.85686,     0.85786,     0.85886,     0.85986,     0.86086,     0.86186,     0.86286,     0.86386,\n",
              "           0.86486,     0.86587,     0.86687,     0.86787,     0.86887,     0.86987,     0.87087,     0.87187,     0.87287,     0.87387,     0.87487,     0.87588,     0.87688,     0.87788,     0.87888,     0.87988,     0.88088,     0.88188,     0.88288,     0.88388,     0.88488,     0.88589,     0.88689,     0.88789,\n",
              "           0.88889,     0.88989,     0.89089,     0.89189,     0.89289,     0.89389,     0.89489,      0.8959,      0.8969,      0.8979,      0.8989,      0.8999,      0.9009,      0.9019,      0.9029,      0.9039,      0.9049,     0.90591,     0.90691,     0.90791,     0.90891,     0.90991,     0.91091,     0.91191,\n",
              "           0.91291,     0.91391,     0.91491,     0.91592,     0.91692,     0.91792,     0.91892,     0.91992,     0.92092,     0.92192,     0.92292,     0.92392,     0.92492,     0.92593,     0.92693,     0.92793,     0.92893,     0.92993,     0.93093,     0.93193,     0.93293,     0.93393,     0.93493,     0.93594,\n",
              "           0.93694,     0.93794,     0.93894,     0.93994,     0.94094,     0.94194,     0.94294,     0.94394,     0.94494,     0.94595,     0.94695,     0.94795,     0.94895,     0.94995,     0.95095,     0.95195,     0.95295,     0.95395,     0.95495,     0.95596,     0.95696,     0.95796,     0.95896,     0.95996,\n",
              "           0.96096,     0.96196,     0.96296,     0.96396,     0.96496,     0.96597,     0.96697,     0.96797,     0.96897,     0.96997,     0.97097,     0.97197,     0.97297,     0.97397,     0.97497,     0.97598,     0.97698,     0.97798,     0.97898,     0.97998,     0.98098,     0.98198,     0.98298,     0.98398,\n",
              "           0.98498,     0.98599,     0.98699,     0.98799,     0.98899,     0.98999,     0.99099,     0.99199,     0.99299,     0.99399,     0.99499,       0.996,       0.997,       0.998,       0.999,           1]), array([[          1,           1,           1, ...,           0,           0,           0],\n",
              "       [          1,           1,           1, ...,           0,           0,           0],\n",
              "       [          1,           1,           1, ...,           0,           0,           0],\n",
              "       ...,\n",
              "       [          1,           1,           1, ...,           0,           0,           0],\n",
              "       [          1,           1,           1, ...,           0,           0,           0],\n",
              "       [    0.94118,     0.94118,     0.94118, ...,           0,           0,           0]]), 'Confidence', 'Recall']]\n",
              "fitness: np.float64(0.8279265851533503)\n",
              "keys: ['metrics/precision(B)', 'metrics/recall(B)', 'metrics/mAP50(B)', 'metrics/mAP50-95(B)']\n",
              "maps: array([    0.90923,       0.995,      0.4975,     0.77053,     0.82915,     0.64725,     0.84111,     0.64418,     0.88519,     0.85931,      0.7031,     0.84917,     0.83623,     0.62273,     0.97048,     0.88203,     0.68345,     0.68042,     0.86533,     0.79361,     0.94355,     0.81905,      0.8882,     0.88732,\n",
              "           0.80817,     0.83221,     0.73217,     0.94616,     0.96544,     0.74185,     0.88333,     0.65156,     0.59315,     0.68504,     0.47619,      0.7439,     0.92375,     0.88075,     0.93316,       0.995,     0.95474,     0.91515,     0.81686,      0.8703,     0.92067,     0.93975,     0.95655,      0.9015,\n",
              "            0.8206,     0.86354,     0.89052,     0.82917,      0.9278,       0.895,     0.94444,       0.845,     0.94557,     0.79775,     0.69067,     0.70418,     0.81965,     0.97551,      0.8955,     0.93673,       0.869,     0.58149,     0.58591,     0.86048,      0.7793,     0.89439,     0.91152,     0.97214,\n",
              "           0.63989])\n",
              "names: {0: '보령부스파정 5mg', 1: '뮤테란캡슐 100mg', 2: '일양하이트린정 2mg', 3: '기넥신에프정(은행엽엑스)(수출용)', 4: '무코스타정(레바미피드)(비매품)', 5: '알드린정', 6: '뉴로메드정(옥시라세탐)', 7: '타이레놀정500mg', 8: '에어탈정(아세클로페낙)', 9: '삼남건조수산화알루미늄겔정', 10: '타이레놀이알서방정(아세트아미노펜)(수출용)', 11: '삐콤씨에프정 618.6mg/병', 12: '조인스정 200mg', 13: '쎄로켈정 100mg', 14: '리렉스펜정 300mg/PTP', 15: '아빌리파이정 10mg', 16: '자이프렉사정 2.5mg', 17: '다보타민큐정 10mg/병', 18: '써스펜8시간이알서방정 650mg', 19: '에빅사정(메만틴염산염)(비매품)', 20: '리피토정 20mg', 21: '크레스토정 20mg', 22: '가바토파정 100mg', 23: '동아가바펜틴정 800mg', 24: '오마코연질캡슐(오메가-3-산에틸에스테르90)', 25: '란스톤엘에프디티정 30mg', 26: '리리카캡슐 150mg', 27: '종근당글리아티린연질캡슐(콜린알포세레이트)\\xa0', 28: '콜리네이트연질캡슐 400mg', 29: '트루비타정 60mg/병', 30: '스토가정 10mg', 31: '노바스크정 5mg', 32: '마도파정', 33: '플라빅스정 75mg', 34: '엑스포지정 5/160mg', 35: '펠루비정(펠루비프로펜)', 36: '아토르바정 10mg', 37: '라비에트정 20mg', 38: '리피로우정 20mg', 39: '자누비아정 50mg', 40: '맥시부펜이알정 300mg', 41: '메가파워정 90mg/병', 42: '쿠에타핀정 25mg', 43: '비타비백정 100mg/병', 44: '놀텍정 10mg', 45: '자누메트정 50/850mg', 46: '큐시드정 31.5mg/PTP', 47: '아모잘탄정 5/100mg', 48: '세비카정 10/40mg', 49: '트윈스타정 40/5mg', 50: '카나브정 60mg', 51: '울트라셋이알서방정', 52: '졸로푸트정 100mg', 53: '트라젠타정(리나글립틴)', 54: '비모보정 500/20mg', 55: '레일라정', 56: '리바로정 4mg', 57: '렉사프로정 15mg', 58: '트라젠타듀오정 2.5/850mg', 59: '낙소졸정 500/20mg', 60: '아질렉트정(라사길린메실산염)', 61: '자누메트엑스알서방정 100/1000mg', 62: '글리아타민연질캡슐', 63: '신바로정', 64: '에스원엠프정 20mg', 65: '브린텔릭스정 20mg', 66: '글리틴정(콜린알포세레이트)', 67: '제미메트서방정 50/1000mg', 68: '아토젯정 10/40mg', 69: '로수젯정10/5밀리그램', 70: '로수바미브정 10/20mg', 71: '카발린캡슐 25mg', 72: '케이캡정 50mg'}\n",
              "plot: True\n",
              "results_dict: {'metrics/precision(B)': np.float64(0.71065196329173), 'metrics/recall(B)': np.float64(0.9528990399046658), 'metrics/mAP50(B)': np.float64(0.8516466707842987), 'metrics/mAP50-95(B)': np.float64(0.825291020083245), 'fitness': np.float64(0.8279265851533503)}\n",
              "save_dir: PosixPath('/content/drive/MyDrive/codeit_level1_project/YOLOv8_epoch100_hyperparameters/pill_yolo_exp/yolov8x_hyp0534_ep100')\n",
              "speed: {'preprocess': 0.11947678643745178, 'inference': 3.4155765661002446, 'loss': 0.00031473559289933896, 'postprocess': 2.0952728610147027}\n",
              "task: 'detect'"
            ]
          },
          "metadata": {},
          "execution_count": 12
        }
      ]
    },
    {
      "cell_type": "markdown",
      "source": [
        "### 5.2 검증 데이터 성능 평가\n",
        "- 훈련 완료 후, 검증 데이터셋(295장, 890개 객체)을 대상으로 모델 성능을 평가하였다.\n",
        "\n",
        "- 평가에는 튜닝된 모델의 best weight(best.pt)를 로드하여 model.val() 함수를 사용하였다.\n",
        "\n",
        "- 검증 과정에서 일부 라벨이 비정상 범위를 가지는 이미지 2장은 자동으로 무시되었다.\n",
        "\n",
        "| 지표                | 값     | 설명                         |\n",
        "| ----------------- | ----- | -------------------------- |\n",
        "| **Precision**     | 0.710 | 예측한 것 중 정답인 비율             |\n",
        "| **Recall**        | 0.953 | 실제 객체 중 예측에 성공한 비율         |\n",
        "| **mAP\\@0.5**      | 0.852 | IoU ≥ 0.5일 때의 평균 정밀도       |\n",
        "| **mAP\\@0.5:0.95** | 0.827 | IoU 0.5\\~0.95 범위에서의 평균 정밀도 |\n"
      ],
      "metadata": {
        "id": "f2Vh9odPYtgp"
      }
    },
    {
      "cell_type": "code",
      "source": [
        "model = YOLO(\"/content/drive/MyDrive/codeit_level1_project/YOLOv8_epoch100_hyperparameters/pill_yolo_exp/yolov8x_hyp0534_ep100/weights/best.pt\")\n",
        "metrics = model.val()\n",
        "print(metrics.box)"
      ],
      "metadata": {
        "colab": {
          "base_uri": "https://localhost:8080/"
        },
        "id": "47Ag4inxJQIU",
        "outputId": "6a2860fa-619f-4ea9-fb5e-bfbc6e903482"
      },
      "execution_count": null,
      "outputs": [
        {
          "output_type": "stream",
          "name": "stdout",
          "text": [
            "Ultralytics 8.3.146 🚀 Python-3.11.12 torch-2.6.0+cu124 CUDA:0 (NVIDIA A100-SXM4-40GB, 40507MiB)\n",
            "Model summary (fused): 112 layers, 68,193,867 parameters, 0 gradients, 257.8 GFLOPs\n",
            "Downloading https://ultralytics.com/assets/Arial.Unicode.ttf to '/root/.config/Ultralytics/Arial.Unicode.ttf'...\n"
          ]
        },
        {
          "output_type": "stream",
          "name": "stderr",
          "text": [
            "100%|██████████| 22.2M/22.2M [00:00<00:00, 136MB/s] \n"
          ]
        },
        {
          "output_type": "stream",
          "name": "stdout",
          "text": [
            "\u001b[34m\u001b[1mval: \u001b[0mFast image access ✅ (ping: 0.4±0.1 ms, read: 85.8±181.1 MB/s, size: 1690.6 KB)\n"
          ]
        },
        {
          "output_type": "stream",
          "name": "stderr",
          "text": [
            "\u001b[34m\u001b[1mval: \u001b[0mScanning /content/drive/MyDrive/codeit_level1_project/data/labels/val.cache... 297 images, 0 backgrounds, 2 corrupt: 100%|██████████| 297/297 [00:00<?, ?it/s]"
          ]
        },
        {
          "output_type": "stream",
          "name": "stdout",
          "text": [
            "\u001b[34m\u001b[1mval: \u001b[0m/content/drive/MyDrive/codeit_level1_project/data/images/val/K-003351-016262-018357_0_2_0_2_75_000_200.png: ignoring corrupt image/label: non-normalized or out of bounds coordinates [     6.8878]\n",
            "\u001b[34m\u001b[1mval: \u001b[0m/content/drive/MyDrive/codeit_level1_project/data/images/val/K-003544-004543-012247-016551_0_2_0_2_70_000_200.png: ignoring corrupt image/label: non-normalized or out of bounds coordinates [     7.0293]\n"
          ]
        },
        {
          "output_type": "stream",
          "name": "stderr",
          "text": [
            "\n",
            "                 Class     Images  Instances      Box(P          R      mAP50  mAP50-95): 100%|██████████| 19/19 [00:05<00:00,  3.80it/s]\n"
          ]
        },
        {
          "output_type": "stream",
          "name": "stdout",
          "text": [
            "                   all        295        890       0.71      0.953      0.852      0.827\n",
            "            보령부스파정 5mg         24         24      0.668          1      0.916      0.909\n",
            "           뮤테란캡슐 100mg          1          1      0.804          1      0.995      0.995\n",
            "           일양하이트린정 2mg          2          2      0.447          1      0.497      0.497\n",
            "    기넥신에프정(은행엽엑스)(수출용)         90         90      0.728          1      0.777      0.771\n",
            "     무코스타정(레바미피드)(비매품)          5          5      0.627          1      0.862      0.829\n",
            "                  알드린정         10         10      0.487          1      0.647      0.647\n",
            "          뉴로메드정(옥시라세탐)         10         10      0.794          1      0.889      0.849\n",
            "            타이레놀정500mg          4          4          1       0.45      0.699      0.643\n",
            "          에어탈정(아세클로페낙)         11         11      0.885      0.818      0.931      0.872\n",
            "         삼남건조수산화알루미늄겔정         35         35      0.796          1       0.87      0.859\n",
            "타이레놀이알서방정(아세트아미노펜)(수출용)          6          6       0.71      0.818      0.703      0.703\n",
            "      삐콤씨에프정 618.6mg/병          4          4      0.437          1      0.849      0.849\n",
            "            조인스정 200mg          5          5      0.728          1      0.895      0.859\n",
            "            쎄로켈정 100mg          2          2      0.435          1      0.663      0.623\n",
            "       리렉스펜정 300mg/PTP          4          4       0.85          1      0.995       0.97\n",
            "           아빌리파이정 10mg         29         29       0.86          1       0.93      0.889\n",
            "          자이프렉사정 2.5mg          7          7      0.637      0.857      0.683      0.683\n",
            "         다보타민큐정 10mg/병          4          4      0.567      0.985      0.705       0.68\n",
            "     써스펜8시간이알서방정 650mg         23         23      0.785      0.952      0.849      0.844\n",
            "     에빅사정(메만틴염산염)(비매품)          4          4      0.876        0.5      0.808      0.808\n",
            "             리피토정 20mg         18         18      0.891          1      0.952      0.944\n",
            "            크레스토정 20mg          7          7      0.818      0.857      0.842      0.819\n",
            "           가바토파정 100mg          9          9      0.854          1      0.918      0.888\n",
            "         동아가바펜틴정 800mg          8          8      0.721          1      0.926      0.887\n",
            "오마코연질캡슐(오메가-3-산에틸에스테르90)         21         21      0.695          1      0.808      0.808\n",
            "        란스톤엘에프디티정 30mg         44         44      0.851          1      0.869      0.833\n",
            "           리리카캡슐 150mg         30         30      0.713          1      0.739      0.732\n",
            "종근당글리아티린연질캡슐(콜린알포세레이트)           2          2          1      0.512      0.995      0.946\n",
            "       콜리네이트연질캡슐 400mg          6          6       0.79          1      0.995      0.965\n",
            "          트루비타정 60mg/병          4          4      0.574          1      0.796      0.773\n",
            "             스토가정 10mg          8          8      0.471          1      0.954      0.883\n",
            "             노바스크정 5mg         15         15      0.445          1        0.7       0.67\n",
            "                  마도파정         10         10      0.605          1      0.622      0.593\n",
            "            플라빅스정 75mg          3          3      0.571          1      0.731      0.685\n",
            "         엑스포지정 5/160mg          4          4      0.459          1      0.497      0.476\n",
            "          펠루비정(펠루비프로펜)         14         14      0.685          1      0.803      0.734\n",
            "            아토르바정 10mg          7          7      0.816          1      0.924      0.924\n",
            "            라비에트정 20mg         22         22      0.872      0.932       0.89      0.881\n",
            "            리피로우정 20mg          4          4      0.843          1      0.995      0.933\n",
            "            자누비아정 50mg          3          3          1      0.484      0.995      0.995\n",
            "         맥시부펜이알정 300mg          3          3      0.887          1      0.995      0.955\n",
            "          메가파워정 90mg/병         16         16      0.862          1      0.955      0.915\n",
            "            쿠에타핀정 25mg         12         12      0.832          1      0.865      0.831\n",
            "         비타비백정 100mg/병          4          4      0.712          1      0.895       0.87\n",
            "              놀텍정 10mg          2          2      0.551          1      0.995      0.995\n",
            "        자누메트정 50/850mg          8          8      0.865      0.807       0.94       0.94\n",
            "       큐시드정 31.5mg/PTP         23         23      0.868          1      0.954      0.954\n",
            "         아모잘탄정 5/100mg          6          6      0.773          1      0.995      0.924\n",
            "          세비카정 10/40mg         12         12      0.757          1      0.887      0.828\n",
            "          트윈스타정 40/5mg         45         45      0.822      0.978      0.878      0.868\n",
            "             카나브정 60mg         22         22      0.783          1      0.925      0.891\n",
            "             울트라셋이알서방정         10         10      0.785          1      0.829      0.829\n",
            "           졸로푸트정 100mg         13         13      0.801          1      0.928      0.928\n",
            "          트라젠타정(리나글립틴)          4          4      0.526          1      0.895      0.895\n",
            "         비모보정 500/20mg         17         17      0.861          1      0.944      0.944\n",
            "                  레일라정          8          8      0.566          1      0.845      0.845\n",
            "              리바로정 4mg          2          2      0.591          1      0.995      0.946\n",
            "            렉사프로정 15mg          3          3      0.416          1       0.83      0.798\n",
            "     트라젠타듀오정 2.5/850mg         15         15      0.609          1      0.698      0.698\n",
            "         낙소졸정 500/20mg          4          4      0.615          1      0.796      0.704\n",
            "       아질렉트정(라사길린메실산염)          5          5      0.641          1      0.862       0.82\n",
            " 자누메트엑스알서방정 100/1000mg          7          7      0.891          1      0.995      0.976\n",
            "             글리아타민연질캡슐          1          1        0.7          1      0.995      0.895\n",
            "                  신바로정         15         15      0.815          1      0.937      0.937\n",
            "           에스원엠프정 20mg         21         21      0.705          1      0.877      0.877\n",
            "           브린텔릭스정 20mg          8          8      0.267          1      0.617      0.595\n",
            "        글리틴정(콜린알포세레이트)          2          2      0.106          1      0.586      0.586\n",
            "     제미메트서방정 50/1000mg         23         23      0.782      0.938      0.876      0.859\n",
            "          아토젯정 10/40mg         16         16      0.649          1      0.779      0.763\n",
            "          로수젯정10/5밀리그램         10         10      0.896      0.861       0.95      0.894\n",
            "        로수바미브정 10/20mg         11         11      0.807      0.909      0.926      0.898\n",
            "            카발린캡슐 25mg          6          6      0.783          1      0.972      0.941\n",
            "             케이캡정 50mg         17         17      0.493      0.941       0.64       0.64\n",
            "Speed: 0.6ms preprocess, 4.4ms inference, 0.0ms loss, 4.5ms postprocess per image\n",
            "Results saved to \u001b[1mruns/detect/val\u001b[0m\n",
            "ultralytics.utils.metrics.Metric object with attributes:\n",
            "\n",
            "all_ap: array([[     0.9161,      0.9161,      0.9161,      0.9161,      0.9161,      0.9161,      0.9161,      0.9161,      0.9161,     0.84466],\n",
            "       [      0.995,       0.995,       0.995,       0.995,       0.995,       0.995,       0.995,       0.995,       0.995,       0.995],\n",
            "       [     0.4975,      0.4975,      0.4975,      0.4975,      0.4975,      0.4975,      0.4975,      0.4975,      0.4975,      0.4975],\n",
            "       [    0.77676,     0.77676,     0.77676,     0.77676,     0.77676,     0.77676,     0.77676,     0.77676,     0.77676,     0.71833],\n",
            "       [    0.86167,     0.86167,     0.86167,     0.86167,     0.86167,     0.86167,     0.86167,     0.86167,     0.86167,     0.53636],\n",
            "       [    0.64725,     0.64725,     0.64725,     0.64725,     0.64725,     0.64725,     0.64725,     0.64725,     0.64725,     0.64725],\n",
            "       [    0.88883,     0.88883,     0.88883,     0.88883,     0.88883,     0.88883,     0.88883,     0.88883,     0.88883,     0.49315],\n",
            "       [    0.69946,     0.69946,     0.69946,     0.69946,     0.69946,     0.69946,     0.69946,     0.69946,     0.69946,     0.13902],\n",
            "       [    0.93131,     0.93131,     0.93131,     0.93131,     0.93131,     0.93131,     0.93131,     0.93131,     0.80117,      0.4701],\n",
            "       [    0.86967,     0.86967,     0.86967,     0.86967,     0.86967,     0.86967,     0.86967,     0.86967,     0.86967,     0.76622],\n",
            "       [     0.7031,      0.7031,      0.7031,      0.7031,      0.7031,      0.7031,      0.7031,      0.7031,      0.7031,      0.7031],\n",
            "       [    0.84917,     0.84917,     0.84917,     0.84917,     0.84917,     0.84917,     0.84917,     0.84917,     0.84917,     0.84917],\n",
            "       [      0.895,       0.895,       0.895,       0.895,       0.895,       0.895,       0.895,       0.895,       0.895,     0.53667],\n",
            "       [    0.66333,     0.66333,     0.66333,     0.66333,     0.66333,     0.66333,     0.66333,     0.66333,     0.66333,     0.25731],\n",
            "       [      0.995,       0.995,       0.995,       0.995,       0.995,       0.995,       0.995,       0.995,       0.995,     0.74976],\n",
            "       [     0.9301,      0.9301,      0.9301,      0.8986,      0.8986,      0.8986,      0.8986,      0.8986,      0.8986,     0.70318],\n",
            "       [    0.68345,     0.68345,     0.68345,     0.68345,     0.68345,     0.68345,     0.68345,     0.68345,     0.68345,     0.68345],\n",
            "       [    0.70452,     0.70452,     0.70452,     0.70452,     0.70452,     0.70452,     0.70452,     0.70452,     0.70452,     0.46348],\n",
            "       [    0.84908,     0.84908,     0.84908,     0.84908,     0.84908,     0.84908,     0.84908,     0.84908,     0.84908,     0.79613],\n",
            "       [     0.8075,      0.8075,      0.8075,      0.8075,      0.8075,      0.8075,      0.8075,      0.8075,      0.8075,      0.8075],\n",
            "       [      0.952,       0.952,       0.952,       0.952,       0.952,       0.952,       0.952,       0.952,       0.952,     0.87649],\n",
            "       [    0.84175,     0.84175,     0.84175,     0.84175,     0.84175,     0.84175,     0.84175,     0.84175,     0.84175,      0.6148],\n",
            "       [      0.918,       0.918,       0.918,       0.918,       0.918,       0.918,       0.918,       0.918,       0.918,     0.61996],\n",
            "       [    0.92611,     0.92611,     0.92611,     0.92611,     0.92611,     0.92611,     0.92611,     0.92611,     0.92611,     0.53823],\n",
            "       [    0.80778,     0.80778,     0.80778,     0.80778,     0.80778,     0.80778,     0.80778,     0.80778,     0.80778,     0.80778],\n",
            "       [     0.8687,      0.8687,      0.8687,      0.8687,      0.8687,      0.8687,      0.8687,      0.8687,      0.8687,     0.51023],\n",
            "       [    0.73893,     0.73893,     0.73893,     0.73893,     0.73893,     0.73893,     0.73893,     0.73893,     0.73893,     0.67129],\n",
            "       [      0.995,       0.995,       0.995,       0.995,       0.995,       0.995,       0.995,       0.995,       0.995,     0.50609],\n",
            "       [      0.995,       0.995,       0.995,       0.995,       0.995,       0.995,       0.995,       0.995,       0.995,     0.69938],\n",
            "       [      0.796,       0.796,       0.796,       0.796,       0.796,       0.796,       0.796,       0.796,       0.796,     0.56409],\n",
            "       [    0.95389,     0.95389,     0.95389,     0.95389,     0.95389,     0.95389,     0.95389,     0.95389,     0.69658,     0.50563],\n",
            "       [    0.69976,     0.69976,     0.69976,     0.69976,     0.69976,     0.69976,     0.69976,     0.65937,     0.65937,     0.48444],\n",
            "       [    0.62187,     0.62187,     0.62187,     0.62187,     0.62187,     0.62187,     0.62187,     0.62187,     0.62187,     0.33466],\n",
            "       [      0.731,       0.731,       0.731,       0.731,       0.731,       0.731,       0.731,       0.731,       0.731,     0.27143],\n",
            "       [     0.4975,      0.4975,      0.4975,      0.4975,      0.4975,      0.4975,      0.4975,      0.4975,      0.4975,     0.28444],\n",
            "       [    0.80324,     0.80324,     0.80324,     0.80324,     0.80324,     0.80324,     0.80324,     0.80324,     0.60699,     0.31168],\n",
            "       [    0.92375,     0.92375,     0.92375,     0.92375,     0.92375,     0.92375,     0.92375,     0.92375,     0.92375,     0.92375],\n",
            "       [    0.89015,     0.89015,     0.89015,     0.89015,     0.89015,     0.89015,     0.89015,     0.89015,     0.89015,     0.79609],\n",
            "       [      0.995,       0.995,       0.995,       0.995,       0.995,       0.995,       0.995,       0.995,       0.995,     0.37671],\n",
            "       [      0.995,       0.995,       0.995,       0.995,       0.995,       0.995,       0.995,       0.995,       0.995,       0.995],\n",
            "       [      0.995,       0.995,       0.995,       0.995,       0.995,       0.995,       0.995,       0.995,       0.995,      0.5924],\n",
            "       [      0.955,       0.955,       0.955,       0.955,       0.955,       0.955,       0.955,       0.955,       0.955,     0.55649],\n",
            "       [      0.865,       0.865,       0.865,       0.865,       0.865,       0.865,       0.865,       0.865,       0.865,     0.52321],\n",
            "       [      0.895,       0.895,       0.895,       0.895,       0.895,       0.895,       0.895,       0.895,       0.895,     0.64807],\n",
            "       [      0.995,       0.995,       0.995,       0.995,       0.995,       0.995,       0.995,       0.995,       0.995,       0.995],\n",
            "       [    0.93975,     0.93975,     0.93975,     0.93975,     0.93975,     0.93975,     0.93975,     0.93975,     0.93975,     0.93975],\n",
            "       [    0.95405,     0.95405,     0.95405,     0.95405,     0.95405,     0.95405,     0.95405,     0.95405,     0.95405,     0.95405],\n",
            "       [      0.995,       0.995,       0.995,       0.995,       0.995,       0.995,       0.995,       0.995,       0.995,     0.28623],\n",
            "       [    0.88685,     0.88685,     0.88685,     0.88685,     0.88685,     0.88685,     0.88685,     0.88685,     0.88685,     0.29794],\n",
            "       [    0.87788,     0.87788,     0.87788,     0.87788,     0.87788,     0.87788,     0.87788,     0.87788,     0.87788,     0.78059],\n",
            "       [    0.92519,     0.92519,     0.92519,     0.92519,     0.92519,     0.92519,     0.92519,     0.92519,     0.92519,     0.57848],\n",
            "       [    0.82917,     0.82917,     0.82917,     0.82917,     0.82917,     0.82917,     0.82917,     0.82917,     0.82917,     0.82917],\n",
            "       [     0.9278,      0.9278,      0.9278,      0.9278,      0.9278,      0.9278,      0.9278,      0.9278,      0.9278,      0.9278],\n",
            "       [      0.895,       0.895,       0.895,       0.895,       0.895,       0.895,       0.895,       0.895,       0.895,       0.895],\n",
            "       [    0.94444,     0.94444,     0.94444,     0.94444,     0.94444,     0.94444,     0.94444,     0.94444,     0.94444,     0.94444],\n",
            "       [      0.845,       0.845,       0.845,       0.845,       0.845,       0.845,       0.845,       0.845,       0.845,       0.845],\n",
            "       [      0.995,       0.995,       0.995,       0.995,       0.995,       0.995,       0.995,       0.995,       0.995,     0.50054],\n",
            "       [       0.83,        0.83,        0.83,        0.83,        0.83,        0.83,        0.83,        0.83,        0.83,     0.50748],\n",
            "       [    0.69817,     0.69817,     0.69817,     0.69817,     0.69817,     0.69817,     0.69817,     0.69817,     0.69817,     0.69817],\n",
            "       [      0.796,       0.796,       0.796,       0.796,       0.796,       0.796,       0.796,       0.796,     0.44887,     0.22495],\n",
            "       [    0.86167,     0.86167,     0.86167,     0.86167,     0.86167,     0.86167,     0.86167,     0.86167,     0.86167,     0.44154],\n",
            "       [      0.995,       0.995,       0.995,       0.995,       0.995,       0.995,       0.995,       0.995,       0.995,     0.80006],\n",
            "       [      0.995,       0.995,       0.995,       0.995,       0.995,       0.995,       0.995,       0.995,       0.995,           0],\n",
            "       [    0.93673,     0.93673,     0.93673,     0.93673,     0.93673,     0.93673,     0.93673,     0.93673,     0.93673,     0.93673],\n",
            "       [    0.87695,     0.87695,     0.87695,     0.87695,     0.87695,     0.87695,     0.87695,     0.87695,     0.87695,     0.87695],\n",
            "       [    0.61747,     0.61747,     0.61747,     0.61747,     0.61747,     0.61747,     0.61747,     0.61747,     0.61747,     0.39638],\n",
            "       [    0.58591,     0.58591,     0.58591,     0.58591,     0.58591,     0.58591,     0.58591,     0.58591,     0.58591,     0.58591],\n",
            "       [    0.87602,     0.87602,     0.87602,     0.87602,     0.87602,     0.87602,     0.87602,     0.87602,     0.87602,     0.70494],\n",
            "       [    0.77907,     0.77907,     0.77907,     0.77907,     0.77907,     0.77907,     0.77907,     0.77907,     0.77907,     0.62254],\n",
            "       [    0.94955,     0.94955,     0.94955,     0.94955,     0.94955,     0.94955,     0.94955,     0.94955,     0.74602,     0.60152],\n",
            "       [    0.92571,     0.92571,     0.92571,     0.92571,     0.92571,     0.92571,     0.92571,     0.92571,     0.92571,     0.65205],\n",
            "       [    0.97214,     0.97214,     0.97214,     0.97214,     0.97214,     0.97214,     0.97214,     0.97214,     0.97214,     0.65747],\n",
            "       [    0.63988,     0.63988,     0.63988,     0.63988,     0.63988,     0.63988,     0.63988,     0.63988,     0.63988,     0.63988]])\n",
            "ap: array([    0.90896,       0.995,      0.4975,     0.77092,     0.82914,     0.64725,     0.84926,     0.64341,     0.87217,     0.85932,      0.7031,     0.84917,     0.85917,     0.62273,     0.97048,      0.8885,     0.68345,     0.68042,     0.84379,      0.8075,     0.94445,     0.81905,      0.8882,     0.88732,\n",
            "           0.80778,     0.83285,     0.73217,     0.94611,     0.96544,     0.77281,     0.88333,     0.67015,     0.59315,     0.68504,     0.47619,     0.73446,     0.92375,     0.88075,     0.93317,       0.995,     0.95474,     0.91515,     0.83082,     0.87031,       0.995,     0.93975,     0.95405,     0.92412,\n",
            "           0.82796,     0.86815,     0.89052,     0.82917,      0.9278,       0.895,     0.94444,       0.845,     0.94555,     0.79775,     0.69817,     0.70418,     0.81965,     0.97551,      0.8955,     0.93673,     0.87695,     0.59536,     0.58591,     0.85891,     0.76342,     0.89439,     0.89835,     0.94068,\n",
            "           0.63988])\n",
            "ap50: array([     0.9161,       0.995,      0.4975,     0.77676,     0.86167,     0.64725,     0.88883,     0.69946,     0.93131,     0.86967,      0.7031,     0.84917,       0.895,     0.66333,       0.995,      0.9301,     0.68345,     0.70452,     0.84908,      0.8075,       0.952,     0.84175,       0.918,     0.92611,\n",
            "           0.80778,      0.8687,     0.73893,       0.995,       0.995,       0.796,     0.95389,     0.69976,     0.62187,       0.731,      0.4975,     0.80324,     0.92375,     0.89015,       0.995,       0.995,       0.995,       0.955,       0.865,       0.895,       0.995,     0.93975,     0.95405,       0.995,\n",
            "           0.88685,     0.87788,     0.92519,     0.82917,      0.9278,       0.895,     0.94444,       0.845,       0.995,        0.83,     0.69817,       0.796,     0.86167,       0.995,       0.995,     0.93673,     0.87695,     0.61747,     0.58591,     0.87602,     0.77907,     0.94955,     0.92571,     0.97214,\n",
            "           0.63988])\n",
            "ap_class_index: array([ 0,  1,  2,  3,  4,  5,  6,  7,  8,  9, 10, 11, 12, 13, 14, 15, 16, 17, 18, 19, 20, 21, 22, 23, 24, 25, 26, 27, 28, 29, 30, 31, 32, 33, 34, 35, 36, 37, 38, 39, 40, 41, 42, 43, 44, 45, 46, 47, 48, 49, 50, 51, 52, 53, 54, 55, 56, 57, 58, 59, 60, 61, 62, 63, 64, 65, 66, 67, 68, 69, 70, 71, 72])\n",
            "curves: []\n",
            "curves_results: [[array([          0,    0.001001,    0.002002,    0.003003,    0.004004,    0.005005,    0.006006,    0.007007,    0.008008,    0.009009,     0.01001,    0.011011,    0.012012,    0.013013,    0.014014,    0.015015,    0.016016,    0.017017,    0.018018,    0.019019,     0.02002,    0.021021,    0.022022,    0.023023,\n",
            "          0.024024,    0.025025,    0.026026,    0.027027,    0.028028,    0.029029,     0.03003,    0.031031,    0.032032,    0.033033,    0.034034,    0.035035,    0.036036,    0.037037,    0.038038,    0.039039,     0.04004,    0.041041,    0.042042,    0.043043,    0.044044,    0.045045,    0.046046,    0.047047,\n",
            "          0.048048,    0.049049,     0.05005,    0.051051,    0.052052,    0.053053,    0.054054,    0.055055,    0.056056,    0.057057,    0.058058,    0.059059,     0.06006,    0.061061,    0.062062,    0.063063,    0.064064,    0.065065,    0.066066,    0.067067,    0.068068,    0.069069,     0.07007,    0.071071,\n",
            "          0.072072,    0.073073,    0.074074,    0.075075,    0.076076,    0.077077,    0.078078,    0.079079,     0.08008,    0.081081,    0.082082,    0.083083,    0.084084,    0.085085,    0.086086,    0.087087,    0.088088,    0.089089,     0.09009,    0.091091,    0.092092,    0.093093,    0.094094,    0.095095,\n",
            "          0.096096,    0.097097,    0.098098,    0.099099,      0.1001,      0.1011,      0.1021,      0.1031,      0.1041,     0.10511,     0.10611,     0.10711,     0.10811,     0.10911,     0.11011,     0.11111,     0.11211,     0.11311,     0.11411,     0.11512,     0.11612,     0.11712,     0.11812,     0.11912,\n",
            "           0.12012,     0.12112,     0.12212,     0.12312,     0.12412,     0.12513,     0.12613,     0.12713,     0.12813,     0.12913,     0.13013,     0.13113,     0.13213,     0.13313,     0.13413,     0.13514,     0.13614,     0.13714,     0.13814,     0.13914,     0.14014,     0.14114,     0.14214,     0.14314,\n",
            "           0.14414,     0.14515,     0.14615,     0.14715,     0.14815,     0.14915,     0.15015,     0.15115,     0.15215,     0.15315,     0.15415,     0.15516,     0.15616,     0.15716,     0.15816,     0.15916,     0.16016,     0.16116,     0.16216,     0.16316,     0.16416,     0.16517,     0.16617,     0.16717,\n",
            "           0.16817,     0.16917,     0.17017,     0.17117,     0.17217,     0.17317,     0.17417,     0.17518,     0.17618,     0.17718,     0.17818,     0.17918,     0.18018,     0.18118,     0.18218,     0.18318,     0.18418,     0.18519,     0.18619,     0.18719,     0.18819,     0.18919,     0.19019,     0.19119,\n",
            "           0.19219,     0.19319,     0.19419,      0.1952,      0.1962,      0.1972,      0.1982,      0.1992,      0.2002,      0.2012,      0.2022,      0.2032,      0.2042,     0.20521,     0.20621,     0.20721,     0.20821,     0.20921,     0.21021,     0.21121,     0.21221,     0.21321,     0.21421,     0.21522,\n",
            "           0.21622,     0.21722,     0.21822,     0.21922,     0.22022,     0.22122,     0.22222,     0.22322,     0.22422,     0.22523,     0.22623,     0.22723,     0.22823,     0.22923,     0.23023,     0.23123,     0.23223,     0.23323,     0.23423,     0.23524,     0.23624,     0.23724,     0.23824,     0.23924,\n",
            "           0.24024,     0.24124,     0.24224,     0.24324,     0.24424,     0.24525,     0.24625,     0.24725,     0.24825,     0.24925,     0.25025,     0.25125,     0.25225,     0.25325,     0.25425,     0.25526,     0.25626,     0.25726,     0.25826,     0.25926,     0.26026,     0.26126,     0.26226,     0.26326,\n",
            "           0.26426,     0.26527,     0.26627,     0.26727,     0.26827,     0.26927,     0.27027,     0.27127,     0.27227,     0.27327,     0.27427,     0.27528,     0.27628,     0.27728,     0.27828,     0.27928,     0.28028,     0.28128,     0.28228,     0.28328,     0.28428,     0.28529,     0.28629,     0.28729,\n",
            "           0.28829,     0.28929,     0.29029,     0.29129,     0.29229,     0.29329,     0.29429,      0.2953,      0.2963,      0.2973,      0.2983,      0.2993,      0.3003,      0.3013,      0.3023,      0.3033,      0.3043,     0.30531,     0.30631,     0.30731,     0.30831,     0.30931,     0.31031,     0.31131,\n",
            "           0.31231,     0.31331,     0.31431,     0.31532,     0.31632,     0.31732,     0.31832,     0.31932,     0.32032,     0.32132,     0.32232,     0.32332,     0.32432,     0.32533,     0.32633,     0.32733,     0.32833,     0.32933,     0.33033,     0.33133,     0.33233,     0.33333,     0.33433,     0.33534,\n",
            "           0.33634,     0.33734,     0.33834,     0.33934,     0.34034,     0.34134,     0.34234,     0.34334,     0.34434,     0.34535,     0.34635,     0.34735,     0.34835,     0.34935,     0.35035,     0.35135,     0.35235,     0.35335,     0.35435,     0.35536,     0.35636,     0.35736,     0.35836,     0.35936,\n",
            "           0.36036,     0.36136,     0.36236,     0.36336,     0.36436,     0.36537,     0.36637,     0.36737,     0.36837,     0.36937,     0.37037,     0.37137,     0.37237,     0.37337,     0.37437,     0.37538,     0.37638,     0.37738,     0.37838,     0.37938,     0.38038,     0.38138,     0.38238,     0.38338,\n",
            "           0.38438,     0.38539,     0.38639,     0.38739,     0.38839,     0.38939,     0.39039,     0.39139,     0.39239,     0.39339,     0.39439,      0.3954,      0.3964,      0.3974,      0.3984,      0.3994,      0.4004,      0.4014,      0.4024,      0.4034,      0.4044,     0.40541,     0.40641,     0.40741,\n",
            "           0.40841,     0.40941,     0.41041,     0.41141,     0.41241,     0.41341,     0.41441,     0.41542,     0.41642,     0.41742,     0.41842,     0.41942,     0.42042,     0.42142,     0.42242,     0.42342,     0.42442,     0.42543,     0.42643,     0.42743,     0.42843,     0.42943,     0.43043,     0.43143,\n",
            "           0.43243,     0.43343,     0.43443,     0.43544,     0.43644,     0.43744,     0.43844,     0.43944,     0.44044,     0.44144,     0.44244,     0.44344,     0.44444,     0.44545,     0.44645,     0.44745,     0.44845,     0.44945,     0.45045,     0.45145,     0.45245,     0.45345,     0.45445,     0.45546,\n",
            "           0.45646,     0.45746,     0.45846,     0.45946,     0.46046,     0.46146,     0.46246,     0.46346,     0.46446,     0.46547,     0.46647,     0.46747,     0.46847,     0.46947,     0.47047,     0.47147,     0.47247,     0.47347,     0.47447,     0.47548,     0.47648,     0.47748,     0.47848,     0.47948,\n",
            "           0.48048,     0.48148,     0.48248,     0.48348,     0.48448,     0.48549,     0.48649,     0.48749,     0.48849,     0.48949,     0.49049,     0.49149,     0.49249,     0.49349,     0.49449,      0.4955,      0.4965,      0.4975,      0.4985,      0.4995,      0.5005,      0.5015,      0.5025,      0.5035,\n",
            "            0.5045,     0.50551,     0.50651,     0.50751,     0.50851,     0.50951,     0.51051,     0.51151,     0.51251,     0.51351,     0.51451,     0.51552,     0.51652,     0.51752,     0.51852,     0.51952,     0.52052,     0.52152,     0.52252,     0.52352,     0.52452,     0.52553,     0.52653,     0.52753,\n",
            "           0.52853,     0.52953,     0.53053,     0.53153,     0.53253,     0.53353,     0.53453,     0.53554,     0.53654,     0.53754,     0.53854,     0.53954,     0.54054,     0.54154,     0.54254,     0.54354,     0.54454,     0.54555,     0.54655,     0.54755,     0.54855,     0.54955,     0.55055,     0.55155,\n",
            "           0.55255,     0.55355,     0.55455,     0.55556,     0.55656,     0.55756,     0.55856,     0.55956,     0.56056,     0.56156,     0.56256,     0.56356,     0.56456,     0.56557,     0.56657,     0.56757,     0.56857,     0.56957,     0.57057,     0.57157,     0.57257,     0.57357,     0.57457,     0.57558,\n",
            "           0.57658,     0.57758,     0.57858,     0.57958,     0.58058,     0.58158,     0.58258,     0.58358,     0.58458,     0.58559,     0.58659,     0.58759,     0.58859,     0.58959,     0.59059,     0.59159,     0.59259,     0.59359,     0.59459,      0.5956,      0.5966,      0.5976,      0.5986,      0.5996,\n",
            "            0.6006,      0.6016,      0.6026,      0.6036,      0.6046,     0.60561,     0.60661,     0.60761,     0.60861,     0.60961,     0.61061,     0.61161,     0.61261,     0.61361,     0.61461,     0.61562,     0.61662,     0.61762,     0.61862,     0.61962,     0.62062,     0.62162,     0.62262,     0.62362,\n",
            "           0.62462,     0.62563,     0.62663,     0.62763,     0.62863,     0.62963,     0.63063,     0.63163,     0.63263,     0.63363,     0.63463,     0.63564,     0.63664,     0.63764,     0.63864,     0.63964,     0.64064,     0.64164,     0.64264,     0.64364,     0.64464,     0.64565,     0.64665,     0.64765,\n",
            "           0.64865,     0.64965,     0.65065,     0.65165,     0.65265,     0.65365,     0.65465,     0.65566,     0.65666,     0.65766,     0.65866,     0.65966,     0.66066,     0.66166,     0.66266,     0.66366,     0.66466,     0.66567,     0.66667,     0.66767,     0.66867,     0.66967,     0.67067,     0.67167,\n",
            "           0.67267,     0.67367,     0.67467,     0.67568,     0.67668,     0.67768,     0.67868,     0.67968,     0.68068,     0.68168,     0.68268,     0.68368,     0.68468,     0.68569,     0.68669,     0.68769,     0.68869,     0.68969,     0.69069,     0.69169,     0.69269,     0.69369,     0.69469,      0.6957,\n",
            "            0.6967,      0.6977,      0.6987,      0.6997,      0.7007,      0.7017,      0.7027,      0.7037,      0.7047,     0.70571,     0.70671,     0.70771,     0.70871,     0.70971,     0.71071,     0.71171,     0.71271,     0.71371,     0.71471,     0.71572,     0.71672,     0.71772,     0.71872,     0.71972,\n",
            "           0.72072,     0.72172,     0.72272,     0.72372,     0.72472,     0.72573,     0.72673,     0.72773,     0.72873,     0.72973,     0.73073,     0.73173,     0.73273,     0.73373,     0.73473,     0.73574,     0.73674,     0.73774,     0.73874,     0.73974,     0.74074,     0.74174,     0.74274,     0.74374,\n",
            "           0.74474,     0.74575,     0.74675,     0.74775,     0.74875,     0.74975,     0.75075,     0.75175,     0.75275,     0.75375,     0.75475,     0.75576,     0.75676,     0.75776,     0.75876,     0.75976,     0.76076,     0.76176,     0.76276,     0.76376,     0.76476,     0.76577,     0.76677,     0.76777,\n",
            "           0.76877,     0.76977,     0.77077,     0.77177,     0.77277,     0.77377,     0.77477,     0.77578,     0.77678,     0.77778,     0.77878,     0.77978,     0.78078,     0.78178,     0.78278,     0.78378,     0.78478,     0.78579,     0.78679,     0.78779,     0.78879,     0.78979,     0.79079,     0.79179,\n",
            "           0.79279,     0.79379,     0.79479,      0.7958,      0.7968,      0.7978,      0.7988,      0.7998,      0.8008,      0.8018,      0.8028,      0.8038,      0.8048,     0.80581,     0.80681,     0.80781,     0.80881,     0.80981,     0.81081,     0.81181,     0.81281,     0.81381,     0.81481,     0.81582,\n",
            "           0.81682,     0.81782,     0.81882,     0.81982,     0.82082,     0.82182,     0.82282,     0.82382,     0.82482,     0.82583,     0.82683,     0.82783,     0.82883,     0.82983,     0.83083,     0.83183,     0.83283,     0.83383,     0.83483,     0.83584,     0.83684,     0.83784,     0.83884,     0.83984,\n",
            "           0.84084,     0.84184,     0.84284,     0.84384,     0.84484,     0.84585,     0.84685,     0.84785,     0.84885,     0.84985,     0.85085,     0.85185,     0.85285,     0.85385,     0.85485,     0.85586,     0.85686,     0.85786,     0.85886,     0.85986,     0.86086,     0.86186,     0.86286,     0.86386,\n",
            "           0.86486,     0.86587,     0.86687,     0.86787,     0.86887,     0.86987,     0.87087,     0.87187,     0.87287,     0.87387,     0.87487,     0.87588,     0.87688,     0.87788,     0.87888,     0.87988,     0.88088,     0.88188,     0.88288,     0.88388,     0.88488,     0.88589,     0.88689,     0.88789,\n",
            "           0.88889,     0.88989,     0.89089,     0.89189,     0.89289,     0.89389,     0.89489,      0.8959,      0.8969,      0.8979,      0.8989,      0.8999,      0.9009,      0.9019,      0.9029,      0.9039,      0.9049,     0.90591,     0.90691,     0.90791,     0.90891,     0.90991,     0.91091,     0.91191,\n",
            "           0.91291,     0.91391,     0.91491,     0.91592,     0.91692,     0.91792,     0.91892,     0.91992,     0.92092,     0.92192,     0.92292,     0.92392,     0.92492,     0.92593,     0.92693,     0.92793,     0.92893,     0.92993,     0.93093,     0.93193,     0.93293,     0.93393,     0.93493,     0.93594,\n",
            "           0.93694,     0.93794,     0.93894,     0.93994,     0.94094,     0.94194,     0.94294,     0.94394,     0.94494,     0.94595,     0.94695,     0.94795,     0.94895,     0.94995,     0.95095,     0.95195,     0.95295,     0.95395,     0.95495,     0.95596,     0.95696,     0.95796,     0.95896,     0.95996,\n",
            "           0.96096,     0.96196,     0.96296,     0.96396,     0.96496,     0.96597,     0.96697,     0.96797,     0.96897,     0.96997,     0.97097,     0.97197,     0.97297,     0.97397,     0.97497,     0.97598,     0.97698,     0.97798,     0.97898,     0.97998,     0.98098,     0.98198,     0.98298,     0.98398,\n",
            "           0.98498,     0.98599,     0.98699,     0.98799,     0.98899,     0.98999,     0.99099,     0.99199,     0.99299,     0.99399,     0.99499,       0.996,       0.997,       0.998,       0.999,           1]), array([[          1,           1,           1, ...,     0.77419,     0.77419,           0],\n",
            "       [          1,           1,           1, ...,           1,           1,           0],\n",
            "       [        0.5,         0.5,         0.5, ...,         0.5,         0.5,           0],\n",
            "       ...,\n",
            "       [          1,           1,           1, ...,     0.78571,     0.78571,           0],\n",
            "       [          1,           1,           1, ...,     0.85714,     0.85714,           0],\n",
            "       [          1,           1,           1, ...,   0.0027783,   0.0013891,           0]]), 'Recall', 'Precision'], [array([          0,    0.001001,    0.002002,    0.003003,    0.004004,    0.005005,    0.006006,    0.007007,    0.008008,    0.009009,     0.01001,    0.011011,    0.012012,    0.013013,    0.014014,    0.015015,    0.016016,    0.017017,    0.018018,    0.019019,     0.02002,    0.021021,    0.022022,    0.023023,\n",
            "          0.024024,    0.025025,    0.026026,    0.027027,    0.028028,    0.029029,     0.03003,    0.031031,    0.032032,    0.033033,    0.034034,    0.035035,    0.036036,    0.037037,    0.038038,    0.039039,     0.04004,    0.041041,    0.042042,    0.043043,    0.044044,    0.045045,    0.046046,    0.047047,\n",
            "          0.048048,    0.049049,     0.05005,    0.051051,    0.052052,    0.053053,    0.054054,    0.055055,    0.056056,    0.057057,    0.058058,    0.059059,     0.06006,    0.061061,    0.062062,    0.063063,    0.064064,    0.065065,    0.066066,    0.067067,    0.068068,    0.069069,     0.07007,    0.071071,\n",
            "          0.072072,    0.073073,    0.074074,    0.075075,    0.076076,    0.077077,    0.078078,    0.079079,     0.08008,    0.081081,    0.082082,    0.083083,    0.084084,    0.085085,    0.086086,    0.087087,    0.088088,    0.089089,     0.09009,    0.091091,    0.092092,    0.093093,    0.094094,    0.095095,\n",
            "          0.096096,    0.097097,    0.098098,    0.099099,      0.1001,      0.1011,      0.1021,      0.1031,      0.1041,     0.10511,     0.10611,     0.10711,     0.10811,     0.10911,     0.11011,     0.11111,     0.11211,     0.11311,     0.11411,     0.11512,     0.11612,     0.11712,     0.11812,     0.11912,\n",
            "           0.12012,     0.12112,     0.12212,     0.12312,     0.12412,     0.12513,     0.12613,     0.12713,     0.12813,     0.12913,     0.13013,     0.13113,     0.13213,     0.13313,     0.13413,     0.13514,     0.13614,     0.13714,     0.13814,     0.13914,     0.14014,     0.14114,     0.14214,     0.14314,\n",
            "           0.14414,     0.14515,     0.14615,     0.14715,     0.14815,     0.14915,     0.15015,     0.15115,     0.15215,     0.15315,     0.15415,     0.15516,     0.15616,     0.15716,     0.15816,     0.15916,     0.16016,     0.16116,     0.16216,     0.16316,     0.16416,     0.16517,     0.16617,     0.16717,\n",
            "           0.16817,     0.16917,     0.17017,     0.17117,     0.17217,     0.17317,     0.17417,     0.17518,     0.17618,     0.17718,     0.17818,     0.17918,     0.18018,     0.18118,     0.18218,     0.18318,     0.18418,     0.18519,     0.18619,     0.18719,     0.18819,     0.18919,     0.19019,     0.19119,\n",
            "           0.19219,     0.19319,     0.19419,      0.1952,      0.1962,      0.1972,      0.1982,      0.1992,      0.2002,      0.2012,      0.2022,      0.2032,      0.2042,     0.20521,     0.20621,     0.20721,     0.20821,     0.20921,     0.21021,     0.21121,     0.21221,     0.21321,     0.21421,     0.21522,\n",
            "           0.21622,     0.21722,     0.21822,     0.21922,     0.22022,     0.22122,     0.22222,     0.22322,     0.22422,     0.22523,     0.22623,     0.22723,     0.22823,     0.22923,     0.23023,     0.23123,     0.23223,     0.23323,     0.23423,     0.23524,     0.23624,     0.23724,     0.23824,     0.23924,\n",
            "           0.24024,     0.24124,     0.24224,     0.24324,     0.24424,     0.24525,     0.24625,     0.24725,     0.24825,     0.24925,     0.25025,     0.25125,     0.25225,     0.25325,     0.25425,     0.25526,     0.25626,     0.25726,     0.25826,     0.25926,     0.26026,     0.26126,     0.26226,     0.26326,\n",
            "           0.26426,     0.26527,     0.26627,     0.26727,     0.26827,     0.26927,     0.27027,     0.27127,     0.27227,     0.27327,     0.27427,     0.27528,     0.27628,     0.27728,     0.27828,     0.27928,     0.28028,     0.28128,     0.28228,     0.28328,     0.28428,     0.28529,     0.28629,     0.28729,\n",
            "           0.28829,     0.28929,     0.29029,     0.29129,     0.29229,     0.29329,     0.29429,      0.2953,      0.2963,      0.2973,      0.2983,      0.2993,      0.3003,      0.3013,      0.3023,      0.3033,      0.3043,     0.30531,     0.30631,     0.30731,     0.30831,     0.30931,     0.31031,     0.31131,\n",
            "           0.31231,     0.31331,     0.31431,     0.31532,     0.31632,     0.31732,     0.31832,     0.31932,     0.32032,     0.32132,     0.32232,     0.32332,     0.32432,     0.32533,     0.32633,     0.32733,     0.32833,     0.32933,     0.33033,     0.33133,     0.33233,     0.33333,     0.33433,     0.33534,\n",
            "           0.33634,     0.33734,     0.33834,     0.33934,     0.34034,     0.34134,     0.34234,     0.34334,     0.34434,     0.34535,     0.34635,     0.34735,     0.34835,     0.34935,     0.35035,     0.35135,     0.35235,     0.35335,     0.35435,     0.35536,     0.35636,     0.35736,     0.35836,     0.35936,\n",
            "           0.36036,     0.36136,     0.36236,     0.36336,     0.36436,     0.36537,     0.36637,     0.36737,     0.36837,     0.36937,     0.37037,     0.37137,     0.37237,     0.37337,     0.37437,     0.37538,     0.37638,     0.37738,     0.37838,     0.37938,     0.38038,     0.38138,     0.38238,     0.38338,\n",
            "           0.38438,     0.38539,     0.38639,     0.38739,     0.38839,     0.38939,     0.39039,     0.39139,     0.39239,     0.39339,     0.39439,      0.3954,      0.3964,      0.3974,      0.3984,      0.3994,      0.4004,      0.4014,      0.4024,      0.4034,      0.4044,     0.40541,     0.40641,     0.40741,\n",
            "           0.40841,     0.40941,     0.41041,     0.41141,     0.41241,     0.41341,     0.41441,     0.41542,     0.41642,     0.41742,     0.41842,     0.41942,     0.42042,     0.42142,     0.42242,     0.42342,     0.42442,     0.42543,     0.42643,     0.42743,     0.42843,     0.42943,     0.43043,     0.43143,\n",
            "           0.43243,     0.43343,     0.43443,     0.43544,     0.43644,     0.43744,     0.43844,     0.43944,     0.44044,     0.44144,     0.44244,     0.44344,     0.44444,     0.44545,     0.44645,     0.44745,     0.44845,     0.44945,     0.45045,     0.45145,     0.45245,     0.45345,     0.45445,     0.45546,\n",
            "           0.45646,     0.45746,     0.45846,     0.45946,     0.46046,     0.46146,     0.46246,     0.46346,     0.46446,     0.46547,     0.46647,     0.46747,     0.46847,     0.46947,     0.47047,     0.47147,     0.47247,     0.47347,     0.47447,     0.47548,     0.47648,     0.47748,     0.47848,     0.47948,\n",
            "           0.48048,     0.48148,     0.48248,     0.48348,     0.48448,     0.48549,     0.48649,     0.48749,     0.48849,     0.48949,     0.49049,     0.49149,     0.49249,     0.49349,     0.49449,      0.4955,      0.4965,      0.4975,      0.4985,      0.4995,      0.5005,      0.5015,      0.5025,      0.5035,\n",
            "            0.5045,     0.50551,     0.50651,     0.50751,     0.50851,     0.50951,     0.51051,     0.51151,     0.51251,     0.51351,     0.51451,     0.51552,     0.51652,     0.51752,     0.51852,     0.51952,     0.52052,     0.52152,     0.52252,     0.52352,     0.52452,     0.52553,     0.52653,     0.52753,\n",
            "           0.52853,     0.52953,     0.53053,     0.53153,     0.53253,     0.53353,     0.53453,     0.53554,     0.53654,     0.53754,     0.53854,     0.53954,     0.54054,     0.54154,     0.54254,     0.54354,     0.54454,     0.54555,     0.54655,     0.54755,     0.54855,     0.54955,     0.55055,     0.55155,\n",
            "           0.55255,     0.55355,     0.55455,     0.55556,     0.55656,     0.55756,     0.55856,     0.55956,     0.56056,     0.56156,     0.56256,     0.56356,     0.56456,     0.56557,     0.56657,     0.56757,     0.56857,     0.56957,     0.57057,     0.57157,     0.57257,     0.57357,     0.57457,     0.57558,\n",
            "           0.57658,     0.57758,     0.57858,     0.57958,     0.58058,     0.58158,     0.58258,     0.58358,     0.58458,     0.58559,     0.58659,     0.58759,     0.58859,     0.58959,     0.59059,     0.59159,     0.59259,     0.59359,     0.59459,      0.5956,      0.5966,      0.5976,      0.5986,      0.5996,\n",
            "            0.6006,      0.6016,      0.6026,      0.6036,      0.6046,     0.60561,     0.60661,     0.60761,     0.60861,     0.60961,     0.61061,     0.61161,     0.61261,     0.61361,     0.61461,     0.61562,     0.61662,     0.61762,     0.61862,     0.61962,     0.62062,     0.62162,     0.62262,     0.62362,\n",
            "           0.62462,     0.62563,     0.62663,     0.62763,     0.62863,     0.62963,     0.63063,     0.63163,     0.63263,     0.63363,     0.63463,     0.63564,     0.63664,     0.63764,     0.63864,     0.63964,     0.64064,     0.64164,     0.64264,     0.64364,     0.64464,     0.64565,     0.64665,     0.64765,\n",
            "           0.64865,     0.64965,     0.65065,     0.65165,     0.65265,     0.65365,     0.65465,     0.65566,     0.65666,     0.65766,     0.65866,     0.65966,     0.66066,     0.66166,     0.66266,     0.66366,     0.66466,     0.66567,     0.66667,     0.66767,     0.66867,     0.66967,     0.67067,     0.67167,\n",
            "           0.67267,     0.67367,     0.67467,     0.67568,     0.67668,     0.67768,     0.67868,     0.67968,     0.68068,     0.68168,     0.68268,     0.68368,     0.68468,     0.68569,     0.68669,     0.68769,     0.68869,     0.68969,     0.69069,     0.69169,     0.69269,     0.69369,     0.69469,      0.6957,\n",
            "            0.6967,      0.6977,      0.6987,      0.6997,      0.7007,      0.7017,      0.7027,      0.7037,      0.7047,     0.70571,     0.70671,     0.70771,     0.70871,     0.70971,     0.71071,     0.71171,     0.71271,     0.71371,     0.71471,     0.71572,     0.71672,     0.71772,     0.71872,     0.71972,\n",
            "           0.72072,     0.72172,     0.72272,     0.72372,     0.72472,     0.72573,     0.72673,     0.72773,     0.72873,     0.72973,     0.73073,     0.73173,     0.73273,     0.73373,     0.73473,     0.73574,     0.73674,     0.73774,     0.73874,     0.73974,     0.74074,     0.74174,     0.74274,     0.74374,\n",
            "           0.74474,     0.74575,     0.74675,     0.74775,     0.74875,     0.74975,     0.75075,     0.75175,     0.75275,     0.75375,     0.75475,     0.75576,     0.75676,     0.75776,     0.75876,     0.75976,     0.76076,     0.76176,     0.76276,     0.76376,     0.76476,     0.76577,     0.76677,     0.76777,\n",
            "           0.76877,     0.76977,     0.77077,     0.77177,     0.77277,     0.77377,     0.77477,     0.77578,     0.77678,     0.77778,     0.77878,     0.77978,     0.78078,     0.78178,     0.78278,     0.78378,     0.78478,     0.78579,     0.78679,     0.78779,     0.78879,     0.78979,     0.79079,     0.79179,\n",
            "           0.79279,     0.79379,     0.79479,      0.7958,      0.7968,      0.7978,      0.7988,      0.7998,      0.8008,      0.8018,      0.8028,      0.8038,      0.8048,     0.80581,     0.80681,     0.80781,     0.80881,     0.80981,     0.81081,     0.81181,     0.81281,     0.81381,     0.81481,     0.81582,\n",
            "           0.81682,     0.81782,     0.81882,     0.81982,     0.82082,     0.82182,     0.82282,     0.82382,     0.82482,     0.82583,     0.82683,     0.82783,     0.82883,     0.82983,     0.83083,     0.83183,     0.83283,     0.83383,     0.83483,     0.83584,     0.83684,     0.83784,     0.83884,     0.83984,\n",
            "           0.84084,     0.84184,     0.84284,     0.84384,     0.84484,     0.84585,     0.84685,     0.84785,     0.84885,     0.84985,     0.85085,     0.85185,     0.85285,     0.85385,     0.85485,     0.85586,     0.85686,     0.85786,     0.85886,     0.85986,     0.86086,     0.86186,     0.86286,     0.86386,\n",
            "           0.86486,     0.86587,     0.86687,     0.86787,     0.86887,     0.86987,     0.87087,     0.87187,     0.87287,     0.87387,     0.87487,     0.87588,     0.87688,     0.87788,     0.87888,     0.87988,     0.88088,     0.88188,     0.88288,     0.88388,     0.88488,     0.88589,     0.88689,     0.88789,\n",
            "           0.88889,     0.88989,     0.89089,     0.89189,     0.89289,     0.89389,     0.89489,      0.8959,      0.8969,      0.8979,      0.8989,      0.8999,      0.9009,      0.9019,      0.9029,      0.9039,      0.9049,     0.90591,     0.90691,     0.90791,     0.90891,     0.90991,     0.91091,     0.91191,\n",
            "           0.91291,     0.91391,     0.91491,     0.91592,     0.91692,     0.91792,     0.91892,     0.91992,     0.92092,     0.92192,     0.92292,     0.92392,     0.92492,     0.92593,     0.92693,     0.92793,     0.92893,     0.92993,     0.93093,     0.93193,     0.93293,     0.93393,     0.93493,     0.93594,\n",
            "           0.93694,     0.93794,     0.93894,     0.93994,     0.94094,     0.94194,     0.94294,     0.94394,     0.94494,     0.94595,     0.94695,     0.94795,     0.94895,     0.94995,     0.95095,     0.95195,     0.95295,     0.95395,     0.95495,     0.95596,     0.95696,     0.95796,     0.95896,     0.95996,\n",
            "           0.96096,     0.96196,     0.96296,     0.96396,     0.96496,     0.96597,     0.96697,     0.96797,     0.96897,     0.96997,     0.97097,     0.97197,     0.97297,     0.97397,     0.97497,     0.97598,     0.97698,     0.97798,     0.97898,     0.97998,     0.98098,     0.98198,     0.98298,     0.98398,\n",
            "           0.98498,     0.98599,     0.98699,     0.98799,     0.98899,     0.98999,     0.99099,     0.99199,     0.99299,     0.99399,     0.99499,       0.996,       0.997,       0.998,       0.999,           1]), array([[        0.3,         0.3,     0.35499, ...,           0,           0,           0],\n",
            "       [   0.051282,    0.051282,    0.086736, ...,           0,           0,           0],\n",
            "       [   0.075472,    0.075472,    0.096008, ...,           0,           0,           0],\n",
            "       ...,\n",
            "       [    0.12291,     0.12298,     0.16073, ...,           0,           0,           0],\n",
            "       [    0.11215,     0.11215,     0.14351, ...,           0,           0,           0],\n",
            "       [    0.15023,     0.15023,     0.17707, ...,           0,           0,           0]]), 'Confidence', 'F1'], [array([          0,    0.001001,    0.002002,    0.003003,    0.004004,    0.005005,    0.006006,    0.007007,    0.008008,    0.009009,     0.01001,    0.011011,    0.012012,    0.013013,    0.014014,    0.015015,    0.016016,    0.017017,    0.018018,    0.019019,     0.02002,    0.021021,    0.022022,    0.023023,\n",
            "          0.024024,    0.025025,    0.026026,    0.027027,    0.028028,    0.029029,     0.03003,    0.031031,    0.032032,    0.033033,    0.034034,    0.035035,    0.036036,    0.037037,    0.038038,    0.039039,     0.04004,    0.041041,    0.042042,    0.043043,    0.044044,    0.045045,    0.046046,    0.047047,\n",
            "          0.048048,    0.049049,     0.05005,    0.051051,    0.052052,    0.053053,    0.054054,    0.055055,    0.056056,    0.057057,    0.058058,    0.059059,     0.06006,    0.061061,    0.062062,    0.063063,    0.064064,    0.065065,    0.066066,    0.067067,    0.068068,    0.069069,     0.07007,    0.071071,\n",
            "          0.072072,    0.073073,    0.074074,    0.075075,    0.076076,    0.077077,    0.078078,    0.079079,     0.08008,    0.081081,    0.082082,    0.083083,    0.084084,    0.085085,    0.086086,    0.087087,    0.088088,    0.089089,     0.09009,    0.091091,    0.092092,    0.093093,    0.094094,    0.095095,\n",
            "          0.096096,    0.097097,    0.098098,    0.099099,      0.1001,      0.1011,      0.1021,      0.1031,      0.1041,     0.10511,     0.10611,     0.10711,     0.10811,     0.10911,     0.11011,     0.11111,     0.11211,     0.11311,     0.11411,     0.11512,     0.11612,     0.11712,     0.11812,     0.11912,\n",
            "           0.12012,     0.12112,     0.12212,     0.12312,     0.12412,     0.12513,     0.12613,     0.12713,     0.12813,     0.12913,     0.13013,     0.13113,     0.13213,     0.13313,     0.13413,     0.13514,     0.13614,     0.13714,     0.13814,     0.13914,     0.14014,     0.14114,     0.14214,     0.14314,\n",
            "           0.14414,     0.14515,     0.14615,     0.14715,     0.14815,     0.14915,     0.15015,     0.15115,     0.15215,     0.15315,     0.15415,     0.15516,     0.15616,     0.15716,     0.15816,     0.15916,     0.16016,     0.16116,     0.16216,     0.16316,     0.16416,     0.16517,     0.16617,     0.16717,\n",
            "           0.16817,     0.16917,     0.17017,     0.17117,     0.17217,     0.17317,     0.17417,     0.17518,     0.17618,     0.17718,     0.17818,     0.17918,     0.18018,     0.18118,     0.18218,     0.18318,     0.18418,     0.18519,     0.18619,     0.18719,     0.18819,     0.18919,     0.19019,     0.19119,\n",
            "           0.19219,     0.19319,     0.19419,      0.1952,      0.1962,      0.1972,      0.1982,      0.1992,      0.2002,      0.2012,      0.2022,      0.2032,      0.2042,     0.20521,     0.20621,     0.20721,     0.20821,     0.20921,     0.21021,     0.21121,     0.21221,     0.21321,     0.21421,     0.21522,\n",
            "           0.21622,     0.21722,     0.21822,     0.21922,     0.22022,     0.22122,     0.22222,     0.22322,     0.22422,     0.22523,     0.22623,     0.22723,     0.22823,     0.22923,     0.23023,     0.23123,     0.23223,     0.23323,     0.23423,     0.23524,     0.23624,     0.23724,     0.23824,     0.23924,\n",
            "           0.24024,     0.24124,     0.24224,     0.24324,     0.24424,     0.24525,     0.24625,     0.24725,     0.24825,     0.24925,     0.25025,     0.25125,     0.25225,     0.25325,     0.25425,     0.25526,     0.25626,     0.25726,     0.25826,     0.25926,     0.26026,     0.26126,     0.26226,     0.26326,\n",
            "           0.26426,     0.26527,     0.26627,     0.26727,     0.26827,     0.26927,     0.27027,     0.27127,     0.27227,     0.27327,     0.27427,     0.27528,     0.27628,     0.27728,     0.27828,     0.27928,     0.28028,     0.28128,     0.28228,     0.28328,     0.28428,     0.28529,     0.28629,     0.28729,\n",
            "           0.28829,     0.28929,     0.29029,     0.29129,     0.29229,     0.29329,     0.29429,      0.2953,      0.2963,      0.2973,      0.2983,      0.2993,      0.3003,      0.3013,      0.3023,      0.3033,      0.3043,     0.30531,     0.30631,     0.30731,     0.30831,     0.30931,     0.31031,     0.31131,\n",
            "           0.31231,     0.31331,     0.31431,     0.31532,     0.31632,     0.31732,     0.31832,     0.31932,     0.32032,     0.32132,     0.32232,     0.32332,     0.32432,     0.32533,     0.32633,     0.32733,     0.32833,     0.32933,     0.33033,     0.33133,     0.33233,     0.33333,     0.33433,     0.33534,\n",
            "           0.33634,     0.33734,     0.33834,     0.33934,     0.34034,     0.34134,     0.34234,     0.34334,     0.34434,     0.34535,     0.34635,     0.34735,     0.34835,     0.34935,     0.35035,     0.35135,     0.35235,     0.35335,     0.35435,     0.35536,     0.35636,     0.35736,     0.35836,     0.35936,\n",
            "           0.36036,     0.36136,     0.36236,     0.36336,     0.36436,     0.36537,     0.36637,     0.36737,     0.36837,     0.36937,     0.37037,     0.37137,     0.37237,     0.37337,     0.37437,     0.37538,     0.37638,     0.37738,     0.37838,     0.37938,     0.38038,     0.38138,     0.38238,     0.38338,\n",
            "           0.38438,     0.38539,     0.38639,     0.38739,     0.38839,     0.38939,     0.39039,     0.39139,     0.39239,     0.39339,     0.39439,      0.3954,      0.3964,      0.3974,      0.3984,      0.3994,      0.4004,      0.4014,      0.4024,      0.4034,      0.4044,     0.40541,     0.40641,     0.40741,\n",
            "           0.40841,     0.40941,     0.41041,     0.41141,     0.41241,     0.41341,     0.41441,     0.41542,     0.41642,     0.41742,     0.41842,     0.41942,     0.42042,     0.42142,     0.42242,     0.42342,     0.42442,     0.42543,     0.42643,     0.42743,     0.42843,     0.42943,     0.43043,     0.43143,\n",
            "           0.43243,     0.43343,     0.43443,     0.43544,     0.43644,     0.43744,     0.43844,     0.43944,     0.44044,     0.44144,     0.44244,     0.44344,     0.44444,     0.44545,     0.44645,     0.44745,     0.44845,     0.44945,     0.45045,     0.45145,     0.45245,     0.45345,     0.45445,     0.45546,\n",
            "           0.45646,     0.45746,     0.45846,     0.45946,     0.46046,     0.46146,     0.46246,     0.46346,     0.46446,     0.46547,     0.46647,     0.46747,     0.46847,     0.46947,     0.47047,     0.47147,     0.47247,     0.47347,     0.47447,     0.47548,     0.47648,     0.47748,     0.47848,     0.47948,\n",
            "           0.48048,     0.48148,     0.48248,     0.48348,     0.48448,     0.48549,     0.48649,     0.48749,     0.48849,     0.48949,     0.49049,     0.49149,     0.49249,     0.49349,     0.49449,      0.4955,      0.4965,      0.4975,      0.4985,      0.4995,      0.5005,      0.5015,      0.5025,      0.5035,\n",
            "            0.5045,     0.50551,     0.50651,     0.50751,     0.50851,     0.50951,     0.51051,     0.51151,     0.51251,     0.51351,     0.51451,     0.51552,     0.51652,     0.51752,     0.51852,     0.51952,     0.52052,     0.52152,     0.52252,     0.52352,     0.52452,     0.52553,     0.52653,     0.52753,\n",
            "           0.52853,     0.52953,     0.53053,     0.53153,     0.53253,     0.53353,     0.53453,     0.53554,     0.53654,     0.53754,     0.53854,     0.53954,     0.54054,     0.54154,     0.54254,     0.54354,     0.54454,     0.54555,     0.54655,     0.54755,     0.54855,     0.54955,     0.55055,     0.55155,\n",
            "           0.55255,     0.55355,     0.55455,     0.55556,     0.55656,     0.55756,     0.55856,     0.55956,     0.56056,     0.56156,     0.56256,     0.56356,     0.56456,     0.56557,     0.56657,     0.56757,     0.56857,     0.56957,     0.57057,     0.57157,     0.57257,     0.57357,     0.57457,     0.57558,\n",
            "           0.57658,     0.57758,     0.57858,     0.57958,     0.58058,     0.58158,     0.58258,     0.58358,     0.58458,     0.58559,     0.58659,     0.58759,     0.58859,     0.58959,     0.59059,     0.59159,     0.59259,     0.59359,     0.59459,      0.5956,      0.5966,      0.5976,      0.5986,      0.5996,\n",
            "            0.6006,      0.6016,      0.6026,      0.6036,      0.6046,     0.60561,     0.60661,     0.60761,     0.60861,     0.60961,     0.61061,     0.61161,     0.61261,     0.61361,     0.61461,     0.61562,     0.61662,     0.61762,     0.61862,     0.61962,     0.62062,     0.62162,     0.62262,     0.62362,\n",
            "           0.62462,     0.62563,     0.62663,     0.62763,     0.62863,     0.62963,     0.63063,     0.63163,     0.63263,     0.63363,     0.63463,     0.63564,     0.63664,     0.63764,     0.63864,     0.63964,     0.64064,     0.64164,     0.64264,     0.64364,     0.64464,     0.64565,     0.64665,     0.64765,\n",
            "           0.64865,     0.64965,     0.65065,     0.65165,     0.65265,     0.65365,     0.65465,     0.65566,     0.65666,     0.65766,     0.65866,     0.65966,     0.66066,     0.66166,     0.66266,     0.66366,     0.66466,     0.66567,     0.66667,     0.66767,     0.66867,     0.66967,     0.67067,     0.67167,\n",
            "           0.67267,     0.67367,     0.67467,     0.67568,     0.67668,     0.67768,     0.67868,     0.67968,     0.68068,     0.68168,     0.68268,     0.68368,     0.68468,     0.68569,     0.68669,     0.68769,     0.68869,     0.68969,     0.69069,     0.69169,     0.69269,     0.69369,     0.69469,      0.6957,\n",
            "            0.6967,      0.6977,      0.6987,      0.6997,      0.7007,      0.7017,      0.7027,      0.7037,      0.7047,     0.70571,     0.70671,     0.70771,     0.70871,     0.70971,     0.71071,     0.71171,     0.71271,     0.71371,     0.71471,     0.71572,     0.71672,     0.71772,     0.71872,     0.71972,\n",
            "           0.72072,     0.72172,     0.72272,     0.72372,     0.72472,     0.72573,     0.72673,     0.72773,     0.72873,     0.72973,     0.73073,     0.73173,     0.73273,     0.73373,     0.73473,     0.73574,     0.73674,     0.73774,     0.73874,     0.73974,     0.74074,     0.74174,     0.74274,     0.74374,\n",
            "           0.74474,     0.74575,     0.74675,     0.74775,     0.74875,     0.74975,     0.75075,     0.75175,     0.75275,     0.75375,     0.75475,     0.75576,     0.75676,     0.75776,     0.75876,     0.75976,     0.76076,     0.76176,     0.76276,     0.76376,     0.76476,     0.76577,     0.76677,     0.76777,\n",
            "           0.76877,     0.76977,     0.77077,     0.77177,     0.77277,     0.77377,     0.77477,     0.77578,     0.77678,     0.77778,     0.77878,     0.77978,     0.78078,     0.78178,     0.78278,     0.78378,     0.78478,     0.78579,     0.78679,     0.78779,     0.78879,     0.78979,     0.79079,     0.79179,\n",
            "           0.79279,     0.79379,     0.79479,      0.7958,      0.7968,      0.7978,      0.7988,      0.7998,      0.8008,      0.8018,      0.8028,      0.8038,      0.8048,     0.80581,     0.80681,     0.80781,     0.80881,     0.80981,     0.81081,     0.81181,     0.81281,     0.81381,     0.81481,     0.81582,\n",
            "           0.81682,     0.81782,     0.81882,     0.81982,     0.82082,     0.82182,     0.82282,     0.82382,     0.82482,     0.82583,     0.82683,     0.82783,     0.82883,     0.82983,     0.83083,     0.83183,     0.83283,     0.83383,     0.83483,     0.83584,     0.83684,     0.83784,     0.83884,     0.83984,\n",
            "           0.84084,     0.84184,     0.84284,     0.84384,     0.84484,     0.84585,     0.84685,     0.84785,     0.84885,     0.84985,     0.85085,     0.85185,     0.85285,     0.85385,     0.85485,     0.85586,     0.85686,     0.85786,     0.85886,     0.85986,     0.86086,     0.86186,     0.86286,     0.86386,\n",
            "           0.86486,     0.86587,     0.86687,     0.86787,     0.86887,     0.86987,     0.87087,     0.87187,     0.87287,     0.87387,     0.87487,     0.87588,     0.87688,     0.87788,     0.87888,     0.87988,     0.88088,     0.88188,     0.88288,     0.88388,     0.88488,     0.88589,     0.88689,     0.88789,\n",
            "           0.88889,     0.88989,     0.89089,     0.89189,     0.89289,     0.89389,     0.89489,      0.8959,      0.8969,      0.8979,      0.8989,      0.8999,      0.9009,      0.9019,      0.9029,      0.9039,      0.9049,     0.90591,     0.90691,     0.90791,     0.90891,     0.90991,     0.91091,     0.91191,\n",
            "           0.91291,     0.91391,     0.91491,     0.91592,     0.91692,     0.91792,     0.91892,     0.91992,     0.92092,     0.92192,     0.92292,     0.92392,     0.92492,     0.92593,     0.92693,     0.92793,     0.92893,     0.92993,     0.93093,     0.93193,     0.93293,     0.93393,     0.93493,     0.93594,\n",
            "           0.93694,     0.93794,     0.93894,     0.93994,     0.94094,     0.94194,     0.94294,     0.94394,     0.94494,     0.94595,     0.94695,     0.94795,     0.94895,     0.94995,     0.95095,     0.95195,     0.95295,     0.95395,     0.95495,     0.95596,     0.95696,     0.95796,     0.95896,     0.95996,\n",
            "           0.96096,     0.96196,     0.96296,     0.96396,     0.96496,     0.96597,     0.96697,     0.96797,     0.96897,     0.96997,     0.97097,     0.97197,     0.97297,     0.97397,     0.97497,     0.97598,     0.97698,     0.97798,     0.97898,     0.97998,     0.98098,     0.98198,     0.98298,     0.98398,\n",
            "           0.98498,     0.98599,     0.98699,     0.98799,     0.98899,     0.98999,     0.99099,     0.99199,     0.99299,     0.99399,     0.99499,       0.996,       0.997,       0.998,       0.999,           1]), array([[    0.17647,     0.17647,      0.2158, ...,           1,           1,           1],\n",
            "       [   0.026316,    0.026316,    0.045334, ...,           1,           1,           1],\n",
            "       [   0.039216,    0.039216,    0.050425, ...,           1,           1,           1],\n",
            "       ...,\n",
            "       [   0.065476,    0.065519,    0.087388, ...,           1,           1,           1],\n",
            "       [   0.059406,    0.059406,    0.077302, ...,           1,           1,           1],\n",
            "       [   0.081633,    0.081633,    0.097727, ...,           1,           1,           1]]), 'Confidence', 'Precision'], [array([          0,    0.001001,    0.002002,    0.003003,    0.004004,    0.005005,    0.006006,    0.007007,    0.008008,    0.009009,     0.01001,    0.011011,    0.012012,    0.013013,    0.014014,    0.015015,    0.016016,    0.017017,    0.018018,    0.019019,     0.02002,    0.021021,    0.022022,    0.023023,\n",
            "          0.024024,    0.025025,    0.026026,    0.027027,    0.028028,    0.029029,     0.03003,    0.031031,    0.032032,    0.033033,    0.034034,    0.035035,    0.036036,    0.037037,    0.038038,    0.039039,     0.04004,    0.041041,    0.042042,    0.043043,    0.044044,    0.045045,    0.046046,    0.047047,\n",
            "          0.048048,    0.049049,     0.05005,    0.051051,    0.052052,    0.053053,    0.054054,    0.055055,    0.056056,    0.057057,    0.058058,    0.059059,     0.06006,    0.061061,    0.062062,    0.063063,    0.064064,    0.065065,    0.066066,    0.067067,    0.068068,    0.069069,     0.07007,    0.071071,\n",
            "          0.072072,    0.073073,    0.074074,    0.075075,    0.076076,    0.077077,    0.078078,    0.079079,     0.08008,    0.081081,    0.082082,    0.083083,    0.084084,    0.085085,    0.086086,    0.087087,    0.088088,    0.089089,     0.09009,    0.091091,    0.092092,    0.093093,    0.094094,    0.095095,\n",
            "          0.096096,    0.097097,    0.098098,    0.099099,      0.1001,      0.1011,      0.1021,      0.1031,      0.1041,     0.10511,     0.10611,     0.10711,     0.10811,     0.10911,     0.11011,     0.11111,     0.11211,     0.11311,     0.11411,     0.11512,     0.11612,     0.11712,     0.11812,     0.11912,\n",
            "           0.12012,     0.12112,     0.12212,     0.12312,     0.12412,     0.12513,     0.12613,     0.12713,     0.12813,     0.12913,     0.13013,     0.13113,     0.13213,     0.13313,     0.13413,     0.13514,     0.13614,     0.13714,     0.13814,     0.13914,     0.14014,     0.14114,     0.14214,     0.14314,\n",
            "           0.14414,     0.14515,     0.14615,     0.14715,     0.14815,     0.14915,     0.15015,     0.15115,     0.15215,     0.15315,     0.15415,     0.15516,     0.15616,     0.15716,     0.15816,     0.15916,     0.16016,     0.16116,     0.16216,     0.16316,     0.16416,     0.16517,     0.16617,     0.16717,\n",
            "           0.16817,     0.16917,     0.17017,     0.17117,     0.17217,     0.17317,     0.17417,     0.17518,     0.17618,     0.17718,     0.17818,     0.17918,     0.18018,     0.18118,     0.18218,     0.18318,     0.18418,     0.18519,     0.18619,     0.18719,     0.18819,     0.18919,     0.19019,     0.19119,\n",
            "           0.19219,     0.19319,     0.19419,      0.1952,      0.1962,      0.1972,      0.1982,      0.1992,      0.2002,      0.2012,      0.2022,      0.2032,      0.2042,     0.20521,     0.20621,     0.20721,     0.20821,     0.20921,     0.21021,     0.21121,     0.21221,     0.21321,     0.21421,     0.21522,\n",
            "           0.21622,     0.21722,     0.21822,     0.21922,     0.22022,     0.22122,     0.22222,     0.22322,     0.22422,     0.22523,     0.22623,     0.22723,     0.22823,     0.22923,     0.23023,     0.23123,     0.23223,     0.23323,     0.23423,     0.23524,     0.23624,     0.23724,     0.23824,     0.23924,\n",
            "           0.24024,     0.24124,     0.24224,     0.24324,     0.24424,     0.24525,     0.24625,     0.24725,     0.24825,     0.24925,     0.25025,     0.25125,     0.25225,     0.25325,     0.25425,     0.25526,     0.25626,     0.25726,     0.25826,     0.25926,     0.26026,     0.26126,     0.26226,     0.26326,\n",
            "           0.26426,     0.26527,     0.26627,     0.26727,     0.26827,     0.26927,     0.27027,     0.27127,     0.27227,     0.27327,     0.27427,     0.27528,     0.27628,     0.27728,     0.27828,     0.27928,     0.28028,     0.28128,     0.28228,     0.28328,     0.28428,     0.28529,     0.28629,     0.28729,\n",
            "           0.28829,     0.28929,     0.29029,     0.29129,     0.29229,     0.29329,     0.29429,      0.2953,      0.2963,      0.2973,      0.2983,      0.2993,      0.3003,      0.3013,      0.3023,      0.3033,      0.3043,     0.30531,     0.30631,     0.30731,     0.30831,     0.30931,     0.31031,     0.31131,\n",
            "           0.31231,     0.31331,     0.31431,     0.31532,     0.31632,     0.31732,     0.31832,     0.31932,     0.32032,     0.32132,     0.32232,     0.32332,     0.32432,     0.32533,     0.32633,     0.32733,     0.32833,     0.32933,     0.33033,     0.33133,     0.33233,     0.33333,     0.33433,     0.33534,\n",
            "           0.33634,     0.33734,     0.33834,     0.33934,     0.34034,     0.34134,     0.34234,     0.34334,     0.34434,     0.34535,     0.34635,     0.34735,     0.34835,     0.34935,     0.35035,     0.35135,     0.35235,     0.35335,     0.35435,     0.35536,     0.35636,     0.35736,     0.35836,     0.35936,\n",
            "           0.36036,     0.36136,     0.36236,     0.36336,     0.36436,     0.36537,     0.36637,     0.36737,     0.36837,     0.36937,     0.37037,     0.37137,     0.37237,     0.37337,     0.37437,     0.37538,     0.37638,     0.37738,     0.37838,     0.37938,     0.38038,     0.38138,     0.38238,     0.38338,\n",
            "           0.38438,     0.38539,     0.38639,     0.38739,     0.38839,     0.38939,     0.39039,     0.39139,     0.39239,     0.39339,     0.39439,      0.3954,      0.3964,      0.3974,      0.3984,      0.3994,      0.4004,      0.4014,      0.4024,      0.4034,      0.4044,     0.40541,     0.40641,     0.40741,\n",
            "           0.40841,     0.40941,     0.41041,     0.41141,     0.41241,     0.41341,     0.41441,     0.41542,     0.41642,     0.41742,     0.41842,     0.41942,     0.42042,     0.42142,     0.42242,     0.42342,     0.42442,     0.42543,     0.42643,     0.42743,     0.42843,     0.42943,     0.43043,     0.43143,\n",
            "           0.43243,     0.43343,     0.43443,     0.43544,     0.43644,     0.43744,     0.43844,     0.43944,     0.44044,     0.44144,     0.44244,     0.44344,     0.44444,     0.44545,     0.44645,     0.44745,     0.44845,     0.44945,     0.45045,     0.45145,     0.45245,     0.45345,     0.45445,     0.45546,\n",
            "           0.45646,     0.45746,     0.45846,     0.45946,     0.46046,     0.46146,     0.46246,     0.46346,     0.46446,     0.46547,     0.46647,     0.46747,     0.46847,     0.46947,     0.47047,     0.47147,     0.47247,     0.47347,     0.47447,     0.47548,     0.47648,     0.47748,     0.47848,     0.47948,\n",
            "           0.48048,     0.48148,     0.48248,     0.48348,     0.48448,     0.48549,     0.48649,     0.48749,     0.48849,     0.48949,     0.49049,     0.49149,     0.49249,     0.49349,     0.49449,      0.4955,      0.4965,      0.4975,      0.4985,      0.4995,      0.5005,      0.5015,      0.5025,      0.5035,\n",
            "            0.5045,     0.50551,     0.50651,     0.50751,     0.50851,     0.50951,     0.51051,     0.51151,     0.51251,     0.51351,     0.51451,     0.51552,     0.51652,     0.51752,     0.51852,     0.51952,     0.52052,     0.52152,     0.52252,     0.52352,     0.52452,     0.52553,     0.52653,     0.52753,\n",
            "           0.52853,     0.52953,     0.53053,     0.53153,     0.53253,     0.53353,     0.53453,     0.53554,     0.53654,     0.53754,     0.53854,     0.53954,     0.54054,     0.54154,     0.54254,     0.54354,     0.54454,     0.54555,     0.54655,     0.54755,     0.54855,     0.54955,     0.55055,     0.55155,\n",
            "           0.55255,     0.55355,     0.55455,     0.55556,     0.55656,     0.55756,     0.55856,     0.55956,     0.56056,     0.56156,     0.56256,     0.56356,     0.56456,     0.56557,     0.56657,     0.56757,     0.56857,     0.56957,     0.57057,     0.57157,     0.57257,     0.57357,     0.57457,     0.57558,\n",
            "           0.57658,     0.57758,     0.57858,     0.57958,     0.58058,     0.58158,     0.58258,     0.58358,     0.58458,     0.58559,     0.58659,     0.58759,     0.58859,     0.58959,     0.59059,     0.59159,     0.59259,     0.59359,     0.59459,      0.5956,      0.5966,      0.5976,      0.5986,      0.5996,\n",
            "            0.6006,      0.6016,      0.6026,      0.6036,      0.6046,     0.60561,     0.60661,     0.60761,     0.60861,     0.60961,     0.61061,     0.61161,     0.61261,     0.61361,     0.61461,     0.61562,     0.61662,     0.61762,     0.61862,     0.61962,     0.62062,     0.62162,     0.62262,     0.62362,\n",
            "           0.62462,     0.62563,     0.62663,     0.62763,     0.62863,     0.62963,     0.63063,     0.63163,     0.63263,     0.63363,     0.63463,     0.63564,     0.63664,     0.63764,     0.63864,     0.63964,     0.64064,     0.64164,     0.64264,     0.64364,     0.64464,     0.64565,     0.64665,     0.64765,\n",
            "           0.64865,     0.64965,     0.65065,     0.65165,     0.65265,     0.65365,     0.65465,     0.65566,     0.65666,     0.65766,     0.65866,     0.65966,     0.66066,     0.66166,     0.66266,     0.66366,     0.66466,     0.66567,     0.66667,     0.66767,     0.66867,     0.66967,     0.67067,     0.67167,\n",
            "           0.67267,     0.67367,     0.67467,     0.67568,     0.67668,     0.67768,     0.67868,     0.67968,     0.68068,     0.68168,     0.68268,     0.68368,     0.68468,     0.68569,     0.68669,     0.68769,     0.68869,     0.68969,     0.69069,     0.69169,     0.69269,     0.69369,     0.69469,      0.6957,\n",
            "            0.6967,      0.6977,      0.6987,      0.6997,      0.7007,      0.7017,      0.7027,      0.7037,      0.7047,     0.70571,     0.70671,     0.70771,     0.70871,     0.70971,     0.71071,     0.71171,     0.71271,     0.71371,     0.71471,     0.71572,     0.71672,     0.71772,     0.71872,     0.71972,\n",
            "           0.72072,     0.72172,     0.72272,     0.72372,     0.72472,     0.72573,     0.72673,     0.72773,     0.72873,     0.72973,     0.73073,     0.73173,     0.73273,     0.73373,     0.73473,     0.73574,     0.73674,     0.73774,     0.73874,     0.73974,     0.74074,     0.74174,     0.74274,     0.74374,\n",
            "           0.74474,     0.74575,     0.74675,     0.74775,     0.74875,     0.74975,     0.75075,     0.75175,     0.75275,     0.75375,     0.75475,     0.75576,     0.75676,     0.75776,     0.75876,     0.75976,     0.76076,     0.76176,     0.76276,     0.76376,     0.76476,     0.76577,     0.76677,     0.76777,\n",
            "           0.76877,     0.76977,     0.77077,     0.77177,     0.77277,     0.77377,     0.77477,     0.77578,     0.77678,     0.77778,     0.77878,     0.77978,     0.78078,     0.78178,     0.78278,     0.78378,     0.78478,     0.78579,     0.78679,     0.78779,     0.78879,     0.78979,     0.79079,     0.79179,\n",
            "           0.79279,     0.79379,     0.79479,      0.7958,      0.7968,      0.7978,      0.7988,      0.7998,      0.8008,      0.8018,      0.8028,      0.8038,      0.8048,     0.80581,     0.80681,     0.80781,     0.80881,     0.80981,     0.81081,     0.81181,     0.81281,     0.81381,     0.81481,     0.81582,\n",
            "           0.81682,     0.81782,     0.81882,     0.81982,     0.82082,     0.82182,     0.82282,     0.82382,     0.82482,     0.82583,     0.82683,     0.82783,     0.82883,     0.82983,     0.83083,     0.83183,     0.83283,     0.83383,     0.83483,     0.83584,     0.83684,     0.83784,     0.83884,     0.83984,\n",
            "           0.84084,     0.84184,     0.84284,     0.84384,     0.84484,     0.84585,     0.84685,     0.84785,     0.84885,     0.84985,     0.85085,     0.85185,     0.85285,     0.85385,     0.85485,     0.85586,     0.85686,     0.85786,     0.85886,     0.85986,     0.86086,     0.86186,     0.86286,     0.86386,\n",
            "           0.86486,     0.86587,     0.86687,     0.86787,     0.86887,     0.86987,     0.87087,     0.87187,     0.87287,     0.87387,     0.87487,     0.87588,     0.87688,     0.87788,     0.87888,     0.87988,     0.88088,     0.88188,     0.88288,     0.88388,     0.88488,     0.88589,     0.88689,     0.88789,\n",
            "           0.88889,     0.88989,     0.89089,     0.89189,     0.89289,     0.89389,     0.89489,      0.8959,      0.8969,      0.8979,      0.8989,      0.8999,      0.9009,      0.9019,      0.9029,      0.9039,      0.9049,     0.90591,     0.90691,     0.90791,     0.90891,     0.90991,     0.91091,     0.91191,\n",
            "           0.91291,     0.91391,     0.91491,     0.91592,     0.91692,     0.91792,     0.91892,     0.91992,     0.92092,     0.92192,     0.92292,     0.92392,     0.92492,     0.92593,     0.92693,     0.92793,     0.92893,     0.92993,     0.93093,     0.93193,     0.93293,     0.93393,     0.93493,     0.93594,\n",
            "           0.93694,     0.93794,     0.93894,     0.93994,     0.94094,     0.94194,     0.94294,     0.94394,     0.94494,     0.94595,     0.94695,     0.94795,     0.94895,     0.94995,     0.95095,     0.95195,     0.95295,     0.95395,     0.95495,     0.95596,     0.95696,     0.95796,     0.95896,     0.95996,\n",
            "           0.96096,     0.96196,     0.96296,     0.96396,     0.96496,     0.96597,     0.96697,     0.96797,     0.96897,     0.96997,     0.97097,     0.97197,     0.97297,     0.97397,     0.97497,     0.97598,     0.97698,     0.97798,     0.97898,     0.97998,     0.98098,     0.98198,     0.98298,     0.98398,\n",
            "           0.98498,     0.98599,     0.98699,     0.98799,     0.98899,     0.98999,     0.99099,     0.99199,     0.99299,     0.99399,     0.99499,       0.996,       0.997,       0.998,       0.999,           1]), array([[          1,           1,           1, ...,           0,           0,           0],\n",
            "       [          1,           1,           1, ...,           0,           0,           0],\n",
            "       [          1,           1,           1, ...,           0,           0,           0],\n",
            "       ...,\n",
            "       [          1,           1,           1, ...,           0,           0,           0],\n",
            "       [          1,           1,           1, ...,           0,           0,           0],\n",
            "       [    0.94118,     0.94118,     0.94118, ...,           0,           0,           0]]), 'Confidence', 'Recall']]\n",
            "f1: array([    0.80118,     0.89116,     0.61807,     0.84272,     0.77083,     0.65526,     0.88491,     0.62089,     0.85018,     0.88636,     0.75996,     0.60858,      0.8426,     0.60579,     0.91904,     0.92447,     0.73091,     0.71961,     0.86052,     0.63667,     0.94221,     0.83704,     0.92148,     0.83788,\n",
            "           0.81982,     0.91968,     0.83255,     0.67713,     0.88268,     0.72937,     0.64056,     0.61582,     0.75384,     0.72675,     0.62948,     0.81312,     0.89867,     0.90141,     0.91472,     0.65256,     0.94027,     0.92574,     0.90847,      0.8316,     0.71038,     0.83532,     0.92926,     0.87191,\n",
            "           0.86191,     0.89288,     0.87852,     0.87926,     0.88979,     0.68935,     0.92507,     0.72267,      0.7431,     0.58796,     0.75685,     0.76154,     0.78128,      0.9423,     0.82342,     0.89801,     0.82705,     0.42208,     0.19239,     0.85333,     0.78748,     0.87827,     0.85513,     0.87811,\n",
            "           0.64697])\n",
            "f1_curve: array([[        0.3,         0.3,     0.35499, ...,           0,           0,           0],\n",
            "       [   0.051282,    0.051282,    0.086736, ...,           0,           0,           0],\n",
            "       [   0.075472,    0.075472,    0.096008, ...,           0,           0,           0],\n",
            "       ...,\n",
            "       [    0.12291,     0.12298,     0.16073, ...,           0,           0,           0],\n",
            "       [    0.11215,     0.11215,     0.14351, ...,           0,           0,           0],\n",
            "       [    0.15023,     0.15023,     0.17707, ...,           0,           0,           0]])\n",
            "map: np.float64(0.8272777317051893)\n",
            "map50: np.float64(0.8516387441169215)\n",
            "map75: np.float64(0.8512071850589289)\n",
            "maps: array([    0.90896,       0.995,      0.4975,     0.77092,     0.82914,     0.64725,     0.84926,     0.64341,     0.87217,     0.85932,      0.7031,     0.84917,     0.85917,     0.62273,     0.97048,      0.8885,     0.68345,     0.68042,     0.84379,      0.8075,     0.94445,     0.81905,      0.8882,     0.88732,\n",
            "           0.80778,     0.83285,     0.73217,     0.94611,     0.96544,     0.77281,     0.88333,     0.67015,     0.59315,     0.68504,     0.47619,     0.73446,     0.92375,     0.88075,     0.93317,       0.995,     0.95474,     0.91515,     0.83082,     0.87031,       0.995,     0.93975,     0.95405,     0.92412,\n",
            "           0.82796,     0.86815,     0.89052,     0.82917,      0.9278,       0.895,     0.94444,       0.845,     0.94555,     0.79775,     0.69817,     0.70418,     0.81965,     0.97551,      0.8955,     0.93673,     0.87695,     0.59536,     0.58591,     0.85891,     0.76342,     0.89439,     0.89835,     0.94068,\n",
            "           0.63988])\n",
            "mp: np.float64(0.7097704479834671)\n",
            "mr: np.float64(0.9534391147444067)\n",
            "nc: 73\n",
            "p: array([     0.6683,     0.80368,     0.44726,     0.72819,     0.62711,     0.48728,     0.79357,           1,     0.88478,     0.79591,     0.70982,     0.43738,     0.72802,      0.4345,     0.85021,     0.85955,     0.63709,     0.56702,     0.78493,     0.87615,     0.89073,     0.81786,     0.85439,       0.721,\n",
            "           0.69466,      0.8513,     0.71313,           1,        0.79,     0.57402,     0.47119,      0.4449,     0.60493,     0.57079,      0.4593,      0.6851,     0.81598,     0.87236,     0.84284,           1,     0.88727,     0.86174,     0.83229,     0.71174,     0.55085,     0.86533,     0.86786,      0.7729,\n",
            "           0.75734,     0.82155,     0.78336,     0.78453,     0.80146,     0.52596,     0.86058,     0.56576,     0.59121,     0.41639,     0.60882,     0.61491,     0.64107,     0.89089,     0.69985,     0.81489,      0.7051,     0.26749,     0.10643,     0.78241,     0.64946,     0.89572,     0.80722,     0.78271,\n",
            "           0.49289])\n",
            "p_curve: array([[    0.17647,     0.17647,      0.2158, ...,           1,           1,           1],\n",
            "       [   0.026316,    0.026316,    0.045334, ...,           1,           1,           1],\n",
            "       [   0.039216,    0.039216,    0.050425, ...,           1,           1,           1],\n",
            "       ...,\n",
            "       [   0.065476,    0.065519,    0.087388, ...,           1,           1,           1],\n",
            "       [   0.059406,    0.059406,    0.077302, ...,           1,           1,           1],\n",
            "       [   0.081633,    0.081633,    0.097727, ...,           1,           1,           1]])\n",
            "prec_values: array([[          1,           1,           1, ...,     0.77419,     0.77419,           0],\n",
            "       [          1,           1,           1, ...,           1,           1,           0],\n",
            "       [        0.5,         0.5,         0.5, ...,         0.5,         0.5,           0],\n",
            "       ...,\n",
            "       [          1,           1,           1, ...,     0.78571,     0.78571,           0],\n",
            "       [          1,           1,           1, ...,     0.85714,     0.85714,           0],\n",
            "       [          1,           1,           1, ...,   0.0027783,   0.0013891,           0]])\n",
            "px: array([          0,    0.001001,    0.002002,    0.003003,    0.004004,    0.005005,    0.006006,    0.007007,    0.008008,    0.009009,     0.01001,    0.011011,    0.012012,    0.013013,    0.014014,    0.015015,    0.016016,    0.017017,    0.018018,    0.019019,     0.02002,    0.021021,    0.022022,    0.023023,\n",
            "          0.024024,    0.025025,    0.026026,    0.027027,    0.028028,    0.029029,     0.03003,    0.031031,    0.032032,    0.033033,    0.034034,    0.035035,    0.036036,    0.037037,    0.038038,    0.039039,     0.04004,    0.041041,    0.042042,    0.043043,    0.044044,    0.045045,    0.046046,    0.047047,\n",
            "          0.048048,    0.049049,     0.05005,    0.051051,    0.052052,    0.053053,    0.054054,    0.055055,    0.056056,    0.057057,    0.058058,    0.059059,     0.06006,    0.061061,    0.062062,    0.063063,    0.064064,    0.065065,    0.066066,    0.067067,    0.068068,    0.069069,     0.07007,    0.071071,\n",
            "          0.072072,    0.073073,    0.074074,    0.075075,    0.076076,    0.077077,    0.078078,    0.079079,     0.08008,    0.081081,    0.082082,    0.083083,    0.084084,    0.085085,    0.086086,    0.087087,    0.088088,    0.089089,     0.09009,    0.091091,    0.092092,    0.093093,    0.094094,    0.095095,\n",
            "          0.096096,    0.097097,    0.098098,    0.099099,      0.1001,      0.1011,      0.1021,      0.1031,      0.1041,     0.10511,     0.10611,     0.10711,     0.10811,     0.10911,     0.11011,     0.11111,     0.11211,     0.11311,     0.11411,     0.11512,     0.11612,     0.11712,     0.11812,     0.11912,\n",
            "           0.12012,     0.12112,     0.12212,     0.12312,     0.12412,     0.12513,     0.12613,     0.12713,     0.12813,     0.12913,     0.13013,     0.13113,     0.13213,     0.13313,     0.13413,     0.13514,     0.13614,     0.13714,     0.13814,     0.13914,     0.14014,     0.14114,     0.14214,     0.14314,\n",
            "           0.14414,     0.14515,     0.14615,     0.14715,     0.14815,     0.14915,     0.15015,     0.15115,     0.15215,     0.15315,     0.15415,     0.15516,     0.15616,     0.15716,     0.15816,     0.15916,     0.16016,     0.16116,     0.16216,     0.16316,     0.16416,     0.16517,     0.16617,     0.16717,\n",
            "           0.16817,     0.16917,     0.17017,     0.17117,     0.17217,     0.17317,     0.17417,     0.17518,     0.17618,     0.17718,     0.17818,     0.17918,     0.18018,     0.18118,     0.18218,     0.18318,     0.18418,     0.18519,     0.18619,     0.18719,     0.18819,     0.18919,     0.19019,     0.19119,\n",
            "           0.19219,     0.19319,     0.19419,      0.1952,      0.1962,      0.1972,      0.1982,      0.1992,      0.2002,      0.2012,      0.2022,      0.2032,      0.2042,     0.20521,     0.20621,     0.20721,     0.20821,     0.20921,     0.21021,     0.21121,     0.21221,     0.21321,     0.21421,     0.21522,\n",
            "           0.21622,     0.21722,     0.21822,     0.21922,     0.22022,     0.22122,     0.22222,     0.22322,     0.22422,     0.22523,     0.22623,     0.22723,     0.22823,     0.22923,     0.23023,     0.23123,     0.23223,     0.23323,     0.23423,     0.23524,     0.23624,     0.23724,     0.23824,     0.23924,\n",
            "           0.24024,     0.24124,     0.24224,     0.24324,     0.24424,     0.24525,     0.24625,     0.24725,     0.24825,     0.24925,     0.25025,     0.25125,     0.25225,     0.25325,     0.25425,     0.25526,     0.25626,     0.25726,     0.25826,     0.25926,     0.26026,     0.26126,     0.26226,     0.26326,\n",
            "           0.26426,     0.26527,     0.26627,     0.26727,     0.26827,     0.26927,     0.27027,     0.27127,     0.27227,     0.27327,     0.27427,     0.27528,     0.27628,     0.27728,     0.27828,     0.27928,     0.28028,     0.28128,     0.28228,     0.28328,     0.28428,     0.28529,     0.28629,     0.28729,\n",
            "           0.28829,     0.28929,     0.29029,     0.29129,     0.29229,     0.29329,     0.29429,      0.2953,      0.2963,      0.2973,      0.2983,      0.2993,      0.3003,      0.3013,      0.3023,      0.3033,      0.3043,     0.30531,     0.30631,     0.30731,     0.30831,     0.30931,     0.31031,     0.31131,\n",
            "           0.31231,     0.31331,     0.31431,     0.31532,     0.31632,     0.31732,     0.31832,     0.31932,     0.32032,     0.32132,     0.32232,     0.32332,     0.32432,     0.32533,     0.32633,     0.32733,     0.32833,     0.32933,     0.33033,     0.33133,     0.33233,     0.33333,     0.33433,     0.33534,\n",
            "           0.33634,     0.33734,     0.33834,     0.33934,     0.34034,     0.34134,     0.34234,     0.34334,     0.34434,     0.34535,     0.34635,     0.34735,     0.34835,     0.34935,     0.35035,     0.35135,     0.35235,     0.35335,     0.35435,     0.35536,     0.35636,     0.35736,     0.35836,     0.35936,\n",
            "           0.36036,     0.36136,     0.36236,     0.36336,     0.36436,     0.36537,     0.36637,     0.36737,     0.36837,     0.36937,     0.37037,     0.37137,     0.37237,     0.37337,     0.37437,     0.37538,     0.37638,     0.37738,     0.37838,     0.37938,     0.38038,     0.38138,     0.38238,     0.38338,\n",
            "           0.38438,     0.38539,     0.38639,     0.38739,     0.38839,     0.38939,     0.39039,     0.39139,     0.39239,     0.39339,     0.39439,      0.3954,      0.3964,      0.3974,      0.3984,      0.3994,      0.4004,      0.4014,      0.4024,      0.4034,      0.4044,     0.40541,     0.40641,     0.40741,\n",
            "           0.40841,     0.40941,     0.41041,     0.41141,     0.41241,     0.41341,     0.41441,     0.41542,     0.41642,     0.41742,     0.41842,     0.41942,     0.42042,     0.42142,     0.42242,     0.42342,     0.42442,     0.42543,     0.42643,     0.42743,     0.42843,     0.42943,     0.43043,     0.43143,\n",
            "           0.43243,     0.43343,     0.43443,     0.43544,     0.43644,     0.43744,     0.43844,     0.43944,     0.44044,     0.44144,     0.44244,     0.44344,     0.44444,     0.44545,     0.44645,     0.44745,     0.44845,     0.44945,     0.45045,     0.45145,     0.45245,     0.45345,     0.45445,     0.45546,\n",
            "           0.45646,     0.45746,     0.45846,     0.45946,     0.46046,     0.46146,     0.46246,     0.46346,     0.46446,     0.46547,     0.46647,     0.46747,     0.46847,     0.46947,     0.47047,     0.47147,     0.47247,     0.47347,     0.47447,     0.47548,     0.47648,     0.47748,     0.47848,     0.47948,\n",
            "           0.48048,     0.48148,     0.48248,     0.48348,     0.48448,     0.48549,     0.48649,     0.48749,     0.48849,     0.48949,     0.49049,     0.49149,     0.49249,     0.49349,     0.49449,      0.4955,      0.4965,      0.4975,      0.4985,      0.4995,      0.5005,      0.5015,      0.5025,      0.5035,\n",
            "            0.5045,     0.50551,     0.50651,     0.50751,     0.50851,     0.50951,     0.51051,     0.51151,     0.51251,     0.51351,     0.51451,     0.51552,     0.51652,     0.51752,     0.51852,     0.51952,     0.52052,     0.52152,     0.52252,     0.52352,     0.52452,     0.52553,     0.52653,     0.52753,\n",
            "           0.52853,     0.52953,     0.53053,     0.53153,     0.53253,     0.53353,     0.53453,     0.53554,     0.53654,     0.53754,     0.53854,     0.53954,     0.54054,     0.54154,     0.54254,     0.54354,     0.54454,     0.54555,     0.54655,     0.54755,     0.54855,     0.54955,     0.55055,     0.55155,\n",
            "           0.55255,     0.55355,     0.55455,     0.55556,     0.55656,     0.55756,     0.55856,     0.55956,     0.56056,     0.56156,     0.56256,     0.56356,     0.56456,     0.56557,     0.56657,     0.56757,     0.56857,     0.56957,     0.57057,     0.57157,     0.57257,     0.57357,     0.57457,     0.57558,\n",
            "           0.57658,     0.57758,     0.57858,     0.57958,     0.58058,     0.58158,     0.58258,     0.58358,     0.58458,     0.58559,     0.58659,     0.58759,     0.58859,     0.58959,     0.59059,     0.59159,     0.59259,     0.59359,     0.59459,      0.5956,      0.5966,      0.5976,      0.5986,      0.5996,\n",
            "            0.6006,      0.6016,      0.6026,      0.6036,      0.6046,     0.60561,     0.60661,     0.60761,     0.60861,     0.60961,     0.61061,     0.61161,     0.61261,     0.61361,     0.61461,     0.61562,     0.61662,     0.61762,     0.61862,     0.61962,     0.62062,     0.62162,     0.62262,     0.62362,\n",
            "           0.62462,     0.62563,     0.62663,     0.62763,     0.62863,     0.62963,     0.63063,     0.63163,     0.63263,     0.63363,     0.63463,     0.63564,     0.63664,     0.63764,     0.63864,     0.63964,     0.64064,     0.64164,     0.64264,     0.64364,     0.64464,     0.64565,     0.64665,     0.64765,\n",
            "           0.64865,     0.64965,     0.65065,     0.65165,     0.65265,     0.65365,     0.65465,     0.65566,     0.65666,     0.65766,     0.65866,     0.65966,     0.66066,     0.66166,     0.66266,     0.66366,     0.66466,     0.66567,     0.66667,     0.66767,     0.66867,     0.66967,     0.67067,     0.67167,\n",
            "           0.67267,     0.67367,     0.67467,     0.67568,     0.67668,     0.67768,     0.67868,     0.67968,     0.68068,     0.68168,     0.68268,     0.68368,     0.68468,     0.68569,     0.68669,     0.68769,     0.68869,     0.68969,     0.69069,     0.69169,     0.69269,     0.69369,     0.69469,      0.6957,\n",
            "            0.6967,      0.6977,      0.6987,      0.6997,      0.7007,      0.7017,      0.7027,      0.7037,      0.7047,     0.70571,     0.70671,     0.70771,     0.70871,     0.70971,     0.71071,     0.71171,     0.71271,     0.71371,     0.71471,     0.71572,     0.71672,     0.71772,     0.71872,     0.71972,\n",
            "           0.72072,     0.72172,     0.72272,     0.72372,     0.72472,     0.72573,     0.72673,     0.72773,     0.72873,     0.72973,     0.73073,     0.73173,     0.73273,     0.73373,     0.73473,     0.73574,     0.73674,     0.73774,     0.73874,     0.73974,     0.74074,     0.74174,     0.74274,     0.74374,\n",
            "           0.74474,     0.74575,     0.74675,     0.74775,     0.74875,     0.74975,     0.75075,     0.75175,     0.75275,     0.75375,     0.75475,     0.75576,     0.75676,     0.75776,     0.75876,     0.75976,     0.76076,     0.76176,     0.76276,     0.76376,     0.76476,     0.76577,     0.76677,     0.76777,\n",
            "           0.76877,     0.76977,     0.77077,     0.77177,     0.77277,     0.77377,     0.77477,     0.77578,     0.77678,     0.77778,     0.77878,     0.77978,     0.78078,     0.78178,     0.78278,     0.78378,     0.78478,     0.78579,     0.78679,     0.78779,     0.78879,     0.78979,     0.79079,     0.79179,\n",
            "           0.79279,     0.79379,     0.79479,      0.7958,      0.7968,      0.7978,      0.7988,      0.7998,      0.8008,      0.8018,      0.8028,      0.8038,      0.8048,     0.80581,     0.80681,     0.80781,     0.80881,     0.80981,     0.81081,     0.81181,     0.81281,     0.81381,     0.81481,     0.81582,\n",
            "           0.81682,     0.81782,     0.81882,     0.81982,     0.82082,     0.82182,     0.82282,     0.82382,     0.82482,     0.82583,     0.82683,     0.82783,     0.82883,     0.82983,     0.83083,     0.83183,     0.83283,     0.83383,     0.83483,     0.83584,     0.83684,     0.83784,     0.83884,     0.83984,\n",
            "           0.84084,     0.84184,     0.84284,     0.84384,     0.84484,     0.84585,     0.84685,     0.84785,     0.84885,     0.84985,     0.85085,     0.85185,     0.85285,     0.85385,     0.85485,     0.85586,     0.85686,     0.85786,     0.85886,     0.85986,     0.86086,     0.86186,     0.86286,     0.86386,\n",
            "           0.86486,     0.86587,     0.86687,     0.86787,     0.86887,     0.86987,     0.87087,     0.87187,     0.87287,     0.87387,     0.87487,     0.87588,     0.87688,     0.87788,     0.87888,     0.87988,     0.88088,     0.88188,     0.88288,     0.88388,     0.88488,     0.88589,     0.88689,     0.88789,\n",
            "           0.88889,     0.88989,     0.89089,     0.89189,     0.89289,     0.89389,     0.89489,      0.8959,      0.8969,      0.8979,      0.8989,      0.8999,      0.9009,      0.9019,      0.9029,      0.9039,      0.9049,     0.90591,     0.90691,     0.90791,     0.90891,     0.90991,     0.91091,     0.91191,\n",
            "           0.91291,     0.91391,     0.91491,     0.91592,     0.91692,     0.91792,     0.91892,     0.91992,     0.92092,     0.92192,     0.92292,     0.92392,     0.92492,     0.92593,     0.92693,     0.92793,     0.92893,     0.92993,     0.93093,     0.93193,     0.93293,     0.93393,     0.93493,     0.93594,\n",
            "           0.93694,     0.93794,     0.93894,     0.93994,     0.94094,     0.94194,     0.94294,     0.94394,     0.94494,     0.94595,     0.94695,     0.94795,     0.94895,     0.94995,     0.95095,     0.95195,     0.95295,     0.95395,     0.95495,     0.95596,     0.95696,     0.95796,     0.95896,     0.95996,\n",
            "           0.96096,     0.96196,     0.96296,     0.96396,     0.96496,     0.96597,     0.96697,     0.96797,     0.96897,     0.96997,     0.97097,     0.97197,     0.97297,     0.97397,     0.97497,     0.97598,     0.97698,     0.97798,     0.97898,     0.97998,     0.98098,     0.98198,     0.98298,     0.98398,\n",
            "           0.98498,     0.98599,     0.98699,     0.98799,     0.98899,     0.98999,     0.99099,     0.99199,     0.99299,     0.99399,     0.99499,       0.996,       0.997,       0.998,       0.999,           1])\n",
            "r: array([          1,           1,           1,           1,           1,           1,           1,     0.45021,     0.81818,           1,     0.81772,           1,           1,           1,           1,           1,     0.85714,     0.98457,     0.95223,         0.5,           1,     0.85714,           1,           1,\n",
            "                 1,           1,           1,     0.51186,           1,           1,           1,           1,           1,           1,           1,           1,           1,     0.93246,           1,      0.4843,           1,           1,           1,           1,           1,     0.80732,           1,           1,\n",
            "                 1,     0.97778,           1,           1,           1,           1,           1,           1,           1,           1,           1,           1,           1,           1,           1,           1,           1,           1,           1,      0.9384,           1,     0.86148,     0.90909,           1,\n",
            "           0.94118])\n",
            "r_curve: array([[          1,           1,           1, ...,           0,           0,           0],\n",
            "       [          1,           1,           1, ...,           0,           0,           0],\n",
            "       [          1,           1,           1, ...,           0,           0,           0],\n",
            "       ...,\n",
            "       [          1,           1,           1, ...,           0,           0,           0],\n",
            "       [          1,           1,           1, ...,           0,           0,           0],\n",
            "       [    0.94118,     0.94118,     0.94118, ...,           0,           0,           0]])\n"
          ]
        }
      ]
    },
    {
      "cell_type": "markdown",
      "source": [
        "## **6. 모델 평가**\n",
        "- 학습된 YOLOv8x 모델의 최적 가중치(best.pt)를 활용하여, 테스트 이미지에 대한 객체 탐지 예측을 수행하였다.\n",
        "\n",
        "- 예측에는 Ultralytics의 model.predict() 함수를 사용하였으며, confidence threshold를 0.05로 낮춰 검출 누락 가능성을 줄이는 방식으로 설정하였다."
      ],
      "metadata": {
        "id": "_ymBSTa_quQ1"
      }
    },
    {
      "cell_type": "code",
      "source": [
        "test_results = model.predict(\n",
        "    source=test_dir,\n",
        "    conf=0.05,\n",
        "    imgsz=640,\n",
        "    save=False,\n",
        "    save_txt=False,\n",
        "    name=\"predict_kaggle\"\n",
        ")"
      ],
      "metadata": {
        "colab": {
          "base_uri": "https://localhost:8080/"
        },
        "id": "gJslvgZaqtSr",
        "outputId": "de05ad11-9026-4995-e63c-c080d922a15f",
        "collapsed": true
      },
      "execution_count": null,
      "outputs": [
        {
          "output_type": "stream",
          "name": "stdout",
          "text": [
            "\n",
            "image 1/843 /content/drive/MyDrive/codeit_level1_project/data/test_images/1.png: 640x512 1 뉴로메드정(옥시라세탐), 1 삼남건조수산화알루미늄겔정, 1 리리카캡슐 150mg, 1 세비카정 10/40mg, 58.1ms\n",
            "image 2/843 /content/drive/MyDrive/codeit_level1_project/data/test_images/10.png: 640x512 2 보령부스파정 5mgs, 1 타이레놀이알서방정(아세트아미노펜)(수출용), 1 조인스정 200mg, 1 리리카캡슐 150mg, 12.1ms\n",
            "image 3/843 /content/drive/MyDrive/codeit_level1_project/data/test_images/100.png: 640x512 2 보령부스파정 5mgs, 1 삐콤씨에프정 618.6mg/병, 1 리리카캡슐 150mg, 1 엑스포지정 5/160mg, 13.1ms\n",
            "image 4/843 /content/drive/MyDrive/codeit_level1_project/data/test_images/1003.png: 640x512 1 기넥신에프정(은행엽엑스)(수출용), 1 리피토정 20mg, 1 비모보정 500/20mg, 1 로수바미브정 10/20mg, 12.1ms\n",
            "image 5/843 /content/drive/MyDrive/codeit_level1_project/data/test_images/1004.png: 640x512 1 기넥신에프정(은행엽엑스)(수출용), 1 리피토정 20mg, 1 비모보정 500/20mg, 1 로수바미브정 10/20mg, 12.4ms\n",
            "image 6/843 /content/drive/MyDrive/codeit_level1_project/data/test_images/1005.png: 640x512 1 기넥신에프정(은행엽엑스)(수출용), 1 리피토정 20mg, 1 비모보정 500/20mg, 1 로수바미브정 10/20mg, 12.2ms\n",
            "image 7/843 /content/drive/MyDrive/codeit_level1_project/data/test_images/1006.png: 640x512 1 기넥신에프정(은행엽엑스)(수출용), 1 라비에트정 20mg, 1 울트라셋이알서방정, 1 케이캡정 50mg, 12.3ms\n",
            "image 8/843 /content/drive/MyDrive/codeit_level1_project/data/test_images/1007.png: 640x512 1 기넥신에프정(은행엽엑스)(수출용), 1 라비에트정 20mg, 1 울트라셋이알서방정, 1 케이캡정 50mg, 12.8ms\n",
            "image 9/843 /content/drive/MyDrive/codeit_level1_project/data/test_images/1009.png: 640x512 1 기넥신에프정(은행엽엑스)(수출용), 1 라비에트정 20mg, 1 졸로푸트정 100mg, 1 에스원엠프정 20mg, 12.5ms\n",
            "image 10/843 /content/drive/MyDrive/codeit_level1_project/data/test_images/1010.png: 640x512 1 기넥신에프정(은행엽엑스)(수출용), 1 라비에트정 20mg, 1 졸로푸트정 100mg, 1 에스원엠프정 20mg, 1 케이캡정 50mg, 16.3ms\n",
            "image 11/843 /content/drive/MyDrive/codeit_level1_project/data/test_images/1012.png: 640x512 1 보령부스파정 5mg, 1 뉴로메드정(옥시라세탐), 1 리리카캡슐 150mg, 1 세비카정 10/40mg, 13.1ms\n",
            "image 12/843 /content/drive/MyDrive/codeit_level1_project/data/test_images/1013.png: 640x512 1 보령부스파정 5mg, 1 뉴로메드정(옥시라세탐), 1 리리카캡슐 150mg, 1 세비카정 10/40mg, 12.8ms\n",
            "image 13/843 /content/drive/MyDrive/codeit_level1_project/data/test_images/1014.png: 640x512 1 보령부스파정 5mg, 1 뉴로메드정(옥시라세탐), 1 리리카캡슐 150mg, 1 세비카정 10/40mg, 12.9ms\n",
            "image 14/843 /content/drive/MyDrive/codeit_level1_project/data/test_images/1015.png: 640x512 1 기넥신에프정(은행엽엑스)(수출용), 1 메가파워정 90mg/병, 1 큐시드정 31.5mg/PTP, 1 제미메트서방정 50/1000mg, 14.0ms\n",
            "image 15/843 /content/drive/MyDrive/codeit_level1_project/data/test_images/1016.png: 640x512 1 기넥신에프정(은행엽엑스)(수출용), 1 메가파워정 90mg/병, 1 큐시드정 31.5mg/PTP, 1 제미메트서방정 50/1000mg, 12.6ms\n",
            "image 16/843 /content/drive/MyDrive/codeit_level1_project/data/test_images/1018.png: 640x512 1 보령부스파정 5mg, 1 기넥신에프정(은행엽엑스)(수출용), 1 써스펜8시간이알서방정 650mg, 1 라비에트정 20mg, 1 제미메트서방정 50/1000mg, 1 로수바미브정 10/20mg, 12.7ms\n",
            "image 17/843 /content/drive/MyDrive/codeit_level1_project/data/test_images/1019.png: 640x512 1 기넥신에프정(은행엽엑스)(수출용), 1 조인스정 200mg, 1 써스펜8시간이알서방정 650mg, 1 제미메트서방정 50/1000mg, 1 로수바미브정 10/20mg, 12.2ms\n",
            "image 18/843 /content/drive/MyDrive/codeit_level1_project/data/test_images/102.png: 640x512 2 보령부스파정 5mgs, 1 삐콤씨에프정 618.6mg/병, 1 리리카캡슐 150mg, 1 엑스포지정 5/160mg, 12.3ms\n",
            "image 19/843 /content/drive/MyDrive/codeit_level1_project/data/test_images/1020.png: 640x512 1 기넥신에프정(은행엽엑스)(수출용), 1 써스펜8시간이알서방정 650mg, 1 라비에트정 20mg, 1 제미메트서방정 50/1000mg, 1 로수바미브정 10/20mg, 12.4ms\n",
            "image 20/843 /content/drive/MyDrive/codeit_level1_project/data/test_images/1022.png: 640x512 1 삼남건조수산화알루미늄겔정, 1 조인스정 200mg, 1 리리카캡슐 150mg, 1 놀텍정 10mg, 12.2ms\n",
            "image 21/843 /content/drive/MyDrive/codeit_level1_project/data/test_images/1023.png: 640x512 1 삼남건조수산화알루미늄겔정, 1 조인스정 200mg, 1 리리카캡슐 150mg, 1 놀텍정 10mg, 13.0ms\n",
            "image 22/843 /content/drive/MyDrive/codeit_level1_project/data/test_images/1025.png: 640x512 1 기넥신에프정(은행엽엑스)(수출용), 1 큐시드정 31.5mg/PTP, 1 에스원엠프정 20mg, 1 아토젯정 10/40mg, 12.3ms\n",
            "image 23/843 /content/drive/MyDrive/codeit_level1_project/data/test_images/1026.png: 640x512 1 기넥신에프정(은행엽엑스)(수출용), 1 큐시드정 31.5mg/PTP, 1 에스원엠프정 20mg, 1 아토젯정 10/40mg, 12.6ms\n",
            "image 24/843 /content/drive/MyDrive/codeit_level1_project/data/test_images/1027.png: 640x512 1 에빅사정(메만틴염산염)(비매품), 1 비타비백정 100mg/병, 1 트윈스타정 40/5mg, 12.7ms\n",
            "image 25/843 /content/drive/MyDrive/codeit_level1_project/data/test_images/1028.png: 640x512 1 리피토정 20mg, 1 비타비백정 100mg/병, 1 트윈스타정 40/5mg, 12.4ms\n",
            "image 26/843 /content/drive/MyDrive/codeit_level1_project/data/test_images/1029.png: 640x512 1 에빅사정(메만틴염산염)(비매품), 1 리피토정 20mg, 1 비타비백정 100mg/병, 1 트윈스타정 40/5mg, 1 카나브정 60mg, 12.6ms\n",
            "image 27/843 /content/drive/MyDrive/codeit_level1_project/data/test_images/1030.png: 640x512 1 기넥신에프정(은행엽엑스)(수출용), 1 메가파워정 90mg/병, 1 비모보정 500/20mg, 1 로수바미브정 10/20mg, 12.5ms\n",
            "image 28/843 /content/drive/MyDrive/codeit_level1_project/data/test_images/1034.png: 640x512 1 기넥신에프정(은행엽엑스)(수출용), 1 알드린정, 1 아빌리파이정 10mg, 1 아토젯정 10/40mg, 13.0ms\n",
            "image 29/843 /content/drive/MyDrive/codeit_level1_project/data/test_images/1039.png: 640x512 1 기넥신에프정(은행엽엑스)(수출용), 1 라비에트정 20mg, 1 에스원엠프정 20mg, 1 아토젯정 10/40mg, 12.3ms\n",
            "image 30/843 /content/drive/MyDrive/codeit_level1_project/data/test_images/104.png: 640x512 1 맥시부펜이알정 300mg, 1 트윈스타정 40/5mg, 1 렉사프로정 15mg, 1 로수바미브정 10/20mg, 12.4ms\n",
            "image 31/843 /content/drive/MyDrive/codeit_level1_project/data/test_images/1041.png: 640x512 1 기넥신에프정(은행엽엑스)(수출용), 1 라비에트정 20mg, 1 에스원엠프정 20mg, 1 아토젯정 10/40mg, 12.3ms\n",
            "image 32/843 /content/drive/MyDrive/codeit_level1_project/data/test_images/1043.png: 640x512 1 메가파워정 90mg/병, 1 트윈스타정 40/5mg, 1 렉사프로정 15mg, 12.2ms\n",
            "image 33/843 /content/drive/MyDrive/codeit_level1_project/data/test_images/1044.png: 640x512 1 메가파워정 90mg/병, 1 트윈스타정 40/5mg, 1 렉사프로정 15mg, 12.9ms\n",
            "image 34/843 /content/drive/MyDrive/codeit_level1_project/data/test_images/1045.png: 640x512 1 기넥신에프정(은행엽엑스)(수출용), 1 써스펜8시간이알서방정 650mg, 1 큐시드정 31.5mg/PTP, 1 아토젯정 10/40mg, 12.5ms\n",
            "image 35/843 /content/drive/MyDrive/codeit_level1_project/data/test_images/1046.png: 640x512 1 기넥신에프정(은행엽엑스)(수출용), 1 써스펜8시간이알서방정 650mg, 1 큐시드정 31.5mg/PTP, 1 아토젯정 10/40mg, 12.6ms\n",
            "image 36/843 /content/drive/MyDrive/codeit_level1_project/data/test_images/1047.png: 640x512 1 기넥신에프정(은행엽엑스)(수출용), 1 써스펜8시간이알서방정 650mg, 1 큐시드정 31.5mg/PTP, 1 아토젯정 10/40mg, 1 케이캡정 50mg, 12.4ms\n",
            "image 37/843 /content/drive/MyDrive/codeit_level1_project/data/test_images/1050.png: 640x512 1 가바토파정 100mg, 1 동아가바펜틴정 800mg, 1 란스톤엘에프디티정 30mg, 1 노바스크정 5mg, 12.2ms\n",
            "image 38/843 /content/drive/MyDrive/codeit_level1_project/data/test_images/1051.png: 640x512 1 란스톤엘에프디티정 30mg, 1 트루비타정 60mg/병, 1 노바스크정 5mg, 1 펠루비정(펠루비프로펜), 1 울트라셋이알서방정, 1 브린텔릭스정 20mg, 12.3ms\n",
            "image 39/843 /content/drive/MyDrive/codeit_level1_project/data/test_images/1053.png: 640x512 1 란스톤엘에프디티정 30mg, 1 노바스크정 5mg, 1 펠루비정(펠루비프로펜), 1 울트라셋이알서방정, 1 브린텔릭스정 20mg, 1 글리틴정(콜린알포세레이트), 12.3ms\n",
            "image 40/843 /content/drive/MyDrive/codeit_level1_project/data/test_images/1055.png: 640x512 1 기넥신에프정(은행엽엑스)(수출용), 1 써스펜8시간이알서방정 650mg, 1 카나브정 60mg, 1 로수바미브정 10/20mg, 12.2ms\n",
            "image 41/843 /content/drive/MyDrive/codeit_level1_project/data/test_images/1056.png: 640x512 1 기넥신에프정(은행엽엑스)(수출용), 1 써스펜8시간이알서방정 650mg, 1 카나브정 60mg, 1 로수바미브정 10/20mg, 12.1ms\n",
            "image 42/843 /content/drive/MyDrive/codeit_level1_project/data/test_images/1057.png: 640x512 1 란스톤엘에프디티정 30mg, 1 스토가정 10mg, 1 펠루비정(펠루비프로펜), 1 신바로정, 1 브린텔릭스정 20mg, 1 글리틴정(콜린알포세레이트), 12.1ms\n",
            "image 43/843 /content/drive/MyDrive/codeit_level1_project/data/test_images/1058.png: 640x512 1 에어탈정(아세클로페낙), 1 란스톤엘에프디티정 30mg, 1 스토가정 10mg, 1 펠루비정(펠루비프로펜), 1 신바로정, 1 브린텔릭스정 20mg, 12.2ms\n",
            "image 44/843 /content/drive/MyDrive/codeit_level1_project/data/test_images/1060.png: 640x512 1 동아가바펜틴정 800mg, 1 란스톤엘에프디티정 30mg, 1 펠루비정(펠루비프로펜), 1 신바로정, 1 브린텔릭스정 20mg, 12.1ms\n",
            "image 45/843 /content/drive/MyDrive/codeit_level1_project/data/test_images/1064.png: 640x512 1 기넥신에프정(은행엽엑스)(수출용), 1 라비에트정 20mg, 1 비모보정 500/20mg, 1 케이캡정 50mg, 12.3ms\n",
            "image 46/843 /content/drive/MyDrive/codeit_level1_project/data/test_images/1065.png: 640x512 1 기넥신에프정(은행엽엑스)(수출용), 1 라비에트정 20mg, 1 비모보정 500/20mg, 1 케이캡정 50mg, 12.1ms\n",
            "image 47/843 /content/drive/MyDrive/codeit_level1_project/data/test_images/1067.png: 640x512 1 기넥신에프정(은행엽엑스)(수출용), 1 마도파정, 1 카나브정 60mg, 1 에스원엠프정 20mg, 12.2ms\n",
            "image 48/843 /content/drive/MyDrive/codeit_level1_project/data/test_images/1069.png: 640x512 1 보령부스파정 5mg, 1 타이레놀이알서방정(아세트아미노펜)(수출용), 1 리리카캡슐 150mg, 1 졸로푸트정 100mg, 1 카발린캡슐 25mg, 12.9ms\n",
            "image 49/843 /content/drive/MyDrive/codeit_level1_project/data/test_images/1070.png: 640x512 1 보령부스파정 5mg, 1 타이레놀이알서방정(아세트아미노펜)(수출용), 1 리리카캡슐 150mg, 1 카발린캡슐 25mg, 12.6ms\n",
            "image 50/843 /content/drive/MyDrive/codeit_level1_project/data/test_images/1073.png: 640x512 1 기넥신에프정(은행엽엑스)(수출용), 1 아빌리파이정 10mg, 1 졸로푸트정 100mg, 1 트라젠타듀오정 2.5/850mg, 14.0ms\n",
            "image 51/843 /content/drive/MyDrive/codeit_level1_project/data/test_images/1075.png: 640x512 1 삼남건조수산화알루미늄겔정, 1 쎄로켈정 100mg, 1 오마코연질캡슐(오메가-3-산에틸에스테르90), 1 자누메트정 50/850mg, 15.4ms\n",
            "image 52/843 /content/drive/MyDrive/codeit_level1_project/data/test_images/1076.png: 640x512 1 삼남건조수산화알루미늄겔정, 1 쎄로켈정 100mg, 1 오마코연질캡슐(오메가-3-산에틸에스테르90), 1 자누메트정 50/850mg, 12.2ms\n",
            "image 53/843 /content/drive/MyDrive/codeit_level1_project/data/test_images/1077.png: 640x512 1 삼남건조수산화알루미늄겔정, 1 쎄로켈정 100mg, 1 오마코연질캡슐(오메가-3-산에틸에스테르90), 1 자누메트정 50/850mg, 12.2ms\n",
            "image 54/843 /content/drive/MyDrive/codeit_level1_project/data/test_images/1079.png: 640x512 1 기넥신에프정(은행엽엑스)(수출용), 2 써스펜8시간이알서방정 650mgs, 1 큐시드정 31.5mg/PTP, 1 졸로푸트정 100mg, 1 케이캡정 50mg, 12.4ms\n",
            "image 55/843 /content/drive/MyDrive/codeit_level1_project/data/test_images/108.png: 640x512 1 에어탈정(아세클로페낙), 1 가바토파정 100mg, 1 란스톤엘에프디티정 30mg, 1 신바로정, 12.3ms\n",
            "image 56/843 /content/drive/MyDrive/codeit_level1_project/data/test_images/1080.png: 640x512 1 기넥신에프정(은행엽엑스)(수출용), 1 써스펜8시간이알서방정 650mg, 1 큐시드정 31.5mg/PTP, 1 졸로푸트정 100mg, 12.2ms\n",
            "image 57/843 /content/drive/MyDrive/codeit_level1_project/data/test_images/1081.png: 640x512 1 삼남건조수산화알루미늄겔정, 1 리리카캡슐 150mg, 1 아질렉트정(라사길린메실산염), 1 로수바미브정 10/20mg, 1 카발린캡슐 25mg, 12.3ms\n",
            "image 58/843 /content/drive/MyDrive/codeit_level1_project/data/test_images/1085.png: 640x512 1 기넥신에프정(은행엽엑스)(수출용), 1 리피토정 20mg, 1 큐시드정 31.5mg/PTP, 1 울트라셋이알서방정, 12.2ms\n",
            "image 59/843 /content/drive/MyDrive/codeit_level1_project/data/test_images/1087.png: 640x512 1 무코스타정(레바미피드)(비매품), 1 삼남건조수산화알루미늄겔정, 1 오마코연질캡슐(오메가-3-산에틸에스테르90), 1 아토르바정 10mg, 12.3ms\n",
            "image 60/843 /content/drive/MyDrive/codeit_level1_project/data/test_images/1089.png: 640x512 1 무코스타정(레바미피드)(비매품), 1 삼남건조수산화알루미늄겔정, 1 써스펜8시간이알서방정 650mg, 1 오마코연질캡슐(오메가-3-산에틸에스테르90), 1 플라빅스정 75mg, 1 아토르바정 10mg, 12.1ms\n",
            "image 61/843 /content/drive/MyDrive/codeit_level1_project/data/test_images/109.png: 640x512 1 기넥신에프정(은행엽엑스)(수출용), 1 알드린정, 1 메가파워정 90mg/병, 1 울트라셋이알서방정, 12.6ms\n",
            "image 62/843 /content/drive/MyDrive/codeit_level1_project/data/test_images/1092.png: 640x512 1 보령부스파정 5mg, 1 리리카캡슐 150mg, 1 엑스포지정 5/160mg, 1 아질렉트정(라사길린메실산염), 1 로수바미브정 10/20mg, 12.4ms\n",
            "image 63/843 /content/drive/MyDrive/codeit_level1_project/data/test_images/1093.png: 640x512 1 기넥신에프정(은행엽엑스)(수출용), 1 알드린정, 1 비모보정 500/20mg, 1 에스원엠프정 20mg, 12.6ms\n",
            "image 64/843 /content/drive/MyDrive/codeit_level1_project/data/test_images/1095.png: 640x512 1 기넥신에프정(은행엽엑스)(수출용), 1 알드린정, 1 비모보정 500/20mg, 1 에스원엠프정 20mg, 12.1ms\n",
            "image 65/843 /content/drive/MyDrive/codeit_level1_project/data/test_images/1096.png: 640x512 1 삼남건조수산화알루미늄겔정, 1 오마코연질캡슐(오메가-3-산에틸에스테르90), 1 레일라정, 1 리바로정 4mg, 12.1ms\n",
            "image 66/843 /content/drive/MyDrive/codeit_level1_project/data/test_images/1097.png: 640x512 1 삼남건조수산화알루미늄겔정, 1 오마코연질캡슐(오메가-3-산에틸에스테르90), 1 레일라정, 1 리바로정 4mg, 12.1ms\n",
            "image 67/843 /content/drive/MyDrive/codeit_level1_project/data/test_images/1098.png: 640x512 1 삼남건조수산화알루미늄겔정, 1 오마코연질캡슐(오메가-3-산에틸에스테르90), 1 레일라정, 1 리바로정 4mg, 12.3ms\n",
            "image 68/843 /content/drive/MyDrive/codeit_level1_project/data/test_images/110.png: 640x512 1 기넥신에프정(은행엽엑스)(수출용), 1 알드린정, 1 메가파워정 90mg/병, 1 울트라셋이알서방정, 12.7ms\n",
            "image 69/843 /content/drive/MyDrive/codeit_level1_project/data/test_images/1100.png: 640x512 1 기넥신에프정(은행엽엑스)(수출용), 1 아빌리파이정 10mg, 1 카나브정 60mg, 1 트라젠타듀오정 2.5/850mg, 12.1ms\n",
            "image 70/843 /content/drive/MyDrive/codeit_level1_project/data/test_images/1101.png: 640x512 1 기넥신에프정(은행엽엑스)(수출용), 1 아빌리파이정 10mg, 1 카나브정 60mg, 1 트라젠타듀오정 2.5/850mg, 12.2ms\n",
            "image 71/843 /content/drive/MyDrive/codeit_level1_project/data/test_images/1105.png: 640x512 1 기넥신에프정(은행엽엑스)(수출용), 1 메가파워정 90mg/병, 1 졸로푸트정 100mg, 1 로수바미브정 10/20mg, 12.1ms\n",
            "image 72/843 /content/drive/MyDrive/codeit_level1_project/data/test_images/1109.png: 640x512 1 기넥신에프정(은행엽엑스)(수출용), 1 마도파정, 1 에스원엠프정 20mg, 1 아토젯정 10/40mg, 12.2ms\n",
            "image 73/843 /content/drive/MyDrive/codeit_level1_project/data/test_images/1111.png: 640x512 1 기넥신에프정(은행엽엑스)(수출용), 1 써스펜8시간이알서방정 650mg, 1 마도파정, 1 아토젯정 10/40mg, 12.1ms\n",
            "image 74/843 /content/drive/MyDrive/codeit_level1_project/data/test_images/1114.png: 640x512 1 기넥신에프정(은행엽엑스)(수출용), 1 마도파정, 1 메가파워정 90mg/병, 1 제미메트서방정 50/1000mg, 12.0ms\n",
            "image 75/843 /content/drive/MyDrive/codeit_level1_project/data/test_images/1115.png: 640x512 1 기넥신에프정(은행엽엑스)(수출용), 1 마도파정, 1 메가파워정 90mg/병, 1 제미메트서방정 50/1000mg, 12.7ms\n",
            "image 76/843 /content/drive/MyDrive/codeit_level1_project/data/test_images/1116.png: 640x512 1 기넥신에프정(은행엽엑스)(수출용), 1 마도파정, 1 메가파워정 90mg/병, 1 제미메트서방정 50/1000mg, 12.2ms\n",
            "image 77/843 /content/drive/MyDrive/codeit_level1_project/data/test_images/1118.png: 640x512 1 보령부스파정 5mg, 1 쎄로켈정 100mg, 1 오마코연질캡슐(오메가-3-산에틸에스테르90), 1 플라빅스정 75mg, 1 레일라정, 12.3ms\n",
            "image 78/843 /content/drive/MyDrive/codeit_level1_project/data/test_images/1119.png: 640x512 1 보령부스파정 5mg, 1 쎄로켈정 100mg, 1 오마코연질캡슐(오메가-3-산에틸에스테르90), 1 레일라정, 12.0ms\n",
            "image 79/843 /content/drive/MyDrive/codeit_level1_project/data/test_images/112.png: 640x512 1 보령부스파정 5mg, 1 삼남건조수산화알루미늄겔정, 1 오마코연질캡슐(오메가-3-산에틸에스테르90), 1 엑스포지정 5/160mg, 1 아토르바정 10mg, 12.1ms\n",
            "image 80/843 /content/drive/MyDrive/codeit_level1_project/data/test_images/1121.png: 640x512 1 보령부스파정 5mg, 1 기넥신에프정(은행엽엑스)(수출용), 1 써스펜8시간이알서방정 650mg, 1 라비에트정 20mg, 1 아토젯정 10/40mg, 12.2ms\n",
            "image 81/843 /content/drive/MyDrive/codeit_level1_project/data/test_images/1123.png: 640x512 1 기넥신에프정(은행엽엑스)(수출용), 1 울트라셋이알서방정, 1 에스원엠프정 20mg, 1 로수바미브정 10/20mg, 12.8ms\n",
            "image 82/843 /content/drive/MyDrive/codeit_level1_project/data/test_images/1125.png: 640x512 1 기넥신에프정(은행엽엑스)(수출용), 1 울트라셋이알서방정, 1 에스원엠프정 20mg, 1 로수바미브정 10/20mg, 12.2ms\n",
            "image 83/843 /content/drive/MyDrive/codeit_level1_project/data/test_images/1126.png: 640x512 1 기넥신에프정(은행엽엑스)(수출용), 1 큐시드정 31.5mg/PTP, 1 카나브정 60mg, 1 에스원엠프정 20mg, 14.2ms\n",
            "image 84/843 /content/drive/MyDrive/codeit_level1_project/data/test_images/1129.png: 640x512 1 기넥신에프정(은행엽엑스)(수출용), 1 졸로푸트정 100mg, 1 로수바미브정 10/20mg, 2 케이캡정 50mgs, 12.3ms\n",
            "image 85/843 /content/drive/MyDrive/codeit_level1_project/data/test_images/113.png: 640x512 1 보령부스파정 5mg, 1 삼남건조수산화알루미늄겔정, 1 오마코연질캡슐(오메가-3-산에틸에스테르90), 1 엑스포지정 5/160mg, 1 아토르바정 10mg, 12.1ms\n",
            "image 86/843 /content/drive/MyDrive/codeit_level1_project/data/test_images/1135.png: 640x512 1 보령부스파정 5mg, 1 삼남건조수산화알루미늄겔정, 1 삐콤씨에프정 618.6mg/병, 1 리리카캡슐 150mg, 1 엑스포지정 5/160mg, 12.0ms\n",
            "image 87/843 /content/drive/MyDrive/codeit_level1_project/data/test_images/1136.png: 640x512 1 보령부스파정 5mg, 1 삼남건조수산화알루미늄겔정, 1 삐콤씨에프정 618.6mg/병, 1 리리카캡슐 150mg, 1 엑스포지정 5/160mg, 12.9ms\n",
            "image 88/843 /content/drive/MyDrive/codeit_level1_project/data/test_images/1138.png: 640x512 1 기넥신에프정(은행엽엑스)(수출용), 1 마도파정, 1 비모보정 500/20mg, 1 케이캡정 50mg, 12.4ms\n",
            "image 89/843 /content/drive/MyDrive/codeit_level1_project/data/test_images/114.png: 640x512 1 보령부스파정 5mg, 1 삼남건조수산화알루미늄겔정, 1 오마코연질캡슐(오메가-3-산에틸에스테르90), 1 엑스포지정 5/160mg, 1 아토르바정 10mg, 12.1ms\n",
            "image 90/843 /content/drive/MyDrive/codeit_level1_project/data/test_images/1140.png: 640x512 1 기넥신에프정(은행엽엑스)(수출용), 1 마도파정, 1 비모보정 500/20mg, 1 케이캡정 50mg, 12.2ms\n",
            "image 91/843 /content/drive/MyDrive/codeit_level1_project/data/test_images/1141.png: 640x512 1 자이프렉사정 2.5mg, 2 란스톤엘에프디티정 30mgs, 1 트루비타정 60mg/병, 1 펠루비정(펠루비프로펜), 1 신바로정, 12.4ms\n",
            "image 92/843 /content/drive/MyDrive/codeit_level1_project/data/test_images/1142.png: 640x512 1 자이프렉사정 2.5mg, 1 란스톤엘에프디티정 30mg, 1 트루비타정 60mg/병, 1 펠루비정(펠루비프로펜), 1 신바로정, 12.2ms\n",
            "image 93/843 /content/drive/MyDrive/codeit_level1_project/data/test_images/1143.png: 640x512 1 자이프렉사정 2.5mg, 1 란스톤엘에프디티정 30mg, 1 트루비타정 60mg/병, 1 펠루비정(펠루비프로펜), 1 신바로정, 12.3ms\n",
            "image 94/843 /content/drive/MyDrive/codeit_level1_project/data/test_images/1144.png: 640x512 1 기넥신에프정(은행엽엑스)(수출용), 1 라비에트정 20mg, 1 카나브정 60mg, 1 에스원엠프정 20mg, 12.1ms\n",
            "image 95/843 /content/drive/MyDrive/codeit_level1_project/data/test_images/1148.png: 640x512 1 리피토정 20mg, 1 비타비백정 100mg/병, 1 트윈스타정 40/5mg, 1 낙소졸정 500/20mg, 12.1ms\n",
            "image 96/843 /content/drive/MyDrive/codeit_level1_project/data/test_images/1149.png: 640x512 1 리피토정 20mg, 1 트윈스타정 40/5mg, 1 카나브정 60mg, 1 낙소졸정 500/20mg, 12.2ms\n",
            "image 97/843 /content/drive/MyDrive/codeit_level1_project/data/test_images/115.png: 640x512 1 기넥신에프정(은행엽엑스)(수출용), 1 아빌리파이정 10mg, 1 울트라셋이알서방정, 1 로수바미브정 10/20mg, 12.2ms\n",
            "image 98/843 /content/drive/MyDrive/codeit_level1_project/data/test_images/1150.png: 640x512 1 기넥신에프정(은행엽엑스)(수출용), 1 써스펜8시간이알서방정 650mg, 1 비모보정 500/20mg, 1 트라젠타듀오정 2.5/850mg, 12.4ms\n",
            "image 99/843 /content/drive/MyDrive/codeit_level1_project/data/test_images/1153.png: 640x512 1 기넥신에프정(은행엽엑스)(수출용), 1 알드린정, 1 리피토정 20mg, 1 졸로푸트정 100mg, 12.5ms\n",
            "image 100/843 /content/drive/MyDrive/codeit_level1_project/data/test_images/1154.png: 640x512 1 기넥신에프정(은행엽엑스)(수출용), 1 알드린정, 1 리피토정 20mg, 1 졸로푸트정 100mg, 12.2ms\n",
            "image 101/843 /content/drive/MyDrive/codeit_level1_project/data/test_images/1155.png: 640x512 1 기넥신에프정(은행엽엑스)(수출용), 1 알드린정, 1 리피토정 20mg, 1 졸로푸트정 100mg, 1 케이캡정 50mg, 12.4ms\n",
            "image 102/843 /content/drive/MyDrive/codeit_level1_project/data/test_images/1156.png: 640x512 1 비타비백정 100mg/병, 1 트윈스타정 40/5mg, 1 카나브정 60mg, 1 에스원엠프정 20mg, 12.2ms\n",
            "image 103/843 /content/drive/MyDrive/codeit_level1_project/data/test_images/1157.png: 640x512 1 아빌리파이정 10mg, 1 비타비백정 100mg/병, 1 트윈스타정 40/5mg, 1 에스원엠프정 20mg, 12.4ms\n",
            "image 104/843 /content/drive/MyDrive/codeit_level1_project/data/test_images/1158.png: 640x512 1 비타비백정 100mg/병, 1 트윈스타정 40/5mg, 1 카나브정 60mg, 1 에스원엠프정 20mg, 12.5ms\n",
            "image 105/843 /content/drive/MyDrive/codeit_level1_project/data/test_images/1159.png: 640x512 1 에빅사정(메만틴염산염)(비매품), 1 노바스크정 5mg, 1 트윈스타정 40/5mg, 1 렉사프로정 15mg, 1 로수바미브정 10/20mg, 12.6ms\n",
            "image 106/843 /content/drive/MyDrive/codeit_level1_project/data/test_images/1161.png: 640x512 1 리피토정 20mg, 1 트윈스타정 40/5mg, 1 렉사프로정 15mg, 12.2ms\n",
            "image 107/843 /content/drive/MyDrive/codeit_level1_project/data/test_images/1163.png: 640x512 1 삼남건조수산화알루미늄겔정, 1 조인스정 200mg, 1 오마코연질캡슐(오메가-3-산에틸에스테르90), 1 아토르바정 10mg, 12.5ms\n",
            "image 108/843 /content/drive/MyDrive/codeit_level1_project/data/test_images/1164.png: 640x512 1 삼남건조수산화알루미늄겔정, 1 조인스정 200mg, 1 오마코연질캡슐(오메가-3-산에틸에스테르90), 1 아토르바정 10mg, 12.4ms\n",
            "image 109/843 /content/drive/MyDrive/codeit_level1_project/data/test_images/1166.png: 640x512 1 기넥신에프정(은행엽엑스)(수출용), 1 무코스타정(레바미피드)(비매품), 1 아빌리파이정 10mg, 1 라비에트정 20mg, 1 울트라셋이알서방정, 12.3ms\n",
            "image 110/843 /content/drive/MyDrive/codeit_level1_project/data/test_images/1167.png: 640x512 1 기넥신에프정(은행엽엑스)(수출용), 1 무코스타정(레바미피드)(비매품), 1 아빌리파이정 10mg, 1 라비에트정 20mg, 1 울트라셋이알서방정, 12.3ms\n",
            "image 111/843 /content/drive/MyDrive/codeit_level1_project/data/test_images/1168.png: 640x512 1 기넥신에프정(은행엽엑스)(수출용), 1 써스펜8시간이알서방정 650mg, 1 라비에트정 20mg, 1 아질렉트정(라사길린메실산염), 1 제미메트서방정 50/1000mg, 13.3ms\n",
            "image 112/843 /content/drive/MyDrive/codeit_level1_project/data/test_images/1170.png: 640x512 1 기넥신에프정(은행엽엑스)(수출용), 1 써스펜8시간이알서방정 650mg, 1 라비에트정 20mg, 1 제미메트서방정 50/1000mg, 12.2ms\n",
            "image 113/843 /content/drive/MyDrive/codeit_level1_project/data/test_images/1171.png: 640x512 1 보령부스파정 5mg, 1 리피토정 20mg, 1 오마코연질캡슐(오메가-3-산에틸에스테르90), 1 아토르바정 10mg, 1 자누메트정 50/850mg, 1 트라젠타정(리나글립틴), 12.0ms\n",
            "image 114/843 /content/drive/MyDrive/codeit_level1_project/data/test_images/1173.png: 640x512 1 보령부스파정 5mg, 1 써스펜8시간이알서방정 650mg, 1 오마코연질캡슐(오메가-3-산에틸에스테르90), 1 아토르바정 10mg, 1 자누메트정 50/850mg, 1 트라젠타정(리나글립틴), 12.4ms\n",
            "image 115/843 /content/drive/MyDrive/codeit_level1_project/data/test_images/1174.png: 640x512 1 기넥신에프정(은행엽엑스)(수출용), 1 써스펜8시간이알서방정 650mg, 1 마도파정, 1 제미메트서방정 50/1000mg, 12.2ms\n",
            "image 116/843 /content/drive/MyDrive/codeit_level1_project/data/test_images/1176.png: 640x512 1 기넥신에프정(은행엽엑스)(수출용), 1 써스펜8시간이알서방정 650mg, 1 마도파정, 1 제미메트서방정 50/1000mg, 12.2ms\n",
            "image 117/843 /content/drive/MyDrive/codeit_level1_project/data/test_images/1178.png: 640x512 1 기넥신에프정(은행엽엑스)(수출용), 1 카나브정 60mg, 1 트라젠타듀오정 2.5/850mg, 1 케이캡정 50mg, 12.8ms\n",
            "image 118/843 /content/drive/MyDrive/codeit_level1_project/data/test_images/118.png: 640x512 1 비타비백정 100mg/병, 1 아모잘탄정 5/100mg, 1 트윈스타정 40/5mg, 12.1ms\n",
            "image 119/843 /content/drive/MyDrive/codeit_level1_project/data/test_images/1180.png: 640x512 1 삼남건조수산화알루미늄겔정, 1 맥시부펜이알정 300mg, 1 트윈스타정 40/5mg, 1 자누메트엑스알서방정 100/1000mg, 12.0ms\n",
            "image 120/843 /content/drive/MyDrive/codeit_level1_project/data/test_images/1184.png: 640x512 1 보령부스파정 5mg, 1 뉴로메드정(옥시라세탐), 1 리리카캡슐 150mg, 1 카발린캡슐 25mg, 12.2ms\n",
            "image 121/843 /content/drive/MyDrive/codeit_level1_project/data/test_images/1185.png: 640x512 1 보령부스파정 5mg, 1 뉴로메드정(옥시라세탐), 1 리리카캡슐 150mg, 1 카발린캡슐 25mg, 12.2ms\n",
            "image 122/843 /content/drive/MyDrive/codeit_level1_project/data/test_images/1186.png: 640x512 1 란스톤엘에프디티정 30mg, 1 노바스크정 5mg, 1 펠루비정(펠루비프로펜), 1 브린텔릭스정 20mg, 1 글리틴정(콜린알포세레이트), 1 로수젯정10/5밀리그램, 12.3ms\n",
            "image 123/843 /content/drive/MyDrive/codeit_level1_project/data/test_images/1187.png: 640x512 1 란스톤엘에프디티정 30mg, 1 노바스크정 5mg, 1 펠루비정(펠루비프로펜), 1 브린텔릭스정 20mg, 1 글리틴정(콜린알포세레이트), 1 로수젯정10/5밀리그램, 12.5ms\n",
            "image 124/843 /content/drive/MyDrive/codeit_level1_project/data/test_images/1189.png: 640x512 1 자이프렉사정 2.5mg, 1 동아가바펜틴정 800mg, 1 란스톤엘에프디티정 30mg, 1 노바스크정 5mg, 1 쿠에타핀정 25mg, 12.4ms\n",
            "image 125/843 /content/drive/MyDrive/codeit_level1_project/data/test_images/119.png: 640x512 1 비타비백정 100mg/병, 1 아모잘탄정 5/100mg, 1 트윈스타정 40/5mg, 12.3ms\n",
            "image 126/843 /content/drive/MyDrive/codeit_level1_project/data/test_images/1190.png: 640x512 1 자이프렉사정 2.5mg, 1 동아가바펜틴정 800mg, 1 란스톤엘에프디티정 30mg, 1 노바스크정 5mg, 1 펠루비정(펠루비프로펜), 12.4ms\n",
            "image 127/843 /content/drive/MyDrive/codeit_level1_project/data/test_images/1191.png: 640x512 1 자이프렉사정 2.5mg, 1 동아가바펜틴정 800mg, 1 란스톤엘에프디티정 30mg, 1 노바스크정 5mg, 1 쿠에타핀정 25mg, 12.4ms\n",
            "image 128/843 /content/drive/MyDrive/codeit_level1_project/data/test_images/1192.png: 640x512 1 보령부스파정 5mg, 1 뉴로메드정(옥시라세탐), 1 삼남건조수산화알루미늄겔정, 1 리리카캡슐 150mg, 1 엑스포지정 5/160mg, 1 레일라정, 12.0ms\n",
            "image 129/843 /content/drive/MyDrive/codeit_level1_project/data/test_images/1194.png: 640x512 1 보령부스파정 5mg, 1 뉴로메드정(옥시라세탐), 1 삼남건조수산화알루미늄겔정, 1 리리카캡슐 150mg, 1 엑스포지정 5/160mg, 12.2ms\n",
            "image 130/843 /content/drive/MyDrive/codeit_level1_project/data/test_images/1196.png: 640x512 1 기넥신에프정(은행엽엑스)(수출용), 1 메가파워정 90mg/병, 1 트라젠타듀오정 2.5/850mg, 1 아토젯정 10/40mg, 12.4ms\n",
            "image 131/843 /content/drive/MyDrive/codeit_level1_project/data/test_images/1197.png: 640x512 1 기넥신에프정(은행엽엑스)(수출용), 1 메가파워정 90mg/병, 1 트라젠타듀오정 2.5/850mg, 1 아토젯정 10/40mg, 12.1ms\n",
            "image 132/843 /content/drive/MyDrive/codeit_level1_project/data/test_images/1198.png: 640x512 1 기넥신에프정(은행엽엑스)(수출용), 1 트라젠타듀오정 2.5/850mg, 1 아토젯정 10/40mg, 1 케이캡정 50mg, 12.2ms\n",
            "image 133/843 /content/drive/MyDrive/codeit_level1_project/data/test_images/1199.png: 640x512 1 기넥신에프정(은행엽엑스)(수출용), 1 트라젠타듀오정 2.5/850mg, 1 아토젯정 10/40mg, 1 케이캡정 50mg, 12.3ms\n",
            "image 134/843 /content/drive/MyDrive/codeit_level1_project/data/test_images/120.png: 640x512 1 비타비백정 100mg/병, 1 아모잘탄정 5/100mg, 1 트윈스타정 40/5mg, 1 카나브정 60mg, 12.3ms\n",
            "image 135/843 /content/drive/MyDrive/codeit_level1_project/data/test_images/1201.png: 640x512 1 보령부스파정 5mg, 1 오마코연질캡슐(오메가-3-산에틸에스테르90), 1 리피로우정 20mg, 1 카발린캡슐 25mg, 12.1ms\n",
            "image 136/843 /content/drive/MyDrive/codeit_level1_project/data/test_images/1204.png: 640x512 1 뮤테란캡슐 100mg, 1 에빅사정(메만틴염산염)(비매품), 1 노바스크정 5mg, 1 트윈스타정 40/5mg, 1 로수바미브정 10/20mg, 12.6ms\n",
            "image 137/843 /content/drive/MyDrive/codeit_level1_project/data/test_images/1206.png: 640x512 1 뮤테란캡슐 100mg, 1 리리카캡슐 150mg, 1 노바스크정 5mg, 1 트윈스타정 40/5mg, 1 렉사프로정 15mg, 12.4ms\n",
            "image 138/843 /content/drive/MyDrive/codeit_level1_project/data/test_images/1207.png: 640x512 1 기넥신에프정(은행엽엑스)(수출용), 1 리피토정 20mg, 1 졸로푸트정 100mg, 1 트라젠타듀오정 2.5/850mg, 12.9ms\n",
            "image 139/843 /content/drive/MyDrive/codeit_level1_project/data/test_images/1209.png: 640x512 1 기넥신에프정(은행엽엑스)(수출용), 1 리피토정 20mg, 1 졸로푸트정 100mg, 1 트라젠타듀오정 2.5/850mg, 12.1ms\n",
            "image 140/843 /content/drive/MyDrive/codeit_level1_project/data/test_images/1210.png: 640x512 1 기넥신에프정(은행엽엑스)(수출용), 1 메가파워정 90mg/병, 1 큐시드정 31.5mg/PTP, 1 비모보정 500/20mg, 12.4ms\n",
            "image 141/843 /content/drive/MyDrive/codeit_level1_project/data/test_images/1212.png: 640x512 1 기넥신에프정(은행엽엑스)(수출용), 1 메가파워정 90mg/병, 1 큐시드정 31.5mg/PTP, 1 비모보정 500/20mg, 12.1ms\n",
            "image 142/843 /content/drive/MyDrive/codeit_level1_project/data/test_images/1213.png: 640x512 1 동아가바펜틴정 800mg, 1 란스톤엘에프디티정 30mg, 1 신바로정, 1 브린텔릭스정 20mg, 1 글리틴정(콜린알포세레이트), 12.1ms\n",
            "image 143/843 /content/drive/MyDrive/codeit_level1_project/data/test_images/1214.png: 640x512 1 동아가바펜틴정 800mg, 1 란스톤엘에프디티정 30mg, 1 신바로정, 1 브린텔릭스정 20mg, 12.4ms\n",
            "image 144/843 /content/drive/MyDrive/codeit_level1_project/data/test_images/1216.png: 640x512 1 삼남건조수산화알루미늄겔정, 1 오마코연질캡슐(오메가-3-산에틸에스테르90), 1 아토르바정 10mg, 1 세비카정 10/40mg, 13.0ms\n",
            "image 145/843 /content/drive/MyDrive/codeit_level1_project/data/test_images/1219.png: 640x512 1 삼남건조수산화알루미늄겔정, 1 오마코연질캡슐(오메가-3-산에틸에스테르90), 1 콜리네이트연질캡슐 400mg, 1 아토르바정 10mg, 12.4ms\n",
            "image 146/843 /content/drive/MyDrive/codeit_level1_project/data/test_images/122.png: 640x512 1 기넥신에프정(은행엽엑스)(수출용), 1 써스펜8시간이알서방정 650mg, 1 라비에트정 20mg, 1 카나브정 60mg, 1 울트라셋이알서방정, 12.5ms\n",
            "image 147/843 /content/drive/MyDrive/codeit_level1_project/data/test_images/1220.png: 640x512 1 삼남건조수산화알루미늄겔정, 1 오마코연질캡슐(오메가-3-산에틸에스테르90), 1 콜리네이트연질캡슐 400mg, 1 아토르바정 10mg, 12.2ms\n",
            "image 148/843 /content/drive/MyDrive/codeit_level1_project/data/test_images/1222.png: 640x512 1 기넥신에프정(은행엽엑스)(수출용), 1 아빌리파이정 10mg, 1 마도파정, 1 울트라셋이알서방정, 12.4ms\n",
            "image 149/843 /content/drive/MyDrive/codeit_level1_project/data/test_images/1224.png: 640x512 1 기넥신에프정(은행엽엑스)(수출용), 1 아빌리파이정 10mg, 1 마도파정, 1 울트라셋이알서방정, 12.3ms\n",
            "image 150/843 /content/drive/MyDrive/codeit_level1_project/data/test_images/1226.png: 640x512 1 기넥신에프정(은행엽엑스)(수출용), 1 알드린정, 1 삼남건조수산화알루미늄겔정, 1 메가파워정 90mg/병, 1 카나브정 60mg, 12.3ms\n",
            "image 151/843 /content/drive/MyDrive/codeit_level1_project/data/test_images/1227.png: 640x512 1 기넥신에프정(은행엽엑스)(수출용), 1 알드린정, 1 메가파워정 90mg/병, 1 카나브정 60mg, 12.5ms\n",
            "image 152/843 /content/drive/MyDrive/codeit_level1_project/data/test_images/1232.png: 640x512 1 기넥신에프정(은행엽엑스)(수출용), 1 써스펜8시간이알서방정 650mg, 1 큐시드정 31.5mg/PTP, 1 카나브정 60mg, 1 케이캡정 50mg, 12.5ms\n",
            "image 153/843 /content/drive/MyDrive/codeit_level1_project/data/test_images/1235.png: 640x512 2 보령부스파정 5mgs, 1 타이레놀이알서방정(아세트아미노펜)(수출용), 1 리리카캡슐 150mg, 1 엑스포지정 5/160mg, 12.3ms\n",
            "image 154/843 /content/drive/MyDrive/codeit_level1_project/data/test_images/1237.png: 640x512 1 보령부스파정 5mg, 1 무코스타정(레바미피드)(비매품), 1 리리카캡슐 150mg, 1 아질렉트정(라사길린메실산염), 1 제미메트서방정 50/1000mg, 12.7ms\n",
            "image 155/843 /content/drive/MyDrive/codeit_level1_project/data/test_images/1238.png: 640x512 1 보령부스파정 5mg, 1 무코스타정(레바미피드)(비매품), 1 리리카캡슐 150mg, 1 아질렉트정(라사길린메실산염), 1 제미메트서방정 50/1000mg, 12.5ms\n",
            "image 156/843 /content/drive/MyDrive/codeit_level1_project/data/test_images/1239.png: 640x512 1 보령부스파정 5mg, 1 무코스타정(레바미피드)(비매품), 1 리리카캡슐 150mg, 1 아질렉트정(라사길린메실산염), 12.6ms\n",
            "image 157/843 /content/drive/MyDrive/codeit_level1_project/data/test_images/124.png: 640x512 1 삼남건조수산화알루미늄겔정, 1 타이레놀이알서방정(아세트아미노펜)(수출용), 1 리리카캡슐 150mg, 1 졸로푸트정 100mg, 1 카발린캡슐 25mg, 12.2ms\n",
            "image 158/843 /content/drive/MyDrive/codeit_level1_project/data/test_images/1242.png: 640x512 1 삼남건조수산화알루미늄겔정, 1 리리카캡슐 150mg, 1 콜리네이트연질캡슐 400mg, 1 아질렉트정(라사길린메실산염), 12.5ms\n",
            "image 159/843 /content/drive/MyDrive/codeit_level1_project/data/test_images/1243.png: 640x512 1 기넥신에프정(은행엽엑스)(수출용), 1 메가파워정 90mg/병, 1 제미메트서방정 50/1000mg, 1 로수바미브정 10/20mg, 12.6ms\n",
            "image 160/843 /content/drive/MyDrive/codeit_level1_project/data/test_images/1244.png: 640x512 1 기넥신에프정(은행엽엑스)(수출용), 1 메가파워정 90mg/병, 1 제미메트서방정 50/1000mg, 1 로수바미브정 10/20mg, 12.5ms\n",
            "image 161/843 /content/drive/MyDrive/codeit_level1_project/data/test_images/1245.png: 640x512 1 기넥신에프정(은행엽엑스)(수출용), 1 메가파워정 90mg/병, 1 제미메트서방정 50/1000mg, 1 로수바미브정 10/20mg, 12.4ms\n",
            "image 162/843 /content/drive/MyDrive/codeit_level1_project/data/test_images/1246.png: 640x512 1 기넥신에프정(은행엽엑스)(수출용), 1 비모보정 500/20mg, 1 트라젠타듀오정 2.5/850mg, 1 에스원엠프정 20mg, 12.3ms\n",
            "image 163/843 /content/drive/MyDrive/codeit_level1_project/data/test_images/1248.png: 640x512 1 기넥신에프정(은행엽엑스)(수출용), 1 비모보정 500/20mg, 1 트라젠타듀오정 2.5/850mg, 1 에스원엠프정 20mg, 12.3ms\n",
            "image 164/843 /content/drive/MyDrive/codeit_level1_project/data/test_images/125.png: 640x512 1 삼남건조수산화알루미늄겔정, 1 타이레놀이알서방정(아세트아미노펜)(수출용), 1 리리카캡슐 150mg, 1 졸로푸트정 100mg, 1 카발린캡슐 25mg, 12.4ms\n",
            "image 165/843 /content/drive/MyDrive/codeit_level1_project/data/test_images/1250.png: 640x512 1 에어탈정(아세클로페낙), 1 란스톤엘에프디티정 30mg, 1 노바스크정 5mg, 1 펠루비정(펠루비프로펜), 1 브린텔릭스정 20mg, 1 글리틴정(콜린알포세레이트), 12.2ms\n",
            "image 166/843 /content/drive/MyDrive/codeit_level1_project/data/test_images/1251.png: 640x512 1 에어탈정(아세클로페낙), 1 란스톤엘에프디티정 30mg, 1 스토가정 10mg, 1 노바스크정 5mg, 1 펠루비정(펠루비프로펜), 1 브린텔릭스정 20mg, 1 글리틴정(콜린알포세레이트), 12.1ms\n",
            "image 167/843 /content/drive/MyDrive/codeit_level1_project/data/test_images/1252.png: 640x512 1 기넥신에프정(은행엽엑스)(수출용), 1 써스펜8시간이알서방정 650mg, 1 큐시드정 31.5mg/PTP, 1 제미메트서방정 50/1000mg, 15.8ms\n",
            "image 168/843 /content/drive/MyDrive/codeit_level1_project/data/test_images/1254.png: 640x512 1 기넥신에프정(은행엽엑스)(수출용), 1 써스펜8시간이알서방정 650mg, 1 큐시드정 31.5mg/PTP, 1 제미메트서방정 50/1000mg, 15.7ms\n",
            "image 169/843 /content/drive/MyDrive/codeit_level1_project/data/test_images/1256.png: 640x512 1 무코스타정(레바미피드)(비매품), 1 삼남건조수산화알루미늄겔정, 1 리리카캡슐 150mg, 1 리피로우정 20mg, 1 카발린캡슐 25mg, 12.7ms\n",
            "image 170/843 /content/drive/MyDrive/codeit_level1_project/data/test_images/126.png: 640x512 1 보령부스파정 5mg, 1 삼남건조수산화알루미늄겔정, 1 리리카캡슐 150mg, 1 졸로푸트정 100mg, 1 카발린캡슐 25mg, 12.4ms\n",
            "image 171/843 /content/drive/MyDrive/codeit_level1_project/data/test_images/1261.png: 640x512 1 기넥신에프정(은행엽엑스)(수출용), 1 리피토정 20mg, 1 마도파정, 1 졸로푸트정 100mg, 12.8ms\n",
            "image 172/843 /content/drive/MyDrive/codeit_level1_project/data/test_images/1262.png: 640x512 1 기넥신에프정(은행엽엑스)(수출용), 1 리피토정 20mg, 1 마도파정, 1 졸로푸트정 100mg, 12.4ms\n",
            "image 173/843 /content/drive/MyDrive/codeit_level1_project/data/test_images/1263.png: 640x512 1 기넥신에프정(은행엽엑스)(수출용), 1 리피토정 20mg, 1 마도파정, 1 졸로푸트정 100mg, 1 케이캡정 50mg, 12.5ms\n",
            "image 174/843 /content/drive/MyDrive/codeit_level1_project/data/test_images/1264.png: 640x512 1 아빌리파이정 10mg, 1 에빅사정(메만틴염산염)(비매품), 1 리피토정 20mg, 1 자누비아정 50mg, 1 트윈스타정 40/5mg, 12.9ms\n",
            "image 175/843 /content/drive/MyDrive/codeit_level1_project/data/test_images/1265.png: 640x512 1 아빌리파이정 10mg, 1 리피토정 20mg, 1 자누비아정 50mg, 1 트윈스타정 40/5mg, 1 카나브정 60mg, 12.3ms\n",
            "image 176/843 /content/drive/MyDrive/codeit_level1_project/data/test_images/1266.png: 640x512 1 알드린정, 1 아빌리파이정 10mg, 1 리피토정 20mg, 1 트윈스타정 40/5mg, 16.0ms\n",
            "image 177/843 /content/drive/MyDrive/codeit_level1_project/data/test_images/1269.png: 640x512 1 아빌리파이정 10mg, 2 비타비백정 100mg/병s, 1 트윈스타정 40/5mg, 12.7ms\n",
            "image 178/843 /content/drive/MyDrive/codeit_level1_project/data/test_images/127.png: 640x512 1 가바토파정 100mg, 1 란스톤엘에프디티정 30mg, 1 스토가정 10mg, 1 노바스크정 5mg, 12.3ms\n",
            "image 179/843 /content/drive/MyDrive/codeit_level1_project/data/test_images/1270.png: 640x512 1 보령부스파정 5mg, 1 삐콤씨에프정 618.6mg/병, 1 리리카캡슐 150mg, 1 세비카정 10/40mg, 12.1ms\n",
            "image 180/843 /content/drive/MyDrive/codeit_level1_project/data/test_images/1272.png: 640x512 1 보령부스파정 5mg, 1 삐콤씨에프정 618.6mg/병, 1 리리카캡슐 150mg, 1 세비카정 10/40mg, 12.4ms\n",
            "image 181/843 /content/drive/MyDrive/codeit_level1_project/data/test_images/1273.png: 640x512 1 란스톤엘에프디티정 30mg, 1 스토가정 10mg, 1 펠루비정(펠루비프로펜), 1 신바로정, 1 브린텔릭스정 20mg, 12.3ms\n",
            "image 182/843 /content/drive/MyDrive/codeit_level1_project/data/test_images/1274.png: 640x512 1 란스톤엘에프디티정 30mg, 1 스토가정 10mg, 1 신바로정, 1 브린텔릭스정 20mg, 13.0ms\n",
            "image 183/843 /content/drive/MyDrive/codeit_level1_project/data/test_images/1278.png: 640x512 1 타이레놀정500mg, 1 리렉스펜정 300mg/PTP, 1 리리카캡슐 150mg, 1 트윈스타정 40/5mg, 13.8ms\n",
            "image 184/843 /content/drive/MyDrive/codeit_level1_project/data/test_images/1279.png: 640x512 1 보령부스파정 5mg, 1 무코스타정(레바미피드)(비매품), 1 삼남건조수산화알루미늄겔정, 1 타이레놀이알서방정(아세트아미노펜)(수출용), 1 리리카캡슐 150mg, 12.7ms\n",
            "image 185/843 /content/drive/MyDrive/codeit_level1_project/data/test_images/128.png: 640x512 1 가바토파정 100mg, 1 란스톤엘에프디티정 30mg, 1 스토가정 10mg, 1 노바스크정 5mg, 12.5ms\n",
            "image 186/843 /content/drive/MyDrive/codeit_level1_project/data/test_images/1280.png: 640x512 1 보령부스파정 5mg, 1 무코스타정(레바미피드)(비매품), 1 삼남건조수산화알루미늄겔정, 1 리리카캡슐 150mg, 1 졸로푸트정 100mg, 12.4ms\n",
            "image 187/843 /content/drive/MyDrive/codeit_level1_project/data/test_images/1282.png: 640x512 1 란스톤엘에프디티정 30mg, 1 노바스크정 5mg, 1 펠루비정(펠루비프로펜), 1 브린텔릭스정 20mg, 1 로수젯정10/5밀리그램, 12.9ms\n",
            "image 188/843 /content/drive/MyDrive/codeit_level1_project/data/test_images/1284.png: 640x512 1 란스톤엘에프디티정 30mg, 1 노바스크정 5mg, 1 펠루비정(펠루비프로펜), 1 쿠에타핀정 25mg, 1 브린텔릭스정 20mg, 1 로수젯정10/5밀리그램, 12.3ms\n",
            "image 189/843 /content/drive/MyDrive/codeit_level1_project/data/test_images/129.png: 640x512 1 가바토파정 100mg, 1 란스톤엘에프디티정 30mg, 1 스토가정 10mg, 1 노바스크정 5mg, 1 쿠에타핀정 25mg, 1 낙소졸정 500/20mg, 12.3ms\n",
            "image 190/843 /content/drive/MyDrive/codeit_level1_project/data/test_images/1290.png: 640x512 1 보령부스파정 5mg, 1 삐콤씨에프정 618.6mg/병, 1 리리카캡슐 150mg, 1 콜리네이트연질캡슐 400mg, 12.1ms\n",
            "image 191/843 /content/drive/MyDrive/codeit_level1_project/data/test_images/1293.png: 640x512 1 기넥신에프정(은행엽엑스)(수출용), 1 트라젠타듀오정 2.5/850mg, 1 제미메트서방정 50/1000mg, 1 케이캡정 50mg, 12.6ms\n",
            "image 192/843 /content/drive/MyDrive/codeit_level1_project/data/test_images/1294.png: 640x512 1 기넥신에프정(은행엽엑스)(수출용), 1 마도파정, 1 메가파워정 90mg/병, 1 비모보정 500/20mg, 12.2ms\n",
            "image 193/843 /content/drive/MyDrive/codeit_level1_project/data/test_images/1295.png: 640x512 1 기넥신에프정(은행엽엑스)(수출용), 1 마도파정, 1 메가파워정 90mg/병, 1 비모보정 500/20mg, 13.9ms\n",
            "image 194/843 /content/drive/MyDrive/codeit_level1_project/data/test_images/1296.png: 640x512 1 기넥신에프정(은행엽엑스)(수출용), 1 마도파정, 1 메가파워정 90mg/병, 1 비모보정 500/20mg, 12.2ms\n",
            "image 195/843 /content/drive/MyDrive/codeit_level1_project/data/test_images/1297.png: 640x512 1 보령부스파정 5mg, 1 오마코연질캡슐(오메가-3-산에틸에스테르90), 1 플라빅스정 75mg, 1 놀텍정 10mg, 1 자누메트정 50/850mg, 1 트라젠타정(리나글립틴), 13.1ms\n",
            "image 196/843 /content/drive/MyDrive/codeit_level1_project/data/test_images/1298.png: 640x512 1 보령부스파정 5mg, 1 오마코연질캡슐(오메가-3-산에틸에스테르90), 1 자누메트정 50/850mg, 2 트라젠타정(리나글립틴)s, 12.6ms\n",
            "image 197/843 /content/drive/MyDrive/codeit_level1_project/data/test_images/13.png: 640x512 1 일양하이트린정 2mg, 1 에빅사정(메만틴염산염)(비매품), 1 리피토정 20mg, 1 트윈스타정 40/5mg, 12.5ms\n",
            "image 198/843 /content/drive/MyDrive/codeit_level1_project/data/test_images/130.png: 640x512 1 기넥신에프정(은행엽엑스)(수출용), 1 아빌리파이정 10mg, 1 라비에트정 20mg, 1 트라젠타듀오정 2.5/850mg, 1 제미메트서방정 50/1000mg, 12.8ms\n",
            "image 199/843 /content/drive/MyDrive/codeit_level1_project/data/test_images/1300.png: 640x512 1 기넥신에프정(은행엽엑스)(수출용), 1 써스펜8시간이알서방정 650mg, 1 마도파정, 1 카나브정 60mg, 12.3ms\n",
            "image 200/843 /content/drive/MyDrive/codeit_level1_project/data/test_images/1302.png: 640x512 1 기넥신에프정(은행엽엑스)(수출용), 1 써스펜8시간이알서방정 650mg, 1 마도파정, 1 카나브정 60mg, 12.3ms\n",
            "image 201/843 /content/drive/MyDrive/codeit_level1_project/data/test_images/1305.png: 640x512 1 삼남건조수산화알루미늄겔정, 1 리리카캡슐 150mg, 1 라비에트정 20mg, 1 세비카정 10/40mg, 1 아질렉트정(라사길린메실산염), 12.4ms\n",
            "image 202/843 /content/drive/MyDrive/codeit_level1_project/data/test_images/1309.png: 640x512 1 보령부스파정 5mg, 1 기넥신에프정(은행엽엑스)(수출용), 1 써스펜8시간이알서방정 650mg, 1 아토젯정 10/40mg, 1 로수바미브정 10/20mg, 12.2ms\n",
            "image 203/843 /content/drive/MyDrive/codeit_level1_project/data/test_images/1311.png: 640x512 1 기넥신에프정(은행엽엑스)(수출용), 1 써스펜8시간이알서방정 650mg, 1 아토젯정 10/40mg, 1 로수바미브정 10/20mg, 12.2ms\n",
            "image 204/843 /content/drive/MyDrive/codeit_level1_project/data/test_images/1312.png: 640x512 1 동아가바펜틴정 800mg, 1 란스톤엘에프디티정 30mg, 1 노바스크정 5mg, 1 브린텔릭스정 20mg, 12.1ms\n",
            "image 205/843 /content/drive/MyDrive/codeit_level1_project/data/test_images/1315.png: 640x512 2 아모잘탄정 5/100mgs, 1 트윈스타정 40/5mg, 1 렉사프로정 15mg, 1 자누메트엑스알서방정 100/1000mg, 12.4ms\n",
            "image 206/843 /content/drive/MyDrive/codeit_level1_project/data/test_images/1316.png: 640x512 1 아모잘탄정 5/100mg, 1 트윈스타정 40/5mg, 1 자누메트엑스알서방정 100/1000mg, 12.8ms\n",
            "image 207/843 /content/drive/MyDrive/codeit_level1_project/data/test_images/132.png: 640x512 1 기넥신에프정(은행엽엑스)(수출용), 1 조인스정 200mg, 1 아빌리파이정 10mg, 1 라비에트정 20mg, 1 트라젠타듀오정 2.5/850mg, 1 제미메트서방정 50/1000mg, 12.1ms\n",
            "image 208/843 /content/drive/MyDrive/codeit_level1_project/data/test_images/1322.png: 640x512 1 란스톤엘에프디티정 30mg, 1 스토가정 10mg, 1 노바스크정 5mg, 1 펠루비정(펠루비프로펜), 1 브린텔릭스정 20mg, 1 글리틴정(콜린알포세레이트), 12.4ms\n",
            "image 209/843 /content/drive/MyDrive/codeit_level1_project/data/test_images/1323.png: 640x512 1 란스톤엘에프디티정 30mg, 1 스토가정 10mg, 1 노바스크정 5mg, 1 펠루비정(펠루비프로펜), 1 브린텔릭스정 20mg, 1 글리틴정(콜린알포세레이트), 12.2ms\n",
            "image 210/843 /content/drive/MyDrive/codeit_level1_project/data/test_images/1326.png: 640x512 2 트윈스타정 40/5mgs, 1 렉사프로정 15mg, 1 케이캡정 50mg, 12.1ms\n",
            "image 211/843 /content/drive/MyDrive/codeit_level1_project/data/test_images/1327.png: 640x512 1 보령부스파정 5mg, 1 조인스정 200mg, 1 리리카캡슐 150mg, 1 아질렉트정(라사길린메실산염), 12.3ms\n",
            "image 212/843 /content/drive/MyDrive/codeit_level1_project/data/test_images/1328.png: 640x512 1 보령부스파정 5mg, 1 조인스정 200mg, 1 리리카캡슐 150mg, 1 아질렉트정(라사길린메실산염), 12.2ms\n",
            "image 213/843 /content/drive/MyDrive/codeit_level1_project/data/test_images/1329.png: 640x512 1 보령부스파정 5mg, 1 조인스정 200mg, 1 리리카캡슐 150mg, 1 아질렉트정(라사길린메실산염), 12.5ms\n",
            "image 214/843 /content/drive/MyDrive/codeit_level1_project/data/test_images/1330.png: 640x512 1 기넥신에프정(은행엽엑스)(수출용), 1 라비에트정 20mg, 1 메가파워정 90mg/병, 1 비모보정 500/20mg, 12.4ms\n",
            "image 215/843 /content/drive/MyDrive/codeit_level1_project/data/test_images/1331.png: 640x512 1 기넥신에프정(은행엽엑스)(수출용), 1 라비에트정 20mg, 1 메가파워정 90mg/병, 1 비모보정 500/20mg, 12.6ms\n",
            "image 216/843 /content/drive/MyDrive/codeit_level1_project/data/test_images/1332.png: 640x512 1 기넥신에프정(은행엽엑스)(수출용), 1 라비에트정 20mg, 1 메가파워정 90mg/병, 1 비모보정 500/20mg, 12.2ms\n",
            "image 217/843 /content/drive/MyDrive/codeit_level1_project/data/test_images/1333.png: 640x512 1 삐콤씨에프정 618.6mg/병, 1 아빌리파이정 10mg, 1 크레스토정 20mg, 1 트윈스타정 40/5mg, 1 카나브정 60mg, 1 케이캡정 50mg, 12.1ms\n",
            "image 218/843 /content/drive/MyDrive/codeit_level1_project/data/test_images/1337.png: 640x512 1 보령부스파정 5mg, 1 삐콤씨에프정 618.6mg/병, 1 조인스정 200mg, 1 리리카캡슐 150mg, 12.0ms\n",
            "image 219/843 /content/drive/MyDrive/codeit_level1_project/data/test_images/134.png: 640x512 1 기넥신에프정(은행엽엑스)(수출용), 1 마도파정, 1 메가파워정 90mg/병, 1 카나브정 60mg, 12.0ms\n",
            "image 220/843 /content/drive/MyDrive/codeit_level1_project/data/test_images/1340.png: 640x512 1 보령부스파정 5mg, 1 무코스타정(레바미피드)(비매품), 1 뉴로메드정(옥시라세탐), 1 리리카캡슐 150mg, 1 엑스포지정 5/160mg, 12.0ms\n",
            "image 221/843 /content/drive/MyDrive/codeit_level1_project/data/test_images/1345.png: 640x512 1 기넥신에프정(은행엽엑스)(수출용), 1 써스펜8시간이알서방정 650mg, 1 라비에트정 20mg, 1 카나브정 60mg, 12.3ms\n",
            "image 222/843 /content/drive/MyDrive/codeit_level1_project/data/test_images/1347.png: 640x512 1 기넥신에프정(은행엽엑스)(수출용), 1 써스펜8시간이알서방정 650mg, 1 라비에트정 20mg, 1 카나브정 60mg, 12.0ms\n",
            "image 223/843 /content/drive/MyDrive/codeit_level1_project/data/test_images/1348.png: 640x512 2 에빅사정(메만틴염산염)(비매품)s, 1 리피토정 20mg, 1 자누비아정 50mg, 1 트윈스타정 40/5mg, 12.0ms\n",
            "image 224/843 /content/drive/MyDrive/codeit_level1_project/data/test_images/135.png: 640x512 1 기넥신에프정(은행엽엑스)(수출용), 1 삼남건조수산화알루미늄겔정, 1 마도파정, 1 메가파워정 90mg/병, 1 카나브정 60mg, 12.1ms\n",
            "image 225/843 /content/drive/MyDrive/codeit_level1_project/data/test_images/1350.png: 640x512 1 알드린정, 1 에빅사정(메만틴염산염)(비매품), 1 리피토정 20mg, 1 자누비아정 50mg, 1 트윈스타정 40/5mg, 12.1ms\n",
            "image 226/843 /content/drive/MyDrive/codeit_level1_project/data/test_images/1353.png: 640x512 1 기넥신에프정(은행엽엑스)(수출용), 1 리피토정 20mg, 1 비모보정 500/20mg, 1 트라젠타듀오정 2.5/850mg, 12.3ms\n",
            "image 227/843 /content/drive/MyDrive/codeit_level1_project/data/test_images/1354.png: 640x512 1 기넥신에프정(은행엽엑스)(수출용), 1 아빌리파이정 10mg, 1 큐시드정 31.5mg/PTP, 1 제미메트서방정 50/1000mg, 12.3ms\n",
            "image 228/843 /content/drive/MyDrive/codeit_level1_project/data/test_images/1355.png: 640x512 1 기넥신에프정(은행엽엑스)(수출용), 1 아빌리파이정 10mg, 1 큐시드정 31.5mg/PTP, 1 제미메트서방정 50/1000mg, 12.6ms\n",
            "image 229/843 /content/drive/MyDrive/codeit_level1_project/data/test_images/1357.png: 640x512 1 보령부스파정 5mg, 1 오마코연질캡슐(오메가-3-산에틸에스테르90), 1 트라젠타정(리나글립틴), 1 레일라정, 12.7ms\n",
            "image 230/843 /content/drive/MyDrive/codeit_level1_project/data/test_images/1358.png: 640x512 1 보령부스파정 5mg, 1 오마코연질캡슐(오메가-3-산에틸에스테르90), 1 트라젠타정(리나글립틴), 1 레일라정, 12.3ms\n",
            "image 231/843 /content/drive/MyDrive/codeit_level1_project/data/test_images/1359.png: 640x512 1 보령부스파정 5mg, 1 오마코연질캡슐(오메가-3-산에틸에스테르90), 1 트라젠타정(리나글립틴), 1 레일라정, 12.3ms\n",
            "image 232/843 /content/drive/MyDrive/codeit_level1_project/data/test_images/136.png: 640x512 1 삼남건조수산화알루미늄겔정, 1 리리카캡슐 150mg, 1 엑스포지정 5/160mg, 1 아질렉트정(라사길린메실산염), 1 로수바미브정 10/20mg, 12.6ms\n",
            "image 233/843 /content/drive/MyDrive/codeit_level1_project/data/test_images/1361.png: 640x512 1 써스펜8시간이알서방정 650mg, 1 트윈스타정 40/5mg, 1 레일라정, 1 자누메트엑스알서방정 100/1000mg, 12.4ms\n",
            "image 234/843 /content/drive/MyDrive/codeit_level1_project/data/test_images/1363.png: 640x512 1 일양하이트린정 2mg, 1 큐시드정 31.5mg/PTP, 1 트윈스타정 40/5mg, 1 에스원엠프정 20mg, 12.8ms\n",
            "image 235/843 /content/drive/MyDrive/codeit_level1_project/data/test_images/1366.png: 640x512 1 기넥신에프정(은행엽엑스)(수출용), 1 써스펜8시간이알서방정 650mg, 1 마도파정, 1 졸로푸트정 100mg, 12.8ms\n",
            "image 236/843 /content/drive/MyDrive/codeit_level1_project/data/test_images/1367.png: 640x512 1 기넥신에프정(은행엽엑스)(수출용), 1 써스펜8시간이알서방정 650mg, 1 마도파정, 1 졸로푸트정 100mg, 12.2ms\n",
            "image 237/843 /content/drive/MyDrive/codeit_level1_project/data/test_images/1369.png: 640x512 1 기넥신에프정(은행엽엑스)(수출용), 1 알드린정, 1 졸로푸트정 100mg, 1 에스원엠프정 20mg, 12.2ms\n",
            "image 238/843 /content/drive/MyDrive/codeit_level1_project/data/test_images/1371.png: 640x512 1 기넥신에프정(은행엽엑스)(수출용), 1 알드린정, 1 졸로푸트정 100mg, 1 에스원엠프정 20mg, 12.5ms\n",
            "image 239/843 /content/drive/MyDrive/codeit_level1_project/data/test_images/1372.png: 640x512 1 동아가바펜틴정 800mg, 1 란스톤엘에프디티정 30mg, 1 노바스크정 5mg, 1 펠루비정(펠루비프로펜), 1 브린텔릭스정 20mg, 12.2ms\n",
            "image 240/843 /content/drive/MyDrive/codeit_level1_project/data/test_images/1376.png: 640x512 1 삼남건조수산화알루미늄겔정, 1 리리카캡슐 150mg, 1 엑스포지정 5/160mg, 1 놀텍정 10mg, 12.4ms\n",
            "image 241/843 /content/drive/MyDrive/codeit_level1_project/data/test_images/1377.png: 640x512 1 보령부스파정 5mg, 1 삼남건조수산화알루미늄겔정, 1 리리카캡슐 150mg, 1 엑스포지정 5/160mg, 1 놀텍정 10mg, 12.8ms\n",
            "image 242/843 /content/drive/MyDrive/codeit_level1_project/data/test_images/1378.png: 640x512 1 기넥신에프정(은행엽엑스)(수출용), 1 알드린정, 1 메가파워정 90mg/병, 1 졸로푸트정 100mg, 1 케이캡정 50mg, 12.2ms\n",
            "image 243/843 /content/drive/MyDrive/codeit_level1_project/data/test_images/1379.png: 640x512 1 기넥신에프정(은행엽엑스)(수출용), 1 알드린정, 1 메가파워정 90mg/병, 1 졸로푸트정 100mg, 12.2ms\n",
            "image 244/843 /content/drive/MyDrive/codeit_level1_project/data/test_images/1381.png: 640x512 1 뮤테란캡슐 100mg, 1 맥시부펜이알정 300mg, 1 트윈스타정 40/5mg, 2 로수바미브정 10/20mgs, 12.4ms\n",
            "image 245/843 /content/drive/MyDrive/codeit_level1_project/data/test_images/1384.png: 640x512 1 기넥신에프정(은행엽엑스)(수출용), 1 울트라셋이알서방정, 1 트라젠타듀오정 2.5/850mg, 1 케이캡정 50mg, 12.3ms\n",
            "image 246/843 /content/drive/MyDrive/codeit_level1_project/data/test_images/1385.png: 640x512 1 기넥신에프정(은행엽엑스)(수출용), 1 울트라셋이알서방정, 1 트라젠타듀오정 2.5/850mg, 1 케이캡정 50mg, 12.3ms\n",
            "image 247/843 /content/drive/MyDrive/codeit_level1_project/data/test_images/1386.png: 640x512 1 기넥신에프정(은행엽엑스)(수출용), 1 울트라셋이알서방정, 1 트라젠타듀오정 2.5/850mg, 1 케이캡정 50mg, 12.2ms\n",
            "image 248/843 /content/drive/MyDrive/codeit_level1_project/data/test_images/1387.png: 640x512 1 기넥신에프정(은행엽엑스)(수출용), 1 큐시드정 31.5mg/PTP, 1 졸로푸트정 100mg, 1 케이캡정 50mg, 12.0ms\n",
            "image 249/843 /content/drive/MyDrive/codeit_level1_project/data/test_images/139.png: 640x512 1 기넥신에프정(은행엽엑스)(수출용), 1 라비에트정 20mg, 1 메가파워정 90mg/병, 1 카나브정 60mg, 1 아질렉트정(라사길린메실산염), 12.3ms\n",
            "image 250/843 /content/drive/MyDrive/codeit_level1_project/data/test_images/1390.png: 640x512 1 가바토파정 100mg, 1 동아가바펜틴정 800mg, 1 란스톤엘에프디티정 30mg, 1 트루비타정 60mg/병, 1 울트라셋이알서방정, 1 신바로정, 13.4ms\n",
            "image 251/843 /content/drive/MyDrive/codeit_level1_project/data/test_images/1392.png: 640x512 1 가바토파정 100mg, 1 동아가바펜틴정 800mg, 1 란스톤엘에프디티정 30mg, 1 트루비타정 60mg/병, 1 울트라셋이알서방정, 1 신바로정, 12.1ms\n",
            "image 252/843 /content/drive/MyDrive/codeit_level1_project/data/test_images/1393.png: 640x512 1 기넥신에프정(은행엽엑스)(수출용), 1 졸로푸트정 100mg, 1 트라젠타듀오정 2.5/850mg, 1 에스원엠프정 20mg, 12.0ms\n",
            "image 253/843 /content/drive/MyDrive/codeit_level1_project/data/test_images/1395.png: 640x512 1 기넥신에프정(은행엽엑스)(수출용), 1 졸로푸트정 100mg, 1 트라젠타듀오정 2.5/850mg, 1 에스원엠프정 20mg, 12.2ms\n",
            "image 254/843 /content/drive/MyDrive/codeit_level1_project/data/test_images/1396.png: 640x512 1 란스톤엘에프디티정 30mg, 1 노바스크정 5mg, 1 펠루비정(펠루비프로펜), 1 낙소졸정 500/20mg, 1 브린텔릭스정 20mg, 1 로수젯정10/5밀리그램, 12.4ms\n",
            "image 255/843 /content/drive/MyDrive/codeit_level1_project/data/test_images/140.png: 640x512 1 기넥신에프정(은행엽엑스)(수출용), 1 라비에트정 20mg, 1 메가파워정 90mg/병, 1 카나브정 60mg, 12.2ms\n",
            "image 256/843 /content/drive/MyDrive/codeit_level1_project/data/test_images/1401.png: 640x512 1 보령부스파정 5mg, 1 기넥신에프정(은행엽엑스)(수출용), 1 써스펜8시간이알서방정 650mg, 1 라비에트정 20mg, 1 트윈스타정 40/5mg, 1 졸로푸트정 100mg, 12.3ms\n",
            "image 257/843 /content/drive/MyDrive/codeit_level1_project/data/test_images/1402.png: 640x512 1 일양하이트린정 2mg, 1 큐시드정 31.5mg/PTP, 1 트윈스타정 40/5mg, 1 케이캡정 50mg, 12.2ms\n",
            "image 258/843 /content/drive/MyDrive/codeit_level1_project/data/test_images/1404.png: 640x512 1 일양하이트린정 2mg, 1 트윈스타정 40/5mg, 1 케이캡정 50mg, 12.3ms\n",
            "image 259/843 /content/drive/MyDrive/codeit_level1_project/data/test_images/1407.png: 640x512 1 일양하이트린정 2mg, 1 리렉스펜정 300mg/PTP, 1 트윈스타정 40/5mg, 1 레일라정, 12.3ms\n",
            "image 260/843 /content/drive/MyDrive/codeit_level1_project/data/test_images/1408.png: 640x512 1 보령부스파정 5mg, 1 리리카캡슐 150mg, 1 놀텍정 10mg, 1 카발린캡슐 25mg, 12.2ms\n",
            "image 261/843 /content/drive/MyDrive/codeit_level1_project/data/test_images/1411.png: 640x512 1 기넥신에프정(은행엽엑스)(수출용), 1 아빌리파이정 10mg, 1 마도파정, 1 제미메트서방정 50/1000mg, 14.0ms\n",
            "image 262/843 /content/drive/MyDrive/codeit_level1_project/data/test_images/1413.png: 640x512 1 기넥신에프정(은행엽엑스)(수출용), 1 아빌리파이정 10mg, 1 마도파정, 1 제미메트서방정 50/1000mg, 12.1ms\n",
            "image 263/843 /content/drive/MyDrive/codeit_level1_project/data/test_images/1414.png: 640x512 1 보령부스파정 5mg, 1 오마코연질캡슐(오메가-3-산에틸에스테르90), 1 아토르바정 10mg, 1 세비카정 10/40mg, 12.5ms\n",
            "image 264/843 /content/drive/MyDrive/codeit_level1_project/data/test_images/1418.png: 640x512 1 무코스타정(레바미피드)(비매품), 1 삼남건조수산화알루미늄겔정, 1 리리카캡슐 150mg, 1 울트라셋이알서방정, 12.3ms\n",
            "image 265/843 /content/drive/MyDrive/codeit_level1_project/data/test_images/142.png: 640x512 1 보령부스파정 5mg, 1 리리카캡슐 150mg, 1 아질렉트정(라사길린메실산염), 1 로수바미브정 10/20mg, 1 카발린캡슐 25mg, 12.5ms\n",
            "image 266/843 /content/drive/MyDrive/codeit_level1_project/data/test_images/1420.png: 640x512 1 아모잘탄정 5/100mg, 1 트윈스타정 40/5mg, 1 낙소졸정 500/20mg, 13.8ms\n",
            "image 267/843 /content/drive/MyDrive/codeit_level1_project/data/test_images/1421.png: 640x512 1 아모잘탄정 5/100mg, 1 트윈스타정 40/5mg, 1 낙소졸정 500/20mg, 12.3ms\n",
            "image 268/843 /content/drive/MyDrive/codeit_level1_project/data/test_images/1424.png: 640x512 1 기넥신에프정(은행엽엑스)(수출용), 1 메가파워정 90mg/병, 1 카나브정 60mg, 1 트라젠타듀오정 2.5/850mg, 12.4ms\n",
            "image 269/843 /content/drive/MyDrive/codeit_level1_project/data/test_images/1425.png: 640x512 1 기넥신에프정(은행엽엑스)(수출용), 1 메가파워정 90mg/병, 1 카나브정 60mg, 1 트라젠타듀오정 2.5/850mg, 12.3ms\n",
            "image 270/843 /content/drive/MyDrive/codeit_level1_project/data/test_images/1429.png: 640x512 1 보령부스파정 5mg, 1 오마코연질캡슐(오메가-3-산에틸에스테르90), 1 콜리네이트연질캡슐 400mg, 1 아토르바정 10mg, 12.2ms\n",
            "image 271/843 /content/drive/MyDrive/codeit_level1_project/data/test_images/143.png: 640x512 1 보령부스파정 5mg, 1 리리카캡슐 150mg, 1 아질렉트정(라사길린메실산염), 1 로수바미브정 10/20mg, 1 카발린캡슐 25mg, 12.1ms\n",
            "image 272/843 /content/drive/MyDrive/codeit_level1_project/data/test_images/1431.png: 640x512 1 보령부스파정 5mg, 1 오마코연질캡슐(오메가-3-산에틸에스테르90), 1 콜리네이트연질캡슐 400mg, 1 아토르바정 10mg, 12.6ms\n",
            "image 273/843 /content/drive/MyDrive/codeit_level1_project/data/test_images/1433.png: 640x512 1 뮤테란캡슐 100mg, 1 리렉스펜정 300mg/PTP, 1 리리카캡슐 150mg, 1 트윈스타정 40/5mg, 1 렉사프로정 15mg, 1 자누메트엑스알서방정 100/1000mg, 1 로수바미브정 10/20mg, 13.7ms\n",
            "image 274/843 /content/drive/MyDrive/codeit_level1_project/data/test_images/1435.png: 640x512 1 비타비백정 100mg/병, 1 트윈스타정 40/5mg, 1 케이캡정 50mg, 12.3ms\n",
            "image 275/843 /content/drive/MyDrive/codeit_level1_project/data/test_images/1436.png: 640x512 1 비타비백정 100mg/병, 1 트윈스타정 40/5mg, 1 케이캡정 50mg, 12.4ms\n",
            "image 276/843 /content/drive/MyDrive/codeit_level1_project/data/test_images/1438.png: 640x512 1 보령부스파정 5mg, 1 오마코연질캡슐(오메가-3-산에틸에스테르90), 1 리피로우정 20mg, 1 레일라정, 12.2ms\n",
            "image 277/843 /content/drive/MyDrive/codeit_level1_project/data/test_images/1439.png: 640x512 1 보령부스파정 5mg, 1 오마코연질캡슐(오메가-3-산에틸에스테르90), 1 리피로우정 20mg, 1 레일라정, 12.4ms\n",
            "image 278/843 /content/drive/MyDrive/codeit_level1_project/data/test_images/1441.png: 640x512 1 기넥신에프정(은행엽엑스)(수출용), 1 아빌리파이정 10mg, 1 졸로푸트정 100mg, 1 로수바미브정 10/20mg, 12.3ms\n",
            "image 279/843 /content/drive/MyDrive/codeit_level1_project/data/test_images/1442.png: 640x512 1 기넥신에프정(은행엽엑스)(수출용), 1 아빌리파이정 10mg, 1 졸로푸트정 100mg, 1 로수바미브정 10/20mg, 13.5ms\n",
            "image 280/843 /content/drive/MyDrive/codeit_level1_project/data/test_images/1444.png: 640x512 1 란스톤엘에프디티정 30mg, 1 트루비타정 60mg/병, 1 노바스크정 5mg, 1 펠루비정(펠루비프로펜), 1 자누비아정 50mg, 1 쿠에타핀정 25mg, 1 브린텔릭스정 20mg, 1 글리틴정(콜린알포세레이트), 1 로수바미브정 10/20mg, 12.6ms\n",
            "image 281/843 /content/drive/MyDrive/codeit_level1_project/data/test_images/1446.png: 640x512 1 란스톤엘에프디티정 30mg, 1 트루비타정 60mg/병, 1 노바스크정 5mg, 1 쿠에타핀정 25mg, 1 브린텔릭스정 20mg, 1 글리틴정(콜린알포세레이트), 1 로수바미브정 10/20mg, 12.3ms\n",
            "image 282/843 /content/drive/MyDrive/codeit_level1_project/data/test_images/1447.png: 640x512 1 보령부스파정 5mg, 1 조인스정 200mg, 1 오마코연질캡슐(오메가-3-산에틸에스테르90), 1 아토르바정 10mg, 12.4ms\n",
            "image 283/843 /content/drive/MyDrive/codeit_level1_project/data/test_images/1449.png: 640x512 1 보령부스파정 5mg, 1 조인스정 200mg, 1 오마코연질캡슐(오메가-3-산에틸에스테르90), 1 아토르바정 10mg, 12.5ms\n",
            "image 284/843 /content/drive/MyDrive/codeit_level1_project/data/test_images/1450.png: 640x512 1 란스톤엘에프디티정 30mg, 1 스토가정 10mg, 1 신바로정, 1 브린텔릭스정 20mg, 12.4ms\n",
            "image 285/843 /content/drive/MyDrive/codeit_level1_project/data/test_images/1452.png: 640x512 1 에어탈정(아세클로페낙), 1 란스톤엘에프디티정 30mg, 1 펠루비정(펠루비프로펜), 1 신바로정, 1 브린텔릭스정 20mg, 12.3ms\n",
            "image 286/843 /content/drive/MyDrive/codeit_level1_project/data/test_images/1453.png: 640x512 1 아모잘탄정 5/100mg, 1 트윈스타정 40/5mg, 1 렉사프로정 15mg, 1 자누메트엑스알서방정 100/1000mg, 12.3ms\n",
            "image 287/843 /content/drive/MyDrive/codeit_level1_project/data/test_images/1455.png: 640x512 1 아모잘탄정 5/100mg, 1 트윈스타정 40/5mg, 1 렉사프로정 15mg, 1 자누메트엑스알서방정 100/1000mg, 12.5ms\n",
            "image 288/843 /content/drive/MyDrive/codeit_level1_project/data/test_images/1458.png: 640x512 1 란스톤엘에프디티정 30mg, 1 트루비타정 60mg/병, 1 펠루비정(펠루비프로펜), 1 신바로정, 1 브린텔릭스정 20mg, 1 글리틴정(콜린알포세레이트), 12.3ms\n",
            "image 289/843 /content/drive/MyDrive/codeit_level1_project/data/test_images/1459.png: 640x512 1 자이프렉사정 2.5mg, 1 동아가바펜틴정 800mg, 1 란스톤엘에프디티정 30mg, 1 노바스크정 5mg, 1 펠루비정(펠루비프로펜), 1 비모보정 500/20mg, 12.1ms\n",
            "image 290/843 /content/drive/MyDrive/codeit_level1_project/data/test_images/146.png: 640x512 1 기넥신에프정(은행엽엑스)(수출용), 1 리피토정 20mg, 1 카나브정 60mg, 1 트라젠타듀오정 2.5/850mg, 12.2ms\n",
            "image 291/843 /content/drive/MyDrive/codeit_level1_project/data/test_images/1460.png: 640x512 1 자이프렉사정 2.5mg, 1 동아가바펜틴정 800mg, 1 란스톤엘에프디티정 30mg, 1 노바스크정 5mg, 12.1ms\n",
            "image 292/843 /content/drive/MyDrive/codeit_level1_project/data/test_images/1461.png: 640x512 1 자이프렉사정 2.5mg, 1 동아가바펜틴정 800mg, 1 란스톤엘에프디티정 30mg, 1 리리카캡슐 150mg, 1 노바스크정 5mg, 12.1ms\n",
            "image 293/843 /content/drive/MyDrive/codeit_level1_project/data/test_images/1462.png: 640x512 1 기넥신에프정(은행엽엑스)(수출용), 1 마도파정, 1 울트라셋이알서방정, 1 케이캡정 50mg, 12.3ms\n",
            "image 294/843 /content/drive/MyDrive/codeit_level1_project/data/test_images/1463.png: 640x512 1 기넥신에프정(은행엽엑스)(수출용), 1 마도파정, 1 울트라셋이알서방정, 1 케이캡정 50mg, 12.1ms\n",
            "image 295/843 /content/drive/MyDrive/codeit_level1_project/data/test_images/1464.png: 640x512 1 기넥신에프정(은행엽엑스)(수출용), 1 마도파정, 1 울트라셋이알서방정, 1 케이캡정 50mg, 12.0ms\n",
            "image 296/843 /content/drive/MyDrive/codeit_level1_project/data/test_images/1466.png: 640x512 1 기넥신에프정(은행엽엑스)(수출용), 1 마도파정, 1 졸로푸트정 100mg, 1 에스원엠프정 20mg, 12.9ms\n",
            "image 297/843 /content/drive/MyDrive/codeit_level1_project/data/test_images/1473.png: 640x512 1 삼남건조수산화알루미늄겔정, 1 오마코연질캡슐(오메가-3-산에틸에스테르90), 1 리리카캡슐 150mg, 1 플라빅스정 75mg, 1 카발린캡슐 25mg, 12.3ms\n",
            "image 298/843 /content/drive/MyDrive/codeit_level1_project/data/test_images/1474.png: 640x512 1 기넥신에프정(은행엽엑스)(수출용), 1 아빌리파이정 10mg, 1 비모보정 500/20mg, 1 로수바미브정 10/20mg, 12.4ms\n",
            "image 299/843 /content/drive/MyDrive/codeit_level1_project/data/test_images/1476.png: 640x512 1 기넥신에프정(은행엽엑스)(수출용), 1 아빌리파이정 10mg, 1 비모보정 500/20mg, 1 로수바미브정 10/20mg, 12.3ms\n",
            "image 300/843 /content/drive/MyDrive/codeit_level1_project/data/test_images/1477.png: 640x512 1 뮤테란캡슐 100mg, 1 일양하이트린정 2mg, 1 다보타민큐정 10mg/병, 1 트윈스타정 40/5mg, 1 렉사프로정 15mg, 1 로수바미브정 10/20mg, 12.1ms\n",
            "image 301/843 /content/drive/MyDrive/codeit_level1_project/data/test_images/148.png: 640x512 1 트윈스타정 40/5mg, 1 자누메트엑스알서방정 100/1000mg, 1 에스원엠프정 20mg, 1 케이캡정 50mg, 12.1ms\n",
            "image 302/843 /content/drive/MyDrive/codeit_level1_project/data/test_images/1480.png: 640x512 1 보령부스파정 5mg, 1 써스펜8시간이알서방정 650mg, 1 오마코연질캡슐(오메가-3-산에틸에스테르90), 1 아토르바정 10mg, 1 레일라정, 12.3ms\n",
            "image 303/843 /content/drive/MyDrive/codeit_level1_project/data/test_images/1483.png: 640x512 1 기넥신에프정(은행엽엑스)(수출용), 1 알드린정, 1 메가파워정 90mg/병, 1 아토젯정 10/40mg, 12.5ms\n",
            "image 304/843 /content/drive/MyDrive/codeit_level1_project/data/test_images/1485.png: 640x512 1 기넥신에프정(은행엽엑스)(수출용), 1 알드린정, 1 메가파워정 90mg/병, 1 아토젯정 10/40mg, 12.3ms\n",
            "image 305/843 /content/drive/MyDrive/codeit_level1_project/data/test_images/1488.png: 640x512 1 리피토정 20mg, 1 자누비아정 50mg, 1 맥시부펜이알정 300mg, 1 트윈스타정 40/5mg, 1 카나브정 60mg, 1 로수바미브정 10/20mg, 12.1ms\n",
            "image 306/843 /content/drive/MyDrive/codeit_level1_project/data/test_images/1489.png: 640x512 1 삐콤씨에프정 618.6mg/병, 1 트윈스타정 40/5mg, 1 카나브정 60mg, 1 에스원엠프정 20mg, 2 케이캡정 50mgs, 12.9ms\n",
            "image 307/843 /content/drive/MyDrive/codeit_level1_project/data/test_images/149.png: 640x512 1 트윈스타정 40/5mg, 1 자누메트엑스알서방정 100/1000mg, 1 케이캡정 50mg, 12.3ms\n",
            "image 308/843 /content/drive/MyDrive/codeit_level1_project/data/test_images/1492.png: 640x512 1 삼남건조수산화알루미늄겔정, 1 다보타민큐정 10mg/병, 1 맥시부펜이알정 300mg, 1 트윈스타정 40/5mg, 12.2ms\n",
            "image 309/843 /content/drive/MyDrive/codeit_level1_project/data/test_images/1493.png: 640x512 1 삼남건조수산화알루미늄겔정, 1 다보타민큐정 10mg/병, 1 맥시부펜이알정 300mg, 1 트윈스타정 40/5mg, 12.4ms\n",
            "image 310/843 /content/drive/MyDrive/codeit_level1_project/data/test_images/1497.png: 640x512 1 기넥신에프정(은행엽엑스)(수출용), 1 알드린정, 1 써스펜8시간이알서방정 650mg, 1 아토르바정 10mg, 1 카나브정 60mg, 1 비모보정 500/20mg, 12.4ms\n",
            "image 311/843 /content/drive/MyDrive/codeit_level1_project/data/test_images/15.png: 640x512 1 일양하이트린정 2mg, 1 리피토정 20mg, 1 트윈스타정 40/5mg, 12.3ms\n",
            "image 312/843 /content/drive/MyDrive/codeit_level1_project/data/test_images/150.png: 640x512 1 트윈스타정 40/5mg, 1 자누메트엑스알서방정 100/1000mg, 1 케이캡정 50mg, 12.4ms\n",
            "image 313/843 /content/drive/MyDrive/codeit_level1_project/data/test_images/1500.png: 640x512 1 리렉스펜정 300mg/PTP, 1 트윈스타정 40/5mg, 1 낙소졸정 500/20mg, 12.3ms\n",
            "image 314/843 /content/drive/MyDrive/codeit_level1_project/data/test_images/151.png: 640x512 1 보령부스파정 5mg, 1 조인스정 200mg, 1 리리카캡슐 150mg, 1 놀텍정 10mg, 12.2ms\n",
            "image 315/843 /content/drive/MyDrive/codeit_level1_project/data/test_images/152.png: 640x512 1 보령부스파정 5mg, 1 조인스정 200mg, 1 리리카캡슐 150mg, 1 놀텍정 10mg, 12.2ms\n",
            "image 316/843 /content/drive/MyDrive/codeit_level1_project/data/test_images/153.png: 640x512 1 보령부스파정 5mg, 1 조인스정 200mg, 1 리리카캡슐 150mg, 1 놀텍정 10mg, 12.4ms\n",
            "image 317/843 /content/drive/MyDrive/codeit_level1_project/data/test_images/154.png: 640x512 1 란스톤엘에프디티정 30mg, 1 트루비타정 60mg/병, 1 노바스크정 5mg, 1 울트라셋이알서방정, 1 브린텔릭스정 20mg, 12.2ms\n",
            "image 318/843 /content/drive/MyDrive/codeit_level1_project/data/test_images/155.png: 640x512 1 리피토정 20mg, 1 란스톤엘에프디티정 30mg, 1 트루비타정 60mg/병, 1 노바스크정 5mg, 1 펠루비정(펠루비프로펜), 1 울트라셋이알서방정, 1 브린텔릭스정 20mg, 12.9ms\n",
            "image 319/843 /content/drive/MyDrive/codeit_level1_project/data/test_images/156.png: 640x512 1 란스톤엘에프디티정 30mg, 1 트루비타정 60mg/병, 1 노바스크정 5mg, 1 브린텔릭스정 20mg, 12.7ms\n",
            "image 320/843 /content/drive/MyDrive/codeit_level1_project/data/test_images/157.png: 640x512 1 기넥신에프정(은행엽엑스)(수출용), 1 울트라셋이알서방정, 1 트라젠타듀오정 2.5/850mg, 1 에스원엠프정 20mg, 13.0ms\n",
            "image 321/843 /content/drive/MyDrive/codeit_level1_project/data/test_images/159.png: 640x512 1 기넥신에프정(은행엽엑스)(수출용), 1 울트라셋이알서방정, 1 트라젠타듀오정 2.5/850mg, 1 에스원엠프정 20mg, 12.5ms\n",
            "image 322/843 /content/drive/MyDrive/codeit_level1_project/data/test_images/160.png: 640x512 1 삼남건조수산화알루미늄겔정, 1 오마코연질캡슐(오메가-3-산에틸에스테르90), 1 플라빅스정 75mg, 1 자누메트정 50/850mg, 1 트라젠타정(리나글립틴), 1 글리아타민연질캡슐, 1 아토젯정 10/40mg, 12.4ms\n",
            "image 323/843 /content/drive/MyDrive/codeit_level1_project/data/test_images/162.png: 640x512 1 삼남건조수산화알루미늄겔정, 1 오마코연질캡슐(오메가-3-산에틸에스테르90), 1 자누메트정 50/850mg, 1 글리아타민연질캡슐, 1 아토젯정 10/40mg, 12.5ms\n",
            "image 324/843 /content/drive/MyDrive/codeit_level1_project/data/test_images/163.png: 640x512 1 기넥신에프정(은행엽엑스)(수출용), 1 리피토정 20mg, 1 트라젠타듀오정 2.5/850mg, 1 아토젯정 10/40mg, 12.3ms\n",
            "image 325/843 /content/drive/MyDrive/codeit_level1_project/data/test_images/164.png: 640x512 1 기넥신에프정(은행엽엑스)(수출용), 1 리피토정 20mg, 1 트라젠타듀오정 2.5/850mg, 1 아토젯정 10/40mg, 13.4ms\n",
            "image 326/843 /content/drive/MyDrive/codeit_level1_project/data/test_images/165.png: 640x512 1 기넥신에프정(은행엽엑스)(수출용), 1 리피토정 20mg, 1 트라젠타듀오정 2.5/850mg, 1 아토젯정 10/40mg, 13.7ms\n",
            "image 327/843 /content/drive/MyDrive/codeit_level1_project/data/test_images/17.png: 640x512 1 메가파워정 90mg/병, 1 트윈스타정 40/5mg, 1 낙소졸정 500/20mg, 15.2ms\n",
            "image 328/843 /content/drive/MyDrive/codeit_level1_project/data/test_images/170.png: 640x512 1 자이프렉사정 2.5mg, 1 란스톤엘에프디티정 30mg, 1 스토가정 10mg, 1 노바스크정 5mg, 1 펠루비정(펠루비프로펜), 1 비모보정 500/20mg, 12.4ms\n",
            "image 329/843 /content/drive/MyDrive/codeit_level1_project/data/test_images/172.png: 640x512 1 기넥신에프정(은행엽엑스)(수출용), 1 써스펜8시간이알서방정 650mg, 1 마도파정, 1 울트라셋이알서방정, 12.4ms\n",
            "image 330/843 /content/drive/MyDrive/codeit_level1_project/data/test_images/173.png: 640x512 1 기넥신에프정(은행엽엑스)(수출용), 1 써스펜8시간이알서방정 650mg, 1 마도파정, 1 울트라셋이알서방정, 12.8ms\n",
            "image 331/843 /content/drive/MyDrive/codeit_level1_project/data/test_images/174.png: 640x512 1 기넥신에프정(은행엽엑스)(수출용), 1 써스펜8시간이알서방정 650mg, 1 마도파정, 1 울트라셋이알서방정, 13.3ms\n",
            "image 332/843 /content/drive/MyDrive/codeit_level1_project/data/test_images/175.png: 640x512 1 기넥신에프정(은행엽엑스)(수출용), 1 알드린정, 1 써스펜8시간이알서방정 650mg, 1 제미메트서방정 50/1000mg, 13.8ms\n",
            "image 333/843 /content/drive/MyDrive/codeit_level1_project/data/test_images/176.png: 640x512 1 기넥신에프정(은행엽엑스)(수출용), 1 알드린정, 1 써스펜8시간이알서방정 650mg, 1 제미메트서방정 50/1000mg, 12.2ms\n",
            "image 334/843 /content/drive/MyDrive/codeit_level1_project/data/test_images/179.png: 640x512 1 기넥신에프정(은행엽엑스)(수출용), 1 졸로푸트정 100mg, 1 트라젠타듀오정 2.5/850mg, 2 케이캡정 50mgs, 12.3ms\n",
            "image 335/843 /content/drive/MyDrive/codeit_level1_project/data/test_images/180.png: 640x512 1 기넥신에프정(은행엽엑스)(수출용), 1 졸로푸트정 100mg, 1 트라젠타듀오정 2.5/850mg, 1 케이캡정 50mg, 12.2ms\n",
            "image 336/843 /content/drive/MyDrive/codeit_level1_project/data/test_images/183.png: 640x512 1 삼남건조수산화알루미늄겔정, 1 써스펜8시간이알서방정 650mg, 1 오마코연질캡슐(오메가-3-산에틸에스테르90), 1 아토르바정 10mg, 1 레일라정, 12.5ms\n",
            "image 337/843 /content/drive/MyDrive/codeit_level1_project/data/test_images/185.png: 640x512 1 보령부스파정 5mg, 1 오마코연질캡슐(오메가-3-산에틸에스테르90), 1 자누메트정 50/850mg, 1 글리아타민연질캡슐, 12.2ms\n",
            "image 338/843 /content/drive/MyDrive/codeit_level1_project/data/test_images/186.png: 640x512 1 보령부스파정 5mg, 1 오마코연질캡슐(오메가-3-산에틸에스테르90), 1 자누메트정 50/850mg, 1 글리아타민연질캡슐, 12.3ms\n",
            "image 339/843 /content/drive/MyDrive/codeit_level1_project/data/test_images/189.png: 640x512 1 에어탈정(아세클로페낙), 1 가바토파정 100mg, 1 란스톤엘에프디티정 30mg, 1 스토가정 10mg, 1 노바스크정 5mg, 14.5ms\n",
            "image 340/843 /content/drive/MyDrive/codeit_level1_project/data/test_images/19.png: 640x512 1 기넥신에프정(은행엽엑스)(수출용), 1 아빌리파이정 10mg, 1 아토젯정 10/40mg, 1 로수바미브정 10/20mg, 12.3ms\n",
            "image 341/843 /content/drive/MyDrive/codeit_level1_project/data/test_images/191.png: 640x512 1 삼남건조수산화알루미늄겔정, 1 오마코연질캡슐(오메가-3-산에틸에스테르90), 1 아토르바정 10mg, 1 자누메트정 50/850mg, 1 트라젠타정(리나글립틴), 12.2ms\n",
            "image 342/843 /content/drive/MyDrive/codeit_level1_project/data/test_images/196.png: 640x512 1 에어탈정(아세클로페낙), 1 가바토파정 100mg, 1 란스톤엘에프디티정 30mg, 1 노바스크정 5mg, 1 쿠에타핀정 25mg, 1 낙소졸정 500/20mg, 12.1ms\n",
            "image 343/843 /content/drive/MyDrive/codeit_level1_project/data/test_images/197.png: 640x512 1 가바토파정 100mg, 1 란스톤엘에프디티정 30mg, 1 스토가정 10mg, 1 노바스크정 5mg, 13.7ms\n",
            "image 344/843 /content/drive/MyDrive/codeit_level1_project/data/test_images/198.png: 640x512 1 에어탈정(아세클로페낙), 1 가바토파정 100mg, 1 란스톤엘에프디티정 30mg, 1 노바스크정 5mg, 16.5ms\n",
            "image 345/843 /content/drive/MyDrive/codeit_level1_project/data/test_images/199.png: 640x512 1 기넥신에프정(은행엽엑스)(수출용), 1 써스펜8시간이알서방정 650mg, 1 트라젠타듀오정 2.5/850mg, 1 제미메트서방정 50/1000mg, 12.7ms\n",
            "image 346/843 /content/drive/MyDrive/codeit_level1_project/data/test_images/200.png: 640x512 1 기넥신에프정(은행엽엑스)(수출용), 1 써스펜8시간이알서방정 650mg, 1 트라젠타듀오정 2.5/850mg, 1 제미메트서방정 50/1000mg, 12.2ms\n",
            "image 347/843 /content/drive/MyDrive/codeit_level1_project/data/test_images/202.png: 640x512 1 기넥신에프정(은행엽엑스)(수출용), 1 큐시드정 31.5mg/PTP, 1 졸로푸트정 100mg, 1 에스원엠프정 20mg, 1 케이캡정 50mg, 12.2ms\n",
            "image 348/843 /content/drive/MyDrive/codeit_level1_project/data/test_images/203.png: 640x512 1 기넥신에프정(은행엽엑스)(수출용), 1 큐시드정 31.5mg/PTP, 1 졸로푸트정 100mg, 1 에스원엠프정 20mg, 12.2ms\n",
            "image 349/843 /content/drive/MyDrive/codeit_level1_project/data/test_images/204.png: 640x512 1 기넥신에프정(은행엽엑스)(수출용), 1 큐시드정 31.5mg/PTP, 1 졸로푸트정 100mg, 1 에스원엠프정 20mg, 15.6ms\n",
            "image 350/843 /content/drive/MyDrive/codeit_level1_project/data/test_images/205.png: 640x512 1 보령부스파정 5mg, 1 오마코연질캡슐(오메가-3-산에틸에스테르90), 1 레일라정, 1 글리아타민연질캡슐, 1 아토젯정 10/40mg, 15.9ms\n",
            "image 351/843 /content/drive/MyDrive/codeit_level1_project/data/test_images/210.png: 640x512 1 알드린정, 1 써스펜8시간이알서방정 650mg, 1 에빅사정(메만틴염산염)(비매품), 1 리피토정 20mg, 1 자누비아정 50mg, 1 트윈스타정 40/5mg, 12.4ms\n",
            "image 352/843 /content/drive/MyDrive/codeit_level1_project/data/test_images/212.png: 640x512 1 삼남건조수산화알루미늄겔정, 1 삐콤씨에프정 618.6mg/병, 1 리리카캡슐 150mg, 1 카발린캡슐 25mg, 12.3ms\n",
            "image 353/843 /content/drive/MyDrive/codeit_level1_project/data/test_images/213.png: 640x512 1 삼남건조수산화알루미늄겔정, 1 삐콤씨에프정 618.6mg/병, 1 리리카캡슐 150mg, 1 카발린캡슐 25mg, 12.4ms\n",
            "image 354/843 /content/drive/MyDrive/codeit_level1_project/data/test_images/214.png: 640x512 1 삼남건조수산화알루미늄겔정, 1 리리카캡슐 150mg, 1 놀텍정 10mg, 1 세비카정 10/40mg, 12.4ms\n",
            "image 355/843 /content/drive/MyDrive/codeit_level1_project/data/test_images/215.png: 640x512 1 삼남건조수산화알루미늄겔정, 1 리리카캡슐 150mg, 1 놀텍정 10mg, 1 세비카정 10/40mg, 12.4ms\n",
            "image 356/843 /content/drive/MyDrive/codeit_level1_project/data/test_images/217.png: 640x512 1 자이프렉사정 2.5mg, 1 란스톤엘에프디티정 30mg, 1 스토가정 10mg, 1 노바스크정 5mg, 16.6ms\n",
            "image 357/843 /content/drive/MyDrive/codeit_level1_project/data/test_images/219.png: 640x512 1 자이프렉사정 2.5mg, 1 란스톤엘에프디티정 30mg, 1 스토가정 10mg, 1 노바스크정 5mg, 1 쿠에타핀정 25mg, 12.7ms\n",
            "image 358/843 /content/drive/MyDrive/codeit_level1_project/data/test_images/222.png: 640x512 1 트윈스타정 40/5mg, 1 카나브정 60mg, 1 낙소졸정 500/20mg, 1 에스원엠프정 20mg, 12.2ms\n",
            "image 359/843 /content/drive/MyDrive/codeit_level1_project/data/test_images/224.png: 640x512 1 기넥신에프정(은행엽엑스)(수출용), 1 써스펜8시간이알서방정 650mg, 1 라비에트정 20mg, 1 비모보정 500/20mg, 12.4ms\n",
            "image 360/843 /content/drive/MyDrive/codeit_level1_project/data/test_images/225.png: 640x512 1 기넥신에프정(은행엽엑스)(수출용), 1 써스펜8시간이알서방정 650mg, 1 라비에트정 20mg, 1 트윈스타정 40/5mg, 1 비모보정 500/20mg, 12.3ms\n",
            "image 361/843 /content/drive/MyDrive/codeit_level1_project/data/test_images/226.png: 640x512 1 기넥신에프정(은행엽엑스)(수출용), 1 알드린정, 1 졸로푸트정 100mg, 1 케이캡정 50mg, 12.2ms\n",
            "image 362/843 /content/drive/MyDrive/codeit_level1_project/data/test_images/229.png: 640x512 2 란스톤엘에프디티정 30mgs, 1 트루비타정 60mg/병, 1 노바스크정 5mg, 1 쿠에타핀정 25mg, 1 울트라셋이알서방정, 1 브린텔릭스정 20mg, 1 글리틴정(콜린알포세레이트), 12.3ms\n",
            "image 363/843 /content/drive/MyDrive/codeit_level1_project/data/test_images/23.png: 640x512 1 기넥신에프정(은행엽엑스)(수출용), 1 마도파정, 1 울트라셋이알서방정, 1 에스원엠프정 20mg, 15.9ms\n",
            "image 364/843 /content/drive/MyDrive/codeit_level1_project/data/test_images/231.png: 640x512 1 란스톤엘에프디티정 30mg, 1 트루비타정 60mg/병, 1 노바스크정 5mg, 1 펠루비정(펠루비프로펜), 1 울트라셋이알서방정, 1 브린텔릭스정 20mg, 12.6ms\n",
            "image 365/843 /content/drive/MyDrive/codeit_level1_project/data/test_images/232.png: 640x512 1 기넥신에프정(은행엽엑스)(수출용), 1 써스펜8시간이알서방정 650mg, 1 졸로푸트정 100mg, 1 로수바미브정 10/20mg, 12.5ms\n",
            "image 366/843 /content/drive/MyDrive/codeit_level1_project/data/test_images/234.png: 640x512 1 기넥신에프정(은행엽엑스)(수출용), 1 써스펜8시간이알서방정 650mg, 1 졸로푸트정 100mg, 1 로수바미브정 10/20mg, 12.4ms\n",
            "image 367/843 /content/drive/MyDrive/codeit_level1_project/data/test_images/236.png: 640x512 1 기넥신에프정(은행엽엑스)(수출용), 1 마도파정, 1 메가파워정 90mg/병, 1 아토젯정 10/40mg, 12.3ms\n",
            "image 368/843 /content/drive/MyDrive/codeit_level1_project/data/test_images/237.png: 640x512 1 기넥신에프정(은행엽엑스)(수출용), 1 마도파정, 1 메가파워정 90mg/병, 1 아토젯정 10/40mg, 12.5ms\n",
            "image 369/843 /content/drive/MyDrive/codeit_level1_project/data/test_images/238.png: 640x512 1 트윈스타정 40/5mg, 1 렉사프로정 15mg, 1 자누메트엑스알서방정 100/1000mg, 1 에스원엠프정 20mg, 1 로수바미브정 10/20mg, 12.7ms\n",
            "image 370/843 /content/drive/MyDrive/codeit_level1_project/data/test_images/24.png: 640x512 1 기넥신에프정(은행엽엑스)(수출용), 1 마도파정, 1 울트라셋이알서방정, 1 에스원엠프정 20mg, 12.8ms\n",
            "image 371/843 /content/drive/MyDrive/codeit_level1_project/data/test_images/241.png: 640x512 1 다보타민큐정 10mg/병, 1 트윈스타정 40/5mg, 1 케이캡정 50mg, 12.2ms\n",
            "image 372/843 /content/drive/MyDrive/codeit_level1_project/data/test_images/243.png: 640x512 1 다보타민큐정 10mg/병, 1 트윈스타정 40/5mg, 1 케이캡정 50mg, 14.0ms\n",
            "image 373/843 /content/drive/MyDrive/codeit_level1_project/data/test_images/244.png: 640x512 1 삼남건조수산화알루미늄겔정, 1 오마코연질캡슐(오메가-3-산에틸에스테르90), 1 레일라정, 1 글리아타민연질캡슐, 12.1ms\n",
            "image 374/843 /content/drive/MyDrive/codeit_level1_project/data/test_images/247.png: 640x512 1 가바토파정 100mg, 1 란스톤엘에프디티정 30mg, 1 스토가정 10mg, 1 노바스크정 5mg, 12.0ms\n",
            "image 375/843 /content/drive/MyDrive/codeit_level1_project/data/test_images/248.png: 640x512 1 가바토파정 100mg, 1 란스톤엘에프디티정 30mg, 1 스토가정 10mg, 1 노바스크정 5mg, 1 쿠에타핀정 25mg, 12.0ms\n",
            "image 376/843 /content/drive/MyDrive/codeit_level1_project/data/test_images/249.png: 640x512 1 가바토파정 100mg, 1 란스톤엘에프디티정 30mg, 1 스토가정 10mg, 1 노바스크정 5mg, 1 쿠에타핀정 25mg, 1 낙소졸정 500/20mg, 12.1ms\n",
            "image 377/843 /content/drive/MyDrive/codeit_level1_project/data/test_images/250.png: 640x512 1 다보타민큐정 10mg/병, 1 써스펜8시간이알서방정 650mg, 2 트윈스타정 40/5mgs, 1 렉사프로정 15mg, 1 로수바미브정 10/20mg, 12.1ms\n",
            "image 378/843 /content/drive/MyDrive/codeit_level1_project/data/test_images/251.png: 640x512 1 써스펜8시간이알서방정 650mg, 1 리리카캡슐 150mg, 2 트윈스타정 40/5mgs, 1 렉사프로정 15mg, 1 로수바미브정 10/20mg, 12.2ms\n",
            "image 379/843 /content/drive/MyDrive/codeit_level1_project/data/test_images/252.png: 640x512 1 써스펜8시간이알서방정 650mg, 2 트윈스타정 40/5mgs, 1 렉사프로정 15mg, 1 낙소졸정 500/20mg, 12.2ms\n",
            "image 380/843 /content/drive/MyDrive/codeit_level1_project/data/test_images/253.png: 640x512 1 일양하이트린정 2mg, 1 메가파워정 90mg/병, 1 트윈스타정 40/5mg, 12.2ms\n",
            "image 381/843 /content/drive/MyDrive/codeit_level1_project/data/test_images/256.png: 640x512 2 란스톤엘에프디티정 30mgs, 1 펠루비정(펠루비프로펜), 1 신바로정, 1 브린텔릭스정 20mg, 1 로수젯정10/5밀리그램, 12.2ms\n",
            "image 382/843 /content/drive/MyDrive/codeit_level1_project/data/test_images/259.png: 640x512 1 트윈스타정 40/5mg, 1 낙소졸정 500/20mg, 1 케이캡정 50mg, 12.4ms\n",
            "image 383/843 /content/drive/MyDrive/codeit_level1_project/data/test_images/262.png: 640x512 1 기넥신에프정(은행엽엑스)(수출용), 1 써스펜8시간이알서방정 650mg, 1 마도파정, 1 비모보정 500/20mg, 12.0ms\n",
            "image 384/843 /content/drive/MyDrive/codeit_level1_project/data/test_images/264.png: 640x512 1 기넥신에프정(은행엽엑스)(수출용), 1 써스펜8시간이알서방정 650mg, 1 마도파정, 1 비모보정 500/20mg, 12.4ms\n",
            "image 385/843 /content/drive/MyDrive/codeit_level1_project/data/test_images/265.png: 640x512 1 기넥신에프정(은행엽엑스)(수출용), 1 리피토정 20mg, 1 마도파정, 1 울트라셋이알서방정, 12.0ms\n",
            "image 386/843 /content/drive/MyDrive/codeit_level1_project/data/test_images/266.png: 640x512 1 기넥신에프정(은행엽엑스)(수출용), 1 리피토정 20mg, 1 마도파정, 1 울트라셋이알서방정, 12.1ms\n",
            "image 387/843 /content/drive/MyDrive/codeit_level1_project/data/test_images/27.png: 640x512 1 란스톤엘에프디티정 30mg, 1 트루비타정 60mg/병, 1 펠루비정(펠루비프로펜), 1 신바로정, 12.2ms\n",
            "image 388/843 /content/drive/MyDrive/codeit_level1_project/data/test_images/271.png: 640x512 1 기넥신에프정(은행엽엑스)(수출용), 1 메가파워정 90mg/병, 1 큐시드정 31.5mg/PTP, 1 졸로푸트정 100mg, 12.1ms\n",
            "image 389/843 /content/drive/MyDrive/codeit_level1_project/data/test_images/273.png: 640x512 1 기넥신에프정(은행엽엑스)(수출용), 1 메가파워정 90mg/병, 1 큐시드정 31.5mg/PTP, 1 졸로푸트정 100mg, 1 케이캡정 50mg, 12.3ms\n",
            "image 390/843 /content/drive/MyDrive/codeit_level1_project/data/test_images/274.png: 640x512 1 삼남건조수산화알루미늄겔정, 1 삐콤씨에프정 618.6mg/병, 1 크레스토정 20mg, 1 맥시부펜이알정 300mg, 1 트윈스타정 40/5mg, 1 케이캡정 50mg, 12.1ms\n",
            "image 391/843 /content/drive/MyDrive/codeit_level1_project/data/test_images/275.png: 640x512 1 삼남건조수산화알루미늄겔정, 1 크레스토정 20mg, 1 맥시부펜이알정 300mg, 1 트윈스타정 40/5mg, 1 카나브정 60mg, 1 케이캡정 50mg, 12.3ms\n",
            "image 392/843 /content/drive/MyDrive/codeit_level1_project/data/test_images/277.png: 640x512 1 기넥신에프정(은행엽엑스)(수출용), 1 알드린정, 1 아빌리파이정 10mg, 1 카나브정 60mg, 1 제미메트서방정 50/1000mg, 12.9ms\n",
            "image 393/843 /content/drive/MyDrive/codeit_level1_project/data/test_images/278.png: 640x512 1 기넥신에프정(은행엽엑스)(수출용), 1 알드린정, 1 아빌리파이정 10mg, 1 라비에트정 20mg, 1 제미메트서방정 50/1000mg, 12.0ms\n",
            "image 394/843 /content/drive/MyDrive/codeit_level1_project/data/test_images/28.png: 640x512 1 기넥신에프정(은행엽엑스)(수출용), 1 메가파워정 90mg/병, 1 울트라셋이알서방정, 1 트라젠타듀오정 2.5/850mg, 14.2ms\n",
            "image 395/843 /content/drive/MyDrive/codeit_level1_project/data/test_images/280.png: 640x512 1 타이레놀정500mg, 1 에빅사정(메만틴염산염)(비매품), 1 리피토정 20mg, 1 트윈스타정 40/5mg, 1 로수바미브정 10/20mg, 12.3ms\n",
            "image 396/843 /content/drive/MyDrive/codeit_level1_project/data/test_images/286.png: 640x512 1 기넥신에프정(은행엽엑스)(수출용), 1 트라젠타듀오정 2.5/850mg, 1 에스원엠프정 20mg, 1 제미메트서방정 50/1000mg, 12.4ms\n",
            "image 397/843 /content/drive/MyDrive/codeit_level1_project/data/test_images/287.png: 640x512 1 기넥신에프정(은행엽엑스)(수출용), 1 트라젠타듀오정 2.5/850mg, 1 에스원엠프정 20mg, 1 제미메트서방정 50/1000mg, 12.4ms\n",
            "image 398/843 /content/drive/MyDrive/codeit_level1_project/data/test_images/288.png: 640x512 1 기넥신에프정(은행엽엑스)(수출용), 1 트라젠타듀오정 2.5/850mg, 1 에스원엠프정 20mg, 1 제미메트서방정 50/1000mg, 12.3ms\n",
            "image 399/843 /content/drive/MyDrive/codeit_level1_project/data/test_images/289.png: 640x512 1 가바토파정 100mg, 1 란스톤엘에프디티정 30mg, 1 스토가정 10mg, 1 신바로정, 12.1ms\n",
            "image 400/843 /content/drive/MyDrive/codeit_level1_project/data/test_images/29.png: 640x512 1 기넥신에프정(은행엽엑스)(수출용), 1 메가파워정 90mg/병, 1 울트라셋이알서방정, 1 트라젠타듀오정 2.5/850mg, 15.5ms\n",
            "image 401/843 /content/drive/MyDrive/codeit_level1_project/data/test_images/291.png: 640x512 1 가바토파정 100mg, 1 란스톤엘에프디티정 30mg, 1 스토가정 10mg, 1 신바로정, 12.2ms\n",
            "image 402/843 /content/drive/MyDrive/codeit_level1_project/data/test_images/292.png: 640x512 1 에어탈정(아세클로페낙), 1 란스톤엘에프디티정 30mg, 1 스토가정 10mg, 1 펠루비정(펠루비프로펜), 1 신바로정, 1 브린텔릭스정 20mg, 12.4ms\n",
            "image 403/843 /content/drive/MyDrive/codeit_level1_project/data/test_images/295.png: 640x512 1 삐콤씨에프정 618.6mg/병, 1 리피토정 20mg, 1 트윈스타정 40/5mg, 1 케이캡정 50mg, 12.0ms\n",
            "image 404/843 /content/drive/MyDrive/codeit_level1_project/data/test_images/298.png: 640x512 1 보령부스파정 5mg, 1 무코스타정(레바미피드)(비매품), 1 리리카캡슐 150mg, 1 놀텍정 10mg, 12.0ms\n",
            "image 405/843 /content/drive/MyDrive/codeit_level1_project/data/test_images/299.png: 640x512 1 보령부스파정 5mg, 1 무코스타정(레바미피드)(비매품), 1 리리카캡슐 150mg, 1 놀텍정 10mg, 12.1ms\n",
            "image 406/843 /content/drive/MyDrive/codeit_level1_project/data/test_images/3.png: 640x512 1 뉴로메드정(옥시라세탐), 1 삼남건조수산화알루미늄겔정, 1 리리카캡슐 150mg, 1 세비카정 10/40mg, 12.1ms\n",
            "image 407/843 /content/drive/MyDrive/codeit_level1_project/data/test_images/302.png: 640x512 1 아빌리파이정 10mg, 1 비타비백정 100mg/병, 1 트윈스타정 40/5mg, 1 자누메트엑스알서방정 100/1000mg, 12.5ms\n",
            "image 408/843 /content/drive/MyDrive/codeit_level1_project/data/test_images/304.png: 640x512 1 동아가바펜틴정 800mg, 1 란스톤엘에프디티정 30mg, 1 노바스크정 5mg, 1 펠루비정(펠루비프로펜), 1 쿠에타핀정 25mg, 1 브린텔릭스정 20mg, 1 글리틴정(콜린알포세레이트), 12.3ms\n",
            "image 409/843 /content/drive/MyDrive/codeit_level1_project/data/test_images/308.png: 640x512 1 아빌리파이정 10mg, 1 트윈스타정 40/5mg, 1 낙소졸정 500/20mg, 13.7ms\n",
            "image 410/843 /content/drive/MyDrive/codeit_level1_project/data/test_images/31.png: 640x512 1 삼남건조수산화알루미늄겔정, 1 오마코연질캡슐(오메가-3-산에틸에스테르90), 1 트라젠타정(리나글립틴), 1 레일라정, 12.8ms\n",
            "image 411/843 /content/drive/MyDrive/codeit_level1_project/data/test_images/310.png: 640x512 1 삼남건조수산화알루미늄겔정, 1 리피토정 20mg, 1 오마코연질캡슐(오메가-3-산에틸에스테르90), 1 리피로우정 20mg, 1 자누메트정 50/850mg, 12.4ms\n",
            "image 412/843 /content/drive/MyDrive/codeit_level1_project/data/test_images/313.png: 640x512 1 기넥신에프정(은행엽엑스)(수출용), 1 써스펜8시간이알서방정 650mg, 1 큐시드정 31.5mg/PTP, 1 비모보정 500/20mg, 12.5ms\n",
            "image 413/843 /content/drive/MyDrive/codeit_level1_project/data/test_images/315.png: 640x512 1 기넥신에프정(은행엽엑스)(수출용), 1 써스펜8시간이알서방정 650mg, 1 큐시드정 31.5mg/PTP, 1 비모보정 500/20mg, 1 케이캡정 50mg, 12.4ms\n",
            "image 414/843 /content/drive/MyDrive/codeit_level1_project/data/test_images/316.png: 640x512 2 보령부스파정 5mgs, 1 오마코연질캡슐(오메가-3-산에틸에스테르90), 1 엑스포지정 5/160mg, 1 아토르바정 10mg, 12.3ms\n",
            "image 415/843 /content/drive/MyDrive/codeit_level1_project/data/test_images/317.png: 640x512 2 보령부스파정 5mgs, 1 오마코연질캡슐(오메가-3-산에틸에스테르90), 1 엑스포지정 5/160mg, 1 아토르바정 10mg, 13.1ms\n",
            "image 416/843 /content/drive/MyDrive/codeit_level1_project/data/test_images/32.png: 640x512 1 삼남건조수산화알루미늄겔정, 1 오마코연질캡슐(오메가-3-산에틸에스테르90), 1 트라젠타정(리나글립틴), 1 레일라정, 12.6ms\n",
            "image 417/843 /content/drive/MyDrive/codeit_level1_project/data/test_images/320.png: 640x512 1 기넥신에프정(은행엽엑스)(수출용), 1 메가파워정 90mg/병, 1 큐시드정 31.5mg/PTP, 1 아토젯정 10/40mg, 12.1ms\n",
            "image 418/843 /content/drive/MyDrive/codeit_level1_project/data/test_images/323.png: 640x512 1 기넥신에프정(은행엽엑스)(수출용), 1 아빌리파이정 10mg, 1 마도파정, 1 졸로푸트정 100mg, 1 케이캡정 50mg, 12.2ms\n",
            "image 419/843 /content/drive/MyDrive/codeit_level1_project/data/test_images/324.png: 640x512 1 기넥신에프정(은행엽엑스)(수출용), 1 아빌리파이정 10mg, 1 마도파정, 1 졸로푸트정 100mg, 12.3ms\n",
            "image 420/843 /content/drive/MyDrive/codeit_level1_project/data/test_images/325.png: 640x512 1 기넥신에프정(은행엽엑스)(수출용), 1 카나브정 60mg, 1 트라젠타듀오정 2.5/850mg, 1 에스원엠프정 20mg, 12.7ms\n",
            "image 421/843 /content/drive/MyDrive/codeit_level1_project/data/test_images/327.png: 640x512 1 기넥신에프정(은행엽엑스)(수출용), 1 카나브정 60mg, 1 트라젠타듀오정 2.5/850mg, 1 에스원엠프정 20mg, 12.3ms\n",
            "image 422/843 /content/drive/MyDrive/codeit_level1_project/data/test_images/328.png: 640x512 1 기넥신에프정(은행엽엑스)(수출용), 1 아빌리파이정 10mg, 1 카나브정 60mg, 1 로수바미브정 10/20mg, 12.3ms\n",
            "image 423/843 /content/drive/MyDrive/codeit_level1_project/data/test_images/332.png: 640x512 1 삼남건조수산화알루미늄겔정, 1 리피토정 20mg, 1 오마코연질캡슐(오메가-3-산에틸에스테르90), 1 자누메트정 50/850mg, 2 트라젠타정(리나글립틴)s, 12.6ms\n",
            "image 424/843 /content/drive/MyDrive/codeit_level1_project/data/test_images/334.png: 640x512 1 기넥신에프정(은행엽엑스)(수출용), 1 리피토정 20mg, 1 큐시드정 31.5mg/PTP, 1 졸로푸트정 100mg, 12.4ms\n",
            "image 425/843 /content/drive/MyDrive/codeit_level1_project/data/test_images/335.png: 640x512 1 기넥신에프정(은행엽엑스)(수출용), 1 리피토정 20mg, 1 큐시드정 31.5mg/PTP, 1 졸로푸트정 100mg, 12.3ms\n",
            "image 426/843 /content/drive/MyDrive/codeit_level1_project/data/test_images/336.png: 640x512 1 기넥신에프정(은행엽엑스)(수출용), 1 리피토정 20mg, 1 큐시드정 31.5mg/PTP, 1 졸로푸트정 100mg, 12.4ms\n",
            "image 427/843 /content/drive/MyDrive/codeit_level1_project/data/test_images/337.png: 640x512 1 기넥신에프정(은행엽엑스)(수출용), 1 무코스타정(레바미피드)(비매품), 1 아빌리파이정 10mg, 1 라비에트정 20mg, 1 졸로푸트정 100mg, 12.6ms\n",
            "image 428/843 /content/drive/MyDrive/codeit_level1_project/data/test_images/338.png: 640x512 1 기넥신에프정(은행엽엑스)(수출용), 1 무코스타정(레바미피드)(비매품), 1 아빌리파이정 10mg, 1 라비에트정 20mg, 1 졸로푸트정 100mg, 1 아질렉트정(라사길린메실산염), 13.2ms\n",
            "image 429/843 /content/drive/MyDrive/codeit_level1_project/data/test_images/339.png: 640x512 1 기넥신에프정(은행엽엑스)(수출용), 1 무코스타정(레바미피드)(비매품), 1 아빌리파이정 10mg, 1 라비에트정 20mg, 1 졸로푸트정 100mg, 13.4ms\n",
            "image 430/843 /content/drive/MyDrive/codeit_level1_project/data/test_images/340.png: 640x512 1 기넥신에프정(은행엽엑스)(수출용), 1 비모보정 500/20mg, 1 트라젠타듀오정 2.5/850mg, 1 케이캡정 50mg, 12.1ms\n",
            "image 431/843 /content/drive/MyDrive/codeit_level1_project/data/test_images/341.png: 640x512 1 기넥신에프정(은행엽엑스)(수출용), 1 비모보정 500/20mg, 1 트라젠타듀오정 2.5/850mg, 1 케이캡정 50mg, 12.2ms\n",
            "image 432/843 /content/drive/MyDrive/codeit_level1_project/data/test_images/344.png: 640x512 1 기넥신에프정(은행엽엑스)(수출용), 1 트라젠타듀오정 2.5/850mg, 1 에스원엠프정 20mg, 1 아토젯정 10/40mg, 12.1ms\n",
            "image 433/843 /content/drive/MyDrive/codeit_level1_project/data/test_images/345.png: 640x512 1 기넥신에프정(은행엽엑스)(수출용), 1 트라젠타듀오정 2.5/850mg, 1 에스원엠프정 20mg, 1 아토젯정 10/40mg, 12.2ms\n",
            "image 434/843 /content/drive/MyDrive/codeit_level1_project/data/test_images/346.png: 640x512 1 기넥신에프정(은행엽엑스)(수출용), 1 리피토정 20mg, 1 울트라셋이알서방정, 1 트라젠타듀오정 2.5/850mg, 12.3ms\n",
            "image 435/843 /content/drive/MyDrive/codeit_level1_project/data/test_images/347.png: 640x512 1 기넥신에프정(은행엽엑스)(수출용), 1 리피토정 20mg, 1 울트라셋이알서방정, 1 트라젠타듀오정 2.5/850mg, 12.4ms\n",
            "image 436/843 /content/drive/MyDrive/codeit_level1_project/data/test_images/349.png: 640x512 1 기넥신에프정(은행엽엑스)(수출용), 1 메가파워정 90mg/병, 1 비모보정 500/20mg, 1 트라젠타듀오정 2.5/850mg, 12.2ms\n",
            "image 437/843 /content/drive/MyDrive/codeit_level1_project/data/test_images/352.png: 640x512 1 가바토파정 100mg, 1 란스톤엘에프디티정 30mg, 1 노바스크정 5mg, 1 로수젯정10/5밀리그램, 12.4ms\n",
            "image 438/843 /content/drive/MyDrive/codeit_level1_project/data/test_images/355.png: 640x512 1 자이프렉사정 2.5mg, 1 란스톤엘에프디티정 30mg, 1 트루비타정 60mg/병, 1 노바스크정 5mg, 12.3ms\n",
            "image 439/843 /content/drive/MyDrive/codeit_level1_project/data/test_images/356.png: 640x512 1 자이프렉사정 2.5mg, 1 란스톤엘에프디티정 30mg, 1 리리카캡슐 150mg, 1 트루비타정 60mg/병, 1 노바스크정 5mg, 12.7ms\n",
            "image 440/843 /content/drive/MyDrive/codeit_level1_project/data/test_images/359.png: 640x512 1 기넥신에프정(은행엽엑스)(수출용), 1 써스펜8시간이알서방정 650mg, 1 카나브정 60mg, 1 트라젠타듀오정 2.5/850mg, 12.2ms\n",
            "image 441/843 /content/drive/MyDrive/codeit_level1_project/data/test_images/361.png: 640x512 1 다보타민큐정 10mg/병, 1 트윈스타정 40/5mg, 1 에스원엠프정 20mg, 12.1ms\n",
            "image 442/843 /content/drive/MyDrive/codeit_level1_project/data/test_images/364.png: 640x512 1 타이레놀정500mg, 1 트윈스타정 40/5mg, 1 렉사프로정 15mg, 2 로수바미브정 10/20mgs, 12.0ms\n",
            "image 443/843 /content/drive/MyDrive/codeit_level1_project/data/test_images/372.png: 640x512 1 기넥신에프정(은행엽엑스)(수출용), 1 라비에트정 20mg, 1 비모보정 500/20mg, 1 에스원엠프정 20mg, 12.2ms\n",
            "image 444/843 /content/drive/MyDrive/codeit_level1_project/data/test_images/374.png: 640x512 1 기넥신에프정(은행엽엑스)(수출용), 1 써스펜8시간이알서방정 650mg, 1 큐시드정 31.5mg/PTP, 1 울트라셋이알서방정, 14.2ms\n",
            "image 445/843 /content/drive/MyDrive/codeit_level1_project/data/test_images/379.png: 640x512 1 조인스정 200mg, 1 에빅사정(메만틴염산염)(비매품), 1 리피토정 20mg, 1 자누비아정 50mg, 1 아모잘탄정 5/100mg, 1 트윈스타정 40/5mg, 12.8ms\n",
            "image 446/843 /content/drive/MyDrive/codeit_level1_project/data/test_images/38.png: 640x512 1 기넥신에프정(은행엽엑스)(수출용), 1 메가파워정 90mg/병, 1 큐시드정 31.5mg/PTP, 1 카나브정 60mg, 12.4ms\n",
            "image 447/843 /content/drive/MyDrive/codeit_level1_project/data/test_images/380.png: 640x512 1 리피토정 20mg, 1 자누비아정 50mg, 1 아모잘탄정 5/100mg, 1 트윈스타정 40/5mg, 14.3ms\n",
            "image 448/843 /content/drive/MyDrive/codeit_level1_project/data/test_images/382.png: 640x512 1 에어탈정(아세클로페낙), 1 란스톤엘에프디티정 30mg, 1 스토가정 10mg, 1 노바스크정 5mg, 1 펠루비정(펠루비프로펜), 1 브린텔릭스정 20mg, 12.1ms\n",
            "image 449/843 /content/drive/MyDrive/codeit_level1_project/data/test_images/384.png: 640x512 1 란스톤엘에프디티정 30mg, 1 스토가정 10mg, 1 노바스크정 5mg, 1 쿠에타핀정 25mg, 1 브린텔릭스정 20mg, 1 글리틴정(콜린알포세레이트), 14.0ms\n",
            "image 450/843 /content/drive/MyDrive/codeit_level1_project/data/test_images/387.png: 640x512 1 기넥신에프정(은행엽엑스)(수출용), 1 마도파정, 1 카나브정 60mg, 1 케이캡정 50mg, 12.4ms\n",
            "image 451/843 /content/drive/MyDrive/codeit_level1_project/data/test_images/389.png: 640x512 1 기넥신에프정(은행엽엑스)(수출용), 1 큐시드정 31.5mg/PTP, 1 비모보정 500/20mg, 1 에스원엠프정 20mg, 12.6ms\n",
            "image 452/843 /content/drive/MyDrive/codeit_level1_project/data/test_images/390.png: 640x512 1 기넥신에프정(은행엽엑스)(수출용), 1 큐시드정 31.5mg/PTP, 1 비모보정 500/20mg, 1 에스원엠프정 20mg, 12.3ms\n",
            "image 453/843 /content/drive/MyDrive/codeit_level1_project/data/test_images/392.png: 640x512 1 삼남건조수산화알루미늄겔정, 1 리리카캡슐 150mg, 1 놀텍정 10mg, 1 카발린캡슐 25mg, 12.6ms\n",
            "image 454/843 /content/drive/MyDrive/codeit_level1_project/data/test_images/393.png: 640x512 1 삼남건조수산화알루미늄겔정, 1 리리카캡슐 150mg, 1 놀텍정 10mg, 1 카발린캡슐 25mg, 12.4ms\n",
            "image 455/843 /content/drive/MyDrive/codeit_level1_project/data/test_images/394.png: 640x512 1 기넥신에프정(은행엽엑스)(수출용), 1 라비에트정 20mg, 1 아토젯정 10/40mg, 1 케이캡정 50mg, 12.2ms\n",
            "image 456/843 /content/drive/MyDrive/codeit_level1_project/data/test_images/395.png: 640x512 1 기넥신에프정(은행엽엑스)(수출용), 1 라비에트정 20mg, 1 아토젯정 10/40mg, 1 케이캡정 50mg, 12.1ms\n",
            "image 457/843 /content/drive/MyDrive/codeit_level1_project/data/test_images/396.png: 640x512 1 기넥신에프정(은행엽엑스)(수출용), 1 라비에트정 20mg, 1 아토젯정 10/40mg, 1 케이캡정 50mg, 12.1ms\n",
            "image 458/843 /content/drive/MyDrive/codeit_level1_project/data/test_images/4.png: 640x512 1 뉴로메드정(옥시라세탐), 1 삼남건조수산화알루미늄겔정, 1 조인스정 200mg, 1 리리카캡슐 150mg, 1 콜리네이트연질캡슐 400mg, 12.5ms\n",
            "image 459/843 /content/drive/MyDrive/codeit_level1_project/data/test_images/40.png: 640x512 1 기넥신에프정(은행엽엑스)(수출용), 1 알드린정, 1 써스펜8시간이알서방정 650mg, 1 카나브정 60mg, 12.3ms\n",
            "image 460/843 /content/drive/MyDrive/codeit_level1_project/data/test_images/400.png: 640x512 1 보령부스파정 5mg, 1 리리카캡슐 150mg, 1 엑스포지정 5/160mg, 1 놀텍정 10mg, 14.9ms\n",
            "image 461/843 /content/drive/MyDrive/codeit_level1_project/data/test_images/401.png: 640x512 1 보령부스파정 5mg, 1 리리카캡슐 150mg, 1 엑스포지정 5/160mg, 1 놀텍정 10mg, 12.3ms\n",
            "image 462/843 /content/drive/MyDrive/codeit_level1_project/data/test_images/404.png: 640x512 1 삼남건조수산화알루미늄겔정, 1 다보타민큐정 10mg/병, 2 메가파워정 90mg/병s, 1 트윈스타정 40/5mg, 1 카나브정 60mg, 1 리바로정 4mg, 12.1ms\n",
            "image 463/843 /content/drive/MyDrive/codeit_level1_project/data/test_images/409.png: 640x512 1 보령부스파정 5mg, 1 삼남건조수산화알루미늄겔정, 1 리리카캡슐 150mg, 1 엑스포지정 5/160mg, 1 라비에트정 20mg, 12.2ms\n",
            "image 464/843 /content/drive/MyDrive/codeit_level1_project/data/test_images/41.png: 640x512 1 기넥신에프정(은행엽엑스)(수출용), 1 알드린정, 1 써스펜8시간이알서방정 650mg, 1 카나브정 60mg, 12.4ms\n",
            "image 465/843 /content/drive/MyDrive/codeit_level1_project/data/test_images/411.png: 640x512 1 보령부스파정 5mg, 1 삼남건조수산화알루미늄겔정, 1 리리카캡슐 150mg, 1 엑스포지정 5/160mg, 1 라비에트정 20mg, 1 비모보정 500/20mg, 12.3ms\n",
            "image 466/843 /content/drive/MyDrive/codeit_level1_project/data/test_images/412.png: 640x512 1 자이프렉사정 2.5mg, 1 란스톤엘에프디티정 30mg, 1 노바스크정 5mg, 1 펠루비정(펠루비프로펜), 1 비모보정 500/20mg, 1 로수젯정10/5밀리그램, 12.5ms\n",
            "image 467/843 /content/drive/MyDrive/codeit_level1_project/data/test_images/413.png: 640x512 1 자이프렉사정 2.5mg, 1 란스톤엘에프디티정 30mg, 1 리리카캡슐 150mg, 1 노바스크정 5mg, 1 로수젯정10/5밀리그램, 12.3ms\n",
            "image 468/843 /content/drive/MyDrive/codeit_level1_project/data/test_images/414.png: 640x512 1 자이프렉사정 2.5mg, 1 란스톤엘에프디티정 30mg, 1 노바스크정 5mg, 1 로수젯정10/5밀리그램, 12.2ms\n",
            "image 469/843 /content/drive/MyDrive/codeit_level1_project/data/test_images/415.png: 640x512 1 기넥신에프정(은행엽엑스)(수출용), 1 알드린정, 1 카나브정 60mg, 1 에스원엠프정 20mg, 12.3ms\n",
            "image 470/843 /content/drive/MyDrive/codeit_level1_project/data/test_images/416.png: 640x512 1 기넥신에프정(은행엽엑스)(수출용), 1 알드린정, 1 카나브정 60mg, 1 에스원엠프정 20mg, 12.4ms\n",
            "image 471/843 /content/drive/MyDrive/codeit_level1_project/data/test_images/417.png: 640x512 1 기넥신에프정(은행엽엑스)(수출용), 1 알드린정, 1 카나브정 60mg, 1 에스원엠프정 20mg, 12.3ms\n",
            "image 472/843 /content/drive/MyDrive/codeit_level1_project/data/test_images/419.png: 640x512 1 기넥신에프정(은행엽엑스)(수출용), 1 울트라셋이알서방정, 1 로수바미브정 10/20mg, 1 케이캡정 50mg, 12.1ms\n",
            "image 473/843 /content/drive/MyDrive/codeit_level1_project/data/test_images/42.png: 640x512 1 기넥신에프정(은행엽엑스)(수출용), 1 알드린정, 1 써스펜8시간이알서방정 650mg, 1 아토르바정 10mg, 1 카나브정 60mg, 12.0ms\n",
            "image 474/843 /content/drive/MyDrive/codeit_level1_project/data/test_images/420.png: 640x512 1 기넥신에프정(은행엽엑스)(수출용), 1 울트라셋이알서방정, 1 로수바미브정 10/20mg, 1 케이캡정 50mg, 12.1ms\n",
            "image 475/843 /content/drive/MyDrive/codeit_level1_project/data/test_images/422.png: 640x512 1 기넥신에프정(은행엽엑스)(수출용), 1 알드린정, 1 아빌리파이정 10mg, 1 비모보정 500/20mg, 1 아토젯정 10/40mg, 12.0ms\n",
            "image 476/843 /content/drive/MyDrive/codeit_level1_project/data/test_images/423.png: 640x512 1 기넥신에프정(은행엽엑스)(수출용), 1 알드린정, 1 아빌리파이정 10mg, 1 카나브정 60mg, 1 비모보정 500/20mg, 11.9ms\n",
            "image 477/843 /content/drive/MyDrive/codeit_level1_project/data/test_images/429.png: 640x512 1 기넥신에프정(은행엽엑스)(수출용), 1 써스펜8시간이알서방정 650mg, 1 엑스포지정 5/160mg, 1 비모보정 500/20mg, 1 로수바미브정 10/20mg, 13.2ms\n",
            "image 478/843 /content/drive/MyDrive/codeit_level1_project/data/test_images/430.png: 640x512 1 삼남건조수산화알루미늄겔정, 1 오마코연질캡슐(오메가-3-산에틸에스테르90), 1 종근당글리아티린연질캡슐(콜린알포세레이트) , 1 자누메트정 50/850mg, 12.1ms\n",
            "image 479/843 /content/drive/MyDrive/codeit_level1_project/data/test_images/431.png: 640x512 1 삼남건조수산화알루미늄겔정, 1 오마코연질캡슐(오메가-3-산에틸에스테르90), 1 종근당글리아티린연질캡슐(콜린알포세레이트) , 1 자누메트정 50/850mg, 1 트라젠타정(리나글립틴), 12.6ms\n",
            "image 480/843 /content/drive/MyDrive/codeit_level1_project/data/test_images/432.png: 640x512 1 삼남건조수산화알루미늄겔정, 1 쎄로켈정 100mg, 1 오마코연질캡슐(오메가-3-산에틸에스테르90), 1 종근당글리아티린연질캡슐(콜린알포세레이트) , 1 자누메트정 50/850mg, 12.4ms\n",
            "image 481/843 /content/drive/MyDrive/codeit_level1_project/data/test_images/433.png: 640x512 1 기넥신에프정(은행엽엑스)(수출용), 1 삼남건조수산화알루미늄겔정, 1 리피토정 20mg, 1 제미메트서방정 50/1000mg, 1 로수바미브정 10/20mg, 12.6ms\n",
            "image 482/843 /content/drive/MyDrive/codeit_level1_project/data/test_images/434.png: 640x512 1 기넥신에프정(은행엽엑스)(수출용), 1 리피토정 20mg, 1 제미메트서방정 50/1000mg, 1 로수바미브정 10/20mg, 12.5ms\n",
            "image 483/843 /content/drive/MyDrive/codeit_level1_project/data/test_images/435.png: 640x512 1 기넥신에프정(은행엽엑스)(수출용), 1 리피토정 20mg, 1 제미메트서방정 50/1000mg, 1 로수바미브정 10/20mg, 12.1ms\n",
            "image 484/843 /content/drive/MyDrive/codeit_level1_project/data/test_images/436.png: 640x512 1 기넥신에프정(은행엽엑스)(수출용), 1 라비에트정 20mg, 1 카나브정 60mg, 1 케이캡정 50mg, 12.6ms\n",
            "image 485/843 /content/drive/MyDrive/codeit_level1_project/data/test_images/44.png: 640x512 1 써스펜8시간이알서방정 650mg, 1 비타비백정 100mg/병, 1 트윈스타정 40/5mg, 12.3ms\n",
            "image 486/843 /content/drive/MyDrive/codeit_level1_project/data/test_images/443.png: 640x512 1 동아가바펜틴정 800mg, 1 란스톤엘에프디티정 30mg, 1 펠루비정(펠루비프로펜), 1 신바로정, 1 브린텔릭스정 20mg, 1 글리틴정(콜린알포세레이트), 12.1ms\n",
            "image 487/843 /content/drive/MyDrive/codeit_level1_project/data/test_images/444.png: 640x512 1 동아가바펜틴정 800mg, 1 란스톤엘에프디티정 30mg, 1 펠루비정(펠루비프로펜), 1 울트라셋이알서방정, 1 신바로정, 1 브린텔릭스정 20mg, 12.1ms\n",
            "image 488/843 /content/drive/MyDrive/codeit_level1_project/data/test_images/449.png: 640x512 1 기넥신에프정(은행엽엑스)(수출용), 1 마도파정, 1 비모보정 500/20mg, 1 에스원엠프정 20mg, 12.7ms\n",
            "image 489/843 /content/drive/MyDrive/codeit_level1_project/data/test_images/452.png: 640x512 1 삼남건조수산화알루미늄겔정, 1 조인스정 200mg, 1 리리카캡슐 150mg, 1 아질렉트정(라사길린메실산염), 12.4ms\n",
            "image 490/843 /content/drive/MyDrive/codeit_level1_project/data/test_images/454.png: 640x512 1 리피토정 20mg, 1 란스톤엘에프디티정 30mg, 1 스토가정 10mg, 1 노바스크정 5mg, 1 펠루비정(펠루비프로펜), 1 쿠에타핀정 25mg, 1 브린텔릭스정 20mg, 12.3ms\n",
            "image 491/843 /content/drive/MyDrive/codeit_level1_project/data/test_images/455.png: 640x512 1 란스톤엘에프디티정 30mg, 1 스토가정 10mg, 1 노바스크정 5mg, 1 브린텔릭스정 20mg, 1 글리틴정(콜린알포세레이트), 12.2ms\n",
            "image 492/843 /content/drive/MyDrive/codeit_level1_project/data/test_images/456.png: 640x512 1 란스톤엘에프디티정 30mg, 1 스토가정 10mg, 1 노바스크정 5mg, 1 쿠에타핀정 25mg, 1 브린텔릭스정 20mg, 1 글리틴정(콜린알포세레이트), 12.7ms\n",
            "image 493/843 /content/drive/MyDrive/codeit_level1_project/data/test_images/457.png: 640x512 1 란스톤엘에프디티정 30mg, 1 스토가정 10mg, 1 노바스크정 5mg, 1 펠루비정(펠루비프로펜), 1 브린텔릭스정 20mg, 12.2ms\n",
            "image 494/843 /content/drive/MyDrive/codeit_level1_project/data/test_images/458.png: 640x512 1 란스톤엘에프디티정 30mg, 1 스토가정 10mg, 1 노바스크정 5mg, 1 펠루비정(펠루비프로펜), 1 브린텔릭스정 20mg, 12.6ms\n",
            "image 495/843 /content/drive/MyDrive/codeit_level1_project/data/test_images/459.png: 640x512 1 란스톤엘에프디티정 30mg, 1 스토가정 10mg, 1 노바스크정 5mg, 1 펠루비정(펠루비프로펜), 1 낙소졸정 500/20mg, 1 브린텔릭스정 20mg, 12.3ms\n",
            "image 496/843 /content/drive/MyDrive/codeit_level1_project/data/test_images/46.png: 640x512 1 자이프렉사정 2.5mg, 1 란스톤엘에프디티정 30mg, 1 트루비타정 60mg/병, 1 노바스크정 5mg, 1 쿠에타핀정 25mg, 13.4ms\n",
            "image 497/843 /content/drive/MyDrive/codeit_level1_project/data/test_images/460.png: 640x512 1 가바토파정 100mg, 1 란스톤엘에프디티정 30mg, 1 트루비타정 60mg/병, 1 노바스크정 5mg, 1 낙소졸정 500/20mg, 12.4ms\n",
            "image 498/843 /content/drive/MyDrive/codeit_level1_project/data/test_images/462.png: 640x512 1 가바토파정 100mg, 1 란스톤엘에프디티정 30mg, 1 트루비타정 60mg/병, 1 노바스크정 5mg, 12.6ms\n",
            "image 499/843 /content/drive/MyDrive/codeit_level1_project/data/test_images/463.png: 640x512 1 기넥신에프정(은행엽엑스)(수출용), 1 마도파정, 1 아토젯정 10/40mg, 1 케이캡정 50mg, 12.8ms\n",
            "image 500/843 /content/drive/MyDrive/codeit_level1_project/data/test_images/464.png: 640x512 1 기넥신에프정(은행엽엑스)(수출용), 1 마도파정, 1 아토젯정 10/40mg, 1 케이캡정 50mg, 12.3ms\n",
            "image 501/843 /content/drive/MyDrive/codeit_level1_project/data/test_images/465.png: 640x512 1 기넥신에프정(은행엽엑스)(수출용), 1 마도파정, 1 아토젯정 10/40mg, 1 케이캡정 50mg, 12.1ms\n",
            "image 502/843 /content/drive/MyDrive/codeit_level1_project/data/test_images/468.png: 640x512 1 가바토파정 100mg, 1 란스톤엘에프디티정 30mg, 1 트루비타정 60mg/병, 1 신바로정, 12.3ms\n",
            "image 503/843 /content/drive/MyDrive/codeit_level1_project/data/test_images/469.png: 640x512 1 기넥신에프정(은행엽엑스)(수출용), 1 메가파워정 90mg/병, 1 아토젯정 10/40mg, 1 로수바미브정 10/20mg, 12.3ms\n",
            "image 504/843 /content/drive/MyDrive/codeit_level1_project/data/test_images/47.png: 640x512 1 자이프렉사정 2.5mg, 1 란스톤엘에프디티정 30mg, 1 트루비타정 60mg/병, 1 노바스크정 5mg, 1 쿠에타핀정 25mg, 1 낙소졸정 500/20mg, 12.6ms\n",
            "image 505/843 /content/drive/MyDrive/codeit_level1_project/data/test_images/472.png: 640x512 1 보령부스파정 5mg, 1 오마코연질캡슐(오메가-3-산에틸에스테르90), 1 종근당글리아티린연질캡슐(콜린알포세레이트) , 1 레일라정, 12.3ms\n",
            "image 506/843 /content/drive/MyDrive/codeit_level1_project/data/test_images/474.png: 640x512 1 보령부스파정 5mg, 1 오마코연질캡슐(오메가-3-산에틸에스테르90), 1 종근당글리아티린연질캡슐(콜린알포세레이트) , 1 마도파정, 1 레일라정, 12.3ms\n",
            "image 507/843 /content/drive/MyDrive/codeit_level1_project/data/test_images/475.png: 640x512 1 란스톤엘에프디티정 30mg, 1 펠루비정(펠루비프로펜), 1 신바로정, 1 브린텔릭스정 20mg, 1 로수젯정10/5밀리그램, 12.3ms\n",
            "image 508/843 /content/drive/MyDrive/codeit_level1_project/data/test_images/477.png: 640x512 1 란스톤엘에프디티정 30mg, 1 신바로정, 1 브린텔릭스정 20mg, 1 로수젯정10/5밀리그램, 12.5ms\n",
            "image 509/843 /content/drive/MyDrive/codeit_level1_project/data/test_images/479.png: 640x512 1 기넥신에프정(은행엽엑스)(수출용), 1 아빌리파이정 10mg, 1 울트라셋이알서방정, 1 트라젠타듀오정 2.5/850mg, 12.9ms\n",
            "image 510/843 /content/drive/MyDrive/codeit_level1_project/data/test_images/481.png: 640x512 1 동아가바펜틴정 800mg, 1 란스톤엘에프디티정 30mg, 1 노바스크정 5mg, 1 펠루비정(펠루비프로펜), 1 브린텔릭스정 20mg, 12.5ms\n",
            "image 511/843 /content/drive/MyDrive/codeit_level1_project/data/test_images/482.png: 640x512 1 동아가바펜틴정 800mg, 1 란스톤엘에프디티정 30mg, 1 노바스크정 5mg, 1 펠루비정(펠루비프로펜), 1 낙소졸정 500/20mg, 12.4ms\n",
            "image 512/843 /content/drive/MyDrive/codeit_level1_project/data/test_images/484.png: 640x512 1 뮤테란캡슐 100mg, 1 아모잘탄정 5/100mg, 1 트윈스타정 40/5mg, 1 렉사프로정 15mg, 12.5ms\n",
            "image 513/843 /content/drive/MyDrive/codeit_level1_project/data/test_images/485.png: 640x512 1 뮤테란캡슐 100mg, 1 아모잘탄정 5/100mg, 1 트윈스타정 40/5mg, 1 렉사프로정 15mg, 12.2ms\n",
            "image 514/843 /content/drive/MyDrive/codeit_level1_project/data/test_images/486.png: 640x512 1 뮤테란캡슐 100mg, 1 아모잘탄정 5/100mg, 1 트윈스타정 40/5mg, 1 렉사프로정 15mg, 12.2ms\n",
            "image 515/843 /content/drive/MyDrive/codeit_level1_project/data/test_images/487.png: 640x512 1 기넥신에프정(은행엽엑스)(수출용), 1 리피토정 20mg, 1 카나브정 60mg, 1 로수바미브정 10/20mg, 12.8ms\n",
            "image 516/843 /content/drive/MyDrive/codeit_level1_project/data/test_images/493.png: 640x512 1 보령부스파정 5mg, 1 리리카캡슐 150mg, 1 플라빅스정 75mg, 1 카발린캡슐 25mg, 12.4ms\n",
            "image 517/843 /content/drive/MyDrive/codeit_level1_project/data/test_images/494.png: 640x512 1 보령부스파정 5mg, 1 리피토정 20mg, 1 리리카캡슐 150mg, 1 플라빅스정 75mg, 1 카발린캡슐 25mg, 14.2ms\n",
            "image 518/843 /content/drive/MyDrive/codeit_level1_project/data/test_images/496.png: 640x512 1 뮤테란캡슐 100mg, 1 일양하이트린정 2mg, 1 타이레놀정500mg, 1 트윈스타정 40/5mg, 1 레일라정, 1 로수바미브정 10/20mg, 12.3ms\n",
            "image 519/843 /content/drive/MyDrive/codeit_level1_project/data/test_images/497.png: 640x512 1 타이레놀정500mg, 1 아빌리파이정 10mg, 1 트윈스타정 40/5mg, 1 로수바미브정 10/20mg, 12.3ms\n",
            "image 520/843 /content/drive/MyDrive/codeit_level1_project/data/test_images/499.png: 640x512 1 기넥신에프정(은행엽엑스)(수출용), 1 라비에트정 20mg, 1 울트라셋이알서방정, 1 에스원엠프정 20mg, 12.4ms\n",
            "image 521/843 /content/drive/MyDrive/codeit_level1_project/data/test_images/5.png: 640x512 1 뉴로메드정(옥시라세탐), 1 삼남건조수산화알루미늄겔정, 1 조인스정 200mg, 1 리리카캡슐 150mg, 1 콜리네이트연질캡슐 400mg, 12.3ms\n",
            "image 522/843 /content/drive/MyDrive/codeit_level1_project/data/test_images/500.png: 640x512 1 기넥신에프정(은행엽엑스)(수출용), 1 라비에트정 20mg, 1 울트라셋이알서방정, 1 에스원엠프정 20mg, 12.2ms\n",
            "image 523/843 /content/drive/MyDrive/codeit_level1_project/data/test_images/501.png: 640x512 1 기넥신에프정(은행엽엑스)(수출용), 1 라비에트정 20mg, 1 울트라셋이알서방정, 1 에스원엠프정 20mg, 12.4ms\n",
            "image 524/843 /content/drive/MyDrive/codeit_level1_project/data/test_images/502.png: 640x512 1 기넥신에프정(은행엽엑스)(수출용), 1 라비에트정 20mg, 1 제미메트서방정 50/1000mg, 1 케이캡정 50mg, 15.2ms\n",
            "image 525/843 /content/drive/MyDrive/codeit_level1_project/data/test_images/503.png: 640x512 1 기넥신에프정(은행엽엑스)(수출용), 1 라비에트정 20mg, 1 제미메트서방정 50/1000mg, 1 케이캡정 50mg, 12.8ms\n",
            "image 526/843 /content/drive/MyDrive/codeit_level1_project/data/test_images/506.png: 640x512 1 리렉스펜정 300mg/PTP, 1 리피토정 20mg, 1 자누비아정 50mg, 1 트윈스타정 40/5mg, 12.3ms\n",
            "image 527/843 /content/drive/MyDrive/codeit_level1_project/data/test_images/507.png: 640x512 1 알드린정, 1 리렉스펜정 300mg/PTP, 1 리피토정 20mg, 1 트윈스타정 40/5mg, 12.4ms\n",
            "image 528/843 /content/drive/MyDrive/codeit_level1_project/data/test_images/508.png: 640x512 1 다보타민큐정 10mg/병, 1 에빅사정(메만틴염산염)(비매품), 1 트윈스타정 40/5mg, 12.3ms\n",
            "image 529/843 /content/drive/MyDrive/codeit_level1_project/data/test_images/509.png: 640x512 1 다보타민큐정 10mg/병, 1 에빅사정(메만틴염산염)(비매품), 1 리피토정 20mg, 1 트윈스타정 40/5mg, 1 카나브정 60mg, 12.7ms\n",
            "image 530/843 /content/drive/MyDrive/codeit_level1_project/data/test_images/511.png: 640x512 1 기넥신에프정(은행엽엑스)(수출용), 1 알드린정, 1 아빌리파이정 10mg, 1 울트라셋이알서방정, 12.7ms\n",
            "image 531/843 /content/drive/MyDrive/codeit_level1_project/data/test_images/515.png: 640x512 1 기넥신에프정(은행엽엑스)(수출용), 1 메가파워정 90mg/병, 1 트라젠타듀오정 2.5/850mg, 1 제미메트서방정 50/1000mg, 12.4ms\n",
            "image 532/843 /content/drive/MyDrive/codeit_level1_project/data/test_images/516.png: 640x512 1 기넥신에프정(은행엽엑스)(수출용), 1 라비에트정 20mg, 1 메가파워정 90mg/병, 1 트라젠타듀오정 2.5/850mg, 1 제미메트서방정 50/1000mg, 12.4ms\n",
            "image 533/843 /content/drive/MyDrive/codeit_level1_project/data/test_images/517.png: 640x512 1 기넥신에프정(은행엽엑스)(수출용), 1 아빌리파이정 10mg, 1 마도파정, 1 카나브정 60mg, 12.4ms\n",
            "image 534/843 /content/drive/MyDrive/codeit_level1_project/data/test_images/518.png: 640x512 1 기넥신에프정(은행엽엑스)(수출용), 1 아빌리파이정 10mg, 1 마도파정, 1 카나브정 60mg, 12.4ms\n",
            "image 535/843 /content/drive/MyDrive/codeit_level1_project/data/test_images/519.png: 640x512 1 기넥신에프정(은행엽엑스)(수출용), 1 아빌리파이정 10mg, 1 마도파정, 1 카나브정 60mg, 12.6ms\n",
            "image 536/843 /content/drive/MyDrive/codeit_level1_project/data/test_images/520.png: 640x512 1 기넥신에프정(은행엽엑스)(수출용), 1 써스펜8시간이알서방정 650mg, 1 트라젠타듀오정 2.5/850mg, 1 아토젯정 10/40mg, 12.2ms\n",
            "image 537/843 /content/drive/MyDrive/codeit_level1_project/data/test_images/521.png: 640x512 1 기넥신에프정(은행엽엑스)(수출용), 1 써스펜8시간이알서방정 650mg, 1 트라젠타듀오정 2.5/850mg, 1 아토젯정 10/40mg, 12.4ms\n",
            "image 538/843 /content/drive/MyDrive/codeit_level1_project/data/test_images/522.png: 640x512 1 기넥신에프정(은행엽엑스)(수출용), 1 써스펜8시간이알서방정 650mg, 1 트라젠타듀오정 2.5/850mg, 1 아토젯정 10/40mg, 12.3ms\n",
            "image 539/843 /content/drive/MyDrive/codeit_level1_project/data/test_images/525.png: 640x512 1 기넥신에프정(은행엽엑스)(수출용), 1 리피토정 20mg, 1 아토젯정 10/40mg, 1 로수바미브정 10/20mg, 12.9ms\n",
            "image 540/843 /content/drive/MyDrive/codeit_level1_project/data/test_images/526.png: 640x512 1 기넥신에프정(은행엽엑스)(수출용), 1 알드린정, 1 에스원엠프정 20mg, 1 제미메트서방정 50/1000mg, 12.2ms\n",
            "image 541/843 /content/drive/MyDrive/codeit_level1_project/data/test_images/527.png: 640x512 1 기넥신에프정(은행엽엑스)(수출용), 1 알드린정, 1 에스원엠프정 20mg, 1 제미메트서방정 50/1000mg, 12.7ms\n",
            "image 542/843 /content/drive/MyDrive/codeit_level1_project/data/test_images/528.png: 640x512 1 기넥신에프정(은행엽엑스)(수출용), 1 알드린정, 1 에스원엠프정 20mg, 1 제미메트서방정 50/1000mg, 12.5ms\n",
            "image 543/843 /content/drive/MyDrive/codeit_level1_project/data/test_images/529.png: 640x512 1 기넥신에프정(은행엽엑스)(수출용), 1 라비에트정 20mg, 1 졸로푸트정 100mg, 1 케이캡정 50mg, 12.2ms\n",
            "image 544/843 /content/drive/MyDrive/codeit_level1_project/data/test_images/53.png: 640x512 1 란스톤엘에프디티정 30mg, 1 스토가정 10mg, 1 신바로정, 1 브린텔릭스정 20mg, 12.7ms\n",
            "image 545/843 /content/drive/MyDrive/codeit_level1_project/data/test_images/530.png: 640x512 1 기넥신에프정(은행엽엑스)(수출용), 1 라비에트정 20mg, 1 졸로푸트정 100mg, 1 케이캡정 50mg, 13.1ms\n",
            "image 546/843 /content/drive/MyDrive/codeit_level1_project/data/test_images/531.png: 640x512 1 기넥신에프정(은행엽엑스)(수출용), 1 라비에트정 20mg, 1 졸로푸트정 100mg, 1 케이캡정 50mg, 12.6ms\n",
            "image 547/843 /content/drive/MyDrive/codeit_level1_project/data/test_images/532.png: 640x512 1 란스톤엘에프디티정 30mg, 1 노바스크정 5mg, 1 펠루비정(펠루비프로펜), 1 브린텔릭스정 20mg, 1 로수젯정10/5밀리그램, 12.2ms\n",
            "image 548/843 /content/drive/MyDrive/codeit_level1_project/data/test_images/533.png: 640x512 1 란스톤엘에프디티정 30mg, 1 노바스크정 5mg, 1 쿠에타핀정 25mg, 1 비모보정 500/20mg, 1 브린텔릭스정 20mg, 1 글리틴정(콜린알포세레이트), 1 로수젯정10/5밀리그램, 12.5ms\n",
            "image 549/843 /content/drive/MyDrive/codeit_level1_project/data/test_images/534.png: 640x512 2 란스톤엘에프디티정 30mgs, 1 노바스크정 5mg, 1 쿠에타핀정 25mg, 1 브린텔릭스정 20mg, 1 글리틴정(콜린알포세레이트), 1 로수젯정10/5밀리그램, 12.5ms\n",
            "image 550/843 /content/drive/MyDrive/codeit_level1_project/data/test_images/535.png: 640x512 1 기넥신에프정(은행엽엑스)(수출용), 1 무코스타정(레바미피드)(비매품), 1 아빌리파이정 10mg, 1 라비에트정 20mg, 1 카나브정 60mg, 13.2ms\n",
            "image 551/843 /content/drive/MyDrive/codeit_level1_project/data/test_images/536.png: 640x512 1 기넥신에프정(은행엽엑스)(수출용), 1 무코스타정(레바미피드)(비매품), 1 아빌리파이정 10mg, 1 라비에트정 20mg, 1 카나브정 60mg, 1 아질렉트정(라사길린메실산염), 16.3ms\n",
            "image 552/843 /content/drive/MyDrive/codeit_level1_project/data/test_images/537.png: 640x512 1 기넥신에프정(은행엽엑스)(수출용), 1 무코스타정(레바미피드)(비매품), 1 아빌리파이정 10mg, 1 라비에트정 20mg, 1 카나브정 60mg, 13.4ms\n",
            "image 553/843 /content/drive/MyDrive/codeit_level1_project/data/test_images/539.png: 640x512 1 리렉스펜정 300mg/PTP, 1 크레스토정 20mg, 1 트윈스타정 40/5mg, 1 울트라셋이알서방정, 12.3ms\n",
            "image 554/843 /content/drive/MyDrive/codeit_level1_project/data/test_images/54.png: 640x512 1 란스톤엘에프디티정 30mg, 1 스토가정 10mg, 1 펠루비정(펠루비프로펜), 1 신바로정, 1 브린텔릭스정 20mg, 12.2ms\n",
            "image 555/843 /content/drive/MyDrive/codeit_level1_project/data/test_images/540.png: 640x512 1 리렉스펜정 300mg/PTP, 1 크레스토정 20mg, 1 트윈스타정 40/5mg, 1 제미메트서방정 50/1000mg, 12.6ms\n",
            "image 556/843 /content/drive/MyDrive/codeit_level1_project/data/test_images/541.png: 640x512 1 기넥신에프정(은행엽엑스)(수출용), 1 알드린정, 1 리피토정 20mg, 1 카나브정 60mg, 12.6ms\n",
            "image 557/843 /content/drive/MyDrive/codeit_level1_project/data/test_images/542.png: 640x512 1 기넥신에프정(은행엽엑스)(수출용), 1 알드린정, 1 리피토정 20mg, 1 카나브정 60mg, 12.9ms\n",
            "image 558/843 /content/drive/MyDrive/codeit_level1_project/data/test_images/543.png: 640x512 1 기넥신에프정(은행엽엑스)(수출용), 1 알드린정, 1 리피토정 20mg, 1 카나브정 60mg, 12.3ms\n",
            "image 559/843 /content/drive/MyDrive/codeit_level1_project/data/test_images/545.png: 640x512 1 기넥신에프정(은행엽엑스)(수출용), 1 써스펜8시간이알서방정 650mg, 1 졸로푸트정 100mg, 1 트라젠타듀오정 2.5/850mg, 1 케이캡정 50mg, 12.4ms\n",
            "image 560/843 /content/drive/MyDrive/codeit_level1_project/data/test_images/546.png: 640x512 1 기넥신에프정(은행엽엑스)(수출용), 1 써스펜8시간이알서방정 650mg, 1 졸로푸트정 100mg, 1 트라젠타듀오정 2.5/850mg, 12.4ms\n",
            "image 561/843 /content/drive/MyDrive/codeit_level1_project/data/test_images/547.png: 640x512 1 기넥신에프정(은행엽엑스)(수출용), 1 아빌리파이정 10mg, 1 큐시드정 31.5mg/PTP, 1 졸로푸트정 100mg, 12.4ms\n",
            "image 562/843 /content/drive/MyDrive/codeit_level1_project/data/test_images/548.png: 640x512 1 기넥신에프정(은행엽엑스)(수출용), 1 아빌리파이정 10mg, 1 큐시드정 31.5mg/PTP, 1 졸로푸트정 100mg, 12.4ms\n",
            "image 563/843 /content/drive/MyDrive/codeit_level1_project/data/test_images/55.png: 640x512 1 삐콤씨에프정 618.6mg/병, 1 조인스정 200mg, 1 크레스토정 20mg, 1 아모잘탄정 5/100mg, 1 트윈스타정 40/5mg, 1 케이캡정 50mg, 12.4ms\n",
            "image 564/843 /content/drive/MyDrive/codeit_level1_project/data/test_images/551.png: 640x512 1 기넥신에프정(은행엽엑스)(수출용), 1 마도파정, 1 제미메트서방정 50/1000mg, 1 케이캡정 50mg, 12.1ms\n",
            "image 565/843 /content/drive/MyDrive/codeit_level1_project/data/test_images/552.png: 640x512 1 기넥신에프정(은행엽엑스)(수출용), 1 마도파정, 1 제미메트서방정 50/1000mg, 1 케이캡정 50mg, 12.3ms\n",
            "image 566/843 /content/drive/MyDrive/codeit_level1_project/data/test_images/553.png: 640x512 1 기넥신에프정(은행엽엑스)(수출용), 1 리피토정 20mg, 1 라비에트정 20mg, 1 비모보정 500/20mg, 12.6ms\n",
            "image 567/843 /content/drive/MyDrive/codeit_level1_project/data/test_images/555.png: 640x512 1 기넥신에프정(은행엽엑스)(수출용), 1 리피토정 20mg, 1 라비에트정 20mg, 1 비모보정 500/20mg, 12.5ms\n",
            "image 568/843 /content/drive/MyDrive/codeit_level1_project/data/test_images/56.png: 640x512 1 크레스토정 20mg, 1 아모잘탄정 5/100mg, 1 트윈스타정 40/5mg, 1 케이캡정 50mg, 12.9ms\n",
            "image 569/843 /content/drive/MyDrive/codeit_level1_project/data/test_images/560.png: 640x512 1 기넥신에프정(은행엽엑스)(수출용), 1 무코스타정(레바미피드)(비매품), 1 알드린정, 1 메가파워정 90mg/병, 1 제미메트서방정 50/1000mg, 12.2ms\n",
            "image 570/843 /content/drive/MyDrive/codeit_level1_project/data/test_images/564.png: 640x512 1 보령부스파정 5mg, 1 삼남건조수산화알루미늄겔정, 1 타이레놀이알서방정(아세트아미노펜)(수출용), 1 리리카캡슐 150mg, 1 엑스포지정 5/160mg, 12.2ms\n",
            "image 571/843 /content/drive/MyDrive/codeit_level1_project/data/test_images/565.png: 640x512 1 에어탈정(아세클로페낙), 1 자이프렉사정 2.5mg, 1 란스톤엘에프디티정 30mg, 1 스토가정 10mg, 1 노바스크정 5mg, 1 펠루비정(펠루비프로펜), 1 비모보정 500/20mg, 12.4ms\n",
            "image 572/843 /content/drive/MyDrive/codeit_level1_project/data/test_images/569.png: 640x512 1 에어탈정(아세클로페낙), 1 자이프렉사정 2.5mg, 1 란스톤엘에프디티정 30mg, 1 스토가정 10mg, 1 노바스크정 5mg, 1 쿠에타핀정 25mg, 12.4ms\n",
            "image 573/843 /content/drive/MyDrive/codeit_level1_project/data/test_images/571.png: 640x512 1 뉴로메드정(옥시라세탐), 1 삼남건조수산화알루미늄겔정, 1 리리카캡슐 150mg, 1 카발린캡슐 25mg, 12.3ms\n",
            "image 574/843 /content/drive/MyDrive/codeit_level1_project/data/test_images/572.png: 640x512 1 뉴로메드정(옥시라세탐), 1 삼남건조수산화알루미늄겔정, 1 리리카캡슐 150mg, 1 카발린캡슐 25mg, 12.3ms\n",
            "image 575/843 /content/drive/MyDrive/codeit_level1_project/data/test_images/573.png: 640x512 1 뉴로메드정(옥시라세탐), 1 삼남건조수산화알루미늄겔정, 1 리리카캡슐 150mg, 1 카발린캡슐 25mg, 12.2ms\n",
            "image 576/843 /content/drive/MyDrive/codeit_level1_project/data/test_images/574.png: 640x512 1 동아가바펜틴정 800mg, 1 란스톤엘에프디티정 30mg, 1 트루비타정 60mg/병, 1 노바스크정 5mg, 1 펠루비정(펠루비프로펜), 1 쿠에타핀정 25mg, 1 브린텔릭스정 20mg, 12.2ms\n",
            "image 577/843 /content/drive/MyDrive/codeit_level1_project/data/test_images/575.png: 640x512 1 동아가바펜틴정 800mg, 1 란스톤엘에프디티정 30mg, 1 노바스크정 5mg, 1 펠루비정(펠루비프로펜), 1 낙소졸정 500/20mg, 1 브린텔릭스정 20mg, 12.3ms\n",
            "image 578/843 /content/drive/MyDrive/codeit_level1_project/data/test_images/576.png: 640x512 1 동아가바펜틴정 800mg, 1 란스톤엘에프디티정 30mg, 1 노바스크정 5mg, 1 펠루비정(펠루비프로펜), 1 브린텔릭스정 20mg, 12.5ms\n",
            "image 579/843 /content/drive/MyDrive/codeit_level1_project/data/test_images/577.png: 640x512 1 보령부스파정 5mg, 1 삼남건조수산화알루미늄겔정, 1 오마코연질캡슐(오메가-3-산에틸에스테르90), 1 리리카캡슐 150mg, 1 엑스포지정 5/160mg, 12.3ms\n",
            "image 580/843 /content/drive/MyDrive/codeit_level1_project/data/test_images/578.png: 640x512 1 보령부스파정 5mg, 1 삼남건조수산화알루미늄겔정, 1 리리카캡슐 150mg, 1 플라빅스정 75mg, 1 엑스포지정 5/160mg, 12.2ms\n",
            "image 581/843 /content/drive/MyDrive/codeit_level1_project/data/test_images/579.png: 640x512 1 보령부스파정 5mg, 1 삼남건조수산화알루미늄겔정, 1 오마코연질캡슐(오메가-3-산에틸에스테르90), 1 리리카캡슐 150mg, 1 플라빅스정 75mg, 1 엑스포지정 5/160mg, 12.3ms\n",
            "image 582/843 /content/drive/MyDrive/codeit_level1_project/data/test_images/58.png: 640x512 1 기넥신에프정(은행엽엑스)(수출용), 1 알드린정, 1 메가파워정 90mg/병, 1 비모보정 500/20mg, 13.5ms\n",
            "image 583/843 /content/drive/MyDrive/codeit_level1_project/data/test_images/581.png: 640x512 2 보령부스파정 5mgs, 1 뉴로메드정(옥시라세탐), 1 리리카캡슐 150mg, 1 엑스포지정 5/160mg, 1 레일라정, 12.2ms\n",
            "image 584/843 /content/drive/MyDrive/codeit_level1_project/data/test_images/583.png: 640x512 1 리피토정 20mg, 2 란스톤엘에프디티정 30mgs, 1 노바스크정 5mg, 1 펠루비정(펠루비프로펜), 1 브린텔릭스정 20mg, 1 로수젯정10/5밀리그램, 12.2ms\n",
            "image 585/843 /content/drive/MyDrive/codeit_level1_project/data/test_images/584.png: 640x512 1 란스톤엘에프디티정 30mg, 1 노바스크정 5mg, 1 브린텔릭스정 20mg, 1 로수젯정10/5밀리그램, 12.3ms\n",
            "image 586/843 /content/drive/MyDrive/codeit_level1_project/data/test_images/586.png: 640x512 1 기넥신에프정(은행엽엑스)(수출용), 1 무코스타정(레바미피드)(비매품), 1 아빌리파이정 10mg, 1 라비에트정 20mg, 1 아질렉트정(라사길린메실산염), 1 아토젯정 10/40mg, 12.4ms\n",
            "image 587/843 /content/drive/MyDrive/codeit_level1_project/data/test_images/587.png: 640x512 1 기넥신에프정(은행엽엑스)(수출용), 1 무코스타정(레바미피드)(비매품), 1 아빌리파이정 10mg, 1 라비에트정 20mg, 1 아토젯정 10/40mg, 12.9ms\n",
            "image 588/843 /content/drive/MyDrive/codeit_level1_project/data/test_images/588.png: 640x512 1 기넥신에프정(은행엽엑스)(수출용), 1 무코스타정(레바미피드)(비매품), 1 아빌리파이정 10mg, 1 라비에트정 20mg, 1 아토젯정 10/40mg, 12.7ms\n",
            "image 589/843 /content/drive/MyDrive/codeit_level1_project/data/test_images/589.png: 640x512 1 기넥신에프정(은행엽엑스)(수출용), 1 알드린정, 1 울트라셋이알서방정, 1 에스원엠프정 20mg, 12.3ms\n",
            "image 590/843 /content/drive/MyDrive/codeit_level1_project/data/test_images/591.png: 640x512 1 기넥신에프정(은행엽엑스)(수출용), 1 알드린정, 1 울트라셋이알서방정, 1 에스원엠프정 20mg, 12.5ms\n",
            "image 591/843 /content/drive/MyDrive/codeit_level1_project/data/test_images/592.png: 640x512 1 기넥신에프정(은행엽엑스)(수출용), 1 알드린정, 1 써스펜8시간이알서방정 650mg, 1 아토젯정 10/40mg, 12.1ms\n",
            "image 592/843 /content/drive/MyDrive/codeit_level1_project/data/test_images/593.png: 640x512 1 기넥신에프정(은행엽엑스)(수출용), 1 알드린정, 1 써스펜8시간이알서방정 650mg, 1 아토젯정 10/40mg, 12.3ms\n",
            "image 593/843 /content/drive/MyDrive/codeit_level1_project/data/test_images/594.png: 640x512 1 기넥신에프정(은행엽엑스)(수출용), 1 알드린정, 1 써스펜8시간이알서방정 650mg, 1 아토젯정 10/40mg, 12.6ms\n",
            "image 594/843 /content/drive/MyDrive/codeit_level1_project/data/test_images/595.png: 640x512 1 리피토정 20mg, 1 노바스크정 5mg, 1 트윈스타정 40/5mg, 1 렉사프로정 15mg, 2 로수바미브정 10/20mgs, 12.2ms\n",
            "image 595/843 /content/drive/MyDrive/codeit_level1_project/data/test_images/596.png: 640x512 1 뮤테란캡슐 100mg, 1 리피토정 20mg, 1 트윈스타정 40/5mg, 1 렉사프로정 15mg, 12.3ms\n",
            "image 596/843 /content/drive/MyDrive/codeit_level1_project/data/test_images/598.png: 640x512 1 일양하이트린정 2mg, 1 아빌리파이정 10mg, 1 트윈스타정 40/5mg, 1 레일라정, 12.4ms\n",
            "image 597/843 /content/drive/MyDrive/codeit_level1_project/data/test_images/60.png: 640x512 1 기넥신에프정(은행엽엑스)(수출용), 1 알드린정, 1 메가파워정 90mg/병, 1 비모보정 500/20mg, 12.2ms\n",
            "image 598/843 /content/drive/MyDrive/codeit_level1_project/data/test_images/600.png: 640x512 1 일양하이트린정 2mg, 1 아빌리파이정 10mg, 1 트윈스타정 40/5mg, 12.4ms\n",
            "image 599/843 /content/drive/MyDrive/codeit_level1_project/data/test_images/601.png: 640x512 1 기넥신에프정(은행엽엑스)(수출용), 1 카나브정 60mg, 1 에스원엠프정 20mg, 1 로수바미브정 10/20mg, 12.1ms\n",
            "image 600/843 /content/drive/MyDrive/codeit_level1_project/data/test_images/602.png: 640x512 1 기넥신에프정(은행엽엑스)(수출용), 1 카나브정 60mg, 1 에스원엠프정 20mg, 1 로수바미브정 10/20mg, 12.3ms\n",
            "image 601/843 /content/drive/MyDrive/codeit_level1_project/data/test_images/603.png: 640x512 1 기넥신에프정(은행엽엑스)(수출용), 1 카나브정 60mg, 1 에스원엠프정 20mg, 1 로수바미브정 10/20mg, 12.4ms\n",
            "image 602/843 /content/drive/MyDrive/codeit_level1_project/data/test_images/605.png: 640x512 1 기넥신에프정(은행엽엑스)(수출용), 1 아빌리파이정 10mg, 1 마도파정, 1 아토젯정 10/40mg, 15.5ms\n",
            "image 603/843 /content/drive/MyDrive/codeit_level1_project/data/test_images/608.png: 640x512 1 일양하이트린정 2mg, 1 써스펜8시간이알서방정 650mg, 1 트윈스타정 40/5mg, 1 레일라정, 12.0ms\n",
            "image 604/843 /content/drive/MyDrive/codeit_level1_project/data/test_images/610.png: 640x512 1 기넥신에프정(은행엽엑스)(수출용), 1 리피토정 20mg, 1 마도파정, 1 비모보정 500/20mg, 12.4ms\n",
            "image 605/843 /content/drive/MyDrive/codeit_level1_project/data/test_images/611.png: 640x512 1 기넥신에프정(은행엽엑스)(수출용), 1 리피토정 20mg, 1 마도파정, 1 비모보정 500/20mg, 12.1ms\n",
            "image 606/843 /content/drive/MyDrive/codeit_level1_project/data/test_images/612.png: 640x512 1 기넥신에프정(은행엽엑스)(수출용), 1 리피토정 20mg, 1 마도파정, 1 비모보정 500/20mg, 12.3ms\n",
            "image 607/843 /content/drive/MyDrive/codeit_level1_project/data/test_images/614.png: 640x512 1 에빅사정(메만틴염산염)(비매품), 1 노바스크정 5mg, 1 트윈스타정 40/5mg, 1 레일라정, 12.3ms\n",
            "image 608/843 /content/drive/MyDrive/codeit_level1_project/data/test_images/615.png: 640x512 1 에빅사정(메만틴염산염)(비매품), 1 노바스크정 5mg, 1 트윈스타정 40/5mg, 1 레일라정, 1 자누메트엑스알서방정 100/1000mg, 12.4ms\n",
            "image 609/843 /content/drive/MyDrive/codeit_level1_project/data/test_images/616.png: 640x512 1 기넥신에프정(은행엽엑스)(수출용), 1 알드린정, 1 리피토정 20mg, 1 아토젯정 10/40mg, 12.2ms\n",
            "image 610/843 /content/drive/MyDrive/codeit_level1_project/data/test_images/617.png: 640x512 1 기넥신에프정(은행엽엑스)(수출용), 1 알드린정, 1 리피토정 20mg, 1 아토젯정 10/40mg, 12.3ms\n",
            "image 611/843 /content/drive/MyDrive/codeit_level1_project/data/test_images/618.png: 640x512 1 기넥신에프정(은행엽엑스)(수출용), 1 알드린정, 1 리피토정 20mg, 1 아토젯정 10/40mg, 12.6ms\n",
            "image 612/843 /content/drive/MyDrive/codeit_level1_project/data/test_images/62.png: 640x512 1 아빌리파이정 10mg, 1 다보타민큐정 10mg/병, 1 트윈스타정 40/5mg, 12.3ms\n",
            "image 613/843 /content/drive/MyDrive/codeit_level1_project/data/test_images/620.png: 640x512 1 가바토파정 100mg, 1 란스톤엘에프디티정 30mg, 1 트루비타정 60mg/병, 1 노바스크정 5mg, 1 쿠에타핀정 25mg, 1 낙소졸정 500/20mg, 12.3ms\n",
            "image 614/843 /content/drive/MyDrive/codeit_level1_project/data/test_images/621.png: 640x512 1 가바토파정 100mg, 1 란스톤엘에프디티정 30mg, 1 트루비타정 60mg/병, 1 노바스크정 5mg, 12.5ms\n",
            "image 615/843 /content/drive/MyDrive/codeit_level1_project/data/test_images/622.png: 640x512 1 에빅사정(메만틴염산염)(비매품), 1 트윈스타정 40/5mg, 1 낙소졸정 500/20mg, 12.2ms\n",
            "image 616/843 /content/drive/MyDrive/codeit_level1_project/data/test_images/623.png: 640x512 1 에빅사정(메만틴염산염)(비매품), 1 비타비백정 100mg/병, 1 트윈스타정 40/5mg, 1 낙소졸정 500/20mg, 12.5ms\n",
            "image 617/843 /content/drive/MyDrive/codeit_level1_project/data/test_images/624.png: 640x512 1 에빅사정(메만틴염산염)(비매품), 1 리피토정 20mg, 1 트윈스타정 40/5mg, 1 카나브정 60mg, 1 낙소졸정 500/20mg, 12.6ms\n",
            "image 618/843 /content/drive/MyDrive/codeit_level1_project/data/test_images/625.png: 640x512 1 기넥신에프정(은행엽엑스)(수출용), 1 에스원엠프정 20mg, 1 제미메트서방정 50/1000mg, 1 로수바미브정 10/20mg, 12.4ms\n",
            "image 619/843 /content/drive/MyDrive/codeit_level1_project/data/test_images/627.png: 640x512 1 기넥신에프정(은행엽엑스)(수출용), 1 에스원엠프정 20mg, 1 제미메트서방정 50/1000mg, 1 로수바미브정 10/20mg, 13.0ms\n",
            "image 620/843 /content/drive/MyDrive/codeit_level1_project/data/test_images/628.png: 640x512 1 기넥신에프정(은행엽엑스)(수출용), 1 리피토정 20mg, 1 졸로푸트정 100mg, 1 로수바미브정 10/20mg, 14.2ms\n",
            "image 621/843 /content/drive/MyDrive/codeit_level1_project/data/test_images/632.png: 640x512 2 란스톤엘에프디티정 30mgs, 1 트루비타정 60mg/병, 1 펠루비정(펠루비프로펜), 1 신바로정, 1 브린텔릭스정 20mg, 12.2ms\n",
            "image 622/843 /content/drive/MyDrive/codeit_level1_project/data/test_images/633.png: 640x512 1 란스톤엘에프디티정 30mg, 1 트루비타정 60mg/병, 1 신바로정, 1 브린텔릭스정 20mg, 12.3ms\n",
            "image 623/843 /content/drive/MyDrive/codeit_level1_project/data/test_images/635.png: 640x512 1 보령부스파정 5mg, 1 오마코연질캡슐(오메가-3-산에틸에스테르90), 1 종근당글리아티린연질캡슐(콜린알포세레이트) , 1 자누메트정 50/850mg, 12.2ms\n",
            "image 624/843 /content/drive/MyDrive/codeit_level1_project/data/test_images/636.png: 640x512 1 보령부스파정 5mg, 1 쎄로켈정 100mg, 1 오마코연질캡슐(오메가-3-산에틸에스테르90), 1 종근당글리아티린연질캡슐(콜린알포세레이트) , 1 자누메트정 50/850mg, 12.3ms\n",
            "image 625/843 /content/drive/MyDrive/codeit_level1_project/data/test_images/637.png: 640x512 1 란스톤엘에프디티정 30mg, 1 스토가정 10mg, 1 노바스크정 5mg, 1 펠루비정(펠루비프로펜), 1 울트라셋이알서방정, 1 브린텔릭스정 20mg, 12.3ms\n",
            "image 626/843 /content/drive/MyDrive/codeit_level1_project/data/test_images/638.png: 640x512 1 란스톤엘에프디티정 30mg, 1 스토가정 10mg, 1 노바스크정 5mg, 1 쿠에타핀정 25mg, 1 울트라셋이알서방정, 1 브린텔릭스정 20mg, 1 글리틴정(콜린알포세레이트), 12.3ms\n",
            "image 627/843 /content/drive/MyDrive/codeit_level1_project/data/test_images/64.png: 640x512 1 삐콤씨에프정 618.6mg/병, 1 써스펜8시간이알서방정 650mg, 1 크레스토정 20mg, 1 트윈스타정 40/5mg, 1 케이캡정 50mg, 12.9ms\n",
            "image 628/843 /content/drive/MyDrive/codeit_level1_project/data/test_images/640.png: 640x512 1 타이레놀정500mg, 1 트윈스타정 40/5mg, 2 로수바미브정 10/20mgs, 1 케이캡정 50mg, 12.6ms\n",
            "image 629/843 /content/drive/MyDrive/codeit_level1_project/data/test_images/641.png: 640x512 1 타이레놀정500mg, 1 트윈스타정 40/5mg, 1 로수바미브정 10/20mg, 1 케이캡정 50mg, 12.4ms\n",
            "image 630/843 /content/drive/MyDrive/codeit_level1_project/data/test_images/644.png: 640x512 1 란스톤엘에프디티정 30mg, 1 스토가정 10mg, 1 노바스크정 5mg, 1 펠루비정(펠루비프로펜), 1 낙소졸정 500/20mg, 1 브린텔릭스정 20mg, 12.5ms\n",
            "image 631/843 /content/drive/MyDrive/codeit_level1_project/data/test_images/646.png: 640x512 1 기넥신에프정(은행엽엑스)(수출용), 1 아빌리파이정 10mg, 1 비모보정 500/20mg, 1 트라젠타듀오정 2.5/850mg, 12.2ms\n",
            "image 632/843 /content/drive/MyDrive/codeit_level1_project/data/test_images/647.png: 640x512 1 기넥신에프정(은행엽엑스)(수출용), 1 아빌리파이정 10mg, 1 비모보정 500/20mg, 1 트라젠타듀오정 2.5/850mg, 13.6ms\n",
            "image 633/843 /content/drive/MyDrive/codeit_level1_project/data/test_images/648.png: 640x512 1 기넥신에프정(은행엽엑스)(수출용), 1 아빌리파이정 10mg, 1 비모보정 500/20mg, 1 트라젠타듀오정 2.5/850mg, 12.5ms\n",
            "image 634/843 /content/drive/MyDrive/codeit_level1_project/data/test_images/65.png: 640x512 1 써스펜8시간이알서방정 650mg, 1 크레스토정 20mg, 1 트윈스타정 40/5mg, 1 케이캡정 50mg, 12.3ms\n",
            "image 635/843 /content/drive/MyDrive/codeit_level1_project/data/test_images/650.png: 640x512 1 뮤테란캡슐 100mg, 1 아빌리파이정 10mg, 1 리리카캡슐 150mg, 1 리피로우정 20mg, 1 트윈스타정 40/5mg, 1 렉사프로정 15mg, 1 자누메트엑스알서방정 100/1000mg, 12.4ms\n",
            "image 636/843 /content/drive/MyDrive/codeit_level1_project/data/test_images/652.png: 640x512 1 무코스타정(레바미피드)(비매품), 1 뉴로메드정(옥시라세탐), 1 삼남건조수산화알루미늄겔정, 1 리리카캡슐 150mg, 1 엑스포지정 5/160mg, 12.5ms\n",
            "image 637/843 /content/drive/MyDrive/codeit_level1_project/data/test_images/653.png: 640x512 1 무코스타정(레바미피드)(비매품), 1 뉴로메드정(옥시라세탐), 1 삼남건조수산화알루미늄겔정, 1 리리카캡슐 150mg, 1 엑스포지정 5/160mg, 12.3ms\n",
            "image 638/843 /content/drive/MyDrive/codeit_level1_project/data/test_images/654.png: 640x512 1 무코스타정(레바미피드)(비매품), 1 뉴로메드정(옥시라세탐), 1 삼남건조수산화알루미늄겔정, 1 조인스정 200mg, 1 리리카캡슐 150mg, 12.1ms\n",
            "image 639/843 /content/drive/MyDrive/codeit_level1_project/data/test_images/656.png: 640x512 1 삼남건조수산화알루미늄겔정, 1 오마코연질캡슐(오메가-3-산에틸에스테르90), 1 종근당글리아티린연질캡슐(콜린알포세레이트) , 1 레일라정, 12.6ms\n",
            "image 640/843 /content/drive/MyDrive/codeit_level1_project/data/test_images/658.png: 640x512 1 삼남건조수산화알루미늄겔정, 1 삐콤씨에프정 618.6mg/병, 1 조인스정 200mg, 1 리리카캡슐 150mg, 12.3ms\n",
            "image 641/843 /content/drive/MyDrive/codeit_level1_project/data/test_images/659.png: 640x512 1 삼남건조수산화알루미늄겔정, 1 삐콤씨에프정 618.6mg/병, 1 조인스정 200mg, 1 리리카캡슐 150mg, 12.4ms\n",
            "image 642/843 /content/drive/MyDrive/codeit_level1_project/data/test_images/66.png: 640x512 1 써스펜8시간이알서방정 650mg, 1 크레스토정 20mg, 1 트윈스타정 40/5mg, 12.3ms\n",
            "image 643/843 /content/drive/MyDrive/codeit_level1_project/data/test_images/660.png: 640x512 1 삼남건조수산화알루미늄겔정, 1 삐콤씨에프정 618.6mg/병, 1 조인스정 200mg, 1 리리카캡슐 150mg, 1 카나브정 60mg, 12.3ms\n",
            "image 644/843 /content/drive/MyDrive/codeit_level1_project/data/test_images/661.png: 640x512 1 에빅사정(메만틴염산염)(비매품), 2 리피토정 20mgs, 1 자누비아정 50mg, 1 트윈스타정 40/5mg, 12.4ms\n",
            "image 645/843 /content/drive/MyDrive/codeit_level1_project/data/test_images/662.png: 640x512 2 리피토정 20mgs, 1 자누비아정 50mg, 1 트윈스타정 40/5mg, 1 카나브정 60mg, 12.4ms\n",
            "image 646/843 /content/drive/MyDrive/codeit_level1_project/data/test_images/664.png: 640x512 1 기넥신에프정(은행엽엑스)(수출용), 1 아빌리파이정 10mg, 1 큐시드정 31.5mg/PTP, 1 아토젯정 10/40mg, 12.5ms\n",
            "image 647/843 /content/drive/MyDrive/codeit_level1_project/data/test_images/665.png: 640x512 1 기넥신에프정(은행엽엑스)(수출용), 1 아빌리파이정 10mg, 1 큐시드정 31.5mg/PTP, 1 아토젯정 10/40mg, 12.2ms\n",
            "image 648/843 /content/drive/MyDrive/codeit_level1_project/data/test_images/667.png: 640x512 1 자이프렉사정 2.5mg, 1 동아가바펜틴정 800mg, 1 란스톤엘에프디티정 30mg, 1 스토가정 10mg, 1 펠루비정(펠루비프로펜), 1 신바로정, 12.0ms\n",
            "image 649/843 /content/drive/MyDrive/codeit_level1_project/data/test_images/668.png: 640x512 1 자이프렉사정 2.5mg, 1 동아가바펜틴정 800mg, 1 란스톤엘에프디티정 30mg, 1 펠루비정(펠루비프로펜), 1 신바로정, 12.1ms\n",
            "image 650/843 /content/drive/MyDrive/codeit_level1_project/data/test_images/670.png: 640x512 1 기넥신에프정(은행엽엑스)(수출용), 1 라비에트정 20mg, 1 메가파워정 90mg/병, 1 졸로푸트정 100mg, 1 케이캡정 50mg, 12.3ms\n",
            "image 651/843 /content/drive/MyDrive/codeit_level1_project/data/test_images/672.png: 640x512 1 기넥신에프정(은행엽엑스)(수출용), 1 라비에트정 20mg, 1 메가파워정 90mg/병, 1 졸로푸트정 100mg, 12.3ms\n",
            "image 652/843 /content/drive/MyDrive/codeit_level1_project/data/test_images/674.png: 640x512 1 보령부스파정 5mg, 1 리리카캡슐 150mg, 1 라비에트정 20mg, 1 세비카정 10/40mg, 1 아질렉트정(라사길린메실산염), 12.1ms\n",
            "image 653/843 /content/drive/MyDrive/codeit_level1_project/data/test_images/675.png: 640x512 1 보령부스파정 5mg, 1 리리카캡슐 150mg, 1 세비카정 10/40mg, 1 아질렉트정(라사길린메실산염), 12.3ms\n",
            "image 654/843 /content/drive/MyDrive/codeit_level1_project/data/test_images/677.png: 640x512 1 삼남건조수산화알루미늄겔정, 1 삐콤씨에프정 618.6mg/병, 1 리리카캡슐 150mg, 1 세비카정 10/40mg, 12.2ms\n",
            "image 655/843 /content/drive/MyDrive/codeit_level1_project/data/test_images/679.png: 640x512 1 동아가바펜틴정 800mg, 1 란스톤엘에프디티정 30mg, 1 노바스크정 5mg, 1 펠루비정(펠루비프로펜), 1 브린텔릭스정 20mg, 1 글리틴정(콜린알포세레이트), 12.3ms\n",
            "image 656/843 /content/drive/MyDrive/codeit_level1_project/data/test_images/68.png: 640x512 1 기넥신에프정(은행엽엑스)(수출용), 1 리피토정 20mg, 1 라비에트정 20mg, 1 트라젠타듀오정 2.5/850mg, 1 제미메트서방정 50/1000mg, 12.5ms\n",
            "image 657/843 /content/drive/MyDrive/codeit_level1_project/data/test_images/680.png: 640x512 1 동아가바펜틴정 800mg, 1 란스톤엘에프디티정 30mg, 1 트루비타정 60mg/병, 1 노바스크정 5mg, 1 펠루비정(펠루비프로펜), 1 브린텔릭스정 20mg, 1 글리틴정(콜린알포세레이트), 12.3ms\n",
            "image 658/843 /content/drive/MyDrive/codeit_level1_project/data/test_images/681.png: 640x512 1 동아가바펜틴정 800mg, 1 란스톤엘에프디티정 30mg, 1 트루비타정 60mg/병, 1 노바스크정 5mg, 1 펠루비정(펠루비프로펜), 1 울트라셋이알서방정, 1 브린텔릭스정 20mg, 1 글리틴정(콜린알포세레이트), 12.2ms\n",
            "image 659/843 /content/drive/MyDrive/codeit_level1_project/data/test_images/684.png: 640x512 1 삼남건조수산화알루미늄겔정, 1 삐콤씨에프정 618.6mg/병, 1 리리카캡슐 150mg, 1 콜리네이트연질캡슐 400mg, 12.1ms\n",
            "image 660/843 /content/drive/MyDrive/codeit_level1_project/data/test_images/685.png: 640x512 1 자이프렉사정 2.5mg, 1 란스톤엘에프디티정 30mg, 1 스토가정 10mg, 1 펠루비정(펠루비프로펜), 1 신바로정, 12.4ms\n",
            "image 661/843 /content/drive/MyDrive/codeit_level1_project/data/test_images/688.png: 640x512 1 기넥신에프정(은행엽엑스)(수출용), 1 비모보정 500/20mg, 1 로수바미브정 10/20mg, 1 케이캡정 50mg, 12.3ms\n",
            "image 662/843 /content/drive/MyDrive/codeit_level1_project/data/test_images/692.png: 640x512 1 기넥신에프정(은행엽엑스)(수출용), 1 마도파정, 1 메가파워정 90mg/병, 1 졸로푸트정 100mg, 1 케이캡정 50mg, 12.5ms\n",
            "image 663/843 /content/drive/MyDrive/codeit_level1_project/data/test_images/694.png: 640x512 1 메가파워정 90mg/병, 1 트윈스타정 40/5mg, 1 자누메트엑스알서방정 100/1000mg, 12.1ms\n",
            "image 664/843 /content/drive/MyDrive/codeit_level1_project/data/test_images/697.png: 640x512 1 리렉스펜정 300mg/PTP, 1 트윈스타정 40/5mg, 1 렉사프로정 15mg, 1 로수바미브정 10/20mg, 15.1ms\n",
            "image 665/843 /content/drive/MyDrive/codeit_level1_project/data/test_images/698.png: 640x512 1 리렉스펜정 300mg/PTP, 1 트윈스타정 40/5mg, 1 렉사프로정 15mg, 12.1ms\n",
            "image 666/843 /content/drive/MyDrive/codeit_level1_project/data/test_images/70.png: 640x512 1 뉴로메드정(옥시라세탐), 1 삼남건조수산화알루미늄겔정, 1 조인스정 200mg, 1 리렉스펜정 300mg/PTP, 1 리리카캡슐 150mg, 1 리피로우정 20mg, 12.4ms\n",
            "image 667/843 /content/drive/MyDrive/codeit_level1_project/data/test_images/700.png: 640x512 1 기넥신에프정(은행엽엑스)(수출용), 1 알드린정, 1 리피토정 20mg, 1 제미메트서방정 50/1000mg, 12.1ms\n",
            "image 668/843 /content/drive/MyDrive/codeit_level1_project/data/test_images/701.png: 640x512 1 기넥신에프정(은행엽엑스)(수출용), 1 알드린정, 1 리피토정 20mg, 1 제미메트서방정 50/1000mg, 12.3ms\n",
            "image 669/843 /content/drive/MyDrive/codeit_level1_project/data/test_images/702.png: 640x512 1 기넥신에프정(은행엽엑스)(수출용), 1 알드린정, 1 리피토정 20mg, 1 라비에트정 20mg, 1 제미메트서방정 50/1000mg, 11.9ms\n",
            "image 670/843 /content/drive/MyDrive/codeit_level1_project/data/test_images/705.png: 640x512 1 기넥신에프정(은행엽엑스)(수출용), 1 알드린정, 1 써스펜8시간이알서방정 650mg, 1 졸로푸트정 100mg, 12.1ms\n",
            "image 671/843 /content/drive/MyDrive/codeit_level1_project/data/test_images/706.png: 640x512 1 에어탈정(아세클로페낙), 1 란스톤엘에프디티정 30mg, 1 스토가정 10mg, 1 노바스크정 5mg, 1 브린텔릭스정 20mg, 12.0ms\n",
            "image 672/843 /content/drive/MyDrive/codeit_level1_project/data/test_images/707.png: 640x512 1 에어탈정(아세클로페낙), 1 리피토정 20mg, 1 란스톤엘에프디티정 30mg, 1 스토가정 10mg, 1 노바스크정 5mg, 1 펠루비정(펠루비프로펜), 1 브린텔릭스정 20mg, 12.2ms\n",
            "image 673/843 /content/drive/MyDrive/codeit_level1_project/data/test_images/708.png: 640x512 1 란스톤엘에프디티정 30mg, 1 스토가정 10mg, 1 노바스크정 5mg, 1 브린텔릭스정 20mg, 12.2ms\n",
            "image 674/843 /content/drive/MyDrive/codeit_level1_project/data/test_images/710.png: 640x512 1 기넥신에프정(은행엽엑스)(수출용), 1 에스원엠프정 20mg, 1 아토젯정 10/40mg, 1 로수바미브정 10/20mg, 12.4ms\n",
            "image 675/843 /content/drive/MyDrive/codeit_level1_project/data/test_images/712.png: 640x512 1 에어탈정(아세클로페낙), 1 란스톤엘에프디티정 30mg, 1 스토가정 10mg, 1 노바스크정 5mg, 1 펠루비정(펠루비프로펜), 1 브린텔릭스정 20mg, 12.2ms\n",
            "image 676/843 /content/drive/MyDrive/codeit_level1_project/data/test_images/713.png: 640x512 1 에어탈정(아세클로페낙), 1 란스톤엘에프디티정 30mg, 1 노바스크정 5mg, 1 펠루비정(펠루비프로펜), 1 낙소졸정 500/20mg, 1 브린텔릭스정 20mg, 12.3ms\n",
            "image 677/843 /content/drive/MyDrive/codeit_level1_project/data/test_images/714.png: 640x512 1 에어탈정(아세클로페낙), 1 란스톤엘에프디티정 30mg, 1 스토가정 10mg, 1 노바스크정 5mg, 1 펠루비정(펠루비프로펜), 1 브린텔릭스정 20mg, 12.4ms\n",
            "image 678/843 /content/drive/MyDrive/codeit_level1_project/data/test_images/716.png: 640x512 1 자이프렉사정 2.5mg, 1 란스톤엘에프디티정 30mg, 1 노바스크정 5mg, 1 펠루비정(펠루비프로펜), 1 로수젯정10/5밀리그램, 12.3ms\n",
            "image 679/843 /content/drive/MyDrive/codeit_level1_project/data/test_images/717.png: 640x512 1 자이프렉사정 2.5mg, 1 란스톤엘에프디티정 30mg, 1 노바스크정 5mg, 1 쿠에타핀정 25mg, 1 로수젯정10/5밀리그램, 12.9ms\n",
            "image 680/843 /content/drive/MyDrive/codeit_level1_project/data/test_images/719.png: 640x512 2 보령부스파정 5mgs, 1 무코스타정(레바미피드)(비매품), 1 리리카캡슐 150mg, 1 졸로푸트정 100mg, 12.1ms\n",
            "image 681/843 /content/drive/MyDrive/codeit_level1_project/data/test_images/72.png: 640x512 1 뉴로메드정(옥시라세탐), 1 삼남건조수산화알루미늄겔정, 1 조인스정 200mg, 1 리리카캡슐 150mg, 13.1ms\n",
            "image 682/843 /content/drive/MyDrive/codeit_level1_project/data/test_images/720.png: 640x512 2 보령부스파정 5mgs, 1 무코스타정(레바미피드)(비매품), 1 타이레놀이알서방정(아세트아미노펜)(수출용), 1 리리카캡슐 150mg, 12.3ms\n",
            "image 683/843 /content/drive/MyDrive/codeit_level1_project/data/test_images/721.png: 640x512 1 기넥신에프정(은행엽엑스)(수출용), 1 메가파워정 90mg/병, 1 카나브정 60mg, 1 로수바미브정 10/20mg, 12.1ms\n",
            "image 684/843 /content/drive/MyDrive/codeit_level1_project/data/test_images/724.png: 640x512 1 보령부스파정 5mg, 1 무코스타정(레바미피드)(비매품), 1 오마코연질캡슐(오메가-3-산에틸에스테르90), 1 플라빅스정 75mg, 1 아토르바정 10mg, 12.5ms\n",
            "image 685/843 /content/drive/MyDrive/codeit_level1_project/data/test_images/725.png: 640x512 1 보령부스파정 5mg, 1 무코스타정(레바미피드)(비매품), 1 써스펜8시간이알서방정 650mg, 1 오마코연질캡슐(오메가-3-산에틸에스테르90), 1 아토르바정 10mg, 12.1ms\n",
            "image 686/843 /content/drive/MyDrive/codeit_level1_project/data/test_images/726.png: 640x512 1 보령부스파정 5mg, 1 무코스타정(레바미피드)(비매품), 1 오마코연질캡슐(오메가-3-산에틸에스테르90), 1 아토르바정 10mg, 12.2ms\n",
            "image 687/843 /content/drive/MyDrive/codeit_level1_project/data/test_images/727.png: 640x512 1 기넥신에프정(은행엽엑스)(수출용), 1 리피토정 20mg, 1 라비에트정 20mg, 1 울트라셋이알서방정, 12.5ms\n",
            "image 688/843 /content/drive/MyDrive/codeit_level1_project/data/test_images/728.png: 640x512 1 기넥신에프정(은행엽엑스)(수출용), 1 리피토정 20mg, 1 라비에트정 20mg, 1 울트라셋이알서방정, 12.2ms\n",
            "image 689/843 /content/drive/MyDrive/codeit_level1_project/data/test_images/73.png: 640x512 1 삼남건조수산화알루미늄겔정, 1 오마코연질캡슐(오메가-3-산에틸에스테르90), 1 리피로우정 20mg, 1 레일라정, 12.4ms\n",
            "image 690/843 /content/drive/MyDrive/codeit_level1_project/data/test_images/731.png: 640x512 1 보령부스파정 5mg, 1 쎄로켈정 100mg, 1 오마코연질캡슐(오메가-3-산에틸에스테르90), 1 자누메트정 50/850mg, 12.1ms\n",
            "image 691/843 /content/drive/MyDrive/codeit_level1_project/data/test_images/732.png: 640x512 1 보령부스파정 5mg, 1 쎄로켈정 100mg, 1 오마코연질캡슐(오메가-3-산에틸에스테르90), 1 자누메트정 50/850mg, 1 트윈스타정 40/5mg, 14.9ms\n",
            "image 692/843 /content/drive/MyDrive/codeit_level1_project/data/test_images/738.png: 640x512 1 무코스타정(레바미피드)(비매품), 1 삼남건조수산화알루미늄겔정, 1 리리카캡슐 150mg, 1 아질렉트정(라사길린메실산염), 12.7ms\n",
            "image 693/843 /content/drive/MyDrive/codeit_level1_project/data/test_images/740.png: 640x512 1 보령부스파정 5mg, 1 무코스타정(레바미피드)(비매품), 1 리리카캡슐 150mg, 1 리피로우정 20mg, 1 카발린캡슐 25mg, 12.7ms\n",
            "image 694/843 /content/drive/MyDrive/codeit_level1_project/data/test_images/742.png: 640x512 2 란스톤엘에프디티정 30mgs, 1 스토가정 10mg, 1 펠루비정(펠루비프로펜), 1 신바로정, 1 브린텔릭스정 20mg, 1 글리틴정(콜린알포세레이트), 12.7ms\n",
            "image 695/843 /content/drive/MyDrive/codeit_level1_project/data/test_images/743.png: 640x512 1 란스톤엘에프디티정 30mg, 1 스토가정 10mg, 1 펠루비정(펠루비프로펜), 1 신바로정, 1 브린텔릭스정 20mg, 1 글리틴정(콜린알포세레이트), 12.2ms\n",
            "image 696/843 /content/drive/MyDrive/codeit_level1_project/data/test_images/745.png: 640x512 1 트윈스타정 40/5mg, 1 렉사프로정 15mg, 1 에스원엠프정 20mg, 1 로수바미브정 10/20mg, 12.5ms\n",
            "image 697/843 /content/drive/MyDrive/codeit_level1_project/data/test_images/747.png: 640x512 1 트윈스타정 40/5mg, 1 렉사프로정 15mg, 1 에스원엠프정 20mg, 12.2ms\n",
            "image 698/843 /content/drive/MyDrive/codeit_level1_project/data/test_images/75.png: 640x512 1 삼남건조수산화알루미늄겔정, 1 오마코연질캡슐(오메가-3-산에틸에스테르90), 1 리피로우정 20mg, 1 레일라정, 12.3ms\n",
            "image 699/843 /content/drive/MyDrive/codeit_level1_project/data/test_images/750.png: 640x512 1 보령부스파정 5mg, 1 리리카캡슐 150mg, 1 콜리네이트연질캡슐 400mg, 1 아질렉트정(라사길린메실산염), 1 제미메트서방정 50/1000mg, 1 케이캡정 50mg, 12.3ms\n",
            "image 700/843 /content/drive/MyDrive/codeit_level1_project/data/test_images/752.png: 640x512 1 보령부스파정 5mg, 1 오마코연질캡슐(오메가-3-산에틸에스테르90), 1 레일라정, 1 리바로정 4mg, 12.1ms\n",
            "image 701/843 /content/drive/MyDrive/codeit_level1_project/data/test_images/754.png: 640x512 1 타이레놀정500mg, 1 써스펜8시간이알서방정 650mg, 2 트윈스타정 40/5mgs, 12.1ms\n",
            "image 702/843 /content/drive/MyDrive/codeit_level1_project/data/test_images/756.png: 640x512 1 타이레놀정500mg, 1 써스펜8시간이알서방정 650mg, 1 리리카캡슐 150mg, 2 트윈스타정 40/5mgs, 12.1ms\n",
            "image 703/843 /content/drive/MyDrive/codeit_level1_project/data/test_images/758.png: 640x512 1 기넥신에프정(은행엽엑스)(수출용), 1 알드린정, 1 아빌리파이정 10mg, 1 카나브정 60mg, 12.3ms\n",
            "image 704/843 /content/drive/MyDrive/codeit_level1_project/data/test_images/759.png: 640x512 1 기넥신에프정(은행엽엑스)(수출용), 1 알드린정, 1 아빌리파이정 10mg, 1 카나브정 60mg, 12.3ms\n",
            "image 705/843 /content/drive/MyDrive/codeit_level1_project/data/test_images/760.png: 640x512 1 보령부스파정 5mg, 1 리리카캡슐 150mg, 1 콜리네이트연질캡슐 400mg, 1 놀텍정 10mg, 12.3ms\n",
            "image 706/843 /content/drive/MyDrive/codeit_level1_project/data/test_images/761.png: 640x512 1 보령부스파정 5mg, 1 리리카캡슐 150mg, 1 콜리네이트연질캡슐 400mg, 1 놀텍정 10mg, 12.3ms\n",
            "image 707/843 /content/drive/MyDrive/codeit_level1_project/data/test_images/763.png: 640x512 1 기넥신에프정(은행엽엑스)(수출용), 1 카나브정 60mg, 1 로수바미브정 10/20mg, 1 케이캡정 50mg, 12.4ms\n",
            "image 708/843 /content/drive/MyDrive/codeit_level1_project/data/test_images/764.png: 640x512 1 기넥신에프정(은행엽엑스)(수출용), 1 카나브정 60mg, 1 로수바미브정 10/20mg, 1 케이캡정 50mg, 12.7ms\n",
            "image 709/843 /content/drive/MyDrive/codeit_level1_project/data/test_images/766.png: 640x512 1 기넥신에프정(은행엽엑스)(수출용), 1 아빌리파이정 10mg, 1 큐시드정 31.5mg/PTP, 1 비모보정 500/20mg, 12.4ms\n",
            "image 710/843 /content/drive/MyDrive/codeit_level1_project/data/test_images/768.png: 640x512 1 기넥신에프정(은행엽엑스)(수출용), 1 아빌리파이정 10mg, 1 큐시드정 31.5mg/PTP, 1 비모보정 500/20mg, 12.3ms\n",
            "image 711/843 /content/drive/MyDrive/codeit_level1_project/data/test_images/772.png: 640x512 1 무코스타정(레바미피드)(비매품), 1 삼남건조수산화알루미늄겔정, 1 리리카캡슐 150mg, 1 놀텍정 10mg, 12.6ms\n",
            "image 712/843 /content/drive/MyDrive/codeit_level1_project/data/test_images/773.png: 640x512 1 무코스타정(레바미피드)(비매품), 1 삼남건조수산화알루미늄겔정, 1 리리카캡슐 150mg, 1 놀텍정 10mg, 12.9ms\n",
            "image 713/843 /content/drive/MyDrive/codeit_level1_project/data/test_images/778.png: 640x512 1 기넥신에프정(은행엽엑스)(수출용), 1 리피토정 20mg, 1 라비에트정 20mg, 1 제미메트서방정 50/1000mg, 12.7ms\n",
            "image 714/843 /content/drive/MyDrive/codeit_level1_project/data/test_images/779.png: 640x512 1 기넥신에프정(은행엽엑스)(수출용), 1 리피토정 20mg, 1 라비에트정 20mg, 1 제미메트서방정 50/1000mg, 1 카발린캡슐 25mg, 12.2ms\n",
            "image 715/843 /content/drive/MyDrive/codeit_level1_project/data/test_images/780.png: 640x512 1 기넥신에프정(은행엽엑스)(수출용), 1 리피토정 20mg, 1 라비에트정 20mg, 1 제미메트서방정 50/1000mg, 12.0ms\n",
            "image 716/843 /content/drive/MyDrive/codeit_level1_project/data/test_images/782.png: 640x512 1 에빅사정(메만틴염산염)(비매품), 1 크레스토정 20mg, 1 트윈스타정 40/5mg, 1 카나브정 60mg, 1 케이캡정 50mg, 12.3ms\n",
            "image 717/843 /content/drive/MyDrive/codeit_level1_project/data/test_images/785.png: 640x512 1 기넥신에프정(은행엽엑스)(수출용), 1 마도파정, 1 메가파워정 90mg/병, 1 울트라셋이알서방정, 12.5ms\n",
            "image 718/843 /content/drive/MyDrive/codeit_level1_project/data/test_images/787.png: 640x512 1 기넥신에프정(은행엽엑스)(수출용), 1 알드린정, 1 비모보정 500/20mg, 1 케이캡정 50mg, 12.3ms\n",
            "image 719/843 /content/drive/MyDrive/codeit_level1_project/data/test_images/788.png: 640x512 1 기넥신에프정(은행엽엑스)(수출용), 1 알드린정, 1 비모보정 500/20mg, 1 케이캡정 50mg, 12.4ms\n",
            "image 720/843 /content/drive/MyDrive/codeit_level1_project/data/test_images/79.png: 640x512 1 트윈스타정 40/5mg, 1 자누메트엑스알서방정 100/1000mg, 1 에스원엠프정 20mg, 12.6ms\n",
            "image 721/843 /content/drive/MyDrive/codeit_level1_project/data/test_images/797.png: 640x512 1 삼남건조수산화알루미늄겔정, 1 오마코연질캡슐(오메가-3-산에틸에스테르90), 1 트라젠타정(리나글립틴), 1 리바로정 4mg, 12.9ms\n",
            "image 722/843 /content/drive/MyDrive/codeit_level1_project/data/test_images/798.png: 640x512 1 삼남건조수산화알루미늄겔정, 1 오마코연질캡슐(오메가-3-산에틸에스테르90), 1 자누메트정 50/850mg, 1 트라젠타정(리나글립틴), 1 리바로정 4mg, 12.6ms\n",
            "image 723/843 /content/drive/MyDrive/codeit_level1_project/data/test_images/799.png: 640x512 1 기넥신에프정(은행엽엑스)(수출용), 1 알드린정, 1 아토젯정 10/40mg, 1 케이캡정 50mg, 12.4ms\n",
            "image 724/843 /content/drive/MyDrive/codeit_level1_project/data/test_images/8.png: 640x512 1 기넥신에프정(은행엽엑스)(수출용), 1 마도파정, 1 졸로푸트정 100mg, 1 케이캡정 50mg, 14.0ms\n",
            "image 725/843 /content/drive/MyDrive/codeit_level1_project/data/test_images/80.png: 640x512 1 트윈스타정 40/5mg, 1 자누메트엑스알서방정 100/1000mg, 1 에스원엠프정 20mg, 12.4ms\n",
            "image 726/843 /content/drive/MyDrive/codeit_level1_project/data/test_images/807.png: 640x512 1 기넥신에프정(은행엽엑스)(수출용), 1 알드린정, 1 써스펜8시간이알서방정 650mg, 1 울트라셋이알서방정, 1 제미메트서방정 50/1000mg, 12.2ms\n",
            "image 727/843 /content/drive/MyDrive/codeit_level1_project/data/test_images/808.png: 640x512 1 삼남건조수산화알루미늄겔정, 1 쎄로켈정 100mg, 1 오마코연질캡슐(오메가-3-산에틸에스테르90), 1 레일라정, 13.0ms\n",
            "image 728/843 /content/drive/MyDrive/codeit_level1_project/data/test_images/810.png: 640x512 1 삼남건조수산화알루미늄겔정, 1 쎄로켈정 100mg, 1 오마코연질캡슐(오메가-3-산에틸에스테르90), 1 레일라정, 12.5ms\n",
            "image 729/843 /content/drive/MyDrive/codeit_level1_project/data/test_images/815.png: 640x512 1 뮤테란캡슐 100mg, 1 리리카캡슐 150mg, 1 트윈스타정 40/5mg, 1 렉사프로정 15mg, 1 로수바미브정 10/20mg, 1 케이캡정 50mg, 12.4ms\n",
            "image 730/843 /content/drive/MyDrive/codeit_level1_project/data/test_images/817.png: 640x512 1 기넥신에프정(은행엽엑스)(수출용), 1 리피토정 20mg, 1 마도파정, 1 제미메트서방정 50/1000mg, 12.3ms\n",
            "image 731/843 /content/drive/MyDrive/codeit_level1_project/data/test_images/818.png: 640x512 1 기넥신에프정(은행엽엑스)(수출용), 1 리피토정 20mg, 1 마도파정, 1 제미메트서방정 50/1000mg, 12.3ms\n",
            "image 732/843 /content/drive/MyDrive/codeit_level1_project/data/test_images/819.png: 640x512 1 기넥신에프정(은행엽엑스)(수출용), 1 리피토정 20mg, 1 마도파정, 1 제미메트서방정 50/1000mg, 12.2ms\n",
            "image 733/843 /content/drive/MyDrive/codeit_level1_project/data/test_images/82.png: 640x512 1 가바토파정 100mg, 1 란스톤엘에프디티정 30mg, 1 노바스크정 5mg, 1 로수젯정10/5밀리그램, 12.4ms\n",
            "image 734/843 /content/drive/MyDrive/codeit_level1_project/data/test_images/820.png: 640x512 2 란스톤엘에프디티정 30mgs, 1 노바스크정 5mg, 1 펠루비정(펠루비프로펜), 1 자누비아정 50mg, 1 쿠에타핀정 25mg, 1 브린텔릭스정 20mg, 1 글리틴정(콜린알포세레이트), 1 로수젯정10/5밀리그램, 1 로수바미브정 10/20mg, 12.2ms\n",
            "image 735/843 /content/drive/MyDrive/codeit_level1_project/data/test_images/822.png: 640x512 1 란스톤엘에프디티정 30mg, 1 노바스크정 5mg, 1 펠루비정(펠루비프로펜), 1 쿠에타핀정 25mg, 1 브린텔릭스정 20mg, 1 글리틴정(콜린알포세레이트), 1 로수젯정10/5밀리그램, 12.4ms\n",
            "image 736/843 /content/drive/MyDrive/codeit_level1_project/data/test_images/826.png: 640x512 1 리렉스펜정 300mg/PTP, 1 다보타민큐정 10mg/병, 1 트윈스타정 40/5mg, 1 울트라셋이알서방정, 12.3ms\n",
            "image 737/843 /content/drive/MyDrive/codeit_level1_project/data/test_images/828.png: 640x512 1 리렉스펜정 300mg/PTP, 1 다보타민큐정 10mg/병, 1 트윈스타정 40/5mg, 12.1ms\n",
            "image 738/843 /content/drive/MyDrive/codeit_level1_project/data/test_images/829.png: 640x512 1 기넥신에프정(은행엽엑스)(수출용), 1 아빌리파이정 10mg, 1 트라젠타듀오정 2.5/850mg, 1 아토젯정 10/40mg, 12.2ms\n",
            "image 739/843 /content/drive/MyDrive/codeit_level1_project/data/test_images/83.png: 640x512 1 가바토파정 100mg, 1 란스톤엘에프디티정 30mg, 1 노바스크정 5mg, 1 낙소졸정 500/20mg, 1 로수젯정10/5밀리그램, 12.3ms\n",
            "image 740/843 /content/drive/MyDrive/codeit_level1_project/data/test_images/830.png: 640x512 1 기넥신에프정(은행엽엑스)(수출용), 1 아빌리파이정 10mg, 1 트라젠타듀오정 2.5/850mg, 1 아토젯정 10/40mg, 12.1ms\n",
            "image 741/843 /content/drive/MyDrive/codeit_level1_project/data/test_images/831.png: 640x512 1 기넥신에프정(은행엽엑스)(수출용), 1 아빌리파이정 10mg, 1 트라젠타듀오정 2.5/850mg, 1 아토젯정 10/40mg, 13.0ms\n",
            "image 742/843 /content/drive/MyDrive/codeit_level1_project/data/test_images/832.png: 640x512 1 보령부스파정 5mg, 1 삐콤씨에프정 618.6mg/병, 1 써스펜8시간이알서방정 650mg, 1 리리카캡슐 150mg, 1 카발린캡슐 25mg, 12.3ms\n",
            "image 743/843 /content/drive/MyDrive/codeit_level1_project/data/test_images/838.png: 640x512 1 보령부스파정 5mg, 1 리리카캡슐 150mg, 1 놀텍정 10mg, 1 세비카정 10/40mg, 12.3ms\n",
            "image 744/843 /content/drive/MyDrive/codeit_level1_project/data/test_images/842.png: 640x512 1 기넥신에프정(은행엽엑스)(수출용), 1 비모보정 500/20mg, 1 에스원엠프정 20mg, 1 로수바미브정 10/20mg, 16.9ms\n",
            "image 745/843 /content/drive/MyDrive/codeit_level1_project/data/test_images/85.png: 640x512 2 보령부스파정 5mgs, 1 리리카캡슐 150mg, 1 콜리네이트연질캡슐 400mg, 12.1ms\n",
            "image 746/843 /content/drive/MyDrive/codeit_level1_project/data/test_images/851.png: 640x512 1 가바토파정 100mg, 1 동아가바펜틴정 800mg, 1 란스톤엘에프디티정 30mg, 1 노바스크정 5mg, 12.1ms\n",
            "image 747/843 /content/drive/MyDrive/codeit_level1_project/data/test_images/855.png: 640x512 1 에어탈정(아세클로페낙), 1 란스톤엘에프디티정 30mg, 1 스토가정 10mg, 1 노바스크정 5mg, 1 펠루비정(펠루비프로펜), 1 쿠에타핀정 25mg, 1 브린텔릭스정 20mg, 1 글리틴정(콜린알포세레이트), 12.5ms\n",
            "image 748/843 /content/drive/MyDrive/codeit_level1_project/data/test_images/857.png: 640x512 1 리피토정 20mg, 1 자누비아정 50mg, 1 트윈스타정 40/5mg, 1 에스원엠프정 20mg, 12.4ms\n",
            "image 749/843 /content/drive/MyDrive/codeit_level1_project/data/test_images/858.png: 640x512 1 에빅사정(메만틴염산염)(비매품), 1 리피토정 20mg, 1 자누비아정 50mg, 1 트윈스타정 40/5mg, 1 카나브정 60mg, 1 에스원엠프정 20mg, 12.0ms\n",
            "image 750/843 /content/drive/MyDrive/codeit_level1_project/data/test_images/86.png: 640x512 2 보령부스파정 5mgs, 1 리리카캡슐 150mg, 1 콜리네이트연질캡슐 400mg, 13.0ms\n",
            "image 751/843 /content/drive/MyDrive/codeit_level1_project/data/test_images/861.png: 640x512 1 자이프렉사정 2.5mg, 1 란스톤엘에프디티정 30mg, 1 펠루비정(펠루비프로펜), 1 신바로정, 1 로수젯정10/5밀리그램, 12.2ms\n",
            "image 752/843 /content/drive/MyDrive/codeit_level1_project/data/test_images/862.png: 640x512 1 기넥신에프정(은행엽엑스)(수출용), 1 무코스타정(레바미피드)(비매품), 1 아빌리파이정 10mg, 1 라비에트정 20mg, 1 비모보정 500/20mg, 12.4ms\n",
            "image 753/843 /content/drive/MyDrive/codeit_level1_project/data/test_images/864.png: 640x512 1 기넥신에프정(은행엽엑스)(수출용), 1 무코스타정(레바미피드)(비매품), 1 아빌리파이정 10mg, 1 라비에트정 20mg, 1 비모보정 500/20mg, 12.4ms\n",
            "image 754/843 /content/drive/MyDrive/codeit_level1_project/data/test_images/866.png: 640x512 1 아모잘탄정 5/100mg, 1 트윈스타정 40/5mg, 1 로수바미브정 10/20mg, 12.2ms\n",
            "image 755/843 /content/drive/MyDrive/codeit_level1_project/data/test_images/867.png: 640x512 1 아모잘탄정 5/100mg, 1 트윈스타정 40/5mg, 1 카나브정 60mg, 1 로수바미브정 10/20mg, 12.3ms\n",
            "image 756/843 /content/drive/MyDrive/codeit_level1_project/data/test_images/868.png: 640x512 1 기넥신에프정(은행엽엑스)(수출용), 1 리피토정 20mg, 1 마도파정, 1 카나브정 60mg, 12.4ms\n",
            "image 757/843 /content/drive/MyDrive/codeit_level1_project/data/test_images/869.png: 640x512 1 기넥신에프정(은행엽엑스)(수출용), 1 리피토정 20mg, 1 마도파정, 1 카나브정 60mg, 12.0ms\n",
            "image 758/843 /content/drive/MyDrive/codeit_level1_project/data/test_images/870.png: 640x512 1 기넥신에프정(은행엽엑스)(수출용), 1 리피토정 20mg, 1 마도파정, 1 메가파워정 90mg/병, 1 카나브정 60mg, 12.3ms\n",
            "image 759/843 /content/drive/MyDrive/codeit_level1_project/data/test_images/873.png: 640x512 1 다보타민큐정 10mg/병, 1 아모잘탄정 5/100mg, 1 트윈스타정 40/5mg, 1 카나브정 60mg, 12.4ms\n",
            "image 760/843 /content/drive/MyDrive/codeit_level1_project/data/test_images/874.png: 640x512 1 기넥신에프정(은행엽엑스)(수출용), 1 리피토정 20mg, 1 큐시드정 31.5mg/PTP, 1 카나브정 60mg, 12.5ms\n",
            "image 761/843 /content/drive/MyDrive/codeit_level1_project/data/test_images/875.png: 640x512 1 기넥신에프정(은행엽엑스)(수출용), 1 리피토정 20mg, 1 큐시드정 31.5mg/PTP, 1 카나브정 60mg, 12.2ms\n",
            "image 762/843 /content/drive/MyDrive/codeit_level1_project/data/test_images/878.png: 640x512 1 기넥신에프정(은행엽엑스)(수출용), 1 아빌리파이정 10mg, 1 마도파정, 1 비모보정 500/20mg, 12.4ms\n",
            "image 763/843 /content/drive/MyDrive/codeit_level1_project/data/test_images/879.png: 640x512 1 기넥신에프정(은행엽엑스)(수출용), 1 아빌리파이정 10mg, 1 마도파정, 1 비모보정 500/20mg, 12.3ms\n",
            "image 764/843 /content/drive/MyDrive/codeit_level1_project/data/test_images/88.png: 640x512 1 무코스타정(레바미피드)(비매품), 1 삼남건조수산화알루미늄겔정, 1 삐콤씨에프정 618.6mg/병, 1 리리카캡슐 150mg, 12.3ms\n",
            "image 765/843 /content/drive/MyDrive/codeit_level1_project/data/test_images/880.png: 640x512 1 란스톤엘에프디티정 30mg, 1 트루비타정 60mg/병, 1 노바스크정 5mg, 1 펠루비정(펠루비프로펜), 1 낙소졸정 500/20mg, 1 브린텔릭스정 20mg, 12.1ms\n",
            "image 766/843 /content/drive/MyDrive/codeit_level1_project/data/test_images/882.png: 640x512 1 란스톤엘에프디티정 30mg, 1 트루비타정 60mg/병, 1 노바스크정 5mg, 1 펠루비정(펠루비프로펜), 1 브린텔릭스정 20mg, 12.1ms\n",
            "image 767/843 /content/drive/MyDrive/codeit_level1_project/data/test_images/883.png: 640x512 1 기넥신에프정(은행엽엑스)(수출용), 1 리피토정 20mg, 1 라비에트정 20mg, 1 아토젯정 10/40mg, 12.3ms\n",
            "image 768/843 /content/drive/MyDrive/codeit_level1_project/data/test_images/886.png: 640x512 1 에빅사정(메만틴염산염)(비매품), 1 자누비아정 50mg, 1 메가파워정 90mg/병, 1 트윈스타정 40/5mg, 12.5ms\n",
            "image 769/843 /content/drive/MyDrive/codeit_level1_project/data/test_images/888.png: 640x512 1 리피토정 20mg, 1 자누비아정 50mg, 1 메가파워정 90mg/병, 1 트윈스타정 40/5mg, 1 카나브정 60mg, 12.3ms\n",
            "image 770/843 /content/drive/MyDrive/codeit_level1_project/data/test_images/889.png: 640x512 1 기넥신에프정(은행엽엑스)(수출용), 1 리피토정 20mg, 1 큐시드정 31.5mg/PTP, 1 아토젯정 10/40mg, 12.3ms\n",
            "image 771/843 /content/drive/MyDrive/codeit_level1_project/data/test_images/89.png: 640x512 1 무코스타정(레바미피드)(비매품), 1 삼남건조수산화알루미늄겔정, 1 삐콤씨에프정 618.6mg/병, 1 리리카캡슐 150mg, 12.4ms\n",
            "image 772/843 /content/drive/MyDrive/codeit_level1_project/data/test_images/891.png: 640x512 1 기넥신에프정(은행엽엑스)(수출용), 1 리피토정 20mg, 1 큐시드정 31.5mg/PTP, 1 아토젯정 10/40mg, 14.3ms\n",
            "image 773/843 /content/drive/MyDrive/codeit_level1_project/data/test_images/894.png: 640x512 1 기넥신에프정(은행엽엑스)(수출용), 1 아빌리파이정 10mg, 1 큐시드정 31.5mg/PTP, 1 울트라셋이알서방정, 15.3ms\n",
            "image 774/843 /content/drive/MyDrive/codeit_level1_project/data/test_images/895.png: 640x512 1 삼남건조수산화알루미늄겔정, 1 오마코연질캡슐(오메가-3-산에틸에스테르90), 1 아토르바정 10mg, 1 카발린캡슐 25mg, 12.8ms\n",
            "image 775/843 /content/drive/MyDrive/codeit_level1_project/data/test_images/896.png: 640x512 1 삼남건조수산화알루미늄겔정, 1 오마코연질캡슐(오메가-3-산에틸에스테르90), 1 아토르바정 10mg, 1 카발린캡슐 25mg, 12.8ms\n",
            "image 776/843 /content/drive/MyDrive/codeit_level1_project/data/test_images/897.png: 640x512 1 삼남건조수산화알루미늄겔정, 1 오마코연질캡슐(오메가-3-산에틸에스테르90), 1 아토르바정 10mg, 1 카발린캡슐 25mg, 12.5ms\n",
            "image 777/843 /content/drive/MyDrive/codeit_level1_project/data/test_images/898.png: 640x512 1 보령부스파정 5mg, 1 오마코연질캡슐(오메가-3-산에틸에스테르90), 1 리피로우정 20mg, 1 세비카정 10/40mg, 12.5ms\n",
            "image 778/843 /content/drive/MyDrive/codeit_level1_project/data/test_images/9.png: 640x512 1 기넥신에프정(은행엽엑스)(수출용), 1 마도파정, 1 졸로푸트정 100mg, 1 케이캡정 50mg, 12.2ms\n",
            "image 779/843 /content/drive/MyDrive/codeit_level1_project/data/test_images/90.png: 640x512 1 무코스타정(레바미피드)(비매품), 1 삼남건조수산화알루미늄겔정, 1 삐콤씨에프정 618.6mg/병, 1 리리카캡슐 150mg, 14.9ms\n",
            "image 780/843 /content/drive/MyDrive/codeit_level1_project/data/test_images/900.png: 640x512 1 보령부스파정 5mg, 1 오마코연질캡슐(오메가-3-산에틸에스테르90), 1 리피로우정 20mg, 1 세비카정 10/40mg, 12.1ms\n",
            "image 781/843 /content/drive/MyDrive/codeit_level1_project/data/test_images/904.png: 640x512 1 기넥신에프정(은행엽엑스)(수출용), 1 제미메트서방정 50/1000mg, 1 로수바미브정 10/20mg, 1 케이캡정 50mg, 12.4ms\n",
            "image 782/843 /content/drive/MyDrive/codeit_level1_project/data/test_images/906.png: 640x512 1 기넥신에프정(은행엽엑스)(수출용), 1 세비카정 10/40mg, 1 제미메트서방정 50/1000mg, 1 로수바미브정 10/20mg, 1 케이캡정 50mg, 12.2ms\n",
            "image 783/843 /content/drive/MyDrive/codeit_level1_project/data/test_images/908.png: 640x512 1 리피토정 20mg, 1 자누비아정 50mg, 1 트윈스타정 40/5mg, 1 케이캡정 50mg, 12.3ms\n",
            "image 784/843 /content/drive/MyDrive/codeit_level1_project/data/test_images/91.png: 640x512 1 보령부스파정 5mg, 1 리리카캡슐 150mg, 1 플라빅스정 75mg, 1 세비카정 10/40mg, 12.3ms\n",
            "image 785/843 /content/drive/MyDrive/codeit_level1_project/data/test_images/910.png: 640x512 1 기넥신에프정(은행엽엑스)(수출용), 1 써스펜8시간이알서방정 650mg, 1 울트라셋이알서방정, 1 트라젠타듀오정 2.5/850mg, 12.2ms\n",
            "image 786/843 /content/drive/MyDrive/codeit_level1_project/data/test_images/912.png: 640x512 1 기넥신에프정(은행엽엑스)(수출용), 1 써스펜8시간이알서방정 650mg, 1 울트라셋이알서방정, 1 트라젠타듀오정 2.5/850mg, 12.6ms\n",
            "image 787/843 /content/drive/MyDrive/codeit_level1_project/data/test_images/914.png: 640x512 1 메가파워정 90mg/병, 1 비타비백정 100mg/병, 1 트윈스타정 40/5mg, 1 로수바미브정 10/20mg, 12.8ms\n",
            "image 788/843 /content/drive/MyDrive/codeit_level1_project/data/test_images/915.png: 640x512 1 메가파워정 90mg/병, 1 비타비백정 100mg/병, 1 트윈스타정 40/5mg, 1 카나브정 60mg, 1 로수바미브정 10/20mg, 12.5ms\n",
            "image 789/843 /content/drive/MyDrive/codeit_level1_project/data/test_images/916.png: 640x512 1 기넥신에프정(은행엽엑스)(수출용), 1 리피토정 20mg, 1 울트라셋이알서방정, 1 로수바미브정 10/20mg, 12.4ms\n",
            "image 790/843 /content/drive/MyDrive/codeit_level1_project/data/test_images/919.png: 640x512 1 기넥신에프정(은행엽엑스)(수출용), 1 아빌리파이정 10mg, 1 제미메트서방정 50/1000mg, 1 로수바미브정 10/20mg, 12.5ms\n",
            "image 791/843 /content/drive/MyDrive/codeit_level1_project/data/test_images/920.png: 640x512 1 기넥신에프정(은행엽엑스)(수출용), 1 아빌리파이정 10mg, 1 제미메트서방정 50/1000mg, 1 로수바미브정 10/20mg, 12.9ms\n",
            "image 792/843 /content/drive/MyDrive/codeit_level1_project/data/test_images/923.png: 640x512 1 기넥신에프정(은행엽엑스)(수출용), 1 큐시드정 31.5mg/PTP, 1 울트라셋이알서방정, 1 에스원엠프정 20mg, 12.4ms\n",
            "image 793/843 /content/drive/MyDrive/codeit_level1_project/data/test_images/925.png: 640x512 1 기넥신에프정(은행엽엑스)(수출용), 1 알드린정, 1 리피토정 20mg, 1 비모보정 500/20mg, 12.8ms\n",
            "image 794/843 /content/drive/MyDrive/codeit_level1_project/data/test_images/927.png: 640x512 1 기넥신에프정(은행엽엑스)(수출용), 1 알드린정, 1 리피토정 20mg, 1 비모보정 500/20mg, 12.3ms\n",
            "image 795/843 /content/drive/MyDrive/codeit_level1_project/data/test_images/929.png: 640x512 1 기넥신에프정(은행엽엑스)(수출용), 1 리피토정 20mg, 1 라비에트정 20mg, 1 카나브정 60mg, 12.4ms\n",
            "image 796/843 /content/drive/MyDrive/codeit_level1_project/data/test_images/930.png: 640x512 1 기넥신에프정(은행엽엑스)(수출용), 1 리피토정 20mg, 1 라비에트정 20mg, 1 카나브정 60mg, 12.3ms\n",
            "image 797/843 /content/drive/MyDrive/codeit_level1_project/data/test_images/931.png: 640x512 1 삼남건조수산화알루미늄겔정, 1 오마코연질캡슐(오메가-3-산에틸에스테르90), 1 리리카캡슐 150mg, 1 콜리네이트연질캡슐 400mg, 1 플라빅스정 75mg, 12.3ms\n",
            "image 798/843 /content/drive/MyDrive/codeit_level1_project/data/test_images/932.png: 640x512 1 삼남건조수산화알루미늄겔정, 1 오마코연질캡슐(오메가-3-산에틸에스테르90), 1 리리카캡슐 150mg, 1 콜리네이트연질캡슐 400mg, 1 플라빅스정 75mg, 12.1ms\n",
            "image 799/843 /content/drive/MyDrive/codeit_level1_project/data/test_images/933.png: 640x512 1 삼남건조수산화알루미늄겔정, 1 리피토정 20mg, 1 리리카캡슐 150mg, 1 콜리네이트연질캡슐 400mg, 1 플라빅스정 75mg, 12.3ms\n",
            "image 800/843 /content/drive/MyDrive/codeit_level1_project/data/test_images/936.png: 640x512 1 란스톤엘에프디티정 30mg, 1 펠루비정(펠루비프로펜), 1 신바로정, 1 브린텔릭스정 20mg, 1 로수젯정10/5밀리그램, 12.2ms\n",
            "image 801/843 /content/drive/MyDrive/codeit_level1_project/data/test_images/937.png: 640x512 1 란스톤엘에프디티정 30mg, 1 스토가정 10mg, 1 노바스크정 5mg, 1 펠루비정(펠루비프로펜), 1 쿠에타핀정 25mg, 1 브린텔릭스정 20mg, 1 글리틴정(콜린알포세레이트), 13.4ms\n",
            "image 802/843 /content/drive/MyDrive/codeit_level1_project/data/test_images/938.png: 640x512 1 란스톤엘에프디티정 30mg, 1 스토가정 10mg, 1 노바스크정 5mg, 1 쿠에타핀정 25mg, 1 브린텔릭스정 20mg, 1 글리틴정(콜린알포세레이트), 1 로수바미브정 10/20mg, 15.1ms\n",
            "image 803/843 /content/drive/MyDrive/codeit_level1_project/data/test_images/940.png: 640x512 1 다보타민큐정 10mg/병, 1 에빅사정(메만틴염산염)(비매품), 1 리피토정 20mg, 1 트윈스타정 40/5mg, 12.2ms\n",
            "image 804/843 /content/drive/MyDrive/codeit_level1_project/data/test_images/941.png: 640x512 1 다보타민큐정 10mg/병, 1 리피토정 20mg, 1 콜리네이트연질캡슐 400mg, 1 트윈스타정 40/5mg, 12.3ms\n",
            "image 805/843 /content/drive/MyDrive/codeit_level1_project/data/test_images/942.png: 640x512 1 다보타민큐정 10mg/병, 1 리피토정 20mg, 1 트윈스타정 40/5mg, 12.2ms\n",
            "image 806/843 /content/drive/MyDrive/codeit_level1_project/data/test_images/945.png: 640x512 1 기넥신에프정(은행엽엑스)(수출용), 1 알드린정, 1 울트라셋이알서방정, 1 케이캡정 50mg, 12.7ms\n",
            "image 807/843 /content/drive/MyDrive/codeit_level1_project/data/test_images/947.png: 640x512 1 기넥신에프정(은행엽엑스)(수출용), 1 리피토정 20mg, 1 마도파정, 1 아토젯정 10/40mg, 12.3ms\n",
            "image 808/843 /content/drive/MyDrive/codeit_level1_project/data/test_images/948.png: 640x512 1 기넥신에프정(은행엽엑스)(수출용), 1 리피토정 20mg, 1 마도파정, 1 아토젯정 10/40mg, 12.4ms\n",
            "image 809/843 /content/drive/MyDrive/codeit_level1_project/data/test_images/949.png: 640x512 1 기넥신에프정(은행엽엑스)(수출용), 1 큐시드정 31.5mg/PTP, 1 에스원엠프정 20mg, 1 제미메트서방정 50/1000mg, 12.5ms\n",
            "image 810/843 /content/drive/MyDrive/codeit_level1_project/data/test_images/95.png: 640x512 1 뮤테란캡슐 100mg, 1 써스펜8시간이알서방정 650mg, 1 리피로우정 20mg, 1 트윈스타정 40/5mg, 12.5ms\n",
            "image 811/843 /content/drive/MyDrive/codeit_level1_project/data/test_images/950.png: 640x512 1 기넥신에프정(은행엽엑스)(수출용), 1 큐시드정 31.5mg/PTP, 1 에스원엠프정 20mg, 1 제미메트서방정 50/1000mg, 12.6ms\n",
            "image 812/843 /content/drive/MyDrive/codeit_level1_project/data/test_images/951.png: 640x512 1 기넥신에프정(은행엽엑스)(수출용), 1 큐시드정 31.5mg/PTP, 1 에스원엠프정 20mg, 1 제미메트서방정 50/1000mg, 12.6ms\n",
            "image 813/843 /content/drive/MyDrive/codeit_level1_project/data/test_images/952.png: 640x512 1 기넥신에프정(은행엽엑스)(수출용), 1 라비에트정 20mg, 1 에스원엠프정 20mg, 1 제미메트서방정 50/1000mg, 12.4ms\n",
            "image 814/843 /content/drive/MyDrive/codeit_level1_project/data/test_images/953.png: 640x512 1 기넥신에프정(은행엽엑스)(수출용), 1 라비에트정 20mg, 1 에스원엠프정 20mg, 1 제미메트서방정 50/1000mg, 12.2ms\n",
            "image 815/843 /content/drive/MyDrive/codeit_level1_project/data/test_images/954.png: 640x512 1 기넥신에프정(은행엽엑스)(수출용), 1 라비에트정 20mg, 1 에스원엠프정 20mg, 1 제미메트서방정 50/1000mg, 12.3ms\n",
            "image 816/843 /content/drive/MyDrive/codeit_level1_project/data/test_images/956.png: 640x512 1 삼남건조수산화알루미늄겔정, 1 오마코연질캡슐(오메가-3-산에틸에스테르90), 1 리리카캡슐 150mg, 1 플라빅스정 75mg, 1 세비카정 10/40mg, 12.5ms\n",
            "image 817/843 /content/drive/MyDrive/codeit_level1_project/data/test_images/957.png: 640x512 1 삼남건조수산화알루미늄겔정, 1 리리카캡슐 150mg, 1 플라빅스정 75mg, 1 세비카정 10/40mg, 12.5ms\n",
            "image 818/843 /content/drive/MyDrive/codeit_level1_project/data/test_images/962.png: 640x512 1 삼남건조수산화알루미늄겔정, 1 조인스정 200mg, 1 리리카캡슐 150mg, 1 플라빅스정 75mg, 12.5ms\n",
            "image 819/843 /content/drive/MyDrive/codeit_level1_project/data/test_images/966.png: 640x512 1 보령부스파정 5mg, 1 무코스타정(레바미피드)(비매품), 1 삐콤씨에프정 618.6mg/병, 1 리리카캡슐 150mg, 12.4ms\n",
            "image 820/843 /content/drive/MyDrive/codeit_level1_project/data/test_images/967.png: 640x512 1 써스펜8시간이알서방정 650mg, 2 트윈스타정 40/5mgs, 1 낙소졸정 500/20mg, 12.5ms\n",
            "image 821/843 /content/drive/MyDrive/codeit_level1_project/data/test_images/968.png: 640x512 1 보령부스파정 5mg, 1 써스펜8시간이알서방정 650mg, 2 트윈스타정 40/5mgs, 1 낙소졸정 500/20mg, 12.4ms\n",
            "image 822/843 /content/drive/MyDrive/codeit_level1_project/data/test_images/97.png: 640x512 1 보령부스파정 5mg, 1 리피토정 20mg, 1 리리카캡슐 150mg, 1 콜리네이트연질캡슐 400mg, 1 플라빅스정 75mg, 14.1ms\n",
            "image 823/843 /content/drive/MyDrive/codeit_level1_project/data/test_images/972.png: 640x512 1 삼남건조수산화알루미늄겔정, 1 타이레놀이알서방정(아세트아미노펜)(수출용), 1 리리카캡슐 150mg, 1 세비카정 10/40mg, 1 졸로푸트정 100mg, 12.3ms\n",
            "image 824/843 /content/drive/MyDrive/codeit_level1_project/data/test_images/973.png: 640x512 1 보령부스파정 5mg, 1 삼남건조수산화알루미늄겔정, 1 리리카캡슐 150mg, 1 콜리네이트연질캡슐 400mg, 12.3ms\n",
            "image 825/843 /content/drive/MyDrive/codeit_level1_project/data/test_images/974.png: 640x512 1 보령부스파정 5mg, 1 삼남건조수산화알루미늄겔정, 1 써스펜8시간이알서방정 650mg, 1 리리카캡슐 150mg, 1 콜리네이트연질캡슐 400mg, 12.3ms\n",
            "image 826/843 /content/drive/MyDrive/codeit_level1_project/data/test_images/975.png: 640x512 1 보령부스파정 5mg, 1 삼남건조수산화알루미늄겔정, 1 리리카캡슐 150mg, 1 콜리네이트연질캡슐 400mg, 12.2ms\n",
            "image 827/843 /content/drive/MyDrive/codeit_level1_project/data/test_images/979.png: 640x512 1 에빅사정(메만틴염산염)(비매품), 2 리리카캡슐 150mgs, 1 트윈스타정 40/5mg, 1 렉사프로정 15mg, 1 로수바미브정 10/20mg, 12.0ms\n",
            "image 828/843 /content/drive/MyDrive/codeit_level1_project/data/test_images/980.png: 640x512 1 에빅사정(메만틴염산염)(비매품), 1 노바스크정 5mg, 1 트윈스타정 40/5mg, 1 렉사프로정 15mg, 1 로수바미브정 10/20mg, 12.3ms\n",
            "image 829/843 /content/drive/MyDrive/codeit_level1_project/data/test_images/982.png: 640x512 1 란스톤엘에프디티정 30mg, 1 트루비타정 60mg/병, 1 노바스크정 5mg, 1 펠루비정(펠루비프로펜), 1 브린텔릭스정 20mg, 13.7ms\n",
            "image 830/843 /content/drive/MyDrive/codeit_level1_project/data/test_images/983.png: 640x512 1 란스톤엘에프디티정 30mg, 1 트루비타정 60mg/병, 1 노바스크정 5mg, 1 펠루비정(펠루비프로펜), 1 쿠에타핀정 25mg, 1 브린텔릭스정 20mg, 12.5ms\n",
            "image 831/843 /content/drive/MyDrive/codeit_level1_project/data/test_images/984.png: 640x512 1 란스톤엘에프디티정 30mg, 1 트루비타정 60mg/병, 1 노바스크정 5mg, 1 펠루비정(펠루비프로펜), 1 낙소졸정 500/20mg, 1 브린텔릭스정 20mg, 12.8ms\n",
            "image 832/843 /content/drive/MyDrive/codeit_level1_project/data/test_images/985.png: 640x512 1 보령부스파정 5mg, 1 뉴로메드정(옥시라세탐), 1 조인스정 200mg, 1 리리카캡슐 150mg, 12.1ms\n",
            "image 833/843 /content/drive/MyDrive/codeit_level1_project/data/test_images/986.png: 640x512 1 보령부스파정 5mg, 1 뉴로메드정(옥시라세탐), 1 조인스정 200mg, 1 리렉스펜정 300mg/PTP, 1 리리카캡슐 150mg, 1 리피로우정 20mg, 12.0ms\n",
            "image 834/843 /content/drive/MyDrive/codeit_level1_project/data/test_images/988.png: 640x512 1 기넥신에프정(은행엽엑스)(수출용), 1 알드린정, 1 아빌리파이정 10mg, 1 졸로푸트정 100mg, 12.3ms\n",
            "image 835/843 /content/drive/MyDrive/codeit_level1_project/data/test_images/989.png: 640x512 1 기넥신에프정(은행엽엑스)(수출용), 1 알드린정, 1 아빌리파이정 10mg, 1 카나브정 60mg, 1 졸로푸트정 100mg, 12.3ms\n",
            "image 836/843 /content/drive/MyDrive/codeit_level1_project/data/test_images/990.png: 640x512 1 기넥신에프정(은행엽엑스)(수출용), 1 알드린정, 1 아빌리파이정 10mg, 1 졸로푸트정 100mg, 1 케이캡정 50mg, 12.4ms\n",
            "image 837/843 /content/drive/MyDrive/codeit_level1_project/data/test_images/991.png: 640x512 1 보령부스파정 5mg, 1 오마코연질캡슐(오메가-3-산에틸에스테르90), 1 아토르바정 10mg, 1 카발린캡슐 25mg, 12.1ms\n",
            "image 838/843 /content/drive/MyDrive/codeit_level1_project/data/test_images/993.png: 640x512 1 보령부스파정 5mg, 1 오마코연질캡슐(오메가-3-산에틸에스테르90), 1 아토르바정 10mg, 1 카발린캡슐 25mg, 12.2ms\n",
            "image 839/843 /content/drive/MyDrive/codeit_level1_project/data/test_images/994.png: 640x512 1 기넥신에프정(은행엽엑스)(수출용), 1 마도파정, 1 에스원엠프정 20mg, 1 제미메트서방정 50/1000mg, 12.4ms\n",
            "image 840/843 /content/drive/MyDrive/codeit_level1_project/data/test_images/996.png: 640x512 1 기넥신에프정(은행엽엑스)(수출용), 1 마도파정, 1 에스원엠프정 20mg, 1 제미메트서방정 50/1000mg, 12.5ms\n",
            "image 841/843 /content/drive/MyDrive/codeit_level1_project/data/test_images/997.png: 640x512 1 보령부스파정 5mg, 1 삼남건조수산화알루미늄겔정, 1 타이레놀이알서방정(아세트아미노펜)(수출용), 1 조인스정 200mg, 1 리리카캡슐 150mg, 12.5ms\n",
            "image 842/843 /content/drive/MyDrive/codeit_level1_project/data/test_images/998.png: 640x512 1 보령부스파정 5mg, 1 삼남건조수산화알루미늄겔정, 1 타이레놀이알서방정(아세트아미노펜)(수출용), 1 조인스정 200mg, 1 리리카캡슐 150mg, 12.3ms\n",
            "image 843/843 /content/drive/MyDrive/codeit_level1_project/data/test_images/999.png: 640x512 1 보령부스파정 5mg, 1 삼남건조수산화알루미늄겔정, 1 타이레놀이알서방정(아세트아미노펜)(수출용), 1 조인스정 200mg, 1 리리카캡슐 150mg, 12.4ms\n",
            "Speed: 2.7ms preprocess, 12.6ms inference, 1.7ms postprocess per image at shape (1, 3, 640, 512)\n"
          ]
        }
      ]
    },
    {
      "cell_type": "markdown",
      "source": [
        "## **7. 제출 파일 생성**\n",
        "\n",
        "- 모델의 예측 결과를 기반으로 Kaggle 제출 포맷에 맞는 csv 파일을 생성한다.\n",
        "- test_images 폴더의 이미지 파일명은 중간중간 누락된 번호가 많기 때문에, 단순한 순번(1, 2, 3...)이 아닌, 파일명에서 추출한 실제 숫자 ID를 그대로 사용해야 한다.\n",
        "- 클래스 번호는 제출 시 반드시 주어진 category_id와 정확히 매핑해야 평가가 올바르게 이루어진다."
      ],
      "metadata": {
        "id": "jN1VXP1Tr55L"
      }
    },
    {
      "cell_type": "code",
      "source": [
        "# 클래스 매핑 로드\n",
        "with open(\"/content/drive/MyDrive/codeit_level1_project/data/classid_to_categoryid.json\", \"r\") as f:\n",
        "    class_to_category = json.load(f)\n",
        "    class_to_category = {int(k): v for k, v in class_to_category.items()}\n",
        "\n",
        "# 결과 파싱 및 저장\n",
        "rows = []\n",
        "annotation_id = 1\n",
        "\n",
        "for result in test_results:\n",
        "    # image_id: 원본 이미지 경로에서 파일명 숫자 추출\n",
        "    filename = result.path.split(\"/\")[-1]\n",
        "    image_id = int(filename.split(\".\")[0])  # 예: \"0089.png\" → 89\n",
        "\n",
        "    boxes = result.boxes\n",
        "    if boxes is None or boxes.xywh is None:\n",
        "        continue\n",
        "\n",
        "    for i in range(len(boxes.xywh)):\n",
        "        x, y, w, h = boxes.xywh[i].tolist()\n",
        "        score = float(boxes.conf[i])\n",
        "        cls = int(boxes.cls[i])\n",
        "        category_id = class_to_category.get(cls, -1)\n",
        "\n",
        "        if category_id == -1:\n",
        "            continue  # 매핑 실패한 클래스는 제외\n",
        "\n",
        "        # COCO 포맷: x_min, y_min, width, height\n",
        "        xmin = round(x - w / 2)\n",
        "        ymin = round(y - h / 2)\n",
        "        bbox_w = round(w)\n",
        "        bbox_h = round(h)\n",
        "\n",
        "        rows.append([\n",
        "            annotation_id,\n",
        "            image_id,\n",
        "            category_id,\n",
        "            xmin,\n",
        "            ymin,\n",
        "            bbox_w,\n",
        "            bbox_h,\n",
        "            round(score, 2)\n",
        "        ])\n",
        "        annotation_id += 1\n",
        "\n",
        "# CSV 저장\n",
        "df = pd.DataFrame(rows, columns=[\n",
        "    \"annotation_id\", \"image_id\", \"category_id\",\n",
        "    \"bbox_x\", \"bbox_y\", \"bbox_w\", \"bbox_h\", \"score\"\n",
        "])\n",
        "csv_path = \"/content/submission.csv\"\n",
        "df.to_csv(csv_path, index=False)\n",
        "print(f\"CSV 저장 완료: {csv_path} / 총 {len(df)}개의 바운딩 박스\")"
      ],
      "metadata": {
        "colab": {
          "base_uri": "https://localhost:8080/"
        },
        "id": "SrVpZX2W0fbo",
        "outputId": "53a46338-be4e-415e-f65c-4879c33d4d20"
      },
      "execution_count": null,
      "outputs": [
        {
          "output_type": "stream",
          "name": "stdout",
          "text": [
            "CSV 저장 완료: /content/submission.csv / 총 3775개의 바운딩 박스\n"
          ]
        }
      ]
    }
  ]
}