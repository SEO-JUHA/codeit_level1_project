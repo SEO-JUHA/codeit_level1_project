{
 "cells": [
  {
   "cell_type": "code",
   "execution_count": 1,
   "id": "9054ec99",
   "metadata": {},
   "outputs": [],
   "source": [
    "import pandas as pd\n",
    "import matplotlib.pyplot as plt\n",
    "import seaborn as sns\n",
    "import cv2\n",
    "import json\n",
    "import os\n",
    "import koreanize_matplotlib\n"
   ]
  },
  {
   "cell_type": "code",
   "execution_count": null,
   "id": "4e05552a",
   "metadata": {},
   "outputs": [
    {
     "name": "stdout",
     "output_type": "stream",
     "text": [
      "(0, 0)\n",
      "[]\n",
      "Empty DataFrame\n",
      "Columns: []\n",
      "Index: []\n"
     ]
    }
   ],
   "source": [
    "import os\n",
    "import json\n",
    "import pandas as pd\n",
    "\n",
    "# 1) 어노테이션 JSON이 들어있는 최상위 디렉터리\n",
    "annotations_dir = 'ai02-level1-project/train_annotations'\n",
    "\n",
    "# 2) 결과 레코드를 담을 리스트\n",
    "records = []\n",
    "\n",
    "# 3) 모든 서브디렉터리의 JSON 파일 순회\n",
    "for root, dirs, files in os.walk(annotations_dir):\n",
    "    for fname in files:\n",
    "        if not fname.lower().endswith('.json'):\n",
    "            continue\n",
    "\n",
    "        path = os.path.join(root, fname)\n",
    "        with open(path, 'r', encoding='utf-8') as f:\n",
    "            data = json.load(f)\n",
    "\n",
    "        # 4) images, categories 블록을 ID → dict 매핑\n",
    "        images_map = {img['id']: img for img in data.get('images', [])}\n",
    "        cats_map   = {c['id']: c for c in data.get('categories', [])}\n",
    "        file_type  = data.get('type', None)\n",
    "\n",
    "        # 5) annotations 리스트를 순회하며 레코드 생성\n",
    "        for ann in data.get('annotations', []):\n",
    "            rec = {}\n",
    "\n",
    "            # (a) 이미지 정보 앞에 img_ 접두사\n",
    "            img = images_map.get(ann['image_id'], {})\n",
    "            for k, v in img.items():\n",
    "                rec[f\"img_{k}\"] = v\n",
    "\n",
    "            # (b) annotation 정보 (area, bbox, id, iscrowd, …)\n",
    "            for k, v in ann.items():\n",
    "                rec[k] = v\n",
    "\n",
    "            # (c) 카테고리 정보 합치기\n",
    "            cat = cats_map.get(ann['category_id'], {})\n",
    "            rec['category_super'] = cat.get('supercategory')\n",
    "            rec['category_name']  = cat.get('name')\n",
    "\n",
    "            # (d) file type\n",
    "            rec['file_type'] = file_type\n",
    "\n",
    "            records.append(rec)\n",
    "\n",
    "# 6) DataFrame 생성 및 CSV 저장\n",
    "df = pd.DataFrame.from_records(records)\n",
    "df.to_csv('annotations.csv', index=False)\n",
    "\n",
    "# 7) 결과 확인 (필요시)\n",
    "print(df.shape)\n",
    "print(df.columns.tolist())\n",
    "print(df.head())\n"
   ]
  },
  {
   "cell_type": "code",
   "execution_count": 62,
   "id": "d89b6260",
   "metadata": {},
   "outputs": [
    {
     "data": {
      "application/vnd.microsoft.datawrangler.viewer.v0+json": {
       "columns": [
        {
         "name": "('img_width', 'img_height')",
         "rawType": "object",
         "type": "unknown"
        },
        {
         "name": "0",
         "rawType": "int64",
         "type": "integer"
        }
       ],
       "ref": "a382c861-962b-4bea-bd8b-469d7ee6da60",
       "rows": [
        [
         "(np.int64(976), np.int64(1280))",
         "4526"
        ]
       ],
       "shape": {
        "columns": 1,
        "rows": 1
       }
      },
      "text/plain": [
       "img_width  img_height\n",
       "976        1280          4526\n",
       "dtype: int64"
      ]
     },
     "execution_count": 62,
     "metadata": {},
     "output_type": "execute_result"
    }
   ],
   "source": [
    "# width, height의 같은 값들의 개수\n",
    "df.groupby(['img_width','img_height']).size()"
   ]
  },
  {
   "cell_type": "code",
   "execution_count": 63,
   "id": "2692d6be",
   "metadata": {},
   "outputs": [
    {
     "data": {
      "application/vnd.microsoft.datawrangler.viewer.v0+json": {
       "columns": [
        {
         "name": "index",
         "rawType": "object",
         "type": "string"
        },
        {
         "name": "0",
         "rawType": "int64",
         "type": "integer"
        }
       ],
       "ref": "74f0526b-3b30-44b2-ace3-4285c0f36233",
       "rows": [
        [
         "img_file_name",
         "0"
        ],
        [
         "img_width",
         "0"
        ],
        [
         "img_height",
         "0"
        ],
        [
         "img_imgfile",
         "0"
        ],
        [
         "img_drug_N",
         "0"
        ],
        [
         "img_drug_S",
         "0"
        ],
        [
         "img_back_color",
         "0"
        ],
        [
         "img_drug_dir",
         "0"
        ],
        [
         "img_light_color",
         "0"
        ],
        [
         "img_camera_la",
         "0"
        ],
        [
         "img_camera_lo",
         "0"
        ],
        [
         "img_size",
         "0"
        ],
        [
         "img_dl_idx",
         "0"
        ],
        [
         "img_dl_mapping_code",
         "0"
        ],
        [
         "img_dl_name",
         "0"
        ],
        [
         "img_dl_name_en",
         "0"
        ],
        [
         "img_img_key",
         "143"
        ],
        [
         "img_dl_material",
         "0"
        ],
        [
         "img_dl_material_en",
         "0"
        ],
        [
         "img_dl_custom_shape",
         "0"
        ],
        [
         "img_dl_company",
         "0"
        ],
        [
         "img_dl_company_en",
         "0"
        ],
        [
         "img_di_company_mf",
         "0"
        ],
        [
         "img_di_company_mf_en",
         "0"
        ],
        [
         "img_item_seq",
         "0"
        ],
        [
         "img_di_item_permit_date",
         "0"
        ],
        [
         "img_di_class_no",
         "0"
        ],
        [
         "img_di_etc_otc_code",
         "0"
        ],
        [
         "img_di_edi_code",
         "0"
        ],
        [
         "img_chart",
         "143"
        ],
        [
         "img_drug_shape",
         "143"
        ],
        [
         "img_thick",
         "0"
        ],
        [
         "img_leng_long",
         "0"
        ],
        [
         "img_leng_short",
         "0"
        ],
        [
         "img_print_front",
         "143"
        ],
        [
         "img_print_back",
         "143"
        ],
        [
         "img_color_class1",
         "143"
        ],
        [
         "img_color_class2",
         "143"
        ],
        [
         "img_line_front",
         "143"
        ],
        [
         "img_line_back",
         "143"
        ],
        [
         "img_img_regist_ts",
         "143"
        ],
        [
         "img_form_code_name",
         "143"
        ],
        [
         "img_mark_code_front_anal",
         "143"
        ],
        [
         "img_mark_code_back_anal",
         "143"
        ],
        [
         "img_mark_code_front_img",
         "143"
        ],
        [
         "img_mark_code_back_img",
         "143"
        ],
        [
         "img_mark_code_front",
         "143"
        ],
        [
         "img_mark_code_back",
         "143"
        ],
        [
         "img_change_date",
         "143"
        ],
        [
         "img_id",
         "0"
        ]
       ],
       "shape": {
        "columns": 1,
        "rows": 61
       }
      },
      "text/plain": [
       "img_file_name     0\n",
       "img_width         0\n",
       "img_height        0\n",
       "img_imgfile       0\n",
       "img_drug_N        0\n",
       "                 ..\n",
       "id                0\n",
       "image_id          0\n",
       "category_super    0\n",
       "category_name     0\n",
       "file_type         0\n",
       "Length: 61, dtype: int64"
      ]
     },
     "execution_count": 63,
     "metadata": {},
     "output_type": "execute_result"
    }
   ],
   "source": [
    "# df 결측값 143개\n",
    "df.isnull().sum()"
   ]
  },
  {
   "cell_type": "markdown",
   "id": "fda981b3",
   "metadata": {},
   "source": [
    "## 알약상태(drug_S)\n",
    "\"정상알약\"만 존재함"
   ]
  },
  {
   "cell_type": "code",
   "execution_count": 64,
   "id": "cff0a817",
   "metadata": {},
   "outputs": [
    {
     "data": {
      "application/vnd.microsoft.datawrangler.viewer.v0+json": {
       "columns": [
        {
         "name": "index",
         "rawType": "object",
         "type": "string"
        },
        {
         "name": "img_drug_S",
         "rawType": "object",
         "type": "unknown"
        }
       ],
       "ref": "c5c7be1c-0f3c-40a1-8409-f23294b826b5",
       "rows": [
        [
         "count",
         "4526"
        ],
        [
         "unique",
         "1"
        ],
        [
         "top",
         "정상알약"
        ],
        [
         "freq",
         "4526"
        ]
       ],
       "shape": {
        "columns": 1,
        "rows": 4
       }
      },
      "text/plain": [
       "count     4526\n",
       "unique       1\n",
       "top       정상알약\n",
       "freq      4526\n",
       "Name: img_drug_S, dtype: object"
      ]
     },
     "execution_count": 64,
     "metadata": {},
     "output_type": "execute_result"
    }
   ],
   "source": [
    "# 알약 상태 확인\n",
    "df['img_drug_S'].describe()"
   ]
  },
  {
   "cell_type": "markdown",
   "id": "5a9dd4e4",
   "metadata": {},
   "source": [
    "## 촬영배경(back_color)\n",
    "\"연회색 배경\"만 존재한다."
   ]
  },
  {
   "cell_type": "code",
   "execution_count": 65,
   "id": "d510b0e9",
   "metadata": {},
   "outputs": [
    {
     "data": {
      "application/vnd.microsoft.datawrangler.viewer.v0+json": {
       "columns": [
        {
         "name": "index",
         "rawType": "object",
         "type": "string"
        },
        {
         "name": "img_back_color",
         "rawType": "object",
         "type": "unknown"
        }
       ],
       "ref": "6f5b850d-cb4c-4b4e-b3cd-ca9f19e1671f",
       "rows": [
        [
         "count",
         "4526"
        ],
        [
         "unique",
         "1"
        ],
        [
         "top",
         "연회색 배경"
        ],
        [
         "freq",
         "4526"
        ]
       ],
       "shape": {
        "columns": 1,
        "rows": 4
       }
      },
      "text/plain": [
       "count       4526\n",
       "unique         1\n",
       "top       연회색 배경\n",
       "freq        4526\n",
       "Name: img_back_color, dtype: object"
      ]
     },
     "execution_count": 65,
     "metadata": {},
     "output_type": "execute_result"
    }
   ],
   "source": [
    "# 촬영 배경\n",
    "df['img_back_color'].describe()"
   ]
  },
  {
   "cell_type": "markdown",
   "id": "f5bf4af2",
   "metadata": {},
   "source": [
    "## 알약방향(drug_dir)\n",
    "앞면은 4513개, 뒷면은 13개로 클래스 불균형이 존재한다."
   ]
  },
  {
   "cell_type": "code",
   "execution_count": 66,
   "id": "2429f8cc",
   "metadata": {},
   "outputs": [
    {
     "data": {
      "application/vnd.microsoft.datawrangler.viewer.v0+json": {
       "columns": [
        {
         "name": "index",
         "rawType": "object",
         "type": "string"
        },
        {
         "name": "img_drug_dir",
         "rawType": "object",
         "type": "unknown"
        }
       ],
       "ref": "1a133cdf-d647-4b80-bbed-d72858e75424",
       "rows": [
        [
         "count",
         "4526"
        ],
        [
         "unique",
         "2"
        ],
        [
         "top",
         "앞면"
        ],
        [
         "freq",
         "4513"
        ]
       ],
       "shape": {
        "columns": 1,
        "rows": 4
       }
      },
      "text/plain": [
       "count     4526\n",
       "unique       2\n",
       "top         앞면\n",
       "freq      4513\n",
       "Name: img_drug_dir, dtype: object"
      ]
     },
     "execution_count": 66,
     "metadata": {},
     "output_type": "execute_result"
    }
   ],
   "source": [
    "df['img_drug_dir'].describe()"
   ]
  },
  {
   "cell_type": "code",
   "execution_count": 67,
   "id": "d7e07200",
   "metadata": {},
   "outputs": [
    {
     "data": {
      "application/vnd.microsoft.datawrangler.viewer.v0+json": {
       "columns": [
        {
         "name": "img_drug_dir",
         "rawType": "object",
         "type": "string"
        },
        {
         "name": "count",
         "rawType": "int64",
         "type": "integer"
        }
       ],
       "ref": "b67d5fe9-82f3-479c-8de2-f4bfb2ea55f6",
       "rows": [
        [
         "앞면",
         "4513"
        ],
        [
         "뒷면",
         "13"
        ]
       ],
       "shape": {
        "columns": 1,
        "rows": 2
       }
      },
      "text/plain": [
       "img_drug_dir\n",
       "앞면    4513\n",
       "뒷면      13\n",
       "Name: count, dtype: int64"
      ]
     },
     "execution_count": 67,
     "metadata": {},
     "output_type": "execute_result"
    }
   ],
   "source": [
    "df['img_drug_dir'].value_counts()"
   ]
  },
  {
   "cell_type": "markdown",
   "id": "ea01d843",
   "metadata": {},
   "source": [
    "## 촬영조명(light_color)\n",
    "\"주백색\"만 존재한다."
   ]
  },
  {
   "cell_type": "code",
   "execution_count": 68,
   "id": "3cefe9f8",
   "metadata": {},
   "outputs": [
    {
     "data": {
      "application/vnd.microsoft.datawrangler.viewer.v0+json": {
       "columns": [
        {
         "name": "index",
         "rawType": "object",
         "type": "string"
        },
        {
         "name": "img_light_color",
         "rawType": "object",
         "type": "unknown"
        }
       ],
       "ref": "61384fb0-0885-46f3-9dfd-8398763b4fa6",
       "rows": [
        [
         "count",
         "4526"
        ],
        [
         "unique",
         "1"
        ],
        [
         "top",
         "주백색"
        ],
        [
         "freq",
         "4526"
        ]
       ],
       "shape": {
        "columns": 1,
        "rows": 4
       }
      },
      "text/plain": [
       "count     4526\n",
       "unique       1\n",
       "top        주백색\n",
       "freq      4526\n",
       "Name: img_light_color, dtype: object"
      ]
     },
     "execution_count": 68,
     "metadata": {},
     "output_type": "execute_result"
    }
   ],
   "source": [
    "df['img_light_color'].describe()"
   ]
  },
  {
   "cell_type": "markdown",
   "id": "abadc92d",
   "metadata": {},
   "source": [
    "## 카메라위도(camera_la)\n",
    "70, 75, 90도 3개가 각각 균형있게 존재한다."
   ]
  },
  {
   "cell_type": "code",
   "execution_count": 69,
   "id": "1593e4fc",
   "metadata": {},
   "outputs": [
    {
     "data": {
      "application/vnd.microsoft.datawrangler.viewer.v0+json": {
       "columns": [
        {
         "name": "index",
         "rawType": "object",
         "type": "string"
        },
        {
         "name": "img_camera_la",
         "rawType": "float64",
         "type": "float"
        }
       ],
       "ref": "8e3c9f6b-7d04-4759-8fa5-c67b9651d9e2",
       "rows": [
        [
         "count",
         "4526.0"
        ],
        [
         "mean",
         "78.33627927529828"
        ],
        [
         "std",
         "8.49077735533677"
        ],
        [
         "min",
         "70.0"
        ],
        [
         "25%",
         "70.0"
        ],
        [
         "50%",
         "75.0"
        ],
        [
         "75%",
         "90.0"
        ],
        [
         "max",
         "90.0"
        ]
       ],
       "shape": {
        "columns": 1,
        "rows": 8
       }
      },
      "text/plain": [
       "count    4526.000000\n",
       "mean       78.336279\n",
       "std         8.490777\n",
       "min        70.000000\n",
       "25%        70.000000\n",
       "50%        75.000000\n",
       "75%        90.000000\n",
       "max        90.000000\n",
       "Name: img_camera_la, dtype: float64"
      ]
     },
     "execution_count": 69,
     "metadata": {},
     "output_type": "execute_result"
    }
   ],
   "source": [
    "df['img_camera_la'].describe()"
   ]
  },
  {
   "cell_type": "code",
   "execution_count": 70,
   "id": "8239b916",
   "metadata": {},
   "outputs": [
    {
     "data": {
      "text/plain": [
       "np.int64(0)"
      ]
     },
     "execution_count": 70,
     "metadata": {},
     "output_type": "execute_result"
    }
   ],
   "source": [
    "df['img_camera_la'].isnull().sum()"
   ]
  },
  {
   "cell_type": "code",
   "execution_count": 71,
   "id": "8e64571a",
   "metadata": {},
   "outputs": [
    {
     "data": {
      "application/vnd.microsoft.datawrangler.viewer.v0+json": {
       "columns": [
        {
         "name": "img_camera_la",
         "rawType": "int64",
         "type": "integer"
        },
        {
         "name": "count",
         "rawType": "int64",
         "type": "integer"
        }
       ],
       "ref": "4119323a-d476-4265-8d72-f13d7df54341",
       "rows": [
        [
         "75",
         "1518"
        ],
        [
         "90",
         "1507"
        ],
        [
         "70",
         "1501"
        ]
       ],
       "shape": {
        "columns": 1,
        "rows": 3
       }
      },
      "text/plain": [
       "img_camera_la\n",
       "75    1518\n",
       "90    1507\n",
       "70    1501\n",
       "Name: count, dtype: int64"
      ]
     },
     "execution_count": 71,
     "metadata": {},
     "output_type": "execute_result"
    }
   ],
   "source": [
    "df['img_camera_la'].value_counts()"
   ]
  },
  {
   "cell_type": "markdown",
   "id": "6eda8ab7",
   "metadata": {},
   "source": [
    "## 카메라경도(camera_lo)\n",
    "모든 값이 0이다."
   ]
  },
  {
   "cell_type": "code",
   "execution_count": 72,
   "id": "2ba0e86e",
   "metadata": {},
   "outputs": [
    {
     "data": {
      "application/vnd.microsoft.datawrangler.viewer.v0+json": {
       "columns": [
        {
         "name": "index",
         "rawType": "object",
         "type": "string"
        },
        {
         "name": "img_camera_lo",
         "rawType": "float64",
         "type": "float"
        }
       ],
       "ref": "369501d5-1750-4f36-a117-2b03ab1f4269",
       "rows": [
        [
         "count",
         "4526.0"
        ],
        [
         "mean",
         "0.0"
        ],
        [
         "std",
         "0.0"
        ],
        [
         "min",
         "0.0"
        ],
        [
         "25%",
         "0.0"
        ],
        [
         "50%",
         "0.0"
        ],
        [
         "75%",
         "0.0"
        ],
        [
         "max",
         "0.0"
        ]
       ],
       "shape": {
        "columns": 1,
        "rows": 8
       }
      },
      "text/plain": [
       "count    4526.0\n",
       "mean        0.0\n",
       "std         0.0\n",
       "min         0.0\n",
       "25%         0.0\n",
       "50%         0.0\n",
       "75%         0.0\n",
       "max         0.0\n",
       "Name: img_camera_lo, dtype: float64"
      ]
     },
     "execution_count": 72,
     "metadata": {},
     "output_type": "execute_result"
    }
   ],
   "source": [
    "df['img_camera_lo'].describe()"
   ]
  },
  {
   "cell_type": "markdown",
   "id": "1bf85716",
   "metadata": {},
   "source": [
    "## 알약 식별자(dl_idx)\n",
    "사진에 나오는 알약들 클래스가 불균형하다."
   ]
  },
  {
   "cell_type": "code",
   "execution_count": 73,
   "id": "6a07229a",
   "metadata": {},
   "outputs": [
    {
     "data": {
      "application/vnd.microsoft.datawrangler.viewer.v0+json": {
       "columns": [
        {
         "name": "index",
         "rawType": "object",
         "type": "string"
        },
        {
         "name": "img_dl_idx",
         "rawType": "object",
         "type": "unknown"
        }
       ],
       "ref": "4e1cab1f-5797-4d54-b6d5-6304fc0e2b5a",
       "rows": [
        [
         "count",
         "4526"
        ],
        [
         "unique",
         "73"
        ],
        [
         "top",
         "3482"
        ],
        [
         "freq",
         "514"
        ]
       ],
       "shape": {
        "columns": 1,
        "rows": 4
       }
      },
      "text/plain": [
       "count     4526\n",
       "unique      73\n",
       "top       3482\n",
       "freq       514\n",
       "Name: img_dl_idx, dtype: object"
      ]
     },
     "execution_count": 73,
     "metadata": {},
     "output_type": "execute_result"
    }
   ],
   "source": [
    "df['img_dl_idx'].describe()"
   ]
  },
  {
   "cell_type": "code",
   "execution_count": 74,
   "id": "ce43b7f6",
   "metadata": {},
   "outputs": [
    {
     "data": {
      "text/plain": [
       "np.int64(0)"
      ]
     },
     "execution_count": 74,
     "metadata": {},
     "output_type": "execute_result"
    }
   ],
   "source": [
    "df['img_dl_idx'].isnull().sum()"
   ]
  },
  {
   "cell_type": "code",
   "execution_count": 75,
   "id": "5e23f069",
   "metadata": {},
   "outputs": [
    {
     "data": {
      "application/vnd.microsoft.datawrangler.viewer.v0+json": {
       "columns": [
        {
         "name": "img_dl_idx",
         "rawType": "object",
         "type": "string"
        },
        {
         "name": "count",
         "rawType": "int64",
         "type": "integer"
        }
       ],
       "ref": "de2c975c-191b-4445-86d9-b5271e1d3b41",
       "rows": [
        [
         "3482",
         "514"
        ],
        [
         "3350",
         "240"
        ],
        [
         "1899",
         "180"
        ],
        [
         "2482",
         "172"
        ],
        [
         "16547",
         "143"
        ],
        [
         "16550",
         "139"
        ],
        [
         "35205",
         "113"
        ],
        [
         "29666",
         "111"
        ],
        [
         "16231",
         "109"
        ],
        [
         "16261",
         "108"
        ],
        [
         "36636",
         "108"
        ],
        [
         "3543",
         "99"
        ],
        [
         "20237",
         "97"
        ],
        [
         "27732",
         "94"
        ],
        [
         "34596",
         "88"
        ],
        [
         "25366",
         "88"
        ],
        [
         "28762",
         "87"
        ],
        [
         "22346",
         "85"
        ],
        [
         "31884",
         "85"
        ],
        [
         "27776",
         "84"
        ],
        [
         "30307",
         "81"
        ],
        [
         "20876",
         "80"
        ],
        [
         "27652",
         "79"
        ],
        [
         "25468",
         "76"
        ],
        [
         "19860",
         "66"
        ],
        [
         "25437",
         "61"
        ],
        [
         "5093",
         "56"
        ],
        [
         "3742",
         "54"
        ],
        [
         "19551",
         "39"
        ],
        [
         "23222",
         "38"
        ],
        [
         "29344",
         "38"
        ],
        [
         "27925",
         "38"
        ],
        [
         "22361",
         "36"
        ],
        [
         "12777",
         "36"
        ],
        [
         "22626",
         "36"
        ],
        [
         "12080",
         "35"
        ],
        [
         "5885",
         "35"
        ],
        [
         "6562",
         "35"
        ],
        [
         "21025",
         "35"
        ],
        [
         "10220",
         "35"
        ],
        [
         "33008",
         "35"
        ],
        [
         "31704",
         "35"
        ],
        [
         "13394",
         "34"
        ],
        [
         "6191",
         "34"
        ],
        [
         "29450",
         "34"
        ],
        [
         "4377",
         "33"
        ],
        [
         "19606",
         "32"
        ],
        [
         "44198",
         "30"
        ],
        [
         "33207",
         "30"
        ],
        [
         "4542",
         "29"
        ]
       ],
       "shape": {
        "columns": 1,
        "rows": 73
       }
      },
      "text/plain": [
       "img_dl_idx\n",
       "3482     514\n",
       "3350     240\n",
       "1899     180\n",
       "2482     172\n",
       "16547    143\n",
       "        ... \n",
       "27992     11\n",
       "23202     10\n",
       "12419      9\n",
       "29870      9\n",
       "33877      7\n",
       "Name: count, Length: 73, dtype: int64"
      ]
     },
     "execution_count": 75,
     "metadata": {},
     "output_type": "execute_result"
    }
   ],
   "source": [
    "df['img_dl_idx'].value_counts()"
   ]
  },
  {
   "cell_type": "code",
   "execution_count": 76,
   "id": "94180da6",
   "metadata": {},
   "outputs": [
    {
     "data": {
      "image/png": "[encoded data removed]",
      "text/plain": [
       "<Figure size 2000x600 with 1 Axes>"
      ]
     },
     "metadata": {},
     "output_type": "display_data"
    }
   ],
   "source": [
    "# 데이터 로드\n",
    "df = pd.read_csv('annotations.csv')  # 경로 확인\n",
    "\n",
    "# img_dl_idx별 개수 계산\n",
    "vc = df['img_dl_idx'].value_counts()\n",
    "\n",
    "# 전체 고유값 시각화\n",
    "plt.figure(figsize=(20, 6))\n",
    "plt.bar(vc.index.astype(str), vc.values)\n",
    "plt.xticks(rotation=90)\n",
    "plt.xlabel('img_dl_idx')\n",
    "plt.ylabel('Count')\n",
    "plt.title('img_dl_idx counts')\n",
    "plt.tight_layout()\n",
    "plt.show()\n"
   ]
  },
  {
   "cell_type": "markdown",
   "id": "52dc60a8",
   "metadata": {},
   "source": [
    "## 제품코드(dl_mapping_code)\n",
    "알약이 제품으로 판매되므로 제품의 고유 코드를 의미\n",
    "\n",
    "알약이 이미지에 나타난 횟수가 dl_idx와 같다."
   ]
  },
  {
   "cell_type": "code",
   "execution_count": 58,
   "id": "6ebd4941",
   "metadata": {},
   "outputs": [
    {
     "data": {
      "application/vnd.microsoft.datawrangler.viewer.v0+json": {
       "columns": [
        {
         "name": "index",
         "rawType": "object",
         "type": "string"
        },
        {
         "name": "img_dl_mapping_code",
         "rawType": "object",
         "type": "unknown"
        }
       ],
       "ref": "2c6a0c38-09f6-4e37-9f5a-009925300175",
       "rows": [
        [
         "count",
         "4526"
        ],
        [
         "unique",
         "73"
        ],
        [
         "top",
         "K-003483"
        ],
        [
         "freq",
         "514"
        ]
       ],
       "shape": {
        "columns": 1,
        "rows": 4
       }
      },
      "text/plain": [
       "count         4526\n",
       "unique          73\n",
       "top       K-003483\n",
       "freq           514\n",
       "Name: img_dl_mapping_code, dtype: object"
      ]
     },
     "execution_count": 58,
     "metadata": {},
     "output_type": "execute_result"
    }
   ],
   "source": [
    "df['img_dl_mapping_code'].describe()"
   ]
  },
  {
   "cell_type": "code",
   "execution_count": 59,
   "id": "8daec6b8",
   "metadata": {},
   "outputs": [
    {
     "data": {
      "application/vnd.microsoft.datawrangler.viewer.v0+json": {
       "columns": [
        {
         "name": "img_dl_mapping_code",
         "rawType": "object",
         "type": "string"
        },
        {
         "name": "count",
         "rawType": "int64",
         "type": "integer"
        }
       ],
       "ref": "0c145c17-9afe-42a0-b863-83f2c9816e87",
       "rows": [
        [
         "K-003483",
         "514"
        ],
        [
         "K-003351",
         "240"
        ],
        [
         "K-001900",
         "180"
        ],
        [
         "K-002483",
         "172"
        ],
        [
         "K-016548",
         "143"
        ],
        [
         "K-016551",
         "139"
        ],
        [
         "K-035206",
         "113"
        ],
        [
         "K-029667",
         "111"
        ],
        [
         "K-016232",
         "109"
        ],
        [
         "K-016262",
         "108"
        ],
        [
         "K-036637",
         "108"
        ],
        [
         "K-003544",
         "99"
        ],
        [
         "K-020238",
         "97"
        ],
        [
         "K-027733",
         "94"
        ],
        [
         "K-034597",
         "88"
        ],
        [
         "K-025367",
         "88"
        ],
        [
         "K-028763",
         "87"
        ],
        [
         "K-022347",
         "85"
        ],
        [
         "K-031885",
         "85"
        ],
        [
         "K-027777",
         "84"
        ],
        [
         "K-030308",
         "81"
        ],
        [
         "K-020877",
         "80"
        ],
        [
         "K-027653",
         "79"
        ],
        [
         "K-025469",
         "76"
        ],
        [
         "K-019861",
         "66"
        ],
        [
         "K-025438",
         "61"
        ],
        [
         "K-005094",
         "56"
        ],
        [
         "K-003743",
         "54"
        ],
        [
         "K-019552",
         "39"
        ],
        [
         "K-023223",
         "38"
        ],
        [
         "K-029345",
         "38"
        ],
        [
         "K-027926",
         "38"
        ],
        [
         "K-022362",
         "36"
        ],
        [
         "K-012778",
         "36"
        ],
        [
         "K-022627",
         "36"
        ],
        [
         "K-012081",
         "35"
        ],
        [
         "K-005886",
         "35"
        ],
        [
         "K-006563",
         "35"
        ],
        [
         "K-021026",
         "35"
        ],
        [
         "K-010221",
         "35"
        ],
        [
         "K-033009",
         "35"
        ],
        [
         "K-031705",
         "35"
        ],
        [
         "K-013395",
         "34"
        ],
        [
         "K-006192",
         "34"
        ],
        [
         "K-029451",
         "34"
        ],
        [
         "K-004378",
         "33"
        ],
        [
         "K-019607",
         "32"
        ],
        [
         "K-044199",
         "30"
        ],
        [
         "K-033208",
         "30"
        ],
        [
         "K-004543",
         "29"
        ]
       ],
       "shape": {
        "columns": 1,
        "rows": 73
       }
      },
      "text/plain": [
       "img_dl_mapping_code\n",
       "K-003483    514\n",
       "K-003351    240\n",
       "K-001900    180\n",
       "K-002483    172\n",
       "K-016548    143\n",
       "           ... \n",
       "K-027993     11\n",
       "K-023203     10\n",
       "K-012420      9\n",
       "K-029871      9\n",
       "K-033878      7\n",
       "Name: count, Length: 73, dtype: int64"
      ]
     },
     "execution_count": 59,
     "metadata": {},
     "output_type": "execute_result"
    }
   ],
   "source": [
    "df['img_dl_mapping_code'].value_counts()"
   ]
  },
  {
   "cell_type": "markdown",
   "id": "33440004",
   "metadata": {},
   "source": [
    "## 제품명(dl_name)\n",
    "알약 제품 출시했을때, 제품의 이름"
   ]
  },
  {
   "cell_type": "code",
   "execution_count": 78,
   "id": "bfaf1fd0",
   "metadata": {},
   "outputs": [
    {
     "data": {
      "application/vnd.microsoft.datawrangler.viewer.v0+json": {
       "columns": [
        {
         "name": "index",
         "rawType": "object",
         "type": "string"
        },
        {
         "name": "img_dl_name",
         "rawType": "object",
         "type": "unknown"
        }
       ],
       "ref": "76972e7a-d971-408d-a4d1-ad0aa8ff4290",
       "rows": [
        [
         "count",
         "4526"
        ],
        [
         "unique",
         "73"
        ],
        [
         "top",
         "기넥신에프정(은행엽엑스)(수출용)"
        ],
        [
         "freq",
         "514"
        ]
       ],
       "shape": {
        "columns": 1,
        "rows": 4
       }
      },
      "text/plain": [
       "count                   4526\n",
       "unique                    73\n",
       "top       기넥신에프정(은행엽엑스)(수출용)\n",
       "freq                     514\n",
       "Name: img_dl_name, dtype: object"
      ]
     },
     "execution_count": 78,
     "metadata": {},
     "output_type": "execute_result"
    }
   ],
   "source": [
    "df['img_dl_name'].describe()"
   ]
  },
  {
   "cell_type": "code",
   "execution_count": 79,
   "id": "70815ee6",
   "metadata": {},
   "outputs": [
    {
     "data": {
      "application/vnd.microsoft.datawrangler.viewer.v0+json": {
       "columns": [
        {
         "name": "img_dl_name",
         "rawType": "object",
         "type": "string"
        },
        {
         "name": "count",
         "rawType": "int64",
         "type": "integer"
        }
       ],
       "ref": "08ae33b7-c4c8-45e3-9cd3-d1692536ec4b",
       "rows": [
        [
         "기넥신에프정(은행엽엑스)(수출용)",
         "514"
        ],
        [
         "일양하이트린정 2mg",
         "240"
        ],
        [
         "보령부스파정 5mg",
         "180"
        ],
        [
         "뮤테란캡슐 100mg",
         "172"
        ],
        [
         "가바토파정 100mg",
         "143"
        ],
        [
         "동아가바펜틴정 800mg",
         "139"
        ],
        [
         "아토젯정 10/40mg",
         "113"
        ],
        [
         "리바로정 4mg",
         "111"
        ],
        [
         "리피토정 20mg",
         "109"
        ],
        [
         "크레스토정 20mg",
         "108"
        ],
        [
         "로수젯정10/5밀리그램",
         "108"
        ],
        [
         "무코스타정(레바미피드)(비매품)",
         "99"
        ],
        [
         "플라빅스정 75mg",
         "97"
        ],
        [
         "트윈스타정 40/5mg",
         "94"
        ],
        [
         "제미메트서방정 50/1000mg",
         "88"
        ],
        [
         "자누메트정 50/850mg",
         "88"
        ],
        [
         "트라젠타정(리나글립틴)",
         "87"
        ],
        [
         "자누비아정 50mg",
         "85"
        ],
        [
         "자누메트엑스알서방정 100/1000mg",
         "85"
        ],
        [
         "카나브정 60mg",
         "84"
        ],
        [
         "트라젠타듀오정 2.5/850mg",
         "81"
        ],
        [
         "엑스포지정 5/160mg",
         "80"
        ],
        [
         "세비카정 10/40mg",
         "79"
        ],
        [
         "아모잘탄정 5/100mg",
         "76"
        ],
        [
         "노바스크정 5mg",
         "66"
        ],
        [
         "큐시드정 31.5mg/PTP",
         "61"
        ],
        [
         "삼남건조수산화알루미늄겔정",
         "56"
        ],
        [
         "알드린정",
         "54"
        ],
        [
         "트루비타정 60mg/병",
         "39"
        ],
        [
         "비타비백정 100mg/병",
         "38"
        ],
        [
         "비모보정 500/20mg",
         "38"
        ],
        [
         "울트라셋이알서방정",
         "38"
        ],
        [
         "맥시부펜이알정 300mg",
         "36"
        ],
        [
         "다보타민큐정 10mg/병",
         "36"
        ],
        [
         "메가파워정 90mg/병",
         "36"
        ],
        [
         "리렉스펜정 300mg/PTP",
         "35"
        ],
        [
         "타이레놀이알서방정(아세트아미노펜)(수출용)",
         "35"
        ],
        [
         "조인스정 200mg",
         "35"
        ],
        [
         "펠루비정(펠루비프로펜)",
         "35"
        ],
        [
         "쎄로켈정 100mg",
         "35"
        ],
        [
         "신바로정",
         "35"
        ],
        [
         "낙소졸정 500/20mg",
         "35"
        ],
        [
         "써스펜8시간이알서방정 650mg",
         "34"
        ],
        [
         "삐콤씨에프정 618.6mg/병",
         "34"
        ],
        [
         "레일라정",
         "34"
        ],
        [
         "타이레놀정500mg",
         "33"
        ],
        [
         "스토가정 10mg",
         "32"
        ],
        [
         "케이캡정 50mg",
         "30"
        ],
        [
         "에스원엠프정 20mg",
         "30"
        ],
        [
         "에어탈정(아세클로페낙)",
         "29"
        ]
       ],
       "shape": {
        "columns": 1,
        "rows": 73
       }
      },
      "text/plain": [
       "img_dl_name\n",
       "기넥신에프정(은행엽엑스)(수출용)    514\n",
       "일양하이트린정 2mg           240\n",
       "보령부스파정 5mg            180\n",
       "뮤테란캡슐 100mg           172\n",
       "가바토파정 100mg           143\n",
       "                     ... \n",
       "졸로푸트정 100mg            11\n",
       "쿠에타핀정 25mg             10\n",
       "자이프렉사정 2.5mg            9\n",
       "렉사프로정 15mg              9\n",
       "브린텔릭스정 20mg             7\n",
       "Name: count, Length: 73, dtype: int64"
      ]
     },
     "execution_count": 79,
     "metadata": {},
     "output_type": "execute_result"
    }
   ],
   "source": [
    "df['img_dl_name'].value_counts()"
   ]
  },
  {
   "cell_type": "code",
   "execution_count": 80,
   "id": "1931a291",
   "metadata": {},
   "outputs": [
    {
     "data": {
      "text/plain": [
       "np.int64(0)"
      ]
     },
     "execution_count": 80,
     "metadata": {},
     "output_type": "execute_result"
    }
   ],
   "source": [
    "df['img_dl_name'].isnull().sum()"
   ]
  },
  {
   "cell_type": "markdown",
   "id": "7be545e8",
   "metadata": {},
   "source": [
    "## 영어 제품명(dl_name_en)\n",
    "\n",
    "4526개의 샘플이 있는데 4508개이니 18개의 결측치가 존재한다.\n",
    "\n",
    "총 73개 클래스중에 72개 클래스가 존재한다. 그중 1개의 클래스의 값이 비어있다."
   ]
  },
  {
   "cell_type": "code",
   "execution_count": 81,
   "id": "60254c90",
   "metadata": {},
   "outputs": [
    {
     "data": {
      "application/vnd.microsoft.datawrangler.viewer.v0+json": {
       "columns": [
        {
         "name": "index",
         "rawType": "object",
         "type": "string"
        },
        {
         "name": "img_dl_name_en",
         "rawType": "object",
         "type": "unknown"
        }
       ],
       "ref": "d19c27e4-0b20-4a21-bc63-cd95345713d3",
       "rows": [
        [
         "count",
         "4508"
        ],
        [
         "unique",
         "72"
        ],
        [
         "top",
         "Ginexin-F Tab."
        ],
        [
         "freq",
         "514"
        ]
       ],
       "shape": {
        "columns": 1,
        "rows": 4
       }
      },
      "text/plain": [
       "count               4508\n",
       "unique                72\n",
       "top       Ginexin-F Tab.\n",
       "freq                 514\n",
       "Name: img_dl_name_en, dtype: object"
      ]
     },
     "execution_count": 81,
     "metadata": {},
     "output_type": "execute_result"
    }
   ],
   "source": [
    "df['img_dl_name_en'].describe()"
   ]
  },
  {
   "cell_type": "code",
   "execution_count": 3,
   "id": "916c8fb3",
   "metadata": {},
   "outputs": [
    {
     "data": {
      "application/vnd.microsoft.datawrangler.viewer.v0+json": {
       "columns": [
        {
         "name": "img_dl_name_en",
         "rawType": "object",
         "type": "string"
        },
        {
         "name": "count",
         "rawType": "int64",
         "type": "integer"
        }
       ],
       "ref": "d2c748e2-9d83-42cd-9e98-044a2c16afaf",
       "rows": [
        [
         "Ginexin-F Tab.",
         "514"
        ],
        [
         "Hytrin Tab. 2mg Ilyang",
         "240"
        ],
        [
         "Buspar Tab. 5mg Boryung",
         "180"
        ],
        [
         "Muteran Cap. 100mg",
         "172"
        ],
        [
         "Gabatopa Tab. 100mg",
         "143"
        ],
        [
         "Gabapentin Tab. 800mg Dong-A",
         "139"
        ],
        [
         "Atozet Tab. 10/40mg",
         "113"
        ],
        [
         "Livalo Tab. 4mg",
         "111"
        ],
        [
         "Lipitor Tab. 20mg",
         "109"
        ],
        [
         "Crestor Tab. 20mg",
         "108"
        ],
        [
         "Rosuzet Tab. 10/5mg",
         "108"
        ],
        [
         "Mucosta Tab.",
         "99"
        ],
        [
         "Plavix Tab. 75mg",
         "97"
        ],
        [
         "Twynsta Tab. 40/5mg",
         "94"
        ],
        [
         "Zemimet SR Tab. 50/1000mg",
         "88"
        ],
        [
         "JANUMET TAB 50/850",
         "88"
        ],
        [
         "Trajenta Tab.",
         "87"
        ],
        [
         "Januvia Tab. 50mg",
         "85"
        ],
        [
         "Janumet XR Tab. 100/1000mg",
         "85"
        ],
        [
         "Kanarb Tab. 60mg",
         "84"
        ],
        [
         "Trajenta-duo Tab. 2.5/850mg",
         "81"
        ],
        [
         "Exforge Tab. 5/160mg",
         "80"
        ],
        [
         "Sevikar Tab. 10/40mg",
         "79"
        ],
        [
         "Amosartan Tab 5/100mg",
         "76"
        ],
        [
         "Norvasc Tab. 5mg",
         "66"
        ],
        [
         "Q-Cid Tab.",
         "61"
        ],
        [
         "Dried Aluminium Hydroxide Gel Tab. Samnam",
         "56"
        ],
        [
         "Aldrin Tab.",
         "54"
        ],
        [
         "Truvita Tab.",
         "39"
        ],
        [
         "Vita B 100 Tab.",
         "38"
        ],
        [
         "Vimovo Tab. 500/20mg",
         "38"
        ],
        [
         "Ultracet ER Tab.",
         "38"
        ],
        [
         "Maxibupen Er Tab.",
         "36"
        ],
        [
         "Dabotamin Q Tab.",
         "36"
        ],
        [
         "Mega Power Tab.",
         "36"
        ],
        [
         "Lirexpen Tab.",
         "35"
        ],
        [
         "Tylenol 8 hours ER Tab.",
         "35"
        ],
        [
         "Joins Tab.",
         "35"
        ],
        [
         "Pelubi Tab.",
         "35"
        ],
        [
         "SEROQUEL Tab. 100mg",
         "35"
        ],
        [
         "Shinbaro Tab.",
         "35"
        ],
        [
         "Naxozole Tab. 500/20mg",
         "35"
        ],
        [
         "Suspen 8 hours ER Tab.",
         "34"
        ],
        [
         "Beecom-CF Tab.",
         "34"
        ],
        [
         "LAYLA TAB.",
         "34"
        ],
        [
         "Tylenol Tab. 500mg",
         "33"
        ],
        [
         "Stogar Tab. 10mg",
         "32"
        ],
        [
         "K-CAB Tab.",
         "30"
        ],
        [
         "Eswonamp Tab. 20mg",
         "30"
        ],
        [
         "Airtal Tab.",
         "29"
        ]
       ],
       "shape": {
        "columns": 1,
        "rows": 73
       }
      },
      "text/plain": [
       "img_dl_name_en\n",
       "Ginexin-F Tab.             514\n",
       "Hytrin Tab. 2mg Ilyang     240\n",
       "Buspar Tab. 5mg Boryung    180\n",
       "Muteran Cap. 100mg         172\n",
       "Gabatopa Tab. 100mg        143\n",
       "                          ... \n",
       "Zoloft Tab. 100mg           11\n",
       "Quetapin Tab. 25mg          10\n",
       "Zyprexa Tab. 2.5mg           9\n",
       "Lexapro Tab. 15mg            9\n",
       "Brintellix Tab. 20mg         7\n",
       "Name: count, Length: 73, dtype: int64"
      ]
     },
     "execution_count": 3,
     "metadata": {},
     "output_type": "execute_result"
    }
   ],
   "source": [
    "df['img_dl_name_en'].value_counts()"
   ]
  },
  {
   "cell_type": "code",
   "execution_count": 4,
   "id": "567dc7bc",
   "metadata": {},
   "outputs": [
    {
     "data": {
      "text/plain": [
       "np.int64(0)"
      ]
     },
     "execution_count": 4,
     "metadata": {},
     "output_type": "execute_result"
    }
   ],
   "source": [
    "df['img_dl_name_en'].isnull().sum()"
   ]
  },
  {
   "cell_type": "markdown",
   "id": "69bd5901",
   "metadata": {},
   "source": [
    "## 성분명(dl_material)\n",
    "\n",
    "16개의 클래스중 몇개 끼리 뭉쳐서 동일한 성분을 가지고 있다.\n",
    "\n",
    "성분명이 없는 결측치 값이 있다. 그 결측값인 클래스가 3개가 존재한다."
   ]
  },
  {
   "cell_type": "code",
   "execution_count": 5,
   "id": "f4ca32f3",
   "metadata": {},
   "outputs": [
    {
     "data": {
      "application/vnd.microsoft.datawrangler.viewer.v0+json": {
       "columns": [
        {
         "name": "index",
         "rawType": "object",
         "type": "string"
        },
        {
         "name": "img_dl_material",
         "rawType": "object",
         "type": "unknown"
        }
       ],
       "ref": "5cdfb2a2-3b36-43bf-a49c-34c209b4b7fa",
       "rows": [
        [
         "count",
         "4526"
        ],
        [
         "unique",
         "63"
        ],
        [
         "top",
         "은행엽건조엑스"
        ],
        [
         "freq",
         "514"
        ]
       ],
       "shape": {
        "columns": 1,
        "rows": 4
       }
      },
      "text/plain": [
       "count        4526\n",
       "unique         63\n",
       "top       은행엽건조엑스\n",
       "freq          514\n",
       "Name: img_dl_material, dtype: object"
      ]
     },
     "execution_count": 5,
     "metadata": {},
     "output_type": "execute_result"
    }
   ],
   "source": [
    "df['img_dl_material'].describe()"
   ]
  },
  {
   "cell_type": "code",
   "execution_count": 6,
   "id": "7f73a122",
   "metadata": {},
   "outputs": [
    {
     "data": {
      "application/vnd.microsoft.datawrangler.viewer.v0+json": {
       "columns": [
        {
         "name": "img_dl_name_en",
         "rawType": "object",
         "type": "string"
        },
        {
         "name": "count",
         "rawType": "int64",
         "type": "integer"
        }
       ],
       "ref": "75247ac1-b9c3-4d99-9aa2-eee8f3b7b2f0",
       "rows": [
        [
         "Ginexin-F Tab.",
         "514"
        ],
        [
         "Hytrin Tab. 2mg Ilyang",
         "240"
        ],
        [
         "Buspar Tab. 5mg Boryung",
         "180"
        ],
        [
         "Muteran Cap. 100mg",
         "172"
        ],
        [
         "Gabatopa Tab. 100mg",
         "143"
        ],
        [
         "Gabapentin Tab. 800mg Dong-A",
         "139"
        ],
        [
         "Atozet Tab. 10/40mg",
         "113"
        ],
        [
         "Livalo Tab. 4mg",
         "111"
        ],
        [
         "Lipitor Tab. 20mg",
         "109"
        ],
        [
         "Crestor Tab. 20mg",
         "108"
        ],
        [
         "Rosuzet Tab. 10/5mg",
         "108"
        ],
        [
         "Mucosta Tab.",
         "99"
        ],
        [
         "Plavix Tab. 75mg",
         "97"
        ],
        [
         "Twynsta Tab. 40/5mg",
         "94"
        ],
        [
         "Zemimet SR Tab. 50/1000mg",
         "88"
        ],
        [
         "JANUMET TAB 50/850",
         "88"
        ],
        [
         "Trajenta Tab.",
         "87"
        ],
        [
         "Januvia Tab. 50mg",
         "85"
        ],
        [
         "Janumet XR Tab. 100/1000mg",
         "85"
        ],
        [
         "Kanarb Tab. 60mg",
         "84"
        ],
        [
         "Trajenta-duo Tab. 2.5/850mg",
         "81"
        ],
        [
         "Exforge Tab. 5/160mg",
         "80"
        ],
        [
         "Sevikar Tab. 10/40mg",
         "79"
        ],
        [
         "Amosartan Tab 5/100mg",
         "76"
        ],
        [
         "Norvasc Tab. 5mg",
         "66"
        ],
        [
         "Q-Cid Tab.",
         "61"
        ],
        [
         "Dried Aluminium Hydroxide Gel Tab. Samnam",
         "56"
        ],
        [
         "Aldrin Tab.",
         "54"
        ],
        [
         "Truvita Tab.",
         "39"
        ],
        [
         "Vita B 100 Tab.",
         "38"
        ],
        [
         "Vimovo Tab. 500/20mg",
         "38"
        ],
        [
         "Ultracet ER Tab.",
         "38"
        ],
        [
         "Maxibupen Er Tab.",
         "36"
        ],
        [
         "Dabotamin Q Tab.",
         "36"
        ],
        [
         "Mega Power Tab.",
         "36"
        ],
        [
         "Lirexpen Tab.",
         "35"
        ],
        [
         "Tylenol 8 hours ER Tab.",
         "35"
        ],
        [
         "Joins Tab.",
         "35"
        ],
        [
         "Pelubi Tab.",
         "35"
        ],
        [
         "SEROQUEL Tab. 100mg",
         "35"
        ],
        [
         "Shinbaro Tab.",
         "35"
        ],
        [
         "Naxozole Tab. 500/20mg",
         "35"
        ],
        [
         "Suspen 8 hours ER Tab.",
         "34"
        ],
        [
         "Beecom-CF Tab.",
         "34"
        ],
        [
         "LAYLA TAB.",
         "34"
        ],
        [
         "Tylenol Tab. 500mg",
         "33"
        ],
        [
         "Stogar Tab. 10mg",
         "32"
        ],
        [
         "K-CAB Tab.",
         "30"
        ],
        [
         "Eswonamp Tab. 20mg",
         "30"
        ],
        [
         "Airtal Tab.",
         "29"
        ]
       ],
       "shape": {
        "columns": 1,
        "rows": 73
       }
      },
      "text/plain": [
       "img_dl_name_en\n",
       "Ginexin-F Tab.             514\n",
       "Hytrin Tab. 2mg Ilyang     240\n",
       "Buspar Tab. 5mg Boryung    180\n",
       "Muteran Cap. 100mg         172\n",
       "Gabatopa Tab. 100mg        143\n",
       "                          ... \n",
       "Zoloft Tab. 100mg           11\n",
       "Quetapin Tab. 25mg          10\n",
       "Zyprexa Tab. 2.5mg           9\n",
       "Lexapro Tab. 15mg            9\n",
       "Brintellix Tab. 20mg         7\n",
       "Name: count, Length: 73, dtype: int64"
      ]
     },
     "execution_count": 6,
     "metadata": {},
     "output_type": "execute_result"
    }
   ],
   "source": [
    "df['img_dl_name_en'].value_counts()"
   ]
  },
  {
   "cell_type": "code",
   "execution_count": 11,
   "id": "7e802ddf",
   "metadata": {},
   "outputs": [
    {
     "data": {
      "application/vnd.microsoft.datawrangler.viewer.v0+json": {
       "columns": [
        {
         "name": "index",
         "rawType": "int64",
         "type": "integer"
        },
        {
         "name": "img_dl_material",
         "rawType": "object",
         "type": "string"
        },
        {
         "name": "제품명_목록",
         "rawType": "object",
         "type": "unknown"
        }
       ],
       "ref": "dadffdd0-4358-4607-b940-37cdc0ee7344",
       "rows": [
        [
         "0",
         "",
         "['트루비타정 60mg/병' '다보타민큐정 10mg/병' '메가파워정 90mg/병']"
        ],
        [
         "1",
         "로수바스타틴칼슘|에제티미브",
         "['로수젯정10/5밀리그램' '로수바미브정 10/20mg']"
        ],
        [
         "2",
         "아세트아미노펜",
         "['써스펜8시간이알서방정 650mg' '타이레놀이알서방정(아세트아미노펜)(수출용)' '타이레놀정500mg']"
        ],
        [
         "3",
         "콜린알포세레이트",
         "['글리틴정(콜린알포세레이트)' '콜리네이트연질캡슐 400mg' '종근당글리아티린연질캡슐(콜린알포세레이트)\\xa0'\n '글리아타민연질캡슐']"
        ],
        [
         "4",
         "쿠에티아핀푸마르산염",
         "['쎄로켈정 100mg' '쿠에타핀정 25mg']"
        ],
        [
         "5",
         "프레가발린",
         "['카발린캡슐 25mg' '리리카캡슐 150mg']"
        ]
       ],
       "shape": {
        "columns": 2,
        "rows": 6
       }
      },
      "text/html": [
       "<div>\n",
       "<style scoped>\n",
       "    .dataframe tbody tr th:only-of-type {\n",
       "        vertical-align: middle;\n",
       "    }\n",
       "\n",
       "    .dataframe tbody tr th {\n",
       "        vertical-align: top;\n",
       "    }\n",
       "\n",
       "    .dataframe thead th {\n",
       "        text-align: right;\n",
       "    }\n",
       "</style>\n",
       "<table border=\"1\" class=\"dataframe\">\n",
       "  <thead>\n",
       "    <tr style=\"text-align: right;\">\n",
       "      <th></th>\n",
       "      <th>img_dl_material</th>\n",
       "      <th>제품명_목록</th>\n",
       "    </tr>\n",
       "  </thead>\n",
       "  <tbody>\n",
       "    <tr>\n",
       "      <th>0</th>\n",
       "      <td></td>\n",
       "      <td>[트루비타정 60mg/병, 다보타민큐정 10mg/병, 메가파워정 90mg/병]</td>\n",
       "    </tr>\n",
       "    <tr>\n",
       "      <th>1</th>\n",
       "      <td>로수바스타틴칼슘|에제티미브</td>\n",
       "      <td>[로수젯정10/5밀리그램, 로수바미브정 10/20mg]</td>\n",
       "    </tr>\n",
       "    <tr>\n",
       "      <th>2</th>\n",
       "      <td>아세트아미노펜</td>\n",
       "      <td>[써스펜8시간이알서방정 650mg, 타이레놀이알서방정(아세트아미노펜)(수출용), 타이레놀정500mg]</td>\n",
       "    </tr>\n",
       "    <tr>\n",
       "      <th>3</th>\n",
       "      <td>콜린알포세레이트</td>\n",
       "      <td>[글리틴정(콜린알포세레이트), 콜리네이트연질캡슐 400mg, 종근당글리아티린연질캡슐(콜린알포세레이트) , 글리아타민연질캡슐]</td>\n",
       "    </tr>\n",
       "    <tr>\n",
       "      <th>4</th>\n",
       "      <td>쿠에티아핀푸마르산염</td>\n",
       "      <td>[쎄로켈정 100mg, 쿠에타핀정 25mg]</td>\n",
       "    </tr>\n",
       "    <tr>\n",
       "      <th>5</th>\n",
       "      <td>프레가발린</td>\n",
       "      <td>[카발린캡슐 25mg, 리리카캡슐 150mg]</td>\n",
       "    </tr>\n",
       "  </tbody>\n",
       "</table>\n",
       "</div>"
      ],
      "text/plain": [
       "  img_dl_material  \\\n",
       "0                   \n",
       "1  로수바스타틴칼슘|에제티미브   \n",
       "2         아세트아미노펜   \n",
       "3        콜린알포세레이트   \n",
       "4      쿠에티아핀푸마르산염   \n",
       "5           프레가발린   \n",
       "\n",
       "                                                                  제품명_목록  \n",
       "0                            [트루비타정 60mg/병, 다보타민큐정 10mg/병, 메가파워정 90mg/병]  \n",
       "1                                         [로수젯정10/5밀리그램, 로수바미브정 10/20mg]  \n",
       "2               [써스펜8시간이알서방정 650mg, 타이레놀이알서방정(아세트아미노펜)(수출용), 타이레놀정500mg]  \n",
       "3  [글리틴정(콜린알포세레이트), 콜리네이트연질캡슐 400mg, 종근당글리아티린연질캡슐(콜린알포세레이트) , 글리아타민연질캡슐]  \n",
       "4                                               [쎄로켈정 100mg, 쿠에타핀정 25mg]  \n",
       "5                                              [카발린캡슐 25mg, 리리카캡슐 150mg]  "
      ]
     },
     "execution_count": 11,
     "metadata": {},
     "output_type": "execute_result"
    }
   ],
   "source": [
    "# 1) 재료별 제품명 개수 집계 → 2개 이상인 재료만 추출\n",
    "material_name_counts = df.groupby('img_dl_material')['img_dl_name'].nunique()\n",
    "dup_materials = material_name_counts[material_name_counts > 1].index\n",
    "\n",
    "# 2) 해당 재료들에 대해 제품명 목록 조회\n",
    "same_material_diff_names = (\n",
    "    df[df['img_dl_material'].isin(dup_materials)]\n",
    "      .groupby('img_dl_material')['img_dl_name']\n",
    "      .unique()\n",
    "      .reset_index()\n",
    "      .rename(columns={'img_dl_name':'제품명_목록'})\n",
    ")\n",
    "\n",
    "pd.set_option('display.max_colwidth', None)\n",
    "same_material_diff_names\n"
   ]
  },
  {
   "cell_type": "markdown",
   "id": "db780dd3",
   "metadata": {},
   "source": [
    "## 영어 성분명(dl_material_en)"
   ]
  },
  {
   "cell_type": "code",
   "execution_count": null,
   "id": "914cc850",
   "metadata": {},
   "outputs": [
    {
     "data": {
      "application/vnd.microsoft.datawrangler.viewer.v0+json": {
       "columns": [
        {
         "name": "index",
         "rawType": "object",
         "type": "string"
        },
        {
         "name": "img_dl_material_en",
         "rawType": "object",
         "type": "unknown"
        }
       ],
       "ref": "b002e9d9-15f6-4224-8d13-4abe4f05e796",
       "rows": [
        [
         "count",
         "4526"
        ],
        [
         "unique",
         "66"
        ],
        [
         "top",
         "Ginkgo Leaf Ext."
        ],
        [
         "freq",
         "514"
        ]
       ],
       "shape": {
        "columns": 1,
        "rows": 4
       }
      },
      "text/plain": [
       "count                 4526\n",
       "unique                  66\n",
       "top       Ginkgo Leaf Ext.\n",
       "freq                   514\n",
       "Name: img_dl_material_en, dtype: object"
      ]
     },
     "execution_count": 12,
     "metadata": {},
     "output_type": "execute_result"
    }
   ],
   "source": [
    "df['img_dl_material_en'].describe()"
   ]
  },
  {
   "cell_type": "code",
   "execution_count": 13,
   "id": "c527e9c5",
   "metadata": {},
   "outputs": [
    {
     "data": {
      "application/vnd.microsoft.datawrangler.viewer.v0+json": {
       "columns": [
        {
         "name": "img_dl_material_en",
         "rawType": "object",
         "type": "string"
        },
        {
         "name": "count",
         "rawType": "int64",
         "type": "integer"
        }
       ],
       "ref": "f0db107a-027d-4759-b09a-68b4075ec0f2",
       "rows": [
        [
         "Ginkgo Leaf Ext.",
         "514"
        ],
        [
         "Terazosin Hydrochloride Hydrate",
         "240"
        ],
        [
         "Buspirone Hydrochloride",
         "180"
        ],
        [
         "Metformin Hydrochloride| Sitagliptin Phosphate Hydrate",
         "173"
        ],
        [
         "Acetylcysteine",
         "172"
        ],
        [
         "Topiramate",
         "143"
        ],
        [
         "Gabapentin",
         "139"
        ],
        [
         "Ezetimibe| Rosuvastatin Calcium",
         "135"
        ],
        [
         "Atorvastatin Calcium Trihydrate| Ezetimibe",
         "113"
        ],
        [
         "Pitavastatin Calcium",
         "111"
        ],
        [
         "Atorvastatin Calcium Hydrate",
         "109"
        ],
        [
         "Rosuvastatin Calcium",
         "108"
        ],
        [
         "Rebamipide",
         "99"
        ],
        [
         "Clopidogrel Bisulfate",
         "97"
        ],
        [
         "Amlodipine Besylate| Telmisartan　",
         "94"
        ],
        [
         "Gemigliptin Tartrate Sesquihydrate| Metformin Hydrochloride",
         "88"
        ],
        [
         "Linagliptin",
         "87"
        ],
        [
         "Sitagliptin Phosphate Hydrate　",
         "85"
        ],
        [
         "Fimasartan Potassium Trihydrate",
         "84"
        ],
        [
         "Linagliptin| Metformin Hydrochloride",
         "81"
        ],
        [
         "Amlodipine Besylate| Valsartan",
         "80"
        ],
        [
         "Amlodipine Besylate| Olmesartan Medoxomil",
         "79"
        ],
        [
         "Amlodipine Camsylate| Losartan potassium",
         "76"
        ],
        [
         "Choline Alfoscerate",
         "69"
        ],
        [
         "Acetaminophen",
         "68"
        ],
        [
         "Amlodipine Besylate",
         "66"
        ],
        [
         "Aluminum Magnesium Hydroxide| Aluminum Magnesium Silicate| Magnesium Oxide| Ranitidine Hydrochloride",
         "61"
        ],
        [
         "Dried Aluminum Hydroxide Gel",
         "56"
        ],
        [
         "Almagate",
         "54"
        ],
        [
         "Pregabalin",
         "46"
        ],
        [
         "Quetiapine Fumarate",
         "45"
        ],
        [
         "Zinc Sulfate Monohydrate| Ascorbic Acid Gr. 97%| Biotin 1%| Calcium Pantothenate| Cupric Oxide| Cyanocobalamin 1%| Dibasic Calcium Phosphate| Ergocalciferol Gr.| Ferrous Fumarate| Folic Acid| Magnesium Oxide| Manganese Sulfate| Molybden in Dried Yeast| Nicotinamide| Potassium Chloride| Pyridoxine Hydrochloride 97% Gr.| Retinol Acetate Gr.| Riboflavin| Selenium in Dried Yeast| Thiamine Nitrate(3倍散)| Tocopherol Acetate 50%",
         "39"
        ],
        [
         "Folic Acid| Biotin 1%| Calcium Pantothenate| Cyanocobalamin(1000倍散)| Nicotinamide| Pyridoxine Hydrochloride 97% Gr.| Riboflavin| Thiamine Nitrate| Ursodeoxycholic Acid",
         "38"
        ],
        [
         "Esomeprazole Magnesium Trihydrate| Naproxen",
         "38"
        ],
        [
         "Acetaminophen| Tramadol Hydrochloride",
         "38"
        ],
        [
         "Selenium in Dried Yeast| Ascorbic Acid Gr. 97%| Calcium Pantothenate| Cyanocobalamin 1%| Dibasic Calcium Phosphate| Ergocalciferol Gr.| Ferrous Fumarate| Magnesium Oxide| Manganese Sulfate| Molybden in Dried Yeast| Nicotinamide| Potassium Chloride| Pyridoxine Hydrochloride 97% Gr.| Retinol Acetate Gr.| Riboflavin| Thiamine Nitrate(3倍散)| Tocopherol Acetate 50%| Zinc Sulfate",
         "36"
        ],
        [
         "Dexibuprofen",
         "36"
        ],
        [
         "Ascorbic Acid Gr. 97%| Biotin 1%| Calcium Pantothenate| Cupric Oxide| Cyanocobalamin 1%| Dibasic Calcium Phosphate| Ergocalciferol Gr.| Ferrous Fumarate| Folic Acid| Magnesium Oxide| Manganese Sulfate| Molybden in Dried Yeast| Nicotinamide| Potassium Chloride| Potassium Iodide| Pyridoxine Hydrochloride 97% Gr.| Riboflavin| Selenium in Dried Yeast| Thiamine Nitrate(3倍散)| Tocopherol Acetate 50%| Zinc Sulfate Monohydrate| β-Carotene 20% Gr.",
         "36"
        ],
        [
         "Acanthopanax·Achyranthes·Ledebouriella etc Dried ext.",
         "35"
        ],
        [
         "Naproxen| S-omeprazole Strontium Tetrahydrate",
         "35"
        ],
        [
         "Acetaminophen| Chlorzoxazone",
         "35"
        ],
        [
         "Pelubiprofen",
         "35"
        ],
        [
         "Clematidis Radix|Trichosanthes Root|Prunella Spike 30%",
         "35"
        ],
        [
         "Ascorbic Acid| Biotin| Calcium Pantothenate| Cyanocobalamin| Ferrous Fumarate| Folic Acid| Nicotinamide| Pyridoxine Hydrochloride| Riboflavin| Thiamine Nitrate| Tocopherol Acetate",
         "34"
        ],
        [
         "Acetaminophen Encapsulated",
         "34"
        ],
        [
         "Angelica·Chaenomeles·Ledebouriella·Dipsacus etc Soft Ext.",
         "34"
        ],
        [
         "Lafutidine",
         "32"
        ],
        [
         "Tegoprazan",
         "30"
        ],
        [
         "Esomeprazole Magnesium Dihydrate",
         "30"
        ],
        [
         "Rabeprazole Sodium",
         "29"
        ]
       ],
       "shape": {
        "columns": 1,
        "rows": 66
       }
      },
      "text/plain": [
       "img_dl_material_en\n",
       "Ginkgo Leaf Ext.                                          514\n",
       "Terazosin Hydrochloride Hydrate                           240\n",
       "Buspirone Hydrochloride                                   180\n",
       "Metformin Hydrochloride| Sitagliptin Phosphate Hydrate    173\n",
       "Acetylcysteine                                            172\n",
       "                                                         ... \n",
       "Omega-3-Acid Ethyl Esters90                                16\n",
       "Sertraline Hydrochloride                                   11\n",
       "Olaparib                                                    9\n",
       "Escitalopram Oxalate                                        9\n",
       "Vortioxetine Hydrobromide                                   7\n",
       "Name: count, Length: 66, dtype: int64"
      ]
     },
     "execution_count": 13,
     "metadata": {},
     "output_type": "execute_result"
    }
   ],
   "source": [
    "df['img_dl_material_en'].value_counts()"
   ]
  },
  {
   "cell_type": "code",
   "execution_count": 4,
   "id": "0c7934c0",
   "metadata": {},
   "outputs": [
    {
     "data": {
      "application/vnd.microsoft.datawrangler.viewer.v0+json": {
       "columns": [
        {
         "name": "index",
         "rawType": "int64",
         "type": "integer"
        },
        {
         "name": "img_dl_material_en",
         "rawType": "object",
         "type": "string"
        }
       ],
       "ref": "4f765e71-cede-4dcc-a2ed-ff38bc087526",
       "rows": [
        [
         "0",
         "Fimasartan Potassium Trihydrate"
        ],
        [
         "1",
         "Fimasartan Potassium Trihydrate"
        ],
        [
         "2",
         "Fimasartan Potassium Trihydrate"
        ],
        [
         "3",
         "Metformin Hydrochloride| Sitagliptin Phosphate Hydrate"
        ],
        [
         "4",
         "Metformin Hydrochloride| Sitagliptin Phosphate Hydrate"
        ],
        [
         "5",
         "Ginkgo Leaf Ext."
        ],
        [
         "6",
         "Ginkgo Leaf Ext."
        ],
        [
         "7",
         "Atorvastatin Calcium Trihydrate| Ezetimibe"
        ],
        [
         "8",
         "Atorvastatin Calcium Trihydrate| Ezetimibe"
        ],
        [
         "9",
         "Atorvastatin Calcium Trihydrate| Ezetimibe"
        ],
        [
         "10",
         "Ezetimibe| Rosuvastatin Calcium"
        ],
        [
         "11",
         "Ezetimibe| Rosuvastatin Calcium"
        ],
        [
         "12",
         "Amlodipine Besylate| Telmisartan　"
        ],
        [
         "13",
         "Amlodipine Besylate| Telmisartan　"
        ],
        [
         "14",
         "Amlodipine Besylate| Telmisartan　"
        ],
        [
         "15",
         "Linagliptin"
        ],
        [
         "16",
         "Linagliptin"
        ],
        [
         "17",
         "Ginkgo Leaf Ext."
        ],
        [
         "18",
         "Ginkgo Leaf Ext."
        ],
        [
         "19",
         "Ginkgo Leaf Ext."
        ],
        [
         "20",
         "Acetaminophen| Tramadol Hydrochloride"
        ],
        [
         "21",
         "Buspirone Hydrochloride"
        ],
        [
         "22",
         "Buspirone Hydrochloride"
        ],
        [
         "23",
         "Buspirone Hydrochloride"
        ],
        [
         "24",
         "Ilaprazole"
        ],
        [
         "25",
         "Ilaprazole"
        ],
        [
         "26",
         "Gabapentin"
        ],
        [
         "27",
         "Gabapentin"
        ],
        [
         "28",
         "Gabapentin"
        ],
        [
         "29",
         "Amlodipine Besylate| Olmesartan Medoxomil"
        ],
        [
         "30",
         "Amlodipine Besylate| Olmesartan Medoxomil"
        ],
        [
         "31",
         "Sitagliptin Phosphate Hydrate　"
        ],
        [
         "32",
         "Sitagliptin Phosphate Hydrate　"
        ],
        [
         "33",
         "Sitagliptin Phosphate Hydrate　"
        ],
        [
         "34",
         "Clopidogrel Bisulfate"
        ],
        [
         "35",
         "Clopidogrel Bisulfate"
        ],
        [
         "36",
         "Clopidogrel Bisulfate"
        ],
        [
         "37",
         "Ginkgo Leaf Ext."
        ],
        [
         "38",
         "Ginkgo Leaf Ext."
        ],
        [
         "39",
         "Rosuvastatin Calcium"
        ],
        [
         "40",
         "Rosuvastatin Calcium"
        ],
        [
         "41",
         "Rosuvastatin Calcium"
        ],
        [
         "42",
         "Amlodipine Besylate| Olmesartan Medoxomil"
        ],
        [
         "43",
         "Amlodipine Besylate| Olmesartan Medoxomil"
        ],
        [
         "44",
         "Metformin Hydrochloride| Sitagliptin Phosphate Hydrate"
        ],
        [
         "45",
         "Metformin Hydrochloride| Sitagliptin Phosphate Hydrate"
        ],
        [
         "46",
         "Metformin Hydrochloride| Sitagliptin Phosphate Hydrate"
        ],
        [
         "47",
         "Ginkgo Leaf Ext."
        ],
        [
         "48",
         "Ginkgo Leaf Ext."
        ],
        [
         "49",
         "Topiramate"
        ]
       ],
       "shape": {
        "columns": 1,
        "rows": 4526
       }
      },
      "text/plain": [
       "0                         Fimasartan Potassium Trihydrate\n",
       "1                         Fimasartan Potassium Trihydrate\n",
       "2                         Fimasartan Potassium Trihydrate\n",
       "3       Metformin Hydrochloride| Sitagliptin Phosphate...\n",
       "4       Metformin Hydrochloride| Sitagliptin Phosphate...\n",
       "                              ...                        \n",
       "4521                      Terazosin Hydrochloride Hydrate\n",
       "4522                      Terazosin Hydrochloride Hydrate\n",
       "4523                      Terazosin Hydrochloride Hydrate\n",
       "4524                                Clopidogrel Bisulfate\n",
       "4525                                Clopidogrel Bisulfate\n",
       "Name: img_dl_material_en, Length: 4526, dtype: object"
      ]
     },
     "execution_count": 4,
     "metadata": {},
     "output_type": "execute_result"
    }
   ],
   "source": [
    "df['img_dl_material_en']"
   ]
  },
  {
   "cell_type": "markdown",
   "id": "5dd22be8",
   "metadata": {},
   "source": [
    "## 알약 모양(drug_shape)\n",
    "143개의 null 값이 존재한다.(결측치)\n",
    "\n",
    "육각형, 팔각형의 데이터 불균형이 나타난다."
   ]
  },
  {
   "cell_type": "code",
   "execution_count": 8,
   "id": "1f43d89c",
   "metadata": {},
   "outputs": [
    {
     "data": {
      "application/vnd.microsoft.datawrangler.viewer.v0+json": {
       "columns": [
        {
         "name": "index",
         "rawType": "object",
         "type": "string"
        },
        {
         "name": "img_drug_shape",
         "rawType": "object",
         "type": "unknown"
        }
       ],
       "ref": "5b2227df-a05b-4674-81dc-ccd1825628e2",
       "rows": [
        [
         "count",
         "4383"
        ],
        [
         "unique",
         "6"
        ],
        [
         "top",
         "원형"
        ],
        [
         "freq",
         "1491"
        ]
       ],
       "shape": {
        "columns": 1,
        "rows": 4
       }
      },
      "text/plain": [
       "count     4383\n",
       "unique       6\n",
       "top         원형\n",
       "freq      1491\n",
       "Name: img_drug_shape, dtype: object"
      ]
     },
     "execution_count": 8,
     "metadata": {},
     "output_type": "execute_result"
    }
   ],
   "source": [
    "df['img_drug_shape'].describe()"
   ]
  },
  {
   "cell_type": "code",
   "execution_count": 18,
   "id": "94902170",
   "metadata": {},
   "outputs": [],
   "source": [
    "drug_shape_value_counts = df['img_drug_shape'].value_counts()"
   ]
  },
  {
   "cell_type": "code",
   "execution_count": 10,
   "id": "ee2b2157",
   "metadata": {},
   "outputs": [
    {
     "data": {
      "text/plain": [
       "np.int64(143)"
      ]
     },
     "execution_count": 10,
     "metadata": {},
     "output_type": "execute_result"
    }
   ],
   "source": [
    "df['img_drug_shape'].isnull().sum()"
   ]
  },
  {
   "cell_type": "code",
   "execution_count": null,
   "id": "2828c738",
   "metadata": {},
   "outputs": [
    {
     "data": {
      "text/plain": [
       "<Axes: xlabel='img_drug_shape', ylabel='count'>"
      ]
     },
     "execution_count": 19,
     "metadata": {},
     "output_type": "execute_result"
    },
    {
     "data": {
      "image/png": "[encoded data removed]",
      "text/plain": [
       "<Figure size 640x480 with 1 Axes>"
      ]
     },
     "metadata": {},
     "output_type": "display_data"
    }
   ],
   "source": [
    "sns.barplot(data=drug_shape_value_counts)"
   ]
  },
  {
   "cell_type": "code",
   "execution_count": null,
   "id": "9260d42b",
   "metadata": {},
   "outputs": [],
   "source": []
  }
 ],
 "metadata": {
  "kernelspec": {
   "display_name": "mission9",
   "language": "python",
   "name": "python3"
  },
  "language_info": {
   "codemirror_mode": {
    "name": "ipython",
    "version": 3
   },
   "file_extension": ".py",
   "mimetype": "text/x-python",
   "name": "python",
   "nbconvert_exporter": "python",
   "pygments_lexer": "ipython3",
   "version": "3.11.11"
  }
 },
 "nbformat": 4,
 "nbformat_minor": 5
}
