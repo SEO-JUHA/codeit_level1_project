{
  "cells": [
    {
      "cell_type": "code",
      "execution_count": null,
      "id": "63838724",
      "metadata": {},
      "outputs": [],
      "source": [
        "import script/train from run_train"
      ]
    },
    {
      "cell_type": "code",
      "execution_count": null,
      "id": "1dc2a21c",
      "metadata": {},
      "outputs": [],
      "source": [
        "run_train(cfg)"
      ]
    },
    {
      "cell_type": "code",
      "execution_count": null,
      "id": "bc5111a4",
      "metadata": {},
      "outputs": [],
      "source": []
    }
  ],
  "metadata": {
    "kernelspec": {
      "display_name": "codeit_beginner_project",
      "language": "python",
      "name": "python3"
    },
    "language_info": {
      "name": "python",
      "version": "3.11.11"
    }
  },
  "nbformat": 4,
  "nbformat_minor": 5
}
